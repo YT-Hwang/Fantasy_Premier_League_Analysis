{
 "cells": [
  {
   "cell_type": "markdown",
   "metadata": {},
   "source": [
    "reference: http://trap.ncirl.ie/1845/1/briangibbons.pdf"
   ]
  },
  {
   "cell_type": "markdown",
   "metadata": {},
   "source": [
    "# 1. Import Packages"
   ]
  },
  {
   "cell_type": "code",
   "execution_count": 1,
   "metadata": {},
   "outputs": [],
   "source": [
    "# Working with urls\n",
    "from urllib.request import urlopen   # https://docs.python.org/3/library/urllib.html\n",
    "\n",
    "# JSON encoder and decoder\n",
    "import json # https://docs.python.org/3/library/json.html\n",
    "\n",
    "import pandas as pd\n",
    "\n",
    "# to read/write Excel 2010 xlsx/xlsm/xltx/xltm files.\n",
    "from openpyxl import load_workbook\n",
    "\n",
    "# An enhanced, interactive shell for Python.\n",
    "from IPython.core.interactiveshell import InteractiveShell\n",
    "InteractiveShell.ast_node_interactivity = \"all\"\n",
    "\n",
    "# sets the backend of matplotlib to the 'inline' backend\n",
    "%matplotlib inline"
   ]
  },
  {
   "cell_type": "markdown",
   "metadata": {},
   "source": [
    "# 2. Help Fuction"
   ]
  },
  {
   "cell_type": "code",
   "execution_count": 2,
   "metadata": {},
   "outputs": [],
   "source": [
    "# This function helps to write a dataframe to a csv.\n",
    "def writing_in_excel(path, df, sheet_name):\n",
    "    writer = pd.ExcelWriter(path, datetime_format='m/d/yyyy')\n",
    "    df.to_excel(writer, sheet_name = sheet_name, index=False, freeze_panes = (0,1))\n",
    "    writer.save()\n",
    "    writer.close()"
   ]
  },
  {
   "cell_type": "markdown",
   "metadata": {},
   "source": [
    "# 3. Test if crawler works"
   ]
  },
  {
   "cell_type": "markdown",
   "metadata": {},
   "source": [
    "### Info about bootstrap\n",
    "\n",
    "** Bootstrop is just the overall data for each player -- not each game.**"
   ]
  },
  {
   "cell_type": "code",
   "execution_count": 3,
   "metadata": {},
   "outputs": [],
   "source": [
    "# info about bootstrap (overall)\n",
    "url_to_bootstrap = \"https://fantasy.premierleague.com/api/bootstrap-static/\"\n",
    "bootstrap_html = urlopen(url_to_bootstrap) # connect to the url\n",
    "bootstrap = json.load(bootstrap_html) # read the json data in the url"
   ]
  },
  {
   "cell_type": "markdown",
   "metadata": {},
   "source": [
    "### Info about a single player\n",
    "\n",
    "** This will give us the data of how a player performed each game.**"
   ]
  },
  {
   "cell_type": "code",
   "execution_count": 4,
   "metadata": {},
   "outputs": [],
   "source": [
    "# this demonstration will result how well the player 1 performed each game.\n",
    "\n",
    "player_id = str(1)\n",
    "player_html = urlopen(\"https://fantasy.premierleague.com/api/element-summary/\" + player_id + '/')\n",
    "player_raw = json.load(player_html)"
   ]
  },
  {
   "cell_type": "code",
   "execution_count": 5,
   "metadata": {
    "scrolled": true
   },
   "outputs": [
    {
     "data": {
      "text/plain": [
       "dict_keys(['events', 'game_settings', 'phases', 'teams', 'total_players', 'elements', 'element_stats', 'element_types'])"
      ]
     },
     "execution_count": 5,
     "metadata": {},
     "output_type": "execute_result"
    },
    {
     "data": {
      "text/plain": [
       "dict_keys(['fixtures', 'history', 'history_past'])"
      ]
     },
     "execution_count": 5,
     "metadata": {},
     "output_type": "execute_result"
    }
   ],
   "source": [
    "# both bootstrap and player data is in dictionary, so keys() will show what kind of data we can get from each dictionary.\n",
    "\n",
    "bootstrap.keys()\n",
    "player_raw.keys()"
   ]
  },
  {
   "cell_type": "markdown",
   "metadata": {},
   "source": [
    "### First, check each keys from the bootstrap data to see how they look like"
   ]
  },
  {
   "cell_type": "code",
   "execution_count": 6,
   "metadata": {},
   "outputs": [],
   "source": [
    "events = pd.DataFrame(bootstrap['events']) #\n",
    "\n",
    "\n",
    "#game_settings = pd.DataFrame(bootstrap['game_settings'])\n",
    "phases =  pd.DataFrame(bootstrap['phases']) \n",
    "teams =  pd.DataFrame(bootstrap['teams']) \n",
    "#total_players = pd.DataFrame(bootstrap['total_players'])\n",
    "elements =  pd.DataFrame(bootstrap['elements']) \n",
    "element_stats =  pd.DataFrame(bootstrap['element_stats'])\n",
    "element_types =  pd.DataFrame(bootstrap['element_types']) # positions\n",
    "\n",
    "fixtures = pd.DataFrame(player_raw['fixtures']) #\n",
    "history = pd.DataFrame(player_raw['history'])\n",
    "history_past = pd.DataFrame(player_raw['history_past'])"
   ]
  },
  {
   "cell_type": "markdown",
   "metadata": {},
   "source": [
    "### Then, check from the player data"
   ]
  },
  {
   "cell_type": "code",
   "execution_count": 7,
   "metadata": {},
   "outputs": [
    {
     "data": {
      "text/html": [
       "<div>\n",
       "<style scoped>\n",
       "    .dataframe tbody tr th:only-of-type {\n",
       "        vertical-align: middle;\n",
       "    }\n",
       "\n",
       "    .dataframe tbody tr th {\n",
       "        vertical-align: top;\n",
       "    }\n",
       "\n",
       "    .dataframe thead th {\n",
       "        text-align: right;\n",
       "    }\n",
       "</style>\n",
       "<table border=\"1\" class=\"dataframe\">\n",
       "  <thead>\n",
       "    <tr style=\"text-align: right;\">\n",
       "      <th></th>\n",
       "      <th>code</th>\n",
       "      <th>team_h</th>\n",
       "      <th>team_h_score</th>\n",
       "      <th>team_a</th>\n",
       "      <th>team_a_score</th>\n",
       "      <th>event</th>\n",
       "      <th>finished</th>\n",
       "      <th>minutes</th>\n",
       "      <th>provisional_start_time</th>\n",
       "      <th>kickoff_time</th>\n",
       "      <th>event_name</th>\n",
       "      <th>is_home</th>\n",
       "      <th>difficulty</th>\n",
       "      <th>element</th>\n",
       "    </tr>\n",
       "  </thead>\n",
       "  <tbody>\n",
       "    <tr>\n",
       "      <th>0</th>\n",
       "      <td>1059943</td>\n",
       "      <td>5</td>\n",
       "      <td>None</td>\n",
       "      <td>1</td>\n",
       "      <td>None</td>\n",
       "      <td>25</td>\n",
       "      <td>False</td>\n",
       "      <td>0</td>\n",
       "      <td>False</td>\n",
       "      <td>2020-02-02T14:00:00Z</td>\n",
       "      <td>Gameweek 25</td>\n",
       "      <td>False</td>\n",
       "      <td>3</td>\n",
       "      <td>1</td>\n",
       "    </tr>\n",
       "  </tbody>\n",
       "</table>\n",
       "</div>"
      ],
      "text/plain": [
       "      code  team_h team_h_score  team_a team_a_score  event  finished  \\\n",
       "0  1059943       5         None       1         None     25     False   \n",
       "\n",
       "   minutes  provisional_start_time          kickoff_time   event_name  \\\n",
       "0        0                   False  2020-02-02T14:00:00Z  Gameweek 25   \n",
       "\n",
       "   is_home  difficulty  element  \n",
       "0    False           3        1  "
      ]
     },
     "execution_count": 7,
     "metadata": {},
     "output_type": "execute_result"
    }
   ],
   "source": [
    "##### From Player_raw ######\n",
    "\n",
    "fixtures = pd.DataFrame(player_raw['fixtures'])\n",
    "history = pd.DataFrame(player_raw['history'])\n",
    "history_past =  pd.DataFrame(player_raw['history_past']) \n",
    "    \n",
    "fixtures['element'] = 1\n",
    "\n",
    "fixtures.iloc[:1] # we only want to see the very next fixture. "
   ]
  },
  {
   "cell_type": "markdown",
   "metadata": {},
   "source": [
    "# 4. Defining a scraper\n",
    "\n",
    "***put everything from the section 3 above to define functions***"
   ]
  },
  {
   "cell_type": "code",
   "execution_count": 8,
   "metadata": {},
   "outputs": [],
   "source": [
    "def bootstrap_scraper():\n",
    "    '''this function will scrape the bootstrap data and save them as csv.'''\n",
    "    \n",
    "    # info about bootstrap (overall)\n",
    "    bootstrap_html = urlopen(\"https://fantasy.premierleague.com/api/bootstrap-static/\") # connect to the bootstrap url\n",
    "    bootstrap = json.load(bootstrap_html) # read the json.\n",
    "    \n",
    "    '''get the data we want from the boostrap'''\n",
    "    events = pd.DataFrame(bootstrap['events'])\n",
    "    #game_settings = pd.DataFrame(bootstrap['game_settings'])\n",
    "    phases =  pd.DataFrame(bootstrap['phases']) \n",
    "    teams =  pd.DataFrame(bootstrap['teams']) \n",
    "    #total_players = pd.DataFrame(bootstrap['total_players'])\n",
    "    elements =  pd.DataFrame(bootstrap['elements']) \n",
    "    element_stats =  pd.DataFrame(bootstrap['element_stats']) \n",
    "    element_types =  pd.DataFrame(bootstrap['element_types'])\n",
    "    \n",
    "    \n",
    "    '''save the data we scraped.'''\n",
    "    select = 'D' # Adjust this select variable. I did this because I have D drive for my laptop and F for my desktop. so I can just switch between D and F easily in this way depends on which device I am working on.\n",
    "\n",
    "    #events.to_csv(select + ':\\\\OneDrive - Georgia State University\\\\Data Science\\\\Personal_Project\\\\FPL_Analysis\\\\data\\\\2019//events_df.csv')\n",
    "    #game_settings.to_csv(select + ':\\\\OneDrive - Georgia State University\\\\Data Science\\\\Personal_Project\\\\FPL_Analysis\\\\data\\\\game_settings_df.xlsx')\n",
    "    #phases.to_csv(select + ':\\\\OneDrive - Georgia State University\\\\Data Science\\\\Personal_Project\\\\FPL_Analysis\\\\data\\\\phases_df.csv')\n",
    "    #teams.to_csv(select + ':\\\\OneDrive - Georgia State University\\\\Data Science\\\\Personal_Project\\\\FPL_Analysis\\\\data\\\\teams_df.csv')\n",
    "    elements.to_csv(select + ':\\\\OneDrive - Georgia State University\\\\Data Science\\\\Personal_Project\\\\FPL_Analysis\\\\data\\\\elements_df.csv')\n",
    "    #element_stats.to_csv(select + ':\\\\OneDrive - Georgia State University\\\\Data Science\\\\Personal_Project\\\\FPL_Analysis\\\\data\\\\element_stats_df.csv')\n",
    "    #element_types.to_csv(select + ':\\\\OneDrive - Georgia State University\\\\Data Science\\\\Personal_Project\\\\FPL_Analysis\\\\data\\\\element_types_df.csv')\n"
   ]
  },
  {
   "cell_type": "code",
   "execution_count": 12,
   "metadata": {},
   "outputs": [],
   "source": [
    "def player_data_scraper():\n",
    "    '''This function will iterate through all the players in the database and scrape the data. Then, merge them.'''\n",
    "    \n",
    "    player_id = 1 # starting point\n",
    "    \n",
    "    history_list = [] # history data will be stored in this list\n",
    "    fixtures_list = [] # fixture data will be stored in this list\n",
    "    \n",
    "    while player_id < 600: # I found out there are less than 600 players in the database.\n",
    "        try:\n",
    "            player_html = urlopen(\"https://fantasy.premierleague.com/api/element-summary/\" + str(player_id) + '/') # connect to the url of a player         \n",
    "            player_raw = json.load(player_html) # read the json file.\n",
    "                   \n",
    "            history = pd.DataFrame(player_raw['history']) # create a dataframe of the history data\n",
    "            fixtures = pd.DataFrame(player_raw['fixtures']) # create a dataframe of the fixture data\n",
    "\n",
    "            \n",
    "            fixtures['element'] = player_id # we only need the fixture of this particular player\n",
    "            \n",
    "            \n",
    "            history_list.append(history) # append the history data to the list.\n",
    "            fixtures_list.append(fixtures.iloc[:1]) # append the very next fixture to the fixture list.\n",
    "            \n",
    "            \n",
    "            history_df = pd.concat(history_list) # merge all the data in the history list\n",
    "            history_df = pd.DataFrame(history_df) # then, create the dataframe \n",
    "            \n",
    "            fixtures_df = pd.concat(fixtures_list) # merge all the data in the fixture list\n",
    "            fixtures_df = pd.DataFrame(fixtures_df) # then, create the dataframe \n",
    "            \n",
    "        except:\n",
    "            pass\n",
    "            \n",
    "    \n",
    "        print (player_id) # print which player it just went through\n",
    "        player_id += 1 # move on to the next player\n",
    "    \n",
    "    return history_df, fixtures_df\n",
    "    "
   ]
  },
  {
   "cell_type": "markdown",
   "metadata": {},
   "source": [
    "# Run the scrapers"
   ]
  },
  {
   "cell_type": "code",
   "execution_count": 13,
   "metadata": {},
   "outputs": [],
   "source": [
    "bootstrap_scraper() # this automatically saves the data"
   ]
  },
  {
   "cell_type": "code",
   "execution_count": null,
   "metadata": {},
   "outputs": [
    {
     "name": "stdout",
     "output_type": "stream",
     "text": [
      "1\n",
      "2\n",
      "3\n",
      "4\n",
      "5\n",
      "6\n",
      "7\n",
      "8\n",
      "9\n",
      "10\n",
      "11\n",
      "12\n",
      "13\n",
      "14\n",
      "15\n",
      "16\n",
      "17\n",
      "18\n",
      "19\n",
      "20\n",
      "21\n",
      "22\n",
      "23\n",
      "24\n",
      "25\n",
      "26\n",
      "27\n",
      "28\n",
      "29\n",
      "30\n",
      "31\n",
      "32\n",
      "33\n",
      "34\n",
      "35\n",
      "36\n",
      "37\n",
      "38\n",
      "39\n",
      "40\n",
      "41\n",
      "42\n",
      "43\n",
      "44\n",
      "45\n",
      "46\n",
      "47\n",
      "48\n",
      "49\n",
      "50\n",
      "51\n",
      "52\n",
      "53\n",
      "54\n",
      "55\n",
      "56\n",
      "57\n",
      "58\n",
      "59\n",
      "60\n",
      "61\n",
      "62\n",
      "63\n",
      "64\n",
      "65\n",
      "66\n",
      "67\n",
      "68\n",
      "69\n",
      "70\n",
      "71\n",
      "72\n",
      "73\n",
      "74\n",
      "75\n",
      "76\n",
      "77\n",
      "78\n",
      "79\n",
      "80\n",
      "81\n",
      "82\n",
      "83\n",
      "84\n",
      "85\n",
      "86\n",
      "87\n",
      "88\n",
      "89\n",
      "90\n",
      "91\n",
      "92\n",
      "93\n",
      "94\n",
      "95\n",
      "96\n",
      "97\n",
      "98\n",
      "99\n",
      "100\n",
      "101\n",
      "102\n",
      "103\n",
      "104\n",
      "105\n",
      "106\n",
      "107\n",
      "108\n",
      "109\n",
      "110\n",
      "111\n",
      "112\n",
      "113\n",
      "114\n",
      "115\n",
      "116\n",
      "117\n",
      "118\n",
      "119\n",
      "120\n",
      "121\n",
      "122\n",
      "123\n",
      "124\n",
      "125\n",
      "126\n",
      "127\n",
      "128\n",
      "129\n",
      "130\n",
      "131\n",
      "132\n",
      "133\n",
      "134\n",
      "135\n",
      "136\n",
      "137\n",
      "138\n",
      "139\n",
      "140\n",
      "141\n",
      "142\n",
      "143\n",
      "144\n",
      "145\n",
      "146\n",
      "147\n",
      "148\n",
      "149\n",
      "150\n",
      "151\n",
      "152\n",
      "153\n",
      "154\n",
      "155\n",
      "156\n",
      "157\n",
      "158\n",
      "159\n",
      "160\n"
     ]
    }
   ],
   "source": [
    "history_df, fixtures_df = player_data_scraper()"
   ]
  },
  {
   "cell_type": "code",
   "execution_count": null,
   "metadata": {},
   "outputs": [],
   "source": [
    "select = 'D'\n",
    "history_df.to_csv(select + ':\\\\OneDrive - Georgia State University\\\\Data Science\\\\Personal_Project\\\\FPL_Analysis\\\\data\\\\history_df.csv')\n",
    "fixtures_df.to_csv(select + ':\\\\OneDrive - Georgia State University\\\\Data Science\\\\Personal_Project\\\\FPL_Analysis\\\\data\\\\fixture_df.csv')\n"
   ]
  },
  {
   "cell_type": "markdown",
   "metadata": {},
   "source": [
    "# Debugging\n"
   ]
  },
  {
   "cell_type": "code",
   "execution_count": null,
   "metadata": {},
   "outputs": [],
   "source": []
  },
  {
   "cell_type": "code",
   "execution_count": null,
   "metadata": {},
   "outputs": [],
   "source": []
  }
 ],
 "metadata": {
  "kernelspec": {
   "display_name": "Python 3",
   "language": "python",
   "name": "python3"
  },
  "language_info": {
   "codemirror_mode": {
    "name": "ipython",
    "version": 3
   },
   "file_extension": ".py",
   "mimetype": "text/x-python",
   "name": "python",
   "nbconvert_exporter": "python",
   "pygments_lexer": "ipython3",
   "version": "3.6.10"
  }
 },
 "nbformat": 4,
 "nbformat_minor": 2
}
