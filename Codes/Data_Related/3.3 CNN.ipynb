{
 "cells": [
  {
   "cell_type": "markdown",
   "metadata": {},
   "source": [
    "reference:\n",
    "    \n",
    "https://machinelearningmastery.com/how-to-develop-convolutional-neural-network-models-for-time-series-forecasting/"
   ]
  },
  {
   "cell_type": "markdown",
   "metadata": {},
   "source": [
    "# 0. Importing Packages"
   ]
  },
  {
   "cell_type": "code",
   "execution_count": 11,
   "metadata": {},
   "outputs": [],
   "source": [
    "import numpy as np\n",
    "from numpy import array, hstack\n",
    "import pandas as pd\n",
    "import matplotlib.pylab as plt\n",
    "%matplotlib inline\n",
    "from matplotlib.pylab import rcParams\n",
    "import seaborn as sns\n",
    "\n",
    "\n",
    "from datetime import datetime, timedelta\n",
    "\n",
    "\n",
    "from IPython.core.interactiveshell import InteractiveShell\n",
    "InteractiveShell.ast_node_interactivity = \"all\"\n",
    "\n",
    "%matplotlib inline"
   ]
  },
  {
   "cell_type": "code",
   "execution_count": 12,
   "metadata": {
    "scrolled": true
   },
   "outputs": [],
   "source": [
    "import pandas as pd\n",
    "import numpy as np\n",
    "import matplotlib.pylab as plt\n",
    "%matplotlib inline\n",
    "from matplotlib.pylab import rcParams\n",
    "from sklearn.utils import shuffle\n",
    "\n",
    "from sklearn import preprocessing\n",
    "\n",
    "rcParams['figure.figsize'] = 20, 6"
   ]
  },
  {
   "cell_type": "code",
   "execution_count": 13,
   "metadata": {},
   "outputs": [
    {
     "name": "stderr",
     "output_type": "stream",
     "text": [
      "Using TensorFlow backend.\n"
     ]
    }
   ],
   "source": [
    "from keras.models import load_model\n",
    "from keras.models import Sequential, load_model\n",
    "from keras.layers import LSTM, Dense, Dropout, Embedding, Masking, Conv1D, MaxPooling1D, Flatten\n",
    "from keras.optimizers import Adam\n",
    "from keras.utils import Sequence\n",
    "from keras.preprocessing.text import Tokenizer\n",
    "from keras.callbacks import EarlyStopping, ModelCheckpoint\n",
    "from keras.models import load_model\n",
    "\n",
    "import re\n"
   ]
  },
  {
   "cell_type": "markdown",
   "metadata": {},
   "source": [
    "# 1. Loading Data"
   ]
  },
  {
   "cell_type": "code",
   "execution_count": 14,
   "metadata": {},
   "outputs": [],
   "source": [
    "# Getting all the files in the directory.\n",
    "def existing_file_list(path):\n",
    "    ''' Extracting File Names '''\n",
    "\n",
    "    allFiles = glob.glob(path + \"/*.csv\")\n",
    "    new_list = []\n",
    "    for i in allFiles:\n",
    "        before = 'original\\\\'\n",
    "        after = '_minute'\n",
    "        ticker = i[i.find(before) + len(before) : i.find(after)]\n",
    "        new_list.append(ticker)    \n",
    "    #list_ticker = list(filter(None, text))  # drop all the empty elements and put them in a list\n",
    "        \n",
    "    return (new_list)\n"
   ]
  },
  {
   "cell_type": "code",
   "execution_count": 15,
   "metadata": {},
   "outputs": [],
   "source": [
    "datapath = 'D:\\\\OneDrive - Georgia State University\\\\Data Science\\\\Personal_Project\\\\FPL_Analysis\\\\Data\\\\Final\\\\'\n",
    "\n",
    "from os import listdir\n",
    "from os.path import isfile, join\n",
    "main_data_list = [f for f in listdir(datapath) if isfile(join(datapath, f))]"
   ]
  },
  {
   "cell_type": "code",
   "execution_count": 16,
   "metadata": {},
   "outputs": [
    {
     "data": {
      "text/plain": [
       "'D:\\\\OneDrive - Georgia State University\\\\Data Science\\\\Personal_Project\\\\FPL_Analysis\\\\Data\\\\Final\\\\'"
      ]
     },
     "execution_count": 16,
     "metadata": {},
     "output_type": "execute_result"
    }
   ],
   "source": [
    "datapath"
   ]
  },
  {
   "cell_type": "code",
   "execution_count": 17,
   "metadata": {},
   "outputs": [
    {
     "data": {
      "text/plain": [
       "['bootstrap.xlsx',\n",
       " 'by_player.csv',\n",
       " 'by_position.csv',\n",
       " 'by_team.csv',\n",
       " 'elements.xlsx',\n",
       " 'element_types.xlsx',\n",
       " 'merged_gw.csv',\n",
       " 'next_event_fixtures.xlsx',\n",
       " 'teams.xlsx',\n",
       " '~$bootstrap.xlsx',\n",
       " '~$teams.xlsx']"
      ]
     },
     "execution_count": 17,
     "metadata": {},
     "output_type": "execute_result"
    }
   ],
   "source": [
    "main_data_list"
   ]
  },
  {
   "cell_type": "code",
   "execution_count": 18,
   "metadata": {},
   "outputs": [],
   "source": [
    "#element_types = pd.read_csv(datapath + 'element_types.xlsx',index_col='id', engine = 'python')\n",
    "bootstrap = pd.read_excel(datapath + 'bootstrap.xlsx',index_col='id')\n",
    "main_data = pd.read_csv(datapath + 'merged_gw.csv', index_col=['id', 'fixture'], engine = 'python')\n",
    "teams = pd.read_excel(datapath + 'teams.xlsx',index_col='id')\n",
    "\n",
    "by_team =  pd.read_csv(datapath + 'by_team.csv', engine = 'python')\n",
    "by_position =  pd.read_csv(datapath + 'by_position.csv', engine = 'python')\n",
    "by_player =  pd.read_csv(datapath + 'by_player.csv', engine = 'python')\n"
   ]
  },
  {
   "cell_type": "code",
   "execution_count": 19,
   "metadata": {},
   "outputs": [],
   "source": [
    "main_data.sort_index(inplace=True)\n",
    "bootstrap.sort_index(inplace=True)\n",
    "teams.sort_index(inplace=True)"
   ]
  },
  {
   "cell_type": "markdown",
   "metadata": {},
   "source": [
    "# 2. Preprocessing"
   ]
  },
  {
   "cell_type": "markdown",
   "metadata": {},
   "source": [
    "In this section, I will prepare the dataset for feeding into LSTM network. Basically, I will do 4 things.\n",
    "\n",
    "1. Transform data to stationary\n",
    "2. Transform data to supervised learning\n",
    "3. Split the data into train and test\n",
    "4. Scale the data to (-1,1)"
   ]
  },
  {
   "cell_type": "markdown",
   "metadata": {},
   "source": [
    "# 3) Splitting Data"
   ]
  },
  {
   "cell_type": "markdown",
   "metadata": {},
   "source": [
    "## 3-1) Prepare Features and Labels  "
   ]
  },
  {
   "cell_type": "code",
   "execution_count": 21,
   "metadata": {},
   "outputs": [],
   "source": [
    "def create_train_test(data):\n",
    "    '''Create training and validation features and labels'''\n",
    "    data = shuffle(data)\n",
    "    a = round(len(data)*0.7)\n",
    "    \n",
    "    train, test = data.iloc[:a], data.iloc[a:]\n",
    "    \n",
    "    return train, test"
   ]
  },
  {
   "cell_type": "code",
   "execution_count": 22,
   "metadata": {},
   "outputs": [],
   "source": [
    "def normalization(data):\n",
    "    '''normalizing the data'''\n",
    "    \n",
    "    scaler = preprocessing.MinMaxScaler()\n",
    "    if len(data.columns) == 1:\n",
    "        data = data.values.reshape(-1, 1)\n",
    "    else:\n",
    "        pass\n",
    "    \n",
    "    scaled = scaler.fit_transform(data)\n",
    "    #scaled = pd.DataFrame(scaled, columns=data.columns, index = data.index)\n",
    "    \n",
    "    return scaled, scaler"
   ]
  },
  {
   "cell_type": "code",
   "execution_count": 23,
   "metadata": {},
   "outputs": [
    {
     "name": "stderr",
     "output_type": "stream",
     "text": [
      "D:\\Programming\\Anaconda\\envs\\tensorflow_env\\lib\\site-packages\\sklearn\\preprocessing\\data.py:323: DataConversionWarning: Data with input dtype bool, int64, float64 were all converted to float64 by MinMaxScaler.\n",
      "  return self.partial_fit(X, y)\n",
      "D:\\Programming\\Anaconda\\envs\\tensorflow_env\\lib\\site-packages\\sklearn\\preprocessing\\data.py:323: DataConversionWarning: Data with input dtype bool, int64, float64 were all converted to float64 by MinMaxScaler.\n",
      "  return self.partial_fit(X, y)\n"
     ]
    }
   ],
   "source": [
    "main_data = main_data.drop('name', axis=1)\n",
    "\n",
    "train, test = create_train_test(main_data)\n",
    "normalized_train, scaler = normalization(train)\n",
    "normalized_test, scaler = normalization(test)\n"
   ]
  },
  {
   "cell_type": "markdown",
   "metadata": {},
   "source": [
    "## 3-2) Reshape features"
   ]
  },
  {
   "cell_type": "code",
   "execution_count": 24,
   "metadata": {},
   "outputs": [],
   "source": [
    "# multivariate data preparation\n",
    "\n",
    "# split a multivariate sequence into samples\n",
    "def split_sequences(sequences, n_steps):\n",
    "    X, y = list(), list()\n",
    "    for i in range(len(sequences)):\n",
    "        # find the end of this pattern\n",
    "        end_ix = i + n_steps\n",
    "        \n",
    "        # check if we are beyond the dataset\n",
    "        if end_ix > len(sequences):\n",
    "            break\n",
    "        # gather input and output parts of the pattern\n",
    "        seq_x, seq_y = sequences[i:end_ix, :-1], sequences[end_ix-1, -1]\n",
    "        X.append(seq_x)\n",
    "        y.append(seq_y)\n",
    "        \n",
    "    \n",
    "    return array(X), array(y)"
   ]
  },
  {
   "cell_type": "code",
   "execution_count": 25,
   "metadata": {},
   "outputs": [],
   "source": [
    "# choose a number of time steps\n",
    "n_steps = 13\n",
    "\n",
    "# convert into input/output\n",
    "x_train_reshaped, y_train = split_sequences(normalized_train, n_steps)\n",
    "x_test_reshaped, y_test = split_sequences(normalized_test, n_steps)\n",
    "\n"
   ]
  },
  {
   "cell_type": "code",
   "execution_count": 26,
   "metadata": {
    "scrolled": false
   },
   "outputs": [
    {
     "name": "stdout",
     "output_type": "stream",
     "text": [
      "shape of x_train_reshaped: (15241, 13, 47), \n",
      "shape of y_train: (15241,), \n",
      "\n",
      "shape of x_test_reshaped: (6525, 13, 47), \n",
      "shape of y_test: (6525,)\n"
     ]
    }
   ],
   "source": [
    "print (f\"shape of x_train_reshaped: {x_train_reshaped.shape}, \\nshape of y_train: {y_train.shape}, \\n\\nshape of x_test_reshaped: {x_test_reshaped.shape}, \\nshape of y_test: {y_test.shape}\")"
   ]
  },
  {
   "cell_type": "code",
   "execution_count": 27,
   "metadata": {},
   "outputs": [
    {
     "data": {
      "text/plain": [
       "array([[0.00000000e+00, 0.00000000e+00, 0.00000000e+00, 0.00000000e+00,\n",
       "        0.00000000e+00, 1.32075472e-01, 0.00000000e+00, 0.00000000e+00,\n",
       "        0.00000000e+00, 0.00000000e+00, 0.00000000e+00, 0.00000000e+00,\n",
       "        0.00000000e+00, 0.00000000e+00, 0.00000000e+00, 0.00000000e+00,\n",
       "        0.00000000e+00, 0.00000000e+00, 0.00000000e+00, 0.00000000e+00,\n",
       "        0.00000000e+00, 0.00000000e+00, 1.00000000e+00, 0.00000000e+00,\n",
       "        0.00000000e+00, 0.00000000e+00, 0.00000000e+00, 0.00000000e+00,\n",
       "        0.00000000e+00, 2.70270270e-02, 0.00000000e+00, 2.68147830e-02,\n",
       "        0.00000000e+00, 0.00000000e+00, 0.00000000e+00, 0.00000000e+00,\n",
       "        3.33333333e-01, 0.00000000e+00, 1.60000000e-01, 5.84958266e-01,\n",
       "        1.30540315e-02, 5.37621595e-03, 7.14285714e-02, 1.00000000e+00,\n",
       "        0.00000000e+00, 0.00000000e+00, 5.26315789e-01],\n",
       "       [0.00000000e+00, 0.00000000e+00, 0.00000000e+00, 0.00000000e+00,\n",
       "        0.00000000e+00, 1.32075472e-01, 0.00000000e+00, 0.00000000e+00,\n",
       "        0.00000000e+00, 0.00000000e+00, 0.00000000e+00, 0.00000000e+00,\n",
       "        0.00000000e+00, 0.00000000e+00, 0.00000000e+00, 0.00000000e+00,\n",
       "        0.00000000e+00, 0.00000000e+00, 0.00000000e+00, 0.00000000e+00,\n",
       "        0.00000000e+00, 0.00000000e+00, 5.26315789e-02, 0.00000000e+00,\n",
       "        0.00000000e+00, 0.00000000e+00, 0.00000000e+00, 0.00000000e+00,\n",
       "        0.00000000e+00, 8.64864865e-01, 0.00000000e+00, 1.97578984e-03,\n",
       "        0.00000000e+00, 0.00000000e+00, 0.00000000e+00, 5.00000000e-01,\n",
       "        1.66666667e-01, 0.00000000e+00, 1.60000000e-01, 5.82595445e-01,\n",
       "        5.57307187e-05, 3.66018502e-05, 1.02040816e-01, 0.00000000e+00,\n",
       "        0.00000000e+00, 0.00000000e+00, 1.57894737e-01],\n",
       "       [0.00000000e+00, 0.00000000e+00, 0.00000000e+00, 0.00000000e+00,\n",
       "        0.00000000e+00, 1.32075472e-01, 0.00000000e+00, 0.00000000e+00,\n",
       "        0.00000000e+00, 0.00000000e+00, 0.00000000e+00, 0.00000000e+00,\n",
       "        0.00000000e+00, 0.00000000e+00, 0.00000000e+00, 0.00000000e+00,\n",
       "        0.00000000e+00, 0.00000000e+00, 0.00000000e+00, 0.00000000e+00,\n",
       "        0.00000000e+00, 0.00000000e+00, 1.05263158e-01, 0.00000000e+00,\n",
       "        0.00000000e+00, 0.00000000e+00, 0.00000000e+00, 0.00000000e+00,\n",
       "        0.00000000e+00, 9.72972973e-01, 0.00000000e+00, 4.35764115e-03,\n",
       "        0.00000000e+00, 0.00000000e+00, 0.00000000e+00, 1.66666667e-01,\n",
       "        1.66666667e-01, 0.00000000e+00, 1.60000000e-01, 5.82523386e-01,\n",
       "        1.42291197e-05, 1.28532079e-04, 2.04081633e-02, 1.00000000e+00,\n",
       "        0.00000000e+00, 0.00000000e+00, 0.00000000e+00],\n",
       "       [0.00000000e+00, 2.27777778e-01, 0.00000000e+00, 0.00000000e+00,\n",
       "        0.00000000e+00, 3.39622642e-01, 1.00000000e+00, 1.81818182e-01,\n",
       "        1.79012346e-01, 8.16023739e-03, 0.00000000e+00, 0.00000000e+00,\n",
       "        3.33333333e-01, 0.00000000e+00, 0.00000000e+00, 0.00000000e+00,\n",
       "        4.26356589e-02, 7.37564322e-02, 0.00000000e+00, 1.00000000e+00,\n",
       "        0.00000000e+00, 0.00000000e+00, 1.57894737e-01, 0.00000000e+00,\n",
       "        0.00000000e+00, 0.00000000e+00, 0.00000000e+00, 4.21052632e-01,\n",
       "        0.00000000e+00, 0.00000000e+00, 0.00000000e+00, 5.95368831e-03,\n",
       "        0.00000000e+00, 0.00000000e+00, 2.00000000e-01, 0.00000000e+00,\n",
       "        0.00000000e+00, 6.80272109e-03, 4.00000000e-01, 5.82593429e-01,\n",
       "        0.00000000e+00, 0.00000000e+00, 7.14285714e-02, 1.00000000e+00,\n",
       "        0.00000000e+00, 0.00000000e+00, 7.89473684e-01],\n",
       "       [0.00000000e+00, 0.00000000e+00, 0.00000000e+00, 0.00000000e+00,\n",
       "        0.00000000e+00, 1.32075472e-01, 0.00000000e+00, 0.00000000e+00,\n",
       "        0.00000000e+00, 0.00000000e+00, 0.00000000e+00, 0.00000000e+00,\n",
       "        0.00000000e+00, 0.00000000e+00, 0.00000000e+00, 0.00000000e+00,\n",
       "        0.00000000e+00, 0.00000000e+00, 0.00000000e+00, 0.00000000e+00,\n",
       "        0.00000000e+00, 0.00000000e+00, 7.89473684e-01, 0.00000000e+00,\n",
       "        0.00000000e+00, 0.00000000e+00, 0.00000000e+00, 0.00000000e+00,\n",
       "        0.00000000e+00, 2.16216216e-01, 0.00000000e+00, 3.36410648e-03,\n",
       "        0.00000000e+00, 0.00000000e+00, 0.00000000e+00, 0.00000000e+00,\n",
       "        0.00000000e+00, 0.00000000e+00, 1.60000000e-01, 5.82169140e-01,\n",
       "        2.73910553e-04, 9.13343843e-04, 1.02040816e-01, 1.00000000e+00,\n",
       "        0.00000000e+00, 0.00000000e+00, 5.26315789e-02],\n",
       "       [0.00000000e+00, 0.00000000e+00, 0.00000000e+00, 0.00000000e+00,\n",
       "        0.00000000e+00, 1.32075472e-01, 0.00000000e+00, 0.00000000e+00,\n",
       "        0.00000000e+00, 0.00000000e+00, 0.00000000e+00, 0.00000000e+00,\n",
       "        0.00000000e+00, 0.00000000e+00, 0.00000000e+00, 0.00000000e+00,\n",
       "        0.00000000e+00, 0.00000000e+00, 0.00000000e+00, 0.00000000e+00,\n",
       "        0.00000000e+00, 0.00000000e+00, 2.10526316e-01, 0.00000000e+00,\n",
       "        0.00000000e+00, 0.00000000e+00, 0.00000000e+00, 0.00000000e+00,\n",
       "        0.00000000e+00, 2.43243243e-01, 0.00000000e+00, 1.31800785e-02,\n",
       "        0.00000000e+00, 0.00000000e+00, 0.00000000e+00, 1.66666667e-01,\n",
       "        6.66666667e-01, 0.00000000e+00, 1.60000000e-01, 5.80311737e-01,\n",
       "        4.18573270e-04, 4.15473560e-03, 1.53061224e-01, 1.00000000e+00,\n",
       "        0.00000000e+00, 0.00000000e+00, 5.78947368e-01],\n",
       "       [0.00000000e+00, 1.61111111e-01, 0.00000000e+00, 0.00000000e+00,\n",
       "        0.00000000e+00, 2.73584906e-01, 1.00000000e+00, 1.81818182e-01,\n",
       "        1.35802469e-01, 1.26112760e-02, 0.00000000e+00, 0.00000000e+00,\n",
       "        0.00000000e+00, 2.22222222e-01, 0.00000000e+00, 0.00000000e+00,\n",
       "        3.10077519e-02, 5.14579760e-02, 0.00000000e+00, 1.00000000e+00,\n",
       "        0.00000000e+00, 0.00000000e+00, 1.05263158e-01, 0.00000000e+00,\n",
       "        0.00000000e+00, 0.00000000e+00, 0.00000000e+00, 1.05263158e-01,\n",
       "        0.00000000e+00, 4.05405405e-01, 0.00000000e+00, 1.98205622e-03,\n",
       "        0.00000000e+00, 0.00000000e+00, 0.00000000e+00, 0.00000000e+00,\n",
       "        1.66666667e-01, 0.00000000e+00, 3.60000000e-01, 5.82613586e-01,\n",
       "        1.66006396e-04, 8.51205818e-05, 4.08163265e-02, 1.00000000e+00,\n",
       "        0.00000000e+00, 1.00000000e+00, 1.57894737e-01],\n",
       "       [0.00000000e+00, 0.00000000e+00, 0.00000000e+00, 0.00000000e+00,\n",
       "        0.00000000e+00, 1.32075472e-01, 0.00000000e+00, 0.00000000e+00,\n",
       "        0.00000000e+00, 0.00000000e+00, 0.00000000e+00, 0.00000000e+00,\n",
       "        0.00000000e+00, 0.00000000e+00, 0.00000000e+00, 0.00000000e+00,\n",
       "        0.00000000e+00, 0.00000000e+00, 0.00000000e+00, 0.00000000e+00,\n",
       "        0.00000000e+00, 0.00000000e+00, 2.63157895e-01, 0.00000000e+00,\n",
       "        0.00000000e+00, 0.00000000e+00, 0.00000000e+00, 0.00000000e+00,\n",
       "        0.00000000e+00, 9.72972973e-01, 0.00000000e+00, 7.42879433e-03,\n",
       "        0.00000000e+00, 0.00000000e+00, 0.00000000e+00, 0.00000000e+00,\n",
       "        5.00000000e-01, 0.00000000e+00, 1.60000000e-01, 5.81716631e-01,\n",
       "        1.36362397e-04, 1.57898679e-03, 1.12244898e-01, 0.00000000e+00,\n",
       "        0.00000000e+00, 0.00000000e+00, 8.94736842e-01],\n",
       "       [0.00000000e+00, 0.00000000e+00, 0.00000000e+00, 0.00000000e+00,\n",
       "        0.00000000e+00, 1.32075472e-01, 0.00000000e+00, 0.00000000e+00,\n",
       "        0.00000000e+00, 0.00000000e+00, 0.00000000e+00, 0.00000000e+00,\n",
       "        0.00000000e+00, 0.00000000e+00, 0.00000000e+00, 0.00000000e+00,\n",
       "        0.00000000e+00, 0.00000000e+00, 0.00000000e+00, 0.00000000e+00,\n",
       "        0.00000000e+00, 0.00000000e+00, 4.73684211e-01, 0.00000000e+00,\n",
       "        0.00000000e+00, 0.00000000e+00, 0.00000000e+00, 0.00000000e+00,\n",
       "        0.00000000e+00, 9.72972973e-01, 0.00000000e+00, 4.89717653e-04,\n",
       "        0.00000000e+00, 0.00000000e+00, 0.00000000e+00, 1.66666667e-01,\n",
       "        1.66666667e-01, 0.00000000e+00, 1.60000000e-01, 5.82587383e-01,\n",
       "        1.42291197e-05, 2.04289396e-05, 1.02040816e-01, 0.00000000e+00,\n",
       "        0.00000000e+00, 0.00000000e+00, 6.84210526e-01],\n",
       "       [0.00000000e+00, 0.00000000e+00, 0.00000000e+00, 0.00000000e+00,\n",
       "        0.00000000e+00, 1.32075472e-01, 0.00000000e+00, 0.00000000e+00,\n",
       "        0.00000000e+00, 0.00000000e+00, 0.00000000e+00, 0.00000000e+00,\n",
       "        0.00000000e+00, 0.00000000e+00, 0.00000000e+00, 0.00000000e+00,\n",
       "        0.00000000e+00, 0.00000000e+00, 0.00000000e+00, 0.00000000e+00,\n",
       "        0.00000000e+00, 0.00000000e+00, 0.00000000e+00, 0.00000000e+00,\n",
       "        0.00000000e+00, 0.00000000e+00, 0.00000000e+00, 0.00000000e+00,\n",
       "        0.00000000e+00, 8.37837838e-01, 0.00000000e+00, 6.51703594e-04,\n",
       "        0.00000000e+00, 0.00000000e+00, 0.00000000e+00, 0.00000000e+00,\n",
       "        3.33333333e-01, 0.00000000e+00, 1.60000000e-01, 5.82586375e-01,\n",
       "        0.00000000e+00, 1.19168815e-05, 9.18367347e-02, 0.00000000e+00,\n",
       "        0.00000000e+00, 0.00000000e+00, 7.36842105e-01],\n",
       "       [0.00000000e+00, 0.00000000e+00, 0.00000000e+00, 0.00000000e+00,\n",
       "        0.00000000e+00, 1.32075472e-01, 0.00000000e+00, 0.00000000e+00,\n",
       "        0.00000000e+00, 0.00000000e+00, 0.00000000e+00, 0.00000000e+00,\n",
       "        0.00000000e+00, 0.00000000e+00, 0.00000000e+00, 0.00000000e+00,\n",
       "        0.00000000e+00, 0.00000000e+00, 0.00000000e+00, 0.00000000e+00,\n",
       "        0.00000000e+00, 0.00000000e+00, 6.84210526e-01, 0.00000000e+00,\n",
       "        0.00000000e+00, 0.00000000e+00, 0.00000000e+00, 0.00000000e+00,\n",
       "        0.00000000e+00, 4.32432432e-01, 0.00000000e+00, 3.41827935e-02,\n",
       "        0.00000000e+00, 0.00000000e+00, 0.00000000e+00, 1.66666667e-01,\n",
       "        5.00000000e-01, 0.00000000e+00, 1.60000000e-01, 5.61938269e-01,\n",
       "        3.03554553e-04, 3.51088352e-02, 1.22448980e-01, 1.00000000e+00,\n",
       "        0.00000000e+00, 0.00000000e+00, 5.78947368e-01],\n",
       "       [0.00000000e+00, 0.00000000e+00, 0.00000000e+00, 0.00000000e+00,\n",
       "        0.00000000e+00, 1.32075472e-01, 0.00000000e+00, 0.00000000e+00,\n",
       "        0.00000000e+00, 0.00000000e+00, 0.00000000e+00, 0.00000000e+00,\n",
       "        0.00000000e+00, 0.00000000e+00, 0.00000000e+00, 0.00000000e+00,\n",
       "        0.00000000e+00, 0.00000000e+00, 0.00000000e+00, 0.00000000e+00,\n",
       "        0.00000000e+00, 0.00000000e+00, 0.00000000e+00, 0.00000000e+00,\n",
       "        0.00000000e+00, 0.00000000e+00, 0.00000000e+00, 0.00000000e+00,\n",
       "        0.00000000e+00, 4.86486486e-01, 0.00000000e+00, 9.47335770e-02,\n",
       "        0.00000000e+00, 0.00000000e+00, 0.00000000e+00, 1.66666667e-01,\n",
       "        1.66666667e-01, 0.00000000e+00, 1.60000000e-01, 5.82364152e-01,\n",
       "        5.31694771e-03, 4.20410554e-03, 0.00000000e+00, 1.00000000e+00,\n",
       "        0.00000000e+00, 0.00000000e+00, 1.05263158e-01],\n",
       "       [0.00000000e+00, 0.00000000e+00, 0.00000000e+00, 0.00000000e+00,\n",
       "        0.00000000e+00, 1.32075472e-01, 0.00000000e+00, 0.00000000e+00,\n",
       "        0.00000000e+00, 0.00000000e+00, 0.00000000e+00, 0.00000000e+00,\n",
       "        0.00000000e+00, 0.00000000e+00, 0.00000000e+00, 0.00000000e+00,\n",
       "        0.00000000e+00, 0.00000000e+00, 0.00000000e+00, 0.00000000e+00,\n",
       "        0.00000000e+00, 0.00000000e+00, 8.42105263e-01, 0.00000000e+00,\n",
       "        0.00000000e+00, 0.00000000e+00, 0.00000000e+00, 0.00000000e+00,\n",
       "        0.00000000e+00, 6.48648649e-01, 0.00000000e+00, 2.44388848e-05,\n",
       "        0.00000000e+00, 0.00000000e+00, 0.00000000e+00, 0.00000000e+00,\n",
       "        1.66666667e-01, 0.00000000e+00, 1.60000000e-01, 5.82593429e-01,\n",
       "        3.55727991e-06, 2.55361745e-06, 1.22448980e-01, 0.00000000e+00,\n",
       "        0.00000000e+00, 0.00000000e+00, 7.36842105e-01]])"
      ]
     },
     "execution_count": 27,
     "metadata": {},
     "output_type": "execute_result"
    }
   ],
   "source": [
    "x_train_reshaped[0]"
   ]
  },
  {
   "cell_type": "markdown",
   "metadata": {},
   "source": [
    "# 4) Build and Train a Model"
   ]
  },
  {
   "cell_type": "code",
   "execution_count": 28,
   "metadata": {},
   "outputs": [
    {
     "name": "stdout",
     "output_type": "stream",
     "text": [
      "shape of number of timesteps: 13 \n",
      "number of features: 47 \n",
      "number of outputs: 1\n"
     ]
    }
   ],
   "source": [
    "n_timesteps, n_features, n_outputs = x_train_reshaped.shape[1], x_train_reshaped.shape[2], 1\n",
    "\n",
    "print (f\"shape of number of timesteps: {n_timesteps} \\nnumber of features: {n_features} \\nnumber of outputs: {n_outputs}\")"
   ]
  },
  {
   "cell_type": "markdown",
   "metadata": {},
   "source": [
    "## 4-1) First Model"
   ]
  },
  {
   "cell_type": "code",
   "execution_count": 29,
   "metadata": {
    "scrolled": true
   },
   "outputs": [
    {
     "data": {
      "text/plain": [
       "\"# Returns a compiled model identical to the previous one\\nmodel = load_model('E:\\\\Data Science\\\\Personal_Project\\\\RNN - Solar Farm\\\\model\\\\LSTM_Model.h5')\""
      ]
     },
     "execution_count": 29,
     "metadata": {},
     "output_type": "execute_result"
    }
   ],
   "source": [
    "'''# Returns a compiled model identical to the previous one\n",
    "model = load_model('E:\\Data Science\\Personal_Project\\RNN - Solar Farm\\model\\LSTM_Model.h5')'''"
   ]
  },
  {
   "cell_type": "code",
   "execution_count": 30,
   "metadata": {},
   "outputs": [],
   "source": [
    "# define model\n",
    "model_CNN = Sequential()\n",
    "model_CNN.add(Conv1D(filters=64, kernel_size=1, activation='relu', input_shape=(n_timesteps, n_features)))\n",
    "model_CNN.add(MaxPooling1D(pool_size=1))\n",
    "model_CNN.add(Flatten())\n",
    "model_CNN.add(Dense(50, activation='relu'))\n",
    "model_CNN.add(Dense(1))\n",
    "model_CNN.compile(optimizer='adam', loss='mse')"
   ]
  },
  {
   "cell_type": "code",
   "execution_count": 31,
   "metadata": {
    "scrolled": true
   },
   "outputs": [
    {
     "name": "stdout",
     "output_type": "stream",
     "text": [
      "_________________________________________________________________\n",
      "Layer (type)                 Output Shape              Param #   \n",
      "=================================================================\n",
      "conv1d_1 (Conv1D)            (None, 13, 64)            3072      \n",
      "_________________________________________________________________\n",
      "max_pooling1d_1 (MaxPooling1 (None, 13, 64)            0         \n",
      "_________________________________________________________________\n",
      "flatten_1 (Flatten)          (None, 832)               0         \n",
      "_________________________________________________________________\n",
      "dense_1 (Dense)              (None, 50)                41650     \n",
      "_________________________________________________________________\n",
      "dense_2 (Dense)              (None, 1)                 51        \n",
      "=================================================================\n",
      "Total params: 44,773\n",
      "Trainable params: 44,773\n",
      "Non-trainable params: 0\n",
      "_________________________________________________________________\n"
     ]
    }
   ],
   "source": [
    "model_CNN.summary()"
   ]
  },
  {
   "cell_type": "code",
   "execution_count": 32,
   "metadata": {},
   "outputs": [],
   "source": [
    "epochs = 700\n",
    "batch_size = 128\n",
    "verbose = 1\n",
    "# Set callback functions to early stop training and save the best model so far\n",
    "callbacks = [EarlyStopping(monitor='val_loss', patience=2)]"
   ]
  },
  {
   "cell_type": "code",
   "execution_count": 33,
   "metadata": {
    "scrolled": true
   },
   "outputs": [
    {
     "name": "stdout",
     "output_type": "stream",
     "text": [
      "Train on 12192 samples, validate on 3049 samples\n",
      "Epoch 1/700\n",
      "12192/12192 [==============================] - 1s 66us/step - loss: 0.0827 - val_loss: 0.0736\n",
      "Epoch 2/700\n",
      "12192/12192 [==============================] - 0s 29us/step - loss: 0.0658 - val_loss: 0.0699\n",
      "Epoch 3/700\n",
      "12192/12192 [==============================] - 0s 28us/step - loss: 0.0596 - val_loss: 0.0649\n",
      "Epoch 4/700\n",
      "12192/12192 [==============================] - 0s 27us/step - loss: 0.0550 - val_loss: 0.0611\n",
      "Epoch 5/700\n",
      "12192/12192 [==============================] - 0s 27us/step - loss: 0.0517 - val_loss: 0.0625\n",
      "Epoch 6/700\n",
      "12192/12192 [==============================] - 0s 41us/step - loss: 0.0494 - val_loss: 0.0608\n",
      "Epoch 7/700\n",
      "12192/12192 [==============================] - 0s 29us/step - loss: 0.0463 - val_loss: 0.0596\n",
      "Epoch 8/700\n",
      "12192/12192 [==============================] - 0s 26us/step - loss: 0.0434 - val_loss: 0.0594\n",
      "Epoch 9/700\n",
      "12192/12192 [==============================] - 0s 26us/step - loss: 0.0419 - val_loss: 0.0607\n",
      "Epoch 10/700\n",
      "12192/12192 [==============================] - 0s 27us/step - loss: 0.0388 - val_loss: 0.0591\n",
      "Epoch 11/700\n",
      "12192/12192 [==============================] - 0s 26us/step - loss: 0.0358 - val_loss: 0.0606\n",
      "Epoch 12/700\n",
      "12192/12192 [==============================] - 0s 26us/step - loss: 0.0331 - val_loss: 0.0600\n"
     ]
    }
   ],
   "source": [
    "# fit network\n",
    "history = model_CNN.fit(x_train_reshaped, y_train, epochs=epochs, batch_size=batch_size, verbose=verbose, validation_split = 0.2, callbacks=callbacks)"
   ]
  },
  {
   "cell_type": "code",
   "execution_count": 34,
   "metadata": {
    "scrolled": true
   },
   "outputs": [
    {
     "data": {
      "text/plain": [
       "Text(0.5, 1.0, 'model accuracy')"
      ]
     },
     "execution_count": 34,
     "metadata": {},
     "output_type": "execute_result"
    },
    {
     "data": {
      "text/plain": [
       "Text(0, 0.5, 'accuracy')"
      ]
     },
     "execution_count": 34,
     "metadata": {},
     "output_type": "execute_result"
    },
    {
     "data": {
      "text/plain": [
       "Text(0.5, 0, 'epoch')"
      ]
     },
     "execution_count": 34,
     "metadata": {},
     "output_type": "execute_result"
    },
    {
     "data": {
      "text/plain": [
       "<matplotlib.legend.Legend at 0x21decd141d0>"
      ]
     },
     "execution_count": 34,
     "metadata": {},
     "output_type": "execute_result"
    },
    {
     "data": {
      "image/png": "[encoded data removed]",
      "text/plain": [
       "<Figure size 1440x432 with 1 Axes>"
      ]
     },
     "metadata": {
      "needs_background": "light"
     },
     "output_type": "display_data"
    },
    {
     "data": {
      "text/plain": [
       "[<matplotlib.lines.Line2D at 0x21decd4eba8>]"
      ]
     },
     "execution_count": 34,
     "metadata": {},
     "output_type": "execute_result"
    },
    {
     "data": {
      "text/plain": [
       "[<matplotlib.lines.Line2D at 0x21decd359b0>]"
      ]
     },
     "execution_count": 34,
     "metadata": {},
     "output_type": "execute_result"
    },
    {
     "data": {
      "text/plain": [
       "Text(0.5, 1.0, 'model loss')"
      ]
     },
     "execution_count": 34,
     "metadata": {},
     "output_type": "execute_result"
    },
    {
     "data": {
      "text/plain": [
       "Text(0, 0.5, 'loss')"
      ]
     },
     "execution_count": 34,
     "metadata": {},
     "output_type": "execute_result"
    },
    {
     "data": {
      "text/plain": [
       "Text(0.5, 0, 'epoch')"
      ]
     },
     "execution_count": 34,
     "metadata": {},
     "output_type": "execute_result"
    },
    {
     "data": {
      "text/plain": [
       "<matplotlib.legend.Legend at 0x21decd4e898>"
      ]
     },
     "execution_count": 34,
     "metadata": {},
     "output_type": "execute_result"
    },
    {
     "data": {
      "image/png": "[encoded data removed]",
      "text/plain": [
       "<Figure size 1440x432 with 1 Axes>"
      ]
     },
     "metadata": {
      "needs_background": "light"
     },
     "output_type": "display_data"
    }
   ],
   "source": [
    "# summarize history for accuracy\n",
    "#plt.plot(history.history['acc'])\n",
    "#plt.plot(history.history['val_acc'])\n",
    "plt.title('model accuracy')\n",
    "plt.ylabel('accuracy')\n",
    "plt.xlabel('epoch')\n",
    "plt.legend(['train', 'val'], loc='upper left')\n",
    "plt.show()\n",
    "# summarize history for loss\n",
    "plt.plot(history.history['loss'])\n",
    "plt.plot(history.history['val_loss'])\n",
    "plt.title('model loss')\n",
    "plt.ylabel('loss')\n",
    "plt.xlabel('epoch')\n",
    "plt.legend(['train', 'val'], loc='upper left')\n",
    "plt.show()"
   ]
  },
  {
   "cell_type": "code",
   "execution_count": 35,
   "metadata": {},
   "outputs": [
    {
     "data": {
      "text/plain": [
       "\"# Returns a compiled model identical to the previous one\\nmodel = load_model('E:\\\\Data Science\\\\Personal_Project\\\\RNN - Solar Farm\\\\model\\\\LSTM_Model.h5')\\n\\ny_predict = model.predict(x_test_reshaped, verbose)\""
      ]
     },
     "execution_count": 35,
     "metadata": {},
     "output_type": "execute_result"
    }
   ],
   "source": [
    "'''# Returns a compiled model identical to the previous one\n",
    "model = load_model('E:\\Data Science\\Personal_Project\\RNN - Solar Farm\\model\\LSTM_Model.h5')\n",
    "\n",
    "y_predict = model.predict(x_test_reshaped, verbose)'''"
   ]
  },
  {
   "cell_type": "code",
   "execution_count": 36,
   "metadata": {},
   "outputs": [
    {
     "data": {
      "text/plain": [
       "[0.08273699249964686,\n",
       " 0.06579190475030208,\n",
       " 0.05959545427889336,\n",
       " 0.055013088514329254,\n",
       " 0.0517434707776768,\n",
       " 0.04937638774553309,\n",
       " 0.04628568127008248,\n",
       " 0.04335137456655502,\n",
       " 0.041881659368830405,\n",
       " 0.03882027480976162,\n",
       " 0.03575801324304633,\n",
       " 0.033127419806997294]"
      ]
     },
     "execution_count": 36,
     "metadata": {},
     "output_type": "execute_result"
    }
   ],
   "source": [
    "history.history['loss']"
   ]
  },
  {
   "cell_type": "raw",
   "metadata": {},
   "source": [
    "from keras.models import load_model\n",
    "model_LSTM = load_model('D:\\\\OneDrive - Georgia State University\\\\Data Science\\\\AKDSPW\\\\Load_Energy_Consumption\\\\Result\\\\281.h5')\n"
   ]
  },
  {
   "cell_type": "code",
   "execution_count": 37,
   "metadata": {},
   "outputs": [],
   "source": [
    "y_predict = model_CNN.predict(x_test_reshaped, verbose)\n",
    "y_predict = y_predict.reshape(y_predict.shape[0],)"
   ]
  },
  {
   "cell_type": "code",
   "execution_count": 38,
   "metadata": {},
   "outputs": [],
   "source": [
    "comparison = pd.DataFrame(data=np.column_stack((y_test,y_predict)),columns=['actual','prediction'])\n",
    "comparison = comparison.set_index(test.index[n_steps-1:])"
   ]
  },
  {
   "cell_type": "raw",
   "metadata": {
    "scrolled": true
   },
   "source": [
    "y_predict = y_predict.reshape(len(y_predict),)\n",
    "\n",
    "comparison = pd.DataFrame({'actual':y_test, 'prediction':y_predict})\n",
    "comparison = comparison.set_index(test.index)\n",
    "comparison"
   ]
  },
  {
   "cell_type": "code",
   "execution_count": 39,
   "metadata": {},
   "outputs": [],
   "source": [
    "denormalizing_data = main_data.copy()\n",
    "denormalizing_data.drop(columns = ['total_points'], inplace = True)\n",
    "denormalizing_data['prediction'] = comparison['prediction']\n",
    "denormalizing_data.dropna(axis=0,inplace=True)\n",
    "denormalized_prediction = pd.DataFrame(scaler.inverse_transform(denormalizing_data), index=test.index[n_steps-1:], columns=denormalizing_data.columns)['prediction']\n",
    "\n",
    "denormalizing_actual = main_data.copy()\n",
    "denormalizing_actual.drop(columns = ['total_points'], inplace = True)\n",
    "denormalizing_actual['actual'] = comparison['actual']\n",
    "denormalizing_actual.dropna(axis=0,inplace=True)\n",
    "denormalized_actual = pd.DataFrame(scaler.inverse_transform(denormalizing_actual), index=test.index[n_steps-1:], columns=denormalizing_actual.columns)['actual']\n",
    "\n",
    "comparison = pd.concat([denormalized_actual, denormalized_prediction], axis=1)"
   ]
  },
  {
   "cell_type": "code",
   "execution_count": 40,
   "metadata": {},
   "outputs": [
    {
     "data": {
      "text/html": [
       "<div>\n",
       "<style scoped>\n",
       "    .dataframe tbody tr th:only-of-type {\n",
       "        vertical-align: middle;\n",
       "    }\n",
       "\n",
       "    .dataframe tbody tr th {\n",
       "        vertical-align: top;\n",
       "    }\n",
       "\n",
       "    .dataframe thead th {\n",
       "        text-align: right;\n",
       "    }\n",
       "</style>\n",
       "<table border=\"1\" class=\"dataframe\">\n",
       "  <thead>\n",
       "    <tr style=\"text-align: right;\">\n",
       "      <th></th>\n",
       "      <th></th>\n",
       "      <th>actual</th>\n",
       "      <th>prediction</th>\n",
       "    </tr>\n",
       "    <tr>\n",
       "      <th>id</th>\n",
       "      <th>fixture</th>\n",
       "      <th></th>\n",
       "      <th></th>\n",
       "    </tr>\n",
       "  </thead>\n",
       "  <tbody>\n",
       "    <tr>\n",
       "      <th>245</th>\n",
       "      <th>25</th>\n",
       "      <td>1.0</td>\n",
       "      <td>0.925337</td>\n",
       "    </tr>\n",
       "    <tr>\n",
       "      <th>202</th>\n",
       "      <th>115</th>\n",
       "      <td>1.0</td>\n",
       "      <td>3.231236</td>\n",
       "    </tr>\n",
       "    <tr>\n",
       "      <th>524</th>\n",
       "      <th>136</th>\n",
       "      <td>1.0</td>\n",
       "      <td>2.984201</td>\n",
       "    </tr>\n",
       "    <tr>\n",
       "      <th>250</th>\n",
       "      <th>237</th>\n",
       "      <td>1.0</td>\n",
       "      <td>2.574267</td>\n",
       "    </tr>\n",
       "    <tr>\n",
       "      <th>563</th>\n",
       "      <th>220</th>\n",
       "      <td>1.0</td>\n",
       "      <td>2.936040</td>\n",
       "    </tr>\n",
       "    <tr>\n",
       "      <th>441</th>\n",
       "      <th>104</th>\n",
       "      <td>1.0</td>\n",
       "      <td>2.642894</td>\n",
       "    </tr>\n",
       "    <tr>\n",
       "      <th>284</th>\n",
       "      <th>330</th>\n",
       "      <td>1.0</td>\n",
       "      <td>3.020569</td>\n",
       "    </tr>\n",
       "    <tr>\n",
       "      <th>184</th>\n",
       "      <th>245</th>\n",
       "      <td>1.0</td>\n",
       "      <td>2.687039</td>\n",
       "    </tr>\n",
       "    <tr>\n",
       "      <th>88</th>\n",
       "      <th>154</th>\n",
       "      <td>1.0</td>\n",
       "      <td>2.728923</td>\n",
       "    </tr>\n",
       "    <tr>\n",
       "      <th>190</th>\n",
       "      <th>346</th>\n",
       "      <td>1.0</td>\n",
       "      <td>3.299389</td>\n",
       "    </tr>\n",
       "    <tr>\n",
       "      <th>146</th>\n",
       "      <th>213</th>\n",
       "      <td>1.0</td>\n",
       "      <td>2.898354</td>\n",
       "    </tr>\n",
       "    <tr>\n",
       "      <th>472</th>\n",
       "      <th>368</th>\n",
       "      <td>1.0</td>\n",
       "      <td>2.608311</td>\n",
       "    </tr>\n",
       "    <tr>\n",
       "      <th>498</th>\n",
       "      <th>244</th>\n",
       "      <td>1.0</td>\n",
       "      <td>1.733223</td>\n",
       "    </tr>\n",
       "    <tr>\n",
       "      <th>304</th>\n",
       "      <th>145</th>\n",
       "      <td>1.0</td>\n",
       "      <td>1.088875</td>\n",
       "    </tr>\n",
       "    <tr>\n",
       "      <th>224</th>\n",
       "      <th>136</th>\n",
       "      <td>1.0</td>\n",
       "      <td>1.172708</td>\n",
       "    </tr>\n",
       "    <tr>\n",
       "      <th>210</th>\n",
       "      <th>141</th>\n",
       "      <td>1.0</td>\n",
       "      <td>1.824727</td>\n",
       "    </tr>\n",
       "    <tr>\n",
       "      <th>525</th>\n",
       "      <th>90</th>\n",
       "      <td>1.0</td>\n",
       "      <td>1.106473</td>\n",
       "    </tr>\n",
       "    <tr>\n",
       "      <th>41</th>\n",
       "      <th>301</th>\n",
       "      <td>1.0</td>\n",
       "      <td>0.614739</td>\n",
       "    </tr>\n",
       "    <tr>\n",
       "      <th>19</th>\n",
       "      <th>341</th>\n",
       "      <td>1.0</td>\n",
       "      <td>1.098585</td>\n",
       "    </tr>\n",
       "    <tr>\n",
       "      <th>15</th>\n",
       "      <th>14</th>\n",
       "      <td>1.0</td>\n",
       "      <td>1.379297</td>\n",
       "    </tr>\n",
       "    <tr>\n",
       "      <th>239</th>\n",
       "      <th>48</th>\n",
       "      <td>1.0</td>\n",
       "      <td>1.490195</td>\n",
       "    </tr>\n",
       "    <tr>\n",
       "      <th>509</th>\n",
       "      <th>74</th>\n",
       "      <td>1.0</td>\n",
       "      <td>0.914720</td>\n",
       "    </tr>\n",
       "    <tr>\n",
       "      <th>204</th>\n",
       "      <th>378</th>\n",
       "      <td>1.0</td>\n",
       "      <td>1.909878</td>\n",
       "    </tr>\n",
       "    <tr>\n",
       "      <th>22</th>\n",
       "      <th>101</th>\n",
       "      <td>1.0</td>\n",
       "      <td>1.554492</td>\n",
       "    </tr>\n",
       "    <tr>\n",
       "      <th>293</th>\n",
       "      <th>357</th>\n",
       "      <td>2.0</td>\n",
       "      <td>3.244500</td>\n",
       "    </tr>\n",
       "    <tr>\n",
       "      <th>315</th>\n",
       "      <th>108</th>\n",
       "      <td>2.0</td>\n",
       "      <td>3.228895</td>\n",
       "    </tr>\n",
       "    <tr>\n",
       "      <th>30</th>\n",
       "      <th>222</th>\n",
       "      <td>2.0</td>\n",
       "      <td>2.558134</td>\n",
       "    </tr>\n",
       "    <tr>\n",
       "      <th>126</th>\n",
       "      <th>232</th>\n",
       "      <td>2.0</td>\n",
       "      <td>2.960124</td>\n",
       "    </tr>\n",
       "    <tr>\n",
       "      <th>246</th>\n",
       "      <th>297</th>\n",
       "      <td>2.0</td>\n",
       "      <td>2.828351</td>\n",
       "    </tr>\n",
       "    <tr>\n",
       "      <th>21</th>\n",
       "      <th>46</th>\n",
       "      <td>2.0</td>\n",
       "      <td>2.658683</td>\n",
       "    </tr>\n",
       "    <tr>\n",
       "      <th>...</th>\n",
       "      <th>...</th>\n",
       "      <td>...</td>\n",
       "      <td>...</td>\n",
       "    </tr>\n",
       "    <tr>\n",
       "      <th>384</th>\n",
       "      <th>288</th>\n",
       "      <td>2.0</td>\n",
       "      <td>2.482670</td>\n",
       "    </tr>\n",
       "    <tr>\n",
       "      <th>416</th>\n",
       "      <th>292</th>\n",
       "      <td>2.0</td>\n",
       "      <td>2.322359</td>\n",
       "    </tr>\n",
       "    <tr>\n",
       "      <th>499</th>\n",
       "      <th>304</th>\n",
       "      <td>2.0</td>\n",
       "      <td>2.391655</td>\n",
       "    </tr>\n",
       "    <tr>\n",
       "      <th>313</th>\n",
       "      <th>108</th>\n",
       "      <td>2.0</td>\n",
       "      <td>2.626094</td>\n",
       "    </tr>\n",
       "    <tr>\n",
       "      <th>391</th>\n",
       "      <th>56</th>\n",
       "      <td>2.0</td>\n",
       "      <td>1.868216</td>\n",
       "    </tr>\n",
       "    <tr>\n",
       "      <th>363</th>\n",
       "      <th>362</th>\n",
       "      <td>2.0</td>\n",
       "      <td>2.968964</td>\n",
       "    </tr>\n",
       "    <tr>\n",
       "      <th>471</th>\n",
       "      <th>151</th>\n",
       "      <td>2.0</td>\n",
       "      <td>2.392610</td>\n",
       "    </tr>\n",
       "    <tr>\n",
       "      <th>368</th>\n",
       "      <th>150</th>\n",
       "      <td>2.0</td>\n",
       "      <td>2.144243</td>\n",
       "    </tr>\n",
       "    <tr>\n",
       "      <th>94</th>\n",
       "      <th>257</th>\n",
       "      <td>2.0</td>\n",
       "      <td>1.926122</td>\n",
       "    </tr>\n",
       "    <tr>\n",
       "      <th>287</th>\n",
       "      <th>118</th>\n",
       "      <td>2.0</td>\n",
       "      <td>2.271486</td>\n",
       "    </tr>\n",
       "    <tr>\n",
       "      <th>183</th>\n",
       "      <th>125</th>\n",
       "      <td>2.0</td>\n",
       "      <td>1.784337</td>\n",
       "    </tr>\n",
       "    <tr>\n",
       "      <th>199</th>\n",
       "      <th>72</th>\n",
       "      <td>2.0</td>\n",
       "      <td>2.095272</td>\n",
       "    </tr>\n",
       "    <tr>\n",
       "      <th>71</th>\n",
       "      <th>168</th>\n",
       "      <td>3.0</td>\n",
       "      <td>2.145486</td>\n",
       "    </tr>\n",
       "    <tr>\n",
       "      <th>173</th>\n",
       "      <th>51</th>\n",
       "      <td>3.0</td>\n",
       "      <td>2.489617</td>\n",
       "    </tr>\n",
       "    <tr>\n",
       "      <th>283</th>\n",
       "      <th>330</th>\n",
       "      <td>3.0</td>\n",
       "      <td>2.074596</td>\n",
       "    </tr>\n",
       "    <tr>\n",
       "      <th>252</th>\n",
       "      <th>318</th>\n",
       "      <td>3.0</td>\n",
       "      <td>2.395652</td>\n",
       "    </tr>\n",
       "    <tr>\n",
       "      <th>338</th>\n",
       "      <th>28</th>\n",
       "      <td>3.0</td>\n",
       "      <td>2.617859</td>\n",
       "    </tr>\n",
       "    <tr>\n",
       "      <th>559</th>\n",
       "      <th>181</th>\n",
       "      <td>4.0</td>\n",
       "      <td>2.495302</td>\n",
       "    </tr>\n",
       "    <tr>\n",
       "      <th>547</th>\n",
       "      <th>129</th>\n",
       "      <td>4.0</td>\n",
       "      <td>2.571439</td>\n",
       "    </tr>\n",
       "    <tr>\n",
       "      <th>175</th>\n",
       "      <th>323</th>\n",
       "      <td>4.0</td>\n",
       "      <td>3.633750</td>\n",
       "    </tr>\n",
       "    <tr>\n",
       "      <th>473</th>\n",
       "      <th>102</th>\n",
       "      <td>2.0</td>\n",
       "      <td>2.609329</td>\n",
       "    </tr>\n",
       "    <tr>\n",
       "      <th>30</th>\n",
       "      <th>373</th>\n",
       "      <td>3.0</td>\n",
       "      <td>2.622922</td>\n",
       "    </tr>\n",
       "    <tr>\n",
       "      <th>58</th>\n",
       "      <th>105</th>\n",
       "      <td>3.0</td>\n",
       "      <td>2.556077</td>\n",
       "    </tr>\n",
       "    <tr>\n",
       "      <th>499</th>\n",
       "      <th>190</th>\n",
       "      <td>3.0</td>\n",
       "      <td>2.291176</td>\n",
       "    </tr>\n",
       "    <tr>\n",
       "      <th>51</th>\n",
       "      <th>25</th>\n",
       "      <td>3.0</td>\n",
       "      <td>1.990324</td>\n",
       "    </tr>\n",
       "    <tr>\n",
       "      <th>350</th>\n",
       "      <th>154</th>\n",
       "      <td>3.0</td>\n",
       "      <td>2.018860</td>\n",
       "    </tr>\n",
       "    <tr>\n",
       "      <th>392</th>\n",
       "      <th>241</th>\n",
       "      <td>3.0</td>\n",
       "      <td>2.689919</td>\n",
       "    </tr>\n",
       "    <tr>\n",
       "      <th>117</th>\n",
       "      <th>127</th>\n",
       "      <td>3.0</td>\n",
       "      <td>2.567081</td>\n",
       "    </tr>\n",
       "    <tr>\n",
       "      <th>491</th>\n",
       "      <th>365</th>\n",
       "      <td>4.0</td>\n",
       "      <td>2.858040</td>\n",
       "    </tr>\n",
       "    <tr>\n",
       "      <th>63</th>\n",
       "      <th>122</th>\n",
       "      <td>2.0</td>\n",
       "      <td>2.892976</td>\n",
       "    </tr>\n",
       "  </tbody>\n",
       "</table>\n",
       "<p>6525 rows × 2 columns</p>\n",
       "</div>"
      ],
      "text/plain": [
       "             actual  prediction\n",
       "id  fixture                    \n",
       "245 25          1.0    0.925337\n",
       "202 115         1.0    3.231236\n",
       "524 136         1.0    2.984201\n",
       "250 237         1.0    2.574267\n",
       "563 220         1.0    2.936040\n",
       "441 104         1.0    2.642894\n",
       "284 330         1.0    3.020569\n",
       "184 245         1.0    2.687039\n",
       "88  154         1.0    2.728923\n",
       "190 346         1.0    3.299389\n",
       "146 213         1.0    2.898354\n",
       "472 368         1.0    2.608311\n",
       "498 244         1.0    1.733223\n",
       "304 145         1.0    1.088875\n",
       "224 136         1.0    1.172708\n",
       "210 141         1.0    1.824727\n",
       "525 90          1.0    1.106473\n",
       "41  301         1.0    0.614739\n",
       "19  341         1.0    1.098585\n",
       "15  14          1.0    1.379297\n",
       "239 48          1.0    1.490195\n",
       "509 74          1.0    0.914720\n",
       "204 378         1.0    1.909878\n",
       "22  101         1.0    1.554492\n",
       "293 357         2.0    3.244500\n",
       "315 108         2.0    3.228895\n",
       "30  222         2.0    2.558134\n",
       "126 232         2.0    2.960124\n",
       "246 297         2.0    2.828351\n",
       "21  46          2.0    2.658683\n",
       "...             ...         ...\n",
       "384 288         2.0    2.482670\n",
       "416 292         2.0    2.322359\n",
       "499 304         2.0    2.391655\n",
       "313 108         2.0    2.626094\n",
       "391 56          2.0    1.868216\n",
       "363 362         2.0    2.968964\n",
       "471 151         2.0    2.392610\n",
       "368 150         2.0    2.144243\n",
       "94  257         2.0    1.926122\n",
       "287 118         2.0    2.271486\n",
       "183 125         2.0    1.784337\n",
       "199 72          2.0    2.095272\n",
       "71  168         3.0    2.145486\n",
       "173 51          3.0    2.489617\n",
       "283 330         3.0    2.074596\n",
       "252 318         3.0    2.395652\n",
       "338 28          3.0    2.617859\n",
       "559 181         4.0    2.495302\n",
       "547 129         4.0    2.571439\n",
       "175 323         4.0    3.633750\n",
       "473 102         2.0    2.609329\n",
       "30  373         3.0    2.622922\n",
       "58  105         3.0    2.556077\n",
       "499 190         3.0    2.291176\n",
       "51  25          3.0    1.990324\n",
       "350 154         3.0    2.018860\n",
       "392 241         3.0    2.689919\n",
       "117 127         3.0    2.567081\n",
       "491 365         4.0    2.858040\n",
       "63  122         2.0    2.892976\n",
       "\n",
       "[6525 rows x 2 columns]"
      ]
     },
     "execution_count": 40,
     "metadata": {},
     "output_type": "execute_result"
    }
   ],
   "source": [
    "comparison"
   ]
  },
  {
   "cell_type": "code",
   "execution_count": 42,
   "metadata": {
    "scrolled": false
   },
   "outputs": [
    {
     "data": {
      "text/plain": [
       "<matplotlib.axes._subplots.AxesSubplot at 0x21dedc0c9b0>"
      ]
     },
     "execution_count": 42,
     "metadata": {},
     "output_type": "execute_result"
    },
    {
     "data": {
      "image/png": "[encoded data removed]",
      "text/plain": [
       "<Figure size 1440x432 with 1 Axes>"
      ]
     },
     "metadata": {
      "needs_background": "light"
     },
     "output_type": "display_data"
    }
   ],
   "source": [
    "comparison.plot(style=['.','.'])"
   ]
  },
  {
   "cell_type": "code",
   "execution_count": 122,
   "metadata": {},
   "outputs": [],
   "source": [
    "import numpy as np\n",
    "import math\n",
    "from sklearn.metrics import mean_squared_error, mean_absolute_error\n",
    "\n",
    "def mean_absolute_percentage_error(y_true, y_pred): \n",
    "    y_true, y_pred = np.array(y_true), np.array(y_pred)\n",
    "    return np.mean(np.abs((y_true - y_pred) / y_true)) * 100"
   ]
  },
  {
   "cell_type": "code",
   "execution_count": 123,
   "metadata": {},
   "outputs": [
    {
     "name": "stdout",
     "output_type": "stream",
     "text": [
      "\n",
      "RMSE: 47.89844692915446\n",
      "MAE: 20.703022823489544\n"
     ]
    },
    {
     "name": "stderr",
     "output_type": "stream",
     "text": [
      "D:\\Programming\\Anaconda\\envs\\tensorflow_env\\lib\\site-packages\\ipykernel_launcher.py:7: RuntimeWarning: divide by zero encountered in true_divide\n",
      "  import sys\n"
     ]
    }
   ],
   "source": [
    "new_df = comparison\n",
    "mse = mean_squared_error(new_df['actual'], new_df['prediction'])\n",
    "mape = mean_absolute_percentage_error(new_df['actual'], new_df['prediction'])\n",
    "mae = mean_absolute_error(new_df['actual'], new_df['prediction'])\n",
    "\n",
    "#mean \n",
    "\n",
    "print(f'\\nRMSE: {math.sqrt(mse)}\\nMAE: {mae}')  "
   ]
  },
  {
   "cell_type": "code",
   "execution_count": null,
   "metadata": {},
   "outputs": [],
   "source": []
  },
  {
   "cell_type": "code",
   "execution_count": 81,
   "metadata": {},
   "outputs": [],
   "source": [
    "# Saving the result\n",
    "comparison.to_csv(mypath + 'Result\\\\CNN_' + str(round((mae), 4)) + '.csv', index = True)"
   ]
  },
  {
   "cell_type": "code",
   "execution_count": 82,
   "metadata": {},
   "outputs": [],
   "source": [
    "# Creates a HDF5 file 'my_model.h5'\n",
    "model_CNN.save(mypath + 'Model\\\\CNN_' + str(round((mae), 4))  + '.h5')\n",
    "\n",
    "# Deletes the existing model\n",
    "# del model  \n"
   ]
  },
  {
   "cell_type": "markdown",
   "metadata": {},
   "source": [
    "# For Improvements:"
   ]
  },
  {
   "cell_type": "raw",
   "metadata": {},
   "source": [
    "2) Feature extraction - importance test.\n",
    "4) cluster based forecasting (spri,summ,fall,wint)"
   ]
  }
 ],
 "metadata": {
  "kernelspec": {
   "display_name": "Python 3",
   "language": "python",
   "name": "python3"
  },
  "language_info": {
   "codemirror_mode": {
    "name": "ipython",
    "version": 3
   },
   "file_extension": ".py",
   "mimetype": "text/x-python",
   "name": "python",
   "nbconvert_exporter": "python",
   "pygments_lexer": "ipython3",
   "version": "3.6.8"
  }
 },
 "nbformat": 4,
 "nbformat_minor": 2
}
