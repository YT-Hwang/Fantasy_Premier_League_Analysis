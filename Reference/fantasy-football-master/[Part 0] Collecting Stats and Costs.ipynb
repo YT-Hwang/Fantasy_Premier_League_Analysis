{
 "cells": [
  {
   "cell_type": "markdown",
   "metadata": {},
   "source": [
    "# Fantasy Football\n",
    " - Collecting data for player stats and cost\n",
    " - Player stats scraped from https://fantasyfootball.skysports.com/team-select\n",
    " - Player costs scraped from https://fantasyfootball.skysports.com/stats\n",
    " - Point method scraped from https://fantasyfootball.skysports.com/help"
   ]
  },
  {
   "cell_type": "code",
   "execution_count": 1,
   "metadata": {
    "collapsed": true
   },
   "outputs": [],
   "source": [
    "import numpy as np\n",
    "import pandas as pd\n",
    "import matplotlib.pyplot as plt\n",
    "\n",
    "%matplotlib inline"
   ]
  },
  {
   "cell_type": "code",
   "execution_count": 2,
   "metadata": {},
   "outputs": [],
   "source": [
    "point = pd.read_csv(\"data/fantasy-scoring.csv\")\n",
    "gk_stats = pd.read_excel(\"data/skysports-stats.xlsx\", sheet_name=\"GK\")\n",
    "def_stats = pd.read_excel(\"data/skysports-stats.xlsx\", sheet_name=\"DEF\")\n",
    "mid_stats = pd.read_excel(\"data/skysports-stats.xlsx\", sheet_name=\"MID\")\n",
    "str_stats = pd.read_excel(\"data/skysports-stats.xlsx\", sheet_name=\"STR\")\n",
    "cost = pd.read_excel(\"data/skysports-stats.xlsx\", sheet_name=\"COST\")"
   ]
  },
  {
   "cell_type": "markdown",
   "metadata": {},
   "source": [
    "## Converting Stats to Points\n",
    " - Column alignment\n",
    " - Missing stats for points\n",
    "   - Penalty Save\n",
    "   - Penalty Miss\n",
    "   - 2+ Goal Conceded (GK & DEF)\n",
    "   - Calculated points and skysports points might not align\n",
    " - Calculated points"
   ]
  },
  {
   "cell_type": "code",
   "execution_count": 3,
   "metadata": {
    "collapsed": true
   },
   "outputs": [],
   "source": [
    "point_to_stat = [\n",
    "    'Gls', 'Cl Sh', 'Gls', 'Gls', 'Cl Sh', \n",
    "    'NA', 'MotM', 'Ass', 'Save 2', 'Tack 2',\n",
    "    'Pass 2', 'Shot 2', 'App', 'Save 1', 'Tack 1',\n",
    "    'Pass 1', 'Shot 1', 'Sub', 'Gl Con', 'Yel',\n",
    "    'NA', 'NA', 'Red'\n",
    "]\n",
    "position_apply = [\n",
    "    ['GK','DEF'], ['GK'], ['MID'], ['STR'], ['DEF'],\n",
    "    ['GK'],['ALL'], ['ALL'], ['GK'], ['ALL'],\n",
    "    ['ALL'], ['ALL'], ['ALL'], ['GK'], ['ALL'],\n",
    "    ['ALL'], ['ALL'], ['ALL'], ['GK', 'DEF'], ['ALL'],\n",
    "    ['ALL'], ['ALL'], ['ALL']\n",
    "]\n",
    "point['STAT'] = point_to_stat\n",
    "point['POSITION'] = position_apply"
   ]
  },
  {
   "cell_type": "code",
   "execution_count": 4,
   "metadata": {
    "collapsed": true
   },
   "outputs": [],
   "source": [
    "def get_point_index(position, point):\n",
    "    index = (point\n",
    "             .POSITION\n",
    "             .apply(lambda x: any([position in x, 'ALL' in x])))\n",
    "    return index\n",
    "\n",
    "def get_point_dict(point, index):\n",
    "    df = point[index]\n",
    "    df_dict = dict(zip(df.STAT, df.PTS))\n",
    "    return df_dict\n",
    "\n",
    "point_dict = {}\n",
    "for position  in ['GK', 'DEF', 'MID', 'STR']:\n",
    "    ix = get_point_index(position, point)\n",
    "    point_dict[position] = get_point_dict(point, ix)\n",
    "    \n",
    "def sum_points(stats, position, pt_dict):\n",
    "    keys = list(pt_dict[position].keys())\n",
    "    keys = [k for k in keys if k != 'NA']\n",
    "    output = pd.Series(np.zeros(stats.shape[0]))\n",
    "    for k in keys:\n",
    "        # print(k)\n",
    "        pt_tmp = stats[k] * pt_dict[position][k]\n",
    "        if k != 'Gl Con':\n",
    "            pass\n",
    "        else:\n",
    "            pt_tmp /= 4\n",
    "        output += pt_tmp\n",
    "    return output"
   ]
  },
  {
   "cell_type": "code",
   "execution_count": 5,
   "metadata": {
    "scrolled": true
   },
   "outputs": [],
   "source": [
    "gk_stats['Calc Points'] = sum_points(gk_stats, 'GK', point_dict)\n",
    "def_stats['Calc Points'] = sum_points(def_stats, 'DEF', point_dict)\n",
    "mid_stats['Calc Points'] = sum_points(mid_stats, 'MID', point_dict)\n",
    "str_stats['Calc Points'] = sum_points(str_stats, 'STR', point_dict)\n",
    "gk_stats['Position'] = 'GK'\n",
    "def_stats['Position'] = 'DEF'\n",
    "mid_stats['Position'] = 'MID'\n",
    "str_stats['Position'] = 'STR'"
   ]
  },
  {
   "cell_type": "markdown",
   "metadata": {},
   "source": [
    "## Join Stats with Costs\n",
    " - Check if all players have cost and stats"
   ]
  },
  {
   "cell_type": "code",
   "execution_count": 6,
   "metadata": {},
   "outputs": [],
   "source": [
    "players = cost.Player.apply(lambda x: x.replace(\" ,\", \",\"))"
   ]
  },
  {
   "cell_type": "code",
   "execution_count": 7,
   "metadata": {},
   "outputs": [
    {
     "name": "stdout",
     "output_type": "stream",
     "text": [
      "True\n",
      "True\n",
      "True\n",
      "True\n"
     ]
    }
   ],
   "source": [
    "for df in [gk_stats, def_stats, mid_stats, str_stats]:\n",
    "    check = all([ply in list(players) for ply in df['Player']])\n",
    "    print(check)\n",
    "    # looks good"
   ]
  },
  {
   "cell_type": "code",
   "execution_count": 8,
   "metadata": {},
   "outputs": [],
   "source": [
    "cost['Player'] = cost.Player.apply(lambda x: x.replace(\" ,\", \",\"))\n",
    "cost['Points'] = cost.Points.apply(lambda x: float(x.split(\" \")[0]))\n",
    "cost['Cost'] = cost.Cost.apply(lambda x: float(x.split(\"£\")[1]))"
   ]
  },
  {
   "cell_type": "code",
   "execution_count": 9,
   "metadata": {
    "collapsed": true
   },
   "outputs": [],
   "source": [
    "stats = (gk_stats\n",
    "         .append(def_stats)\n",
    "         .append(mid_stats)\n",
    "         .append(str_stats))"
   ]
  },
  {
   "cell_type": "code",
   "execution_count": 10,
   "metadata": {},
   "outputs": [],
   "source": [
    "clean_data = cost.merge(stats, how=\"inner\", on=['Player'])"
   ]
  },
  {
   "cell_type": "code",
   "execution_count": 11,
   "metadata": {
    "collapsed": true
   },
   "outputs": [],
   "source": [
    "def reorder_columns(df, first_columns):\n",
    "    column_array = np.array(df.columns)\n",
    "    first_array = np.array(first_columns)\n",
    "    not_in_mask = np.isin(column_array, first_array, invert=True)\n",
    "    reorder_col = first_columns + list(column_array[not_in_mask])\n",
    "    return df[reorder_col]"
   ]
  },
  {
   "cell_type": "code",
   "execution_count": 12,
   "metadata": {},
   "outputs": [],
   "source": [
    "first_col = ['Player','Position','Cost','Points', 'Calc Points']\n",
    "clean_data = reorder_columns(clean_data, first_col)"
   ]
  },
  {
   "cell_type": "code",
   "execution_count": 13,
   "metadata": {
    "collapsed": true
   },
   "outputs": [],
   "source": [
    "clean_data.to_csv(\"data/clean-data.csv\", index=False)"
   ]
  }
 ],
 "metadata": {
  "kernelspec": {
   "display_name": "Python 3",
   "language": "python",
   "name": "python3"
  },
  "language_info": {
   "codemirror_mode": {
    "name": "ipython",
    "version": 3
   },
   "file_extension": ".py",
   "mimetype": "text/x-python",
   "name": "python",
   "nbconvert_exporter": "python",
   "pygments_lexer": "ipython3",
   "version": "3.6.3"
  }
 },
 "nbformat": 4,
 "nbformat_minor": 2
}
