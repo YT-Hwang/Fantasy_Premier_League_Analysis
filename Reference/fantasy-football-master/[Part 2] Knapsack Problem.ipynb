{
 "cells": [
  {
   "cell_type": "code",
   "execution_count": 1,
   "metadata": {
    "collapsed": true
   },
   "outputs": [],
   "source": [
    "import pandas as pd\n",
    "import numpy as np\n",
    "import matplotlib.pyplot as plt\n",
    "import seaborn as sns\n",
    "from scipy.optimize import linprog\n",
    "from scipy.stats import linregress\n",
    "from pulp import *\n",
    "\n",
    "sns.set(style=\"white\")\n",
    "%matplotlib inline"
   ]
  },
  {
   "cell_type": "code",
   "execution_count": 2,
   "metadata": {
    "collapsed": true
   },
   "outputs": [],
   "source": [
    "data = (pd.read_csv(\"data/clean-data.csv\")\n",
    "        .sort_values(by=['Points', 'Cost'])\n",
    "        .reset_index(drop=True))"
   ]
  },
  {
   "cell_type": "markdown",
   "metadata": {},
   "source": [
    "# Dynamic Programming"
   ]
  },
  {
   "cell_type": "code",
   "execution_count": 3,
   "metadata": {
    "collapsed": true
   },
   "outputs": [],
   "source": [
    "def knapSack(W, wt, val, n):\n",
    "    K = [[0 for x in range(W+1)] for x in range(n+1)] \n",
    "    for i in range(n+1):\n",
    "        for w in range(W+1):\n",
    "            if i==0 or w==0:\n",
    "                K[i][w] = 0\n",
    "            elif wt[i-1] <= w:\n",
    "                K[i][w] = max(val[i-1] + K[i-1][w-wt[i-1]], K[i-1][w])\n",
    "            else:\n",
    "                K[i][w] = K[i-1][w]\n",
    "    return K\n",
    "\n",
    "def knapSackIndex(W, wt, val, n, K):\n",
    "    res = K[-1][-1]\n",
    "    ix = []\n",
    "    w = W\n",
    "    ix = []\n",
    "    for i in range(n, 0, -1):\n",
    "        if res <= 0:\n",
    "            break\n",
    "        if res == K[i - 1][w]:\n",
    "            continue\n",
    "        else:\n",
    "            ix.append(i-1)\n",
    "            res = res - val[i - 1]\n",
    "            w = w -  wt[i - 1]\n",
    "    return ix"
   ]
  },
  {
   "cell_type": "code",
   "execution_count": 4,
   "metadata": {
    "collapsed": true
   },
   "outputs": [],
   "source": [
    "# Example\n",
    "val = [60, 100, 120, 120]\n",
    "wt = [10, 20, 30, 20]\n",
    "W = 50\n",
    "n = len(val)\n",
    "K = knapSack(W, wt, val, n)\n",
    "ix = knapSackIndex(W, wt, val, n ,K)"
   ]
  },
  {
   "cell_type": "code",
   "execution_count": 5,
   "metadata": {},
   "outputs": [
    {
     "name": "stdout",
     "output_type": "stream",
     "text": [
      "Max value:280, with items:[3, 1, 0]\n"
     ]
    }
   ],
   "source": [
    "print(\"Max value:{}, with items:{}\".format(K[-1][-1], str(ix)))"
   ]
  },
  {
   "cell_type": "code",
   "execution_count": 6,
   "metadata": {
    "collapsed": true
   },
   "outputs": [],
   "source": [
    "points = data['Points'].tolist()\n",
    "cost   = (data['Cost'] * 10).astype(int).tolist()\n",
    "C      = 100 * 10\n",
    "n      = len(points)\n",
    "K = knapSack(C, cost, points, n)\n",
    "ix = knapSackIndex(C, cost, points, n, K)"
   ]
  },
  {
   "cell_type": "code",
   "execution_count": 7,
   "metadata": {},
   "outputs": [
    {
     "name": "stdout",
     "output_type": "stream",
     "text": [
      "Total points:2842.0, cost:£99.9, and with players:11\n"
     ]
    }
   ],
   "source": [
    "ix_array = np.array(ix)\n",
    "ix_points = data[\"Points\"][ix_array]\n",
    "total_points = (ix_points.sum() + ix_points.max())\n",
    "total_cost = data[\"Cost\"][ix_array].sum()\n",
    "print(\"Total points:{}, cost:£{}, and with players:{}\".format(total_points, total_cost, len(ix)))"
   ]
  },
  {
   "cell_type": "code",
   "execution_count": 8,
   "metadata": {},
   "outputs": [
    {
     "data": {
      "text/html": [
       "<div>\n",
       "<style scoped>\n",
       "    .dataframe tbody tr th:only-of-type {\n",
       "        vertical-align: middle;\n",
       "    }\n",
       "\n",
       "    .dataframe tbody tr th {\n",
       "        vertical-align: top;\n",
       "    }\n",
       "\n",
       "    .dataframe thead th {\n",
       "        text-align: right;\n",
       "    }\n",
       "</style>\n",
       "<table border=\"1\" class=\"dataframe\">\n",
       "  <thead>\n",
       "    <tr style=\"text-align: right;\">\n",
       "      <th></th>\n",
       "      <th>Player</th>\n",
       "      <th>Position</th>\n",
       "      <th>Points</th>\n",
       "      <th>Cost</th>\n",
       "    </tr>\n",
       "  </thead>\n",
       "  <tbody>\n",
       "    <tr>\n",
       "      <th>522</th>\n",
       "      <td>SALAH, M</td>\n",
       "      <td>STR</td>\n",
       "      <td>378.0</td>\n",
       "      <td>12.9</td>\n",
       "    </tr>\n",
       "    <tr>\n",
       "      <th>521</th>\n",
       "      <td>DE BRUYNE, K</td>\n",
       "      <td>MID</td>\n",
       "      <td>281.0</td>\n",
       "      <td>12.0</td>\n",
       "    </tr>\n",
       "    <tr>\n",
       "      <th>519</th>\n",
       "      <td>OTAMENDI, N</td>\n",
       "      <td>DEF</td>\n",
       "      <td>244.0</td>\n",
       "      <td>10.2</td>\n",
       "    </tr>\n",
       "    <tr>\n",
       "      <th>518</th>\n",
       "      <td>AZPILICUETA, C</td>\n",
       "      <td>DEF</td>\n",
       "      <td>240.0</td>\n",
       "      <td>10.3</td>\n",
       "    </tr>\n",
       "    <tr>\n",
       "      <th>517</th>\n",
       "      <td>ERIKSEN, C</td>\n",
       "      <td>MID</td>\n",
       "      <td>230.0</td>\n",
       "      <td>11.2</td>\n",
       "    </tr>\n",
       "    <tr>\n",
       "      <th>514</th>\n",
       "      <td>DE GEA, D</td>\n",
       "      <td>GK</td>\n",
       "      <td>218.0</td>\n",
       "      <td>8.0</td>\n",
       "    </tr>\n",
       "    <tr>\n",
       "      <th>507</th>\n",
       "      <td>MORAES, E</td>\n",
       "      <td>GK</td>\n",
       "      <td>188.0</td>\n",
       "      <td>7.9</td>\n",
       "    </tr>\n",
       "    <tr>\n",
       "      <th>502</th>\n",
       "      <td>LLORIS, H</td>\n",
       "      <td>GK</td>\n",
       "      <td>183.0</td>\n",
       "      <td>7.5</td>\n",
       "    </tr>\n",
       "    <tr>\n",
       "      <th>497</th>\n",
       "      <td>POPE, N</td>\n",
       "      <td>GK</td>\n",
       "      <td>175.0</td>\n",
       "      <td>6.9</td>\n",
       "    </tr>\n",
       "    <tr>\n",
       "      <th>493</th>\n",
       "      <td>RYAN, M</td>\n",
       "      <td>GK</td>\n",
       "      <td>172.0</td>\n",
       "      <td>6.5</td>\n",
       "    </tr>\n",
       "    <tr>\n",
       "      <th>480</th>\n",
       "      <td>FABIANSKI, L</td>\n",
       "      <td>GK</td>\n",
       "      <td>155.0</td>\n",
       "      <td>6.5</td>\n",
       "    </tr>\n",
       "  </tbody>\n",
       "</table>\n",
       "</div>"
      ],
      "text/plain": [
       "             Player Position  Points  Cost\n",
       "522        SALAH, M      STR   378.0  12.9\n",
       "521    DE BRUYNE, K      MID   281.0  12.0\n",
       "519     OTAMENDI, N      DEF   244.0  10.2\n",
       "518  AZPILICUETA, C      DEF   240.0  10.3\n",
       "517      ERIKSEN, C      MID   230.0  11.2\n",
       "514       DE GEA, D       GK   218.0   8.0\n",
       "507       MORAES, E       GK   188.0   7.9\n",
       "502       LLORIS, H       GK   183.0   7.5\n",
       "497         POPE, N       GK   175.0   6.9\n",
       "493         RYAN, M       GK   172.0   6.5\n",
       "480    FABIANSKI, L       GK   155.0   6.5"
      ]
     },
     "execution_count": 8,
     "metadata": {},
     "output_type": "execute_result"
    }
   ],
   "source": [
    "data[['Player','Position','Points','Cost']].iloc[ix_array,:]"
   ]
  },
  {
   "cell_type": "code",
   "execution_count": 9,
   "metadata": {
    "scrolled": true
   },
   "outputs": [
    {
     "data": {
      "text/plain": [
       "<seaborn.axisgrid.FacetGrid at 0x10f27d128>"
      ]
     },
     "execution_count": 9,
     "metadata": {},
     "output_type": "execute_result"
    },
    {
     "data": {
      "image/png": "[encoded data removed]",
      "text/plain": [
       "<Figure size 712.6x360 with 1 Axes>"
      ]
     },
     "metadata": {},
     "output_type": "display_data"
    }
   ],
   "source": [
    "data['Selected'] = 0\n",
    "data.loc[ix_array, 'Selected'] = 1\n",
    "sns.relplot(x=\"Cost\", y=\"Points\", \n",
    "            hue=\"Position\", size='Selected',\n",
    "            size_order=[1,0],\n",
    "            sizes=(40, 400), alpha=.5, \n",
    "            palette=\"muted\", height=5, aspect=1.75,\n",
    "            data=data)"
   ]
  },
  {
   "cell_type": "markdown",
   "metadata": {
    "collapsed": true
   },
   "source": [
    "# Linear Programming"
   ]
  },
  {
   "cell_type": "code",
   "execution_count": 10,
   "metadata": {
    "collapsed": true
   },
   "outputs": [],
   "source": [
    "from scipy.optimize import linprog"
   ]
  },
  {
   "cell_type": "code",
   "execution_count": 11,
   "metadata": {
    "collapsed": true
   },
   "outputs": [],
   "source": [
    "points = data['Points']\n",
    "cost = data['Cost']\n",
    "gk   = data['Position'].apply(lambda x: 1 if x == 'GK' else 0)\n",
    "defe = data['Position'].apply(lambda x: 1 if x == 'DEF' else 0)\n",
    "mid  = data['Position'].apply(lambda x: 1 if x == 'MID' else 0)\n",
    "stri = data['Position'].apply(lambda x: 1 if x == 'STR' else 0)\n",
    "xi   = np.ones(data.shape[0])\n",
    "\n",
    "A_upperbounds = np.array([\n",
    "    cost, defe, mid, stri\n",
    "])\n",
    "\n",
    "b_upperbounds = np.array([\n",
    "    100, 5, 5, 3\n",
    "])\n",
    "\n",
    "A_equality = np.array([\n",
    "    gk, xi\n",
    "])\n",
    "\n",
    "b_equality = np.array([\n",
    "    1, 11\n",
    "])\n",
    "\n",
    "bounds = [(0, 1) for x in range(data.shape[0])]"
   ]
  },
  {
   "cell_type": "code",
   "execution_count": 12,
   "metadata": {
    "collapsed": true
   },
   "outputs": [],
   "source": [
    "solution = linprog(\n",
    "    c=-points,\n",
    "    A_ub=A_upperbounds,\n",
    "    b_ub=b_upperbounds,\n",
    "    A_eq=A_equality,\n",
    "    b_eq=b_equality,\n",
    "    bounds=bounds\n",
    ")"
   ]
  },
  {
   "cell_type": "code",
   "execution_count": 13,
   "metadata": {},
   "outputs": [
    {
     "data": {
      "text/plain": [
       "array([0.50877193, 1.        , 1.        , 1.        , 1.        ,\n",
       "       1.        , 0.49122807, 1.        , 1.        , 1.        ,\n",
       "       1.        , 1.        ])"
      ]
     },
     "execution_count": 13,
     "metadata": {},
     "output_type": "execute_result"
    }
   ],
   "source": [
    "solution.x[solution.x > 0]"
   ]
  },
  {
   "cell_type": "markdown",
   "metadata": {},
   "source": [
    "# Integer Programming"
   ]
  },
  {
   "cell_type": "code",
   "execution_count": 14,
   "metadata": {
    "collapsed": true
   },
   "outputs": [],
   "source": [
    "from pulp import *"
   ]
  },
  {
   "cell_type": "code",
   "execution_count": 15,
   "metadata": {
    "collapsed": true
   },
   "outputs": [],
   "source": [
    "player = [str(i) for i in range(data.shape[0])]\n",
    "point = {str(i): data['Points'][i] for i in range(data.shape[0])} \n",
    "cost = {str(i): data['Cost'][i] for i in range(data.shape[0])}\n",
    "gk = {str(i): 1 if data['Position'][i] == 'GK' else 0 for i in range(data.shape[0])}\n",
    "defe = {str(i): 1 if data['Position'][i] == 'DEF' else 0 for i in range(data.shape[0])}\n",
    "mid = {str(i): 1 if data['Position'][i] == 'MID' else 0 for i in range(data.shape[0])}\n",
    "stri = {str(i): 1 if data['Position'][i] == 'STR' else 0 for i in range(data.shape[0])}\n",
    "xi = {str(i): 1 for i in range(data.shape[0])}"
   ]
  },
  {
   "cell_type": "code",
   "execution_count": 16,
   "metadata": {
    "collapsed": true
   },
   "outputs": [],
   "source": [
    "prob = LpProblem(\"Fantasy Football\",LpMaximize)\n",
    "player_vars = LpVariable.dicts(\"Players\",player,0,1,LpBinary)"
   ]
  },
  {
   "cell_type": "code",
   "execution_count": 17,
   "metadata": {
    "collapsed": true
   },
   "outputs": [],
   "source": [
    "# objective function\n",
    "prob += lpSum([point[i]*player_vars[i] for i in player]), \"Total Cost\""
   ]
  },
  {
   "cell_type": "code",
   "execution_count": 18,
   "metadata": {
    "collapsed": true
   },
   "outputs": [],
   "source": [
    "# constraint\n",
    "prob += lpSum([player_vars[i] for i in player]) == 11, \"Total 11 Players\"\n",
    "prob += lpSum([cost[i] * player_vars[i] for i in player]) <= 100.0, \"Total Cost\"\n",
    "prob += lpSum([gk[i] * player_vars[i] for i in player]) == 1, \"Only 1 GK\"\n",
    "prob += lpSum([defe[i] * player_vars[i] for i in player]) <= 4, \"Less than 4 DEF\"\n",
    "prob += lpSum([mid[i] * player_vars[i] for i in player]) <= 5, \"Less than 5 MID\"\n",
    "prob += lpSum([stri[i] * player_vars[i] for i in player]) <= 3, \"Less than 3 STR\""
   ]
  },
  {
   "cell_type": "code",
   "execution_count": 19,
   "metadata": {
    "collapsed": true
   },
   "outputs": [],
   "source": [
    "# solve\n",
    "status = prob.solve()"
   ]
  },
  {
   "cell_type": "code",
   "execution_count": 20,
   "metadata": {},
   "outputs": [
    {
     "name": "stdout",
     "output_type": "stream",
     "text": [
      "Status: Optimal\n"
     ]
    }
   ],
   "source": [
    "# The status of the solution is printed to the screen\n",
    "print(\"Status:\", LpStatus[prob.status])"
   ]
  },
  {
   "cell_type": "code",
   "execution_count": 21,
   "metadata": {
    "collapsed": true
   },
   "outputs": [],
   "source": [
    "selection = {}\n",
    "for v in prob.variables():\n",
    "    index = int(v.name.split(\"_\")[1])\n",
    "    selection[index] = v.varValue\n",
    "#     print(v.name, \"=\", v.varValue)"
   ]
  },
  {
   "cell_type": "code",
   "execution_count": 22,
   "metadata": {
    "collapsed": true
   },
   "outputs": [],
   "source": [
    "data['integer_programming'] = 0.0\n",
    "for i in selection:\n",
    "    data.loc[i, 'integer_programming'] = selection[i]"
   ]
  },
  {
   "cell_type": "code",
   "execution_count": 23,
   "metadata": {},
   "outputs": [
    {
     "name": "stdout",
     "output_type": "stream",
     "text": [
      "Total points:2095.0, cost:£100.00000000000001, and with players:11\n"
     ]
    }
   ],
   "source": [
    "XI = data[data['integer_programming'] == 1.0]\n",
    "TOTAL_POINTS = XI['Points'].sum()\n",
    "TOTAL_COST = XI['Cost'].sum()\n",
    "TOTAL_PLAYERS = XI.shape[0]\n",
    "print(\"Total points:{}, cost:£{}, and with players:{}\".format(TOTAL_POINTS, TOTAL_COST, TOTAL_PLAYERS))"
   ]
  },
  {
   "cell_type": "code",
   "execution_count": 24,
   "metadata": {},
   "outputs": [
    {
     "data": {
      "text/plain": [
       "<seaborn.axisgrid.FacetGrid at 0x108474860>"
      ]
     },
     "execution_count": 24,
     "metadata": {},
     "output_type": "execute_result"
    },
    {
     "data": {
      "image/png": "[encoded data removed]",
      "text/plain": [
       "<Figure size 774.85x360 with 1 Axes>"
      ]
     },
     "metadata": {},
     "output_type": "display_data"
    }
   ],
   "source": [
    "sns.relplot(x=\"Cost\", y=\"Points\", \n",
    "            hue=\"Position\", size='integer_programming',\n",
    "            size_order=[1,0],\n",
    "            sizes=(40, 400), alpha=.5, \n",
    "            palette=\"muted\", height=5, aspect=1.75,\n",
    "            data=data)"
   ]
  },
  {
   "cell_type": "code",
   "execution_count": 25,
   "metadata": {},
   "outputs": [
    {
     "data": {
      "text/html": [
       "<div>\n",
       "<style scoped>\n",
       "    .dataframe tbody tr th:only-of-type {\n",
       "        vertical-align: middle;\n",
       "    }\n",
       "\n",
       "    .dataframe tbody tr th {\n",
       "        vertical-align: top;\n",
       "    }\n",
       "\n",
       "    .dataframe thead th {\n",
       "        text-align: right;\n",
       "    }\n",
       "</style>\n",
       "<table border=\"1\" class=\"dataframe\">\n",
       "  <thead>\n",
       "    <tr style=\"text-align: right;\">\n",
       "      <th></th>\n",
       "      <th>Player</th>\n",
       "      <th>Position</th>\n",
       "      <th>Points</th>\n",
       "      <th>Cost</th>\n",
       "    </tr>\n",
       "  </thead>\n",
       "  <tbody>\n",
       "    <tr>\n",
       "      <th>0</th>\n",
       "      <td>EBANKS-LANDELL, E</td>\n",
       "      <td>DEF</td>\n",
       "      <td>0.0</td>\n",
       "      <td>4.2</td>\n",
       "    </tr>\n",
       "    <tr>\n",
       "      <th>1</th>\n",
       "      <td>WARD, S</td>\n",
       "      <td>DEF</td>\n",
       "      <td>107.0</td>\n",
       "      <td>7.4</td>\n",
       "    </tr>\n",
       "    <tr>\n",
       "      <th>2</th>\n",
       "      <td>AZPILICUETA, C</td>\n",
       "      <td>DEF</td>\n",
       "      <td>240.0</td>\n",
       "      <td>10.3</td>\n",
       "    </tr>\n",
       "    <tr>\n",
       "      <th>3</th>\n",
       "      <td>OTAMENDI, N</td>\n",
       "      <td>DEF</td>\n",
       "      <td>244.0</td>\n",
       "      <td>10.2</td>\n",
       "    </tr>\n",
       "    <tr>\n",
       "      <th>4</th>\n",
       "      <td>RYAN, M</td>\n",
       "      <td>GK</td>\n",
       "      <td>172.0</td>\n",
       "      <td>6.5</td>\n",
       "    </tr>\n",
       "    <tr>\n",
       "      <th>5</th>\n",
       "      <td>RICHARLISON</td>\n",
       "      <td>MID</td>\n",
       "      <td>140.0</td>\n",
       "      <td>8.6</td>\n",
       "    </tr>\n",
       "    <tr>\n",
       "      <th>6</th>\n",
       "      <td>MOOY, A</td>\n",
       "      <td>MID</td>\n",
       "      <td>149.0</td>\n",
       "      <td>8.7</td>\n",
       "    </tr>\n",
       "    <tr>\n",
       "      <th>7</th>\n",
       "      <td>DOUCOURE, A</td>\n",
       "      <td>MID</td>\n",
       "      <td>156.0</td>\n",
       "      <td>8.7</td>\n",
       "    </tr>\n",
       "    <tr>\n",
       "      <th>8</th>\n",
       "      <td>SILVA, D</td>\n",
       "      <td>MID</td>\n",
       "      <td>228.0</td>\n",
       "      <td>10.5</td>\n",
       "    </tr>\n",
       "    <tr>\n",
       "      <th>9</th>\n",
       "      <td>DE BRUYNE, K</td>\n",
       "      <td>MID</td>\n",
       "      <td>281.0</td>\n",
       "      <td>12.0</td>\n",
       "    </tr>\n",
       "    <tr>\n",
       "      <th>10</th>\n",
       "      <td>SALAH, M</td>\n",
       "      <td>STR</td>\n",
       "      <td>378.0</td>\n",
       "      <td>12.9</td>\n",
       "    </tr>\n",
       "  </tbody>\n",
       "</table>\n",
       "</div>"
      ],
      "text/plain": [
       "               Player Position  Points  Cost\n",
       "0   EBANKS-LANDELL, E      DEF     0.0   4.2\n",
       "1             WARD, S      DEF   107.0   7.4\n",
       "2      AZPILICUETA, C      DEF   240.0  10.3\n",
       "3         OTAMENDI, N      DEF   244.0  10.2\n",
       "4             RYAN, M       GK   172.0   6.5\n",
       "5         RICHARLISON      MID   140.0   8.6\n",
       "6             MOOY, A      MID   149.0   8.7\n",
       "7         DOUCOURE, A      MID   156.0   8.7\n",
       "8            SILVA, D      MID   228.0  10.5\n",
       "9        DE BRUYNE, K      MID   281.0  12.0\n",
       "10           SALAH, M      STR   378.0  12.9"
      ]
     },
     "execution_count": 25,
     "metadata": {},
     "output_type": "execute_result"
    }
   ],
   "source": [
    "(XI[['Player','Position','Points','Cost']]\n",
    " .sort_values(['Position'])\n",
    " .reset_index(drop=True))"
   ]
  },
  {
   "cell_type": "code",
   "execution_count": 26,
   "metadata": {},
   "outputs": [
    {
     "data": {
      "text/plain": [
       "<seaborn.axisgrid.FacetGrid at 0x10f27c4e0>"
      ]
     },
     "execution_count": 26,
     "metadata": {},
     "output_type": "execute_result"
    },
    {
     "data": {
      "image/png": "[encoded data removed]",
      "text/plain": [
       "<Figure size 864x216 with 4 Axes>"
      ]
     },
     "metadata": {},
     "output_type": "display_data"
    }
   ],
   "source": [
    "sns.lmplot(x=\"Cost\", y=\"Points\", col=\"Position\", hue=\"Position\", \n",
    "           data=data[data.Points != 0],\n",
    "           col_wrap=4, ci=None, palette=\"muted\", height=3,\n",
    "           hue_order=['DEF','GK','MID', 'STR'],\n",
    "           col_order=['DEF','GK','MID', 'STR'],\n",
    "           scatter_kws={\"s\": 20, \"alpha\": 0.5})"
   ]
  },
  {
   "cell_type": "code",
   "execution_count": 27,
   "metadata": {
    "scrolled": true
   },
   "outputs": [
    {
     "name": "stdout",
     "output_type": "stream",
     "text": [
      "For DEF, y = 36.483x + -203.343\n",
      "For GK, y = 73.302x + -402.909\n",
      "For MID, y = 37.443x + -224.493\n",
      "For STR, y = 34.876x + -242.834\n"
     ]
    }
   ],
   "source": [
    "slope_inter = {}\n",
    "for pos in ['DEF','GK','MID', 'STR']:\n",
    "    pos_data = data[(data.Position == pos) & (data.Points > 0)].reset_index(drop=True)\n",
    "    output = linregress(pos_data['Cost'],pos_data['Points'])\n",
    "    print(\"For {}, y = {:0.3f}x + {:0.3f}\".format(pos, output.slope, output.intercept))\n",
    "    slope_inter[pos] = {\"slope\":output.slope, \"intercept\":output.intercept}"
   ]
  },
  {
   "cell_type": "markdown",
   "metadata": {},
   "source": [
    "# Imputation for New EPL Players\n",
    " - No change in selection"
   ]
  },
  {
   "cell_type": "code",
   "execution_count": 28,
   "metadata": {
    "collapsed": true
   },
   "outputs": [],
   "source": [
    "def get_adj_points(x, slope_intercept):\n",
    "    if x.Points > 0:\n",
    "        return x.Points\n",
    "    else:\n",
    "        mb = slope_intercept[x.Position]\n",
    "        adj_points = mb['slope'] * x.Cost + mb['intercept']\n",
    "        if adj_points > 0:\n",
    "            return int(adj_points)\n",
    "        else:\n",
    "            return 0"
   ]
  },
  {
   "cell_type": "code",
   "execution_count": 29,
   "metadata": {
    "collapsed": true
   },
   "outputs": [],
   "source": [
    "data['AdjPoints'] = data[['Position','Points','Cost']].apply(lambda x: get_adj_points(x, slope_inter), axis=1)"
   ]
  },
  {
   "cell_type": "code",
   "execution_count": 30,
   "metadata": {
    "collapsed": true
   },
   "outputs": [],
   "source": [
    "adjpoint = {str(i): data['AdjPoints'][i] for i in range(data.shape[0])} "
   ]
  },
  {
   "cell_type": "code",
   "execution_count": 31,
   "metadata": {},
   "outputs": [
    {
     "name": "stdout",
     "output_type": "stream",
     "text": [
      "Total points:2095.0, cost:£100.00000000000001, and with players:11\n"
     ]
    }
   ],
   "source": [
    "prob = LpProblem(\"Fantasy Football\",LpMaximize)\n",
    "player_vars = LpVariable.dicts(\"Players\",player,0,1,LpBinary)\n",
    "\n",
    "# objective function\n",
    "prob += lpSum([adjpoint[i]*player_vars[i] for i in player]), \"Total Cost\"\n",
    "\n",
    "# constraint\n",
    "prob += lpSum([player_vars[i] for i in player]) == 11, \"Total 11 Players\"\n",
    "prob += lpSum([cost[i] * player_vars[i] for i in player]) <= 100.0, \"Total Cost\"\n",
    "prob += lpSum([gk[i] * player_vars[i] for i in player]) == 1, \"Only 1 GK\"\n",
    "prob += lpSum([defe[i] * player_vars[i] for i in player]) <= 4, \"Less than 5 DEF\"\n",
    "prob += lpSum([mid[i] * player_vars[i] for i in player]) <= 5, \"Less than 5 MID\"\n",
    "prob += lpSum([stri[i] * player_vars[i] for i in player]) <= 3, \"Less than 3 STR\"\n",
    "\n",
    "# solve\n",
    "status = prob.solve()\n",
    "\n",
    "# selection\n",
    "selection = {}\n",
    "for v in prob.variables():\n",
    "    index = int(v.name.split(\"_\")[1])\n",
    "    selection[index] = v.varValue\n",
    "    \n",
    "data['Adj Selection'] = 0.0\n",
    "for i in selection:\n",
    "    data.loc[i, 'Adj Selection'] = selection[i]\n",
    "    \n",
    "XI = data[data['Adj Selection'] == 1.0]\n",
    "TOTAL_POINTS = XI['AdjPoints'].sum()\n",
    "TOTAL_COST = XI['Cost'].sum()\n",
    "TOTAL_PLAYERS = XI.shape[0]\n",
    "print(\"Total points:{}, cost:£{}, and with players:{}\".format(TOTAL_POINTS, TOTAL_COST, TOTAL_PLAYERS))"
   ]
  },
  {
   "cell_type": "code",
   "execution_count": 32,
   "metadata": {},
   "outputs": [
    {
     "data": {
      "text/html": [
       "<div>\n",
       "<style scoped>\n",
       "    .dataframe tbody tr th:only-of-type {\n",
       "        vertical-align: middle;\n",
       "    }\n",
       "\n",
       "    .dataframe tbody tr th {\n",
       "        vertical-align: top;\n",
       "    }\n",
       "\n",
       "    .dataframe thead th {\n",
       "        text-align: right;\n",
       "    }\n",
       "</style>\n",
       "<table border=\"1\" class=\"dataframe\">\n",
       "  <thead>\n",
       "    <tr style=\"text-align: right;\">\n",
       "      <th></th>\n",
       "      <th>Player</th>\n",
       "      <th>Position</th>\n",
       "      <th>Points</th>\n",
       "      <th>AdjPoints</th>\n",
       "      <th>Cost</th>\n",
       "    </tr>\n",
       "  </thead>\n",
       "  <tbody>\n",
       "    <tr>\n",
       "      <th>0</th>\n",
       "      <td>EBANKS-LANDELL, E</td>\n",
       "      <td>DEF</td>\n",
       "      <td>0.0</td>\n",
       "      <td>0.0</td>\n",
       "      <td>4.2</td>\n",
       "    </tr>\n",
       "    <tr>\n",
       "      <th>1</th>\n",
       "      <td>WARD, S</td>\n",
       "      <td>DEF</td>\n",
       "      <td>107.0</td>\n",
       "      <td>107.0</td>\n",
       "      <td>7.4</td>\n",
       "    </tr>\n",
       "    <tr>\n",
       "      <th>2</th>\n",
       "      <td>AZPILICUETA, C</td>\n",
       "      <td>DEF</td>\n",
       "      <td>240.0</td>\n",
       "      <td>240.0</td>\n",
       "      <td>10.3</td>\n",
       "    </tr>\n",
       "    <tr>\n",
       "      <th>3</th>\n",
       "      <td>OTAMENDI, N</td>\n",
       "      <td>DEF</td>\n",
       "      <td>244.0</td>\n",
       "      <td>244.0</td>\n",
       "      <td>10.2</td>\n",
       "    </tr>\n",
       "    <tr>\n",
       "      <th>4</th>\n",
       "      <td>RYAN, M</td>\n",
       "      <td>GK</td>\n",
       "      <td>172.0</td>\n",
       "      <td>172.0</td>\n",
       "      <td>6.5</td>\n",
       "    </tr>\n",
       "    <tr>\n",
       "      <th>5</th>\n",
       "      <td>RICHARLISON</td>\n",
       "      <td>MID</td>\n",
       "      <td>140.0</td>\n",
       "      <td>140.0</td>\n",
       "      <td>8.6</td>\n",
       "    </tr>\n",
       "    <tr>\n",
       "      <th>6</th>\n",
       "      <td>MOOY, A</td>\n",
       "      <td>MID</td>\n",
       "      <td>149.0</td>\n",
       "      <td>149.0</td>\n",
       "      <td>8.7</td>\n",
       "    </tr>\n",
       "    <tr>\n",
       "      <th>7</th>\n",
       "      <td>DOUCOURE, A</td>\n",
       "      <td>MID</td>\n",
       "      <td>156.0</td>\n",
       "      <td>156.0</td>\n",
       "      <td>8.7</td>\n",
       "    </tr>\n",
       "    <tr>\n",
       "      <th>8</th>\n",
       "      <td>SILVA, D</td>\n",
       "      <td>MID</td>\n",
       "      <td>228.0</td>\n",
       "      <td>228.0</td>\n",
       "      <td>10.5</td>\n",
       "    </tr>\n",
       "    <tr>\n",
       "      <th>9</th>\n",
       "      <td>DE BRUYNE, K</td>\n",
       "      <td>MID</td>\n",
       "      <td>281.0</td>\n",
       "      <td>281.0</td>\n",
       "      <td>12.0</td>\n",
       "    </tr>\n",
       "    <tr>\n",
       "      <th>10</th>\n",
       "      <td>SALAH, M</td>\n",
       "      <td>STR</td>\n",
       "      <td>378.0</td>\n",
       "      <td>378.0</td>\n",
       "      <td>12.9</td>\n",
       "    </tr>\n",
       "  </tbody>\n",
       "</table>\n",
       "</div>"
      ],
      "text/plain": [
       "               Player Position  Points  AdjPoints  Cost\n",
       "0   EBANKS-LANDELL, E      DEF     0.0        0.0   4.2\n",
       "1             WARD, S      DEF   107.0      107.0   7.4\n",
       "2      AZPILICUETA, C      DEF   240.0      240.0  10.3\n",
       "3         OTAMENDI, N      DEF   244.0      244.0  10.2\n",
       "4             RYAN, M       GK   172.0      172.0   6.5\n",
       "5         RICHARLISON      MID   140.0      140.0   8.6\n",
       "6             MOOY, A      MID   149.0      149.0   8.7\n",
       "7         DOUCOURE, A      MID   156.0      156.0   8.7\n",
       "8            SILVA, D      MID   228.0      228.0  10.5\n",
       "9        DE BRUYNE, K      MID   281.0      281.0  12.0\n",
       "10           SALAH, M      STR   378.0      378.0  12.9"
      ]
     },
     "execution_count": 32,
     "metadata": {},
     "output_type": "execute_result"
    }
   ],
   "source": [
    "(XI[['Player','Position','Points','AdjPoints','Cost']]\n",
    " .sort_values(['Position'])\n",
    " .reset_index(drop=True))"
   ]
  },
  {
   "cell_type": "code",
   "execution_count": null,
   "metadata": {
    "collapsed": true
   },
   "outputs": [],
   "source": []
  }
 ],
 "metadata": {
  "kernelspec": {
   "display_name": "Python 3",
   "language": "python",
   "name": "python3"
  },
  "language_info": {
   "codemirror_mode": {
    "name": "ipython",
    "version": 3
   },
   "file_extension": ".py",
   "mimetype": "text/x-python",
   "name": "python",
   "nbconvert_exporter": "python",
   "pygments_lexer": "ipython3",
   "version": "3.6.3"
  }
 },
 "nbformat": 4,
 "nbformat_minor": 2
}
