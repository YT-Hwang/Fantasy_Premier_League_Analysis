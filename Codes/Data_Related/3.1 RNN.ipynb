{
 "cells": [
  {
   "cell_type": "markdown",
   "metadata": {},
   "source": [
    "reference:\n",
    "    \n",
    "https://machinelearningmastery.com/how-to-develop-convolutional-neural-network-models-for-time-series-forecasting/"
   ]
  },
  {
   "cell_type": "markdown",
   "metadata": {},
   "source": [
    "# 0. Importing Packages"
   ]
  },
  {
   "cell_type": "code",
   "execution_count": 16,
   "metadata": {},
   "outputs": [],
   "source": [
    "import numpy as np\n",
    "from numpy import array, hstack\n",
    "import pandas as pd\n",
    "import matplotlib.pylab as plt\n",
    "%matplotlib inline\n",
    "from matplotlib.pylab import rcParams\n",
    "import seaborn as sns\n",
    "\n",
    "\n",
    "from datetime import datetime, timedelta\n",
    "\n",
    "\n",
    "from IPython.core.interactiveshell import InteractiveShell\n",
    "InteractiveShell.ast_node_interactivity = \"all\"\n",
    "\n",
    "%matplotlib inline"
   ]
  },
  {
   "cell_type": "code",
   "execution_count": 17,
   "metadata": {
    "scrolled": true
   },
   "outputs": [],
   "source": [
    "import pandas as pd\n",
    "import numpy as np\n",
    "import matplotlib.pylab as plt\n",
    "%matplotlib inline\n",
    "from matplotlib.pylab import rcParams\n",
    "from sklearn.utils import shuffle\n",
    "\n",
    "from sklearn import preprocessing\n",
    "\n",
    "rcParams['figure.figsize'] = 20, 6"
   ]
  },
  {
   "cell_type": "code",
   "execution_count": 78,
   "metadata": {},
   "outputs": [],
   "source": [
    "from keras.models import load_model\n",
    "from keras.models import Sequential, load_model\n",
    "from keras.layers import LSTM, Dense, Dropout, Embedding, Masking, Conv1D, MaxPooling1D, Flatten, SimpleRNN\n",
    "from keras.optimizers import Adam\n",
    "from keras.utils import Sequence\n",
    "from keras.preprocessing.text import Tokenizer\n",
    "from keras.callbacks import EarlyStopping, ModelCheckpoint\n",
    "from keras.models import load_model\n",
    "\n",
    "import re\n"
   ]
  },
  {
   "cell_type": "markdown",
   "metadata": {},
   "source": [
    "# 1. Loading Data"
   ]
  },
  {
   "cell_type": "code",
   "execution_count": 19,
   "metadata": {},
   "outputs": [],
   "source": [
    "# Getting all the files in the directory.\n",
    "def existing_file_list(path):\n",
    "    ''' Extracting File Names '''\n",
    "\n",
    "    allFiles = glob.glob(path + \"/*.csv\")\n",
    "    new_list = []\n",
    "    for i in allFiles:\n",
    "        before = 'original\\\\'\n",
    "        after = '_minute'\n",
    "        ticker = i[i.find(before) + len(before) : i.find(after)]\n",
    "        new_list.append(ticker)    \n",
    "    #list_ticker = list(filter(None, text))  # drop all the empty elements and put them in a list\n",
    "        \n",
    "    return (new_list)\n"
   ]
  },
  {
   "cell_type": "code",
   "execution_count": 20,
   "metadata": {},
   "outputs": [],
   "source": [
    "datapath = 'D:\\\\OneDrive - Georgia State University\\\\Data Science\\\\Personal_Project\\\\FPL_Analysis\\\\Data\\\\Final\\\\'\n",
    "\n",
    "from os import listdir\n",
    "from os.path import isfile, join\n",
    "main_data_list = [f for f in listdir(datapath) if isfile(join(datapath, f))]"
   ]
  },
  {
   "cell_type": "code",
   "execution_count": 21,
   "metadata": {},
   "outputs": [
    {
     "data": {
      "text/plain": [
       "'D:\\\\OneDrive - Georgia State University\\\\Data Science\\\\Personal_Project\\\\FPL_Analysis\\\\Data\\\\Final\\\\'"
      ]
     },
     "execution_count": 21,
     "metadata": {},
     "output_type": "execute_result"
    }
   ],
   "source": [
    "datapath"
   ]
  },
  {
   "cell_type": "code",
   "execution_count": 23,
   "metadata": {},
   "outputs": [
    {
     "data": {
      "text/plain": [
       "['bootstrap.xlsx',\n",
       " 'elements.xlsx',\n",
       " 'element_types.xlsx',\n",
       " 'merged_gw.csv',\n",
       " 'next_event_fixtures.xlsx',\n",
       " 'teams.xlsx',\n",
       " '~$bootstrap.xlsx',\n",
       " '~$teams.xlsx']"
      ]
     },
     "execution_count": 23,
     "metadata": {},
     "output_type": "execute_result"
    }
   ],
   "source": [
    "main_data_list"
   ]
  },
  {
   "cell_type": "code",
   "execution_count": 29,
   "metadata": {},
   "outputs": [],
   "source": [
    "#element_types = pd.read_csv(datapath + 'element_types.xlsx',index_col='id', engine = 'python')\n",
    "bootstrap = pd.read_excel(datapath + 'bootstrap.xlsx',index_col='id')\n",
    "main_data = pd.read_csv(datapath + 'merged_gw.csv', index_col=['id', 'fixture'], engine = 'python')\n",
    "teams = pd.read_excel(datapath + 'teams.xlsx',index_col='id')\n",
    "\n",
    "by_team =  pd.read_csv(datapath + 'by_team.csv', engine = 'python')\n",
    "by_position =  pd.read_csv(datapath + 'by_position.csv', engine = 'python')\n",
    "by_player =  pd.read_csv(datapath + 'by_player.csv', engine = 'python')\n"
   ]
  },
  {
   "cell_type": "code",
   "execution_count": 30,
   "metadata": {},
   "outputs": [],
   "source": [
    "main_data.sort_index(inplace=True)\n",
    "bootstrap.sort_index(inplace=True)\n",
    "teams.sort_index(inplace=True)"
   ]
  },
  {
   "cell_type": "code",
   "execution_count": 31,
   "metadata": {
    "scrolled": true
   },
   "outputs": [
    {
     "data": {
      "text/html": [
       "<div>\n",
       "<style scoped>\n",
       "    .dataframe tbody tr th:only-of-type {\n",
       "        vertical-align: middle;\n",
       "    }\n",
       "\n",
       "    .dataframe tbody tr th {\n",
       "        vertical-align: top;\n",
       "    }\n",
       "\n",
       "    .dataframe thead th {\n",
       "        text-align: right;\n",
       "    }\n",
       "</style>\n",
       "<table border=\"1\" class=\"dataframe\">\n",
       "  <thead>\n",
       "    <tr style=\"text-align: right;\">\n",
       "      <th></th>\n",
       "      <th></th>\n",
       "      <th>name</th>\n",
       "      <th>assists</th>\n",
       "      <th>attempted_passes</th>\n",
       "      <th>big_chances_created</th>\n",
       "      <th>big_chances_missed</th>\n",
       "      <th>bonus</th>\n",
       "      <th>bps</th>\n",
       "      <th>clean_sheets</th>\n",
       "      <th>clearances_blocks_interceptions</th>\n",
       "      <th>completed_passes</th>\n",
       "      <th>...</th>\n",
       "      <th>total_points</th>\n",
       "      <th>transfers_balance</th>\n",
       "      <th>transfers_in</th>\n",
       "      <th>transfers_out</th>\n",
       "      <th>value</th>\n",
       "      <th>was_home</th>\n",
       "      <th>winning_goals</th>\n",
       "      <th>yellow_cards</th>\n",
       "      <th>team</th>\n",
       "      <th>position</th>\n",
       "    </tr>\n",
       "    <tr>\n",
       "      <th>id</th>\n",
       "      <th>fixture</th>\n",
       "      <th></th>\n",
       "      <th></th>\n",
       "      <th></th>\n",
       "      <th></th>\n",
       "      <th></th>\n",
       "      <th></th>\n",
       "      <th></th>\n",
       "      <th></th>\n",
       "      <th></th>\n",
       "      <th></th>\n",
       "      <th></th>\n",
       "      <th></th>\n",
       "      <th></th>\n",
       "      <th></th>\n",
       "      <th></th>\n",
       "      <th></th>\n",
       "      <th></th>\n",
       "      <th></th>\n",
       "      <th></th>\n",
       "      <th></th>\n",
       "      <th></th>\n",
       "    </tr>\n",
       "  </thead>\n",
       "  <tbody>\n",
       "    <tr>\n",
       "      <th rowspan=\"5\" valign=\"top\">1</th>\n",
       "      <th>1</th>\n",
       "      <td>Petr_Cech_1</td>\n",
       "      <td>0</td>\n",
       "      <td>42</td>\n",
       "      <td>0</td>\n",
       "      <td>0</td>\n",
       "      <td>0</td>\n",
       "      <td>24</td>\n",
       "      <td>0</td>\n",
       "      <td>2</td>\n",
       "      <td>31</td>\n",
       "      <td>...</td>\n",
       "      <td>3</td>\n",
       "      <td>0</td>\n",
       "      <td>0</td>\n",
       "      <td>0</td>\n",
       "      <td>50</td>\n",
       "      <td>True</td>\n",
       "      <td>0</td>\n",
       "      <td>0</td>\n",
       "      <td>1</td>\n",
       "      <td>1</td>\n",
       "    </tr>\n",
       "    <tr>\n",
       "      <th>14</th>\n",
       "      <td>Petr_Cech_1</td>\n",
       "      <td>0</td>\n",
       "      <td>35</td>\n",
       "      <td>0</td>\n",
       "      <td>0</td>\n",
       "      <td>0</td>\n",
       "      <td>26</td>\n",
       "      <td>0</td>\n",
       "      <td>1</td>\n",
       "      <td>25</td>\n",
       "      <td>...</td>\n",
       "      <td>3</td>\n",
       "      <td>188</td>\n",
       "      <td>6059</td>\n",
       "      <td>5871</td>\n",
       "      <td>50</td>\n",
       "      <td>False</td>\n",
       "      <td>0</td>\n",
       "      <td>0</td>\n",
       "      <td>1</td>\n",
       "      <td>1</td>\n",
       "    </tr>\n",
       "    <tr>\n",
       "      <th>21</th>\n",
       "      <td>Petr_Cech_1</td>\n",
       "      <td>0</td>\n",
       "      <td>24</td>\n",
       "      <td>0</td>\n",
       "      <td>0</td>\n",
       "      <td>0</td>\n",
       "      <td>17</td>\n",
       "      <td>0</td>\n",
       "      <td>0</td>\n",
       "      <td>20</td>\n",
       "      <td>...</td>\n",
       "      <td>3</td>\n",
       "      <td>8540</td>\n",
       "      <td>19550</td>\n",
       "      <td>11010</td>\n",
       "      <td>50</td>\n",
       "      <td>True</td>\n",
       "      <td>0</td>\n",
       "      <td>0</td>\n",
       "      <td>1</td>\n",
       "      <td>1</td>\n",
       "    </tr>\n",
       "    <tr>\n",
       "      <th>33</th>\n",
       "      <td>Petr_Cech_1</td>\n",
       "      <td>0</td>\n",
       "      <td>38</td>\n",
       "      <td>0</td>\n",
       "      <td>0</td>\n",
       "      <td>0</td>\n",
       "      <td>8</td>\n",
       "      <td>0</td>\n",
       "      <td>0</td>\n",
       "      <td>24</td>\n",
       "      <td>...</td>\n",
       "      <td>1</td>\n",
       "      <td>9582</td>\n",
       "      <td>19332</td>\n",
       "      <td>9750</td>\n",
       "      <td>50</td>\n",
       "      <td>False</td>\n",
       "      <td>0</td>\n",
       "      <td>0</td>\n",
       "      <td>1</td>\n",
       "      <td>1</td>\n",
       "    </tr>\n",
       "    <tr>\n",
       "      <th>46</th>\n",
       "      <td>Petr_Cech_1</td>\n",
       "      <td>0</td>\n",
       "      <td>33</td>\n",
       "      <td>0</td>\n",
       "      <td>0</td>\n",
       "      <td>0</td>\n",
       "      <td>13</td>\n",
       "      <td>0</td>\n",
       "      <td>2</td>\n",
       "      <td>23</td>\n",
       "      <td>...</td>\n",
       "      <td>2</td>\n",
       "      <td>-3297</td>\n",
       "      <td>8837</td>\n",
       "      <td>12134</td>\n",
       "      <td>50</td>\n",
       "      <td>False</td>\n",
       "      <td>0</td>\n",
       "      <td>0</td>\n",
       "      <td>1</td>\n",
       "      <td>1</td>\n",
       "    </tr>\n",
       "  </tbody>\n",
       "</table>\n",
       "<p>5 rows × 49 columns</p>\n",
       "</div>"
      ],
      "text/plain": [
       "                   name  assists  attempted_passes  big_chances_created  \\\n",
       "id fixture                                                                \n",
       "1  1        Petr_Cech_1        0                42                    0   \n",
       "   14       Petr_Cech_1        0                35                    0   \n",
       "   21       Petr_Cech_1        0                24                    0   \n",
       "   33       Petr_Cech_1        0                38                    0   \n",
       "   46       Petr_Cech_1        0                33                    0   \n",
       "\n",
       "            big_chances_missed  bonus  bps  clean_sheets  \\\n",
       "id fixture                                                 \n",
       "1  1                         0      0   24             0   \n",
       "   14                        0      0   26             0   \n",
       "   21                        0      0   17             0   \n",
       "   33                        0      0    8             0   \n",
       "   46                        0      0   13             0   \n",
       "\n",
       "            clearances_blocks_interceptions  completed_passes    ...     \\\n",
       "id fixture                                                       ...      \n",
       "1  1                                      2                31    ...      \n",
       "   14                                     1                25    ...      \n",
       "   21                                     0                20    ...      \n",
       "   33                                     0                24    ...      \n",
       "   46                                     2                23    ...      \n",
       "\n",
       "            total_points  transfers_balance  transfers_in  transfers_out  \\\n",
       "id fixture                                                                 \n",
       "1  1                   3                  0             0              0   \n",
       "   14                  3                188          6059           5871   \n",
       "   21                  3               8540         19550          11010   \n",
       "   33                  1               9582         19332           9750   \n",
       "   46                  2              -3297          8837          12134   \n",
       "\n",
       "            value  was_home  winning_goals  yellow_cards  team  position  \n",
       "id fixture                                                                \n",
       "1  1           50      True              0             0     1         1  \n",
       "   14          50     False              0             0     1         1  \n",
       "   21          50      True              0             0     1         1  \n",
       "   33          50     False              0             0     1         1  \n",
       "   46          50     False              0             0     1         1  \n",
       "\n",
       "[5 rows x 49 columns]"
      ]
     },
     "execution_count": 31,
     "metadata": {},
     "output_type": "execute_result"
    },
    {
     "data": {
      "text/html": [
       "<div>\n",
       "<style scoped>\n",
       "    .dataframe tbody tr th:only-of-type {\n",
       "        vertical-align: middle;\n",
       "    }\n",
       "\n",
       "    .dataframe tbody tr th {\n",
       "        vertical-align: top;\n",
       "    }\n",
       "\n",
       "    .dataframe thead th {\n",
       "        text-align: right;\n",
       "    }\n",
       "</style>\n",
       "<table border=\"1\" class=\"dataframe\">\n",
       "  <thead>\n",
       "    <tr style=\"text-align: right;\">\n",
       "      <th></th>\n",
       "      <th></th>\n",
       "      <th>name</th>\n",
       "      <th>assists</th>\n",
       "      <th>attempted_passes</th>\n",
       "      <th>big_chances_created</th>\n",
       "      <th>big_chances_missed</th>\n",
       "      <th>bonus</th>\n",
       "      <th>bps</th>\n",
       "      <th>clean_sheets</th>\n",
       "      <th>clearances_blocks_interceptions</th>\n",
       "      <th>completed_passes</th>\n",
       "      <th>...</th>\n",
       "      <th>total_points</th>\n",
       "      <th>transfers_balance</th>\n",
       "      <th>transfers_in</th>\n",
       "      <th>transfers_out</th>\n",
       "      <th>value</th>\n",
       "      <th>was_home</th>\n",
       "      <th>winning_goals</th>\n",
       "      <th>yellow_cards</th>\n",
       "      <th>team</th>\n",
       "      <th>position</th>\n",
       "    </tr>\n",
       "    <tr>\n",
       "      <th>id</th>\n",
       "      <th>fixture</th>\n",
       "      <th></th>\n",
       "      <th></th>\n",
       "      <th></th>\n",
       "      <th></th>\n",
       "      <th></th>\n",
       "      <th></th>\n",
       "      <th></th>\n",
       "      <th></th>\n",
       "      <th></th>\n",
       "      <th></th>\n",
       "      <th></th>\n",
       "      <th></th>\n",
       "      <th></th>\n",
       "      <th></th>\n",
       "      <th></th>\n",
       "      <th></th>\n",
       "      <th></th>\n",
       "      <th></th>\n",
       "      <th></th>\n",
       "      <th></th>\n",
       "      <th></th>\n",
       "    </tr>\n",
       "  </thead>\n",
       "  <tbody>\n",
       "    <tr>\n",
       "      <th>620</th>\n",
       "      <th>373</th>\n",
       "      <td>Matt_Butcher_620</td>\n",
       "      <td>0</td>\n",
       "      <td>0</td>\n",
       "      <td>0</td>\n",
       "      <td>0</td>\n",
       "      <td>0</td>\n",
       "      <td>0</td>\n",
       "      <td>0</td>\n",
       "      <td>0</td>\n",
       "      <td>0</td>\n",
       "      <td>...</td>\n",
       "      <td>0</td>\n",
       "      <td>0</td>\n",
       "      <td>0</td>\n",
       "      <td>0</td>\n",
       "      <td>45</td>\n",
       "      <td>False</td>\n",
       "      <td>0</td>\n",
       "      <td>0</td>\n",
       "      <td>2</td>\n",
       "      <td>3</td>\n",
       "    </tr>\n",
       "    <tr>\n",
       "      <th>621</th>\n",
       "      <th>374</th>\n",
       "      <td>Luca_De La Torre_621</td>\n",
       "      <td>0</td>\n",
       "      <td>0</td>\n",
       "      <td>0</td>\n",
       "      <td>0</td>\n",
       "      <td>0</td>\n",
       "      <td>0</td>\n",
       "      <td>0</td>\n",
       "      <td>0</td>\n",
       "      <td>0</td>\n",
       "      <td>...</td>\n",
       "      <td>0</td>\n",
       "      <td>0</td>\n",
       "      <td>0</td>\n",
       "      <td>0</td>\n",
       "      <td>45</td>\n",
       "      <td>True</td>\n",
       "      <td>0</td>\n",
       "      <td>0</td>\n",
       "      <td>9</td>\n",
       "      <td>3</td>\n",
       "    </tr>\n",
       "    <tr>\n",
       "      <th>622</th>\n",
       "      <th>374</th>\n",
       "      <td>Kelland_Watts_622</td>\n",
       "      <td>0</td>\n",
       "      <td>0</td>\n",
       "      <td>0</td>\n",
       "      <td>0</td>\n",
       "      <td>0</td>\n",
       "      <td>0</td>\n",
       "      <td>0</td>\n",
       "      <td>0</td>\n",
       "      <td>0</td>\n",
       "      <td>...</td>\n",
       "      <td>0</td>\n",
       "      <td>0</td>\n",
       "      <td>0</td>\n",
       "      <td>0</td>\n",
       "      <td>45</td>\n",
       "      <td>False</td>\n",
       "      <td>0</td>\n",
       "      <td>0</td>\n",
       "      <td>15</td>\n",
       "      <td>3</td>\n",
       "    </tr>\n",
       "    <tr>\n",
       "      <th>623</th>\n",
       "      <th>374</th>\n",
       "      <td>Lewis_Cass_623</td>\n",
       "      <td>0</td>\n",
       "      <td>0</td>\n",
       "      <td>0</td>\n",
       "      <td>0</td>\n",
       "      <td>0</td>\n",
       "      <td>0</td>\n",
       "      <td>0</td>\n",
       "      <td>0</td>\n",
       "      <td>0</td>\n",
       "      <td>...</td>\n",
       "      <td>0</td>\n",
       "      <td>0</td>\n",
       "      <td>0</td>\n",
       "      <td>0</td>\n",
       "      <td>40</td>\n",
       "      <td>False</td>\n",
       "      <td>0</td>\n",
       "      <td>0</td>\n",
       "      <td>15</td>\n",
       "      <td>2</td>\n",
       "    </tr>\n",
       "    <tr>\n",
       "      <th>624</th>\n",
       "      <th>375</th>\n",
       "      <td>Addji Keaninkin Marc-Israel_Guehi_624</td>\n",
       "      <td>0</td>\n",
       "      <td>0</td>\n",
       "      <td>0</td>\n",
       "      <td>0</td>\n",
       "      <td>0</td>\n",
       "      <td>0</td>\n",
       "      <td>0</td>\n",
       "      <td>0</td>\n",
       "      <td>0</td>\n",
       "      <td>...</td>\n",
       "      <td>0</td>\n",
       "      <td>0</td>\n",
       "      <td>0</td>\n",
       "      <td>0</td>\n",
       "      <td>40</td>\n",
       "      <td>False</td>\n",
       "      <td>0</td>\n",
       "      <td>0</td>\n",
       "      <td>6</td>\n",
       "      <td>2</td>\n",
       "    </tr>\n",
       "  </tbody>\n",
       "</table>\n",
       "<p>5 rows × 49 columns</p>\n",
       "</div>"
      ],
      "text/plain": [
       "                                              name  assists  attempted_passes  \\\n",
       "id  fixture                                                                     \n",
       "620 373                           Matt_Butcher_620        0                 0   \n",
       "621 374                       Luca_De La Torre_621        0                 0   \n",
       "622 374                          Kelland_Watts_622        0                 0   \n",
       "623 374                             Lewis_Cass_623        0                 0   \n",
       "624 375      Addji Keaninkin Marc-Israel_Guehi_624        0                 0   \n",
       "\n",
       "             big_chances_created  big_chances_missed  bonus  bps  \\\n",
       "id  fixture                                                        \n",
       "620 373                        0                   0      0    0   \n",
       "621 374                        0                   0      0    0   \n",
       "622 374                        0                   0      0    0   \n",
       "623 374                        0                   0      0    0   \n",
       "624 375                        0                   0      0    0   \n",
       "\n",
       "             clean_sheets  clearances_blocks_interceptions  completed_passes  \\\n",
       "id  fixture                                                                    \n",
       "620 373                 0                                0                 0   \n",
       "621 374                 0                                0                 0   \n",
       "622 374                 0                                0                 0   \n",
       "623 374                 0                                0                 0   \n",
       "624 375                 0                                0                 0   \n",
       "\n",
       "               ...     total_points  transfers_balance  transfers_in  \\\n",
       "id  fixture    ...                                                     \n",
       "620 373        ...                0                  0             0   \n",
       "621 374        ...                0                  0             0   \n",
       "622 374        ...                0                  0             0   \n",
       "623 374        ...                0                  0             0   \n",
       "624 375        ...                0                  0             0   \n",
       "\n",
       "             transfers_out  value  was_home  winning_goals  yellow_cards  \\\n",
       "id  fixture                                                                \n",
       "620 373                  0     45     False              0             0   \n",
       "621 374                  0     45      True              0             0   \n",
       "622 374                  0     45     False              0             0   \n",
       "623 374                  0     40     False              0             0   \n",
       "624 375                  0     40     False              0             0   \n",
       "\n",
       "             team  position  \n",
       "id  fixture                  \n",
       "620 373         2         3  \n",
       "621 374         9         3  \n",
       "622 374        15         3  \n",
       "623 374        15         2  \n",
       "624 375         6         2  \n",
       "\n",
       "[5 rows x 49 columns]"
      ]
     },
     "execution_count": 31,
     "metadata": {},
     "output_type": "execute_result"
    },
    {
     "data": {
      "text/plain": [
       "name                                object\n",
       "assists                              int64\n",
       "attempted_passes                     int64\n",
       "big_chances_created                  int64\n",
       "big_chances_missed                   int64\n",
       "bonus                                int64\n",
       "bps                                  int64\n",
       "clean_sheets                         int64\n",
       "clearances_blocks_interceptions      int64\n",
       "completed_passes                     int64\n",
       "creativity                         float64\n",
       "dribbles                             int64\n",
       "errors_leading_to_goal               int64\n",
       "errors_leading_to_goal_attempt       int64\n",
       "fouls                                int64\n",
       "goals_conceded                       int64\n",
       "goals_scored                         int64\n",
       "ict_index                          float64\n",
       "influence                          float64\n",
       "key_passes                           int64\n",
       "minutes                              int64\n",
       "offside                              int64\n",
       "open_play_crosses                    int64\n",
       "opponent_team                        int64\n",
       "own_goals                            int64\n",
       "penalties_conceded                   int64\n",
       "penalties_missed                     int64\n",
       "penalties_saved                      int64\n",
       "recoveries                           int64\n",
       "red_cards                            int64\n",
       "round                                int64\n",
       "saves                                int64\n",
       "selected                             int64\n",
       "tackled                              int64\n",
       "tackles                              int64\n",
       "target_missed                        int64\n",
       "team_a_score                         int64\n",
       "team_h_score                         int64\n",
       "threat                               int64\n",
       "total_points                         int64\n",
       "transfers_balance                    int64\n",
       "transfers_in                         int64\n",
       "transfers_out                        int64\n",
       "value                                int64\n",
       "was_home                              bool\n",
       "winning_goals                        int64\n",
       "yellow_cards                         int64\n",
       "team                                 int64\n",
       "position                             int64\n",
       "dtype: object"
      ]
     },
     "execution_count": 31,
     "metadata": {},
     "output_type": "execute_result"
    }
   ],
   "source": [
    "main_data.head()\n",
    "main_data.tail()\n",
    "\n",
    "\n",
    "main_data.dtypes"
   ]
  },
  {
   "cell_type": "markdown",
   "metadata": {},
   "source": [
    "Let’s understand the arguments one by one:\n",
    "\n",
    "- parse_dates: This specifies the column which contains the date-time information. As we say above, the column name is ‘Month’.\n",
    " \n",
    "- index_col: A key idea behind using Pandas for TS data is that the index has to be the variable depicting date-time information. So this argument tells pandas to use the ‘Month’ column as index.\n",
    " \n",
    "- date_parser: This specifies a function which converts an input string into datetime variable. Be default Pandas reads data in format ‘YYYY-MM-DD HH:MM:SS’. If the data is not in this format, the format has to be manually defined. Something similar to the dataparse function defined here can be used for this purpose."
   ]
  },
  {
   "cell_type": "markdown",
   "metadata": {},
   "source": [
    "# 2. Preprocessing"
   ]
  },
  {
   "cell_type": "markdown",
   "metadata": {},
   "source": [
    "In this section, I will prepare the dataset for feeding into LSTM network. Basically, I will do 4 things.\n",
    "\n",
    "1. Transform data to stationary\n",
    "2. Transform data to supervised learning\n",
    "3. Split the data into train and test\n",
    "4. Scale the data to (-1,1)"
   ]
  },
  {
   "cell_type": "markdown",
   "metadata": {},
   "source": [
    "# 3) Splitting Data"
   ]
  },
  {
   "cell_type": "markdown",
   "metadata": {},
   "source": [
    "## 3-1) Prepare Features and Labels  "
   ]
  },
  {
   "cell_type": "code",
   "execution_count": 61,
   "metadata": {},
   "outputs": [],
   "source": [
    "def create_train_test(data):\n",
    "    '''Create training and validation features and labels'''\n",
    "    data = shuffle(data)\n",
    "    a = round(len(data)*0.7)\n",
    "    \n",
    "    train, test = data.iloc[:a], data.iloc[a:]\n",
    "    \n",
    "    return train, test"
   ]
  },
  {
   "cell_type": "code",
   "execution_count": 62,
   "metadata": {},
   "outputs": [],
   "source": [
    "def normalization(data):\n",
    "    '''normalizing the data'''\n",
    "    \n",
    "    scaler = preprocessing.MinMaxScaler()\n",
    "    if len(data.columns) == 1:\n",
    "        data = data.values.reshape(-1, 1)\n",
    "    else:\n",
    "        pass\n",
    "    \n",
    "    scaled = scaler.fit_transform(data)\n",
    "    #scaled = pd.DataFrame(scaled, columns=data.columns, index = data.index)\n",
    "    \n",
    "    return scaled, scaler"
   ]
  },
  {
   "cell_type": "code",
   "execution_count": 92,
   "metadata": {},
   "outputs": [],
   "source": [
    "main_data = main_data.drop('name', axis=1)"
   ]
  },
  {
   "cell_type": "code",
   "execution_count": 122,
   "metadata": {},
   "outputs": [
    {
     "name": "stderr",
     "output_type": "stream",
     "text": [
      "D:\\Programming\\Anaconda\\envs\\tensorflow_env\\lib\\site-packages\\sklearn\\preprocessing\\data.py:323: DataConversionWarning: Data with input dtype bool, int64, float64 were all converted to float64 by MinMaxScaler.\n",
      "  return self.partial_fit(X, y)\n",
      "D:\\Programming\\Anaconda\\envs\\tensorflow_env\\lib\\site-packages\\sklearn\\preprocessing\\data.py:323: DataConversionWarning: Data with input dtype bool, int64, float64 were all converted to float64 by MinMaxScaler.\n",
      "  return self.partial_fit(X, y)\n"
     ]
    }
   ],
   "source": [
    "train, test = create_train_test(main_data_)\n",
    "normalized_train, scaler = normalization(train)\n",
    "normalized_test, scaler = normalization(test)\n"
   ]
  },
  {
   "cell_type": "code",
   "execution_count": 123,
   "metadata": {
    "scrolled": false
   },
   "outputs": [
    {
     "name": "stdout",
     "output_type": "stream",
     "text": [
      "shape of x_train_reshaped: (15253, 48), \n",
      "shape of y_train: (15253,), \n",
      "\n",
      "shape of x_test_reshaped: (6537, 1, 47), \n",
      "shape of y_test: (6537,)\n"
     ]
    }
   ],
   "source": [
    "print (f\"shape of x_train_reshaped: {normalized_train.shape}, \\nshape of y_train: {y_train.shape}, \\n\\nshape of x_test_reshaped: {x_test_reshaped.shape}, \\nshape of y_test: {y_test.shape}\")"
   ]
  },
  {
   "cell_type": "markdown",
   "metadata": {},
   "source": [
    "## 3-2) Reshape features"
   ]
  },
  {
   "cell_type": "raw",
   "metadata": {},
   "source": [
    "# multivariate data preparation\n",
    "\n",
    "# split a multivariate sequence into samples\n",
    "def split_sequences(sequences, n_steps):\n",
    "    X, y = list(), list()\n",
    "    for i in range(len(sequences)):\n",
    "        # find the end of this pattern\n",
    "        end_ix = i + n_steps\n",
    "        \n",
    "        # check if we are beyond the dataset\n",
    "        if end_ix > len(sequences):\n",
    "            break\n",
    "        # gather input and output parts of the pattern\n",
    "        seq_x, seq_y = sequences[i:end_ix, :-1], sequences[end_ix-1, -1]\n",
    "        X.append(seq_x)\n",
    "        y.append(seq_y)\n",
    "        \n",
    "    \n",
    "    return array(X), array(y)"
   ]
  },
  {
   "cell_type": "raw",
   "metadata": {},
   "source": [
    "# choose a number of time steps\n",
    "n_steps = 1\n",
    "\n",
    "# convert into input/output\n",
    "x_train_reshaped, y_train = split_sequences(normalized_train, n_steps)\n",
    "x_test_reshaped, y_test = split_sequences(normalized_test, n_steps)\n",
    "\n"
   ]
  },
  {
   "cell_type": "code",
   "execution_count": 124,
   "metadata": {
    "scrolled": false
   },
   "outputs": [
    {
     "name": "stdout",
     "output_type": "stream",
     "text": [
      "shape of x_train_reshaped: (15253, 1, 47), \n",
      "shape of y_train: (15253,), \n",
      "\n",
      "shape of x_test_reshaped: (6537, 1, 47), \n",
      "shape of y_test: (6537,)\n"
     ]
    }
   ],
   "source": [
    "print (f\"shape of x_train_reshaped: {x_train_reshaped.shape}, \\nshape of y_train: {y_train.shape}, \\n\\nshape of x_test_reshaped: {x_test_reshaped.shape}, \\nshape of y_test: {y_test.shape}\")"
   ]
  },
  {
   "cell_type": "markdown",
   "metadata": {},
   "source": [
    "# 4) Build and Train a Model"
   ]
  },
  {
   "cell_type": "code",
   "execution_count": 125,
   "metadata": {},
   "outputs": [
    {
     "name": "stdout",
     "output_type": "stream",
     "text": [
      "shape of number of timesteps: 1 \n",
      "number of features: 47 \n",
      "number of outputs: 1\n"
     ]
    }
   ],
   "source": [
    "n_timesteps, n_features, n_outputs = x_train_reshaped.shape[1], x_train_reshaped.shape[2], 1\n",
    "\n",
    "print (f\"shape of number of timesteps: {n_timesteps} \\nnumber of features: {n_features} \\nnumber of outputs: {n_outputs}\")"
   ]
  },
  {
   "cell_type": "markdown",
   "metadata": {},
   "source": [
    "## 4-1) First Model"
   ]
  },
  {
   "cell_type": "code",
   "execution_count": 126,
   "metadata": {
    "scrolled": true
   },
   "outputs": [
    {
     "data": {
      "text/plain": [
       "\"# Returns a compiled model identical to the previous one\\nmodel = load_model('E:\\\\Data Science\\\\Personal_Project\\\\RNN - Solar Farm\\\\model\\\\LSTM_Model.h5')\""
      ]
     },
     "execution_count": 126,
     "metadata": {},
     "output_type": "execute_result"
    }
   ],
   "source": [
    "'''# Returns a compiled model identical to the previous one\n",
    "model = load_model('E:\\Data Science\\Personal_Project\\RNN - Solar Farm\\model\\LSTM_Model.h5')'''"
   ]
  },
  {
   "cell_type": "code",
   "execution_count": 127,
   "metadata": {},
   "outputs": [],
   "source": [
    "# define model\n",
    "model_RNN = Sequential()\n",
    "model_RNN.add(SimpleRNN(286, activation='sigmoid', input_shape = (n_timesteps, n_features)))\n",
    "#model_RNN.add(Dropout(0.1))\n",
    "model_RNN.add(Dense(100, activation='sigmoid'))\n",
    "#model_RNN.add(Dropout(0.1))\n",
    "#model_RNN.add(Dense(50, activation='sigmoid'))\n",
    "model_RNN.add(Dense(n_outputs))\n",
    "\n",
    "model_RNN.compile(loss='mean_squared_error', optimizer='adam',  metrics=['accuracy'])"
   ]
  },
  {
   "cell_type": "code",
   "execution_count": 128,
   "metadata": {
    "scrolled": true
   },
   "outputs": [
    {
     "name": "stdout",
     "output_type": "stream",
     "text": [
      "_________________________________________________________________\n",
      "Layer (type)                 Output Shape              Param #   \n",
      "=================================================================\n",
      "simple_rnn_3 (SimpleRNN)     (None, 286)               95524     \n",
      "_________________________________________________________________\n",
      "dense_5 (Dense)              (None, 100)               28700     \n",
      "_________________________________________________________________\n",
      "dense_6 (Dense)              (None, 1)                 101       \n",
      "=================================================================\n",
      "Total params: 124,325\n",
      "Trainable params: 124,325\n",
      "Non-trainable params: 0\n",
      "_________________________________________________________________\n"
     ]
    }
   ],
   "source": [
    "model_RNN.summary()"
   ]
  },
  {
   "cell_type": "code",
   "execution_count": 129,
   "metadata": {},
   "outputs": [],
   "source": [
    "epochs = 700\n",
    "batch_size = 128\n",
    "verbose = 1\n",
    "# Set callback functions to early stop training and save the best model so far\n",
    "callbacks = [EarlyStopping(monitor='val_loss', patience=2)]"
   ]
  },
  {
   "cell_type": "code",
   "execution_count": 102,
   "metadata": {
    "scrolled": true
   },
   "outputs": [
    {
     "name": "stdout",
     "output_type": "stream",
     "text": [
      "Train on 12202 samples, validate on 3051 samples\n",
      "Epoch 1/700\n",
      "12202/12202 [==============================] - 1s 46us/step - loss: 0.0837 - acc: 0.1437 - val_loss: 0.0744 - val_acc: 0.1698\n",
      "Epoch 2/700\n",
      "12202/12202 [==============================] - 0s 22us/step - loss: 0.0685 - acc: 0.1810 - val_loss: 0.0656 - val_acc: 0.2068\n",
      "Epoch 3/700\n",
      "12202/12202 [==============================] - 0s 22us/step - loss: 0.0628 - acc: 0.1889 - val_loss: 0.0628 - val_acc: 0.2104\n",
      "Epoch 4/700\n",
      "12202/12202 [==============================] - 0s 22us/step - loss: 0.0630 - acc: 0.1855 - val_loss: 0.0840 - val_acc: 0.1740\n",
      "Epoch 5/700\n",
      "12202/12202 [==============================] - 0s 22us/step - loss: 0.0640 - acc: 0.1901 - val_loss: 0.0608 - val_acc: 0.2091\n",
      "Epoch 6/700\n",
      "12202/12202 [==============================] - 0s 23us/step - loss: 0.0592 - acc: 0.1973 - val_loss: 0.0593 - val_acc: 0.2117\n",
      "Epoch 7/700\n",
      "12202/12202 [==============================] - 0s 26us/step - loss: 0.0593 - acc: 0.1983 - val_loss: 0.0590 - val_acc: 0.2065\n",
      "Epoch 8/700\n",
      "12202/12202 [==============================] - 0s 25us/step - loss: 0.0583 - acc: 0.2014 - val_loss: 0.0586 - val_acc: 0.2134\n",
      "Epoch 9/700\n",
      "12202/12202 [==============================] - 0s 26us/step - loss: 0.0587 - acc: 0.1999 - val_loss: 0.0683 - val_acc: 0.1770\n",
      "Epoch 10/700\n",
      "12202/12202 [==============================] - 0s 34us/step - loss: 0.0591 - acc: 0.1998 - val_loss: 0.0730 - val_acc: 0.1672\n"
     ]
    }
   ],
   "source": [
    "# fit network\n",
    "history = model_RNN.fit(x_train_reshaped, y_train, epochs=epochs, batch_size=batch_size, verbose=verbose, validation_split = 0.2, callbacks=callbacks)"
   ]
  },
  {
   "cell_type": "code",
   "execution_count": 103,
   "metadata": {
    "scrolled": true
   },
   "outputs": [
    {
     "data": {
      "text/plain": [
       "Text(0.5, 1.0, 'model accuracy')"
      ]
     },
     "execution_count": 103,
     "metadata": {},
     "output_type": "execute_result"
    },
    {
     "data": {
      "text/plain": [
       "Text(0, 0.5, 'accuracy')"
      ]
     },
     "execution_count": 103,
     "metadata": {},
     "output_type": "execute_result"
    },
    {
     "data": {
      "text/plain": [
       "Text(0.5, 0, 'epoch')"
      ]
     },
     "execution_count": 103,
     "metadata": {},
     "output_type": "execute_result"
    },
    {
     "data": {
      "text/plain": [
       "<matplotlib.legend.Legend at 0x24eda6005c0>"
      ]
     },
     "execution_count": 103,
     "metadata": {},
     "output_type": "execute_result"
    },
    {
     "data": {
      "image/png": "[encoded data removed]",
      "text/plain": [
       "<Figure size 1440x432 with 1 Axes>"
      ]
     },
     "metadata": {
      "needs_background": "light"
     },
     "output_type": "display_data"
    },
    {
     "data": {
      "text/plain": [
       "[<matplotlib.lines.Line2D at 0x24edc014978>]"
      ]
     },
     "execution_count": 103,
     "metadata": {},
     "output_type": "execute_result"
    },
    {
     "data": {
      "text/plain": [
       "[<matplotlib.lines.Line2D at 0x24ed9d0d198>]"
      ]
     },
     "execution_count": 103,
     "metadata": {},
     "output_type": "execute_result"
    },
    {
     "data": {
      "text/plain": [
       "Text(0.5, 1.0, 'model loss')"
      ]
     },
     "execution_count": 103,
     "metadata": {},
     "output_type": "execute_result"
    },
    {
     "data": {
      "text/plain": [
       "Text(0, 0.5, 'loss')"
      ]
     },
     "execution_count": 103,
     "metadata": {},
     "output_type": "execute_result"
    },
    {
     "data": {
      "text/plain": [
       "Text(0.5, 0, 'epoch')"
      ]
     },
     "execution_count": 103,
     "metadata": {},
     "output_type": "execute_result"
    },
    {
     "data": {
      "text/plain": [
       "<matplotlib.legend.Legend at 0x24edc014e80>"
      ]
     },
     "execution_count": 103,
     "metadata": {},
     "output_type": "execute_result"
    },
    {
     "data": {
      "image/png": "[encoded data removed]",
      "text/plain": [
       "<Figure size 1440x432 with 1 Axes>"
      ]
     },
     "metadata": {
      "needs_background": "light"
     },
     "output_type": "display_data"
    }
   ],
   "source": [
    "# summarize history for accuracy\n",
    "#plt.plot(history.history['acc'])\n",
    "#plt.plot(history.history['val_acc'])\n",
    "plt.title('model accuracy')\n",
    "plt.ylabel('accuracy')\n",
    "plt.xlabel('epoch')\n",
    "plt.legend(['train', 'val'], loc='upper left')\n",
    "plt.show()\n",
    "# summarize history for loss\n",
    "plt.plot(history.history['loss'])\n",
    "plt.plot(history.history['val_loss'])\n",
    "plt.title('model loss')\n",
    "plt.ylabel('loss')\n",
    "plt.xlabel('epoch')\n",
    "plt.legend(['train', 'val'], loc='upper left')\n",
    "plt.show()"
   ]
  },
  {
   "cell_type": "code",
   "execution_count": 104,
   "metadata": {},
   "outputs": [
    {
     "data": {
      "text/plain": [
       "\"# Returns a compiled model identical to the previous one\\nmodel = load_model('E:\\\\Data Science\\\\Personal_Project\\\\RNN - Solar Farm\\\\model\\\\LSTM_Model.h5')\\n\\ny_predict = model.predict(x_test_reshaped, verbose)\""
      ]
     },
     "execution_count": 104,
     "metadata": {},
     "output_type": "execute_result"
    }
   ],
   "source": [
    "'''# Returns a compiled model identical to the previous one\n",
    "model = load_model('E:\\Data Science\\Personal_Project\\RNN - Solar Farm\\model\\LSTM_Model.h5')\n",
    "\n",
    "y_predict = model.predict(x_test_reshaped, verbose)'''"
   ]
  },
  {
   "cell_type": "code",
   "execution_count": 105,
   "metadata": {},
   "outputs": [
    {
     "data": {
      "text/plain": [
       "[0.08371705610602434,\n",
       " 0.06847052604639028,\n",
       " 0.06282376595314088,\n",
       " 0.06301655917761366,\n",
       " 0.06402963730711914,\n",
       " 0.05917074704911255,\n",
       " 0.05932053983812351,\n",
       " 0.058316055211453645,\n",
       " 0.05867508954144593,\n",
       " 0.0590677565432947]"
      ]
     },
     "execution_count": 105,
     "metadata": {},
     "output_type": "execute_result"
    }
   ],
   "source": [
    "history.history['loss']"
   ]
  },
  {
   "cell_type": "raw",
   "metadata": {},
   "source": [
    "from keras.models import load_model\n",
    "model_LSTM = load_model('D:\\\\OneDrive - Georgia State University\\\\Data Science\\\\AKDSPW\\\\Load_Energy_Consumption\\\\Result\\\\281.h5')\n"
   ]
  },
  {
   "cell_type": "code",
   "execution_count": 106,
   "metadata": {},
   "outputs": [],
   "source": [
    "y_predict = model_RNN.predict(x_test_reshaped, verbose)\n",
    "y_predict = y_predict.reshape(y_predict.shape[0],)"
   ]
  },
  {
   "cell_type": "code",
   "execution_count": 107,
   "metadata": {},
   "outputs": [],
   "source": [
    "comparison = pd.DataFrame(data=np.column_stack((y_test,y_predict)),columns=['actual','prediction'])\n",
    "comparison = comparison.set_index(test.index[n_steps-1:])"
   ]
  },
  {
   "cell_type": "raw",
   "metadata": {
    "scrolled": true
   },
   "source": [
    "y_predict = y_predict.reshape(len(y_predict),)\n",
    "\n",
    "comparison = pd.DataFrame({'actual':y_test, 'prediction':y_predict})\n",
    "comparison = comparison.set_index(test.index)\n",
    "comparison"
   ]
  },
  {
   "cell_type": "code",
   "execution_count": 119,
   "metadata": {},
   "outputs": [],
   "source": [
    "denormalizing_data = main_data.copy()\n",
    "denormalizing_data.drop(columns = ['total_points'], inplace = True)\n",
    "denormalizing_data['prediction'] = comparison['prediction']\n",
    "denormalizing_data.dropna(axis=0,inplace=True)\n",
    "denormalized_prediction = pd.DataFrame(scaler.inverse_transform(denormalizing_data), index=test.index[n_steps-1:], columns=denormalizing_data.columns)['prediction']\n",
    "\n",
    "denormalizing_actual = main_data.copy()\n",
    "denormalizing_actual.drop(columns = ['total_points'], inplace = True)\n",
    "denormalizing_actual['actual'] = comparison['actual']\n",
    "denormalizing_actual.dropna(axis=0,inplace=True)\n",
    "denormalized_actual = pd.DataFrame(scaler.inverse_transform(denormalizing_actual), index=test.index[n_steps-1:], columns=denormalizing_actual.columns)['actual']\n",
    "\n",
    "comparison = pd.concat([denormalized_actual, denormalized_prediction], axis=1)"
   ]
  },
  {
   "cell_type": "code",
   "execution_count": 120,
   "metadata": {},
   "outputs": [
    {
     "data": {
      "text/html": [
       "<div>\n",
       "<style scoped>\n",
       "    .dataframe tbody tr th:only-of-type {\n",
       "        vertical-align: middle;\n",
       "    }\n",
       "\n",
       "    .dataframe tbody tr th {\n",
       "        vertical-align: top;\n",
       "    }\n",
       "\n",
       "    .dataframe thead th {\n",
       "        text-align: right;\n",
       "    }\n",
       "</style>\n",
       "<table border=\"1\" class=\"dataframe\">\n",
       "  <thead>\n",
       "    <tr style=\"text-align: right;\">\n",
       "      <th></th>\n",
       "      <th></th>\n",
       "      <th>actual</th>\n",
       "      <th>prediction</th>\n",
       "    </tr>\n",
       "    <tr>\n",
       "      <th>id</th>\n",
       "      <th>fixture</th>\n",
       "      <th></th>\n",
       "      <th></th>\n",
       "    </tr>\n",
       "  </thead>\n",
       "  <tbody>\n",
       "    <tr>\n",
       "      <th>171</th>\n",
       "      <th>36</th>\n",
       "      <td>1.0</td>\n",
       "      <td>0.138193</td>\n",
       "    </tr>\n",
       "    <tr>\n",
       "      <th>152</th>\n",
       "      <th>62</th>\n",
       "      <td>1.0</td>\n",
       "      <td>0.718657</td>\n",
       "    </tr>\n",
       "    <tr>\n",
       "      <th>534</th>\n",
       "      <th>168</th>\n",
       "      <td>1.0</td>\n",
       "      <td>2.232332</td>\n",
       "    </tr>\n",
       "    <tr>\n",
       "      <th>225</th>\n",
       "      <th>41</th>\n",
       "      <td>1.0</td>\n",
       "      <td>2.265958</td>\n",
       "    </tr>\n",
       "    <tr>\n",
       "      <th>433</th>\n",
       "      <th>230</th>\n",
       "      <td>1.0</td>\n",
       "      <td>2.274250</td>\n",
       "    </tr>\n",
       "    <tr>\n",
       "      <th>195</th>\n",
       "      <th>254</th>\n",
       "      <td>1.0</td>\n",
       "      <td>2.194555</td>\n",
       "    </tr>\n",
       "    <tr>\n",
       "      <th>72</th>\n",
       "      <th>8</th>\n",
       "      <td>1.0</td>\n",
       "      <td>2.280887</td>\n",
       "    </tr>\n",
       "    <tr>\n",
       "      <th>73</th>\n",
       "      <th>263</th>\n",
       "      <td>1.0</td>\n",
       "      <td>2.246091</td>\n",
       "    </tr>\n",
       "    <tr>\n",
       "      <th>330</th>\n",
       "      <th>286</th>\n",
       "      <td>1.0</td>\n",
       "      <td>2.237457</td>\n",
       "    </tr>\n",
       "    <tr>\n",
       "      <th>132</th>\n",
       "      <th>244</th>\n",
       "      <td>1.0</td>\n",
       "      <td>2.282689</td>\n",
       "    </tr>\n",
       "    <tr>\n",
       "      <th>300</th>\n",
       "      <th>377</th>\n",
       "      <td>1.0</td>\n",
       "      <td>2.287406</td>\n",
       "    </tr>\n",
       "    <tr>\n",
       "      <th>32</th>\n",
       "      <th>20</th>\n",
       "      <td>1.0</td>\n",
       "      <td>2.256065</td>\n",
       "    </tr>\n",
       "    <tr>\n",
       "      <th>203</th>\n",
       "      <th>72</th>\n",
       "      <td>1.0</td>\n",
       "      <td>2.205590</td>\n",
       "    </tr>\n",
       "    <tr>\n",
       "      <th>342</th>\n",
       "      <th>239</th>\n",
       "      <td>1.0</td>\n",
       "      <td>2.199691</td>\n",
       "    </tr>\n",
       "    <tr>\n",
       "      <th>452</th>\n",
       "      <th>308</th>\n",
       "      <td>1.0</td>\n",
       "      <td>2.208004</td>\n",
       "    </tr>\n",
       "    <tr>\n",
       "      <th>170</th>\n",
       "      <th>272</th>\n",
       "      <td>1.0</td>\n",
       "      <td>1.574483</td>\n",
       "    </tr>\n",
       "    <tr>\n",
       "      <th>153</th>\n",
       "      <th>73</th>\n",
       "      <td>1.0</td>\n",
       "      <td>0.807437</td>\n",
       "    </tr>\n",
       "    <tr>\n",
       "      <th>41</th>\n",
       "      <th>202</th>\n",
       "      <td>1.0</td>\n",
       "      <td>0.557974</td>\n",
       "    </tr>\n",
       "    <tr>\n",
       "      <th>430</th>\n",
       "      <th>230</th>\n",
       "      <td>1.0</td>\n",
       "      <td>0.456710</td>\n",
       "    </tr>\n",
       "    <tr>\n",
       "      <th>330</th>\n",
       "      <th>78</th>\n",
       "      <td>1.0</td>\n",
       "      <td>1.259811</td>\n",
       "    </tr>\n",
       "    <tr>\n",
       "      <th>470</th>\n",
       "      <th>304</th>\n",
       "      <td>1.0</td>\n",
       "      <td>0.825957</td>\n",
       "    </tr>\n",
       "    <tr>\n",
       "      <th>367</th>\n",
       "      <th>48</th>\n",
       "      <td>1.0</td>\n",
       "      <td>-0.705992</td>\n",
       "    </tr>\n",
       "    <tr>\n",
       "      <th>136</th>\n",
       "      <th>294</th>\n",
       "      <td>1.0</td>\n",
       "      <td>1.888289</td>\n",
       "    </tr>\n",
       "    <tr>\n",
       "      <th>333</th>\n",
       "      <th>327</th>\n",
       "      <td>1.0</td>\n",
       "      <td>1.319841</td>\n",
       "    </tr>\n",
       "    <tr>\n",
       "      <th>72</th>\n",
       "      <th>313</th>\n",
       "      <td>1.0</td>\n",
       "      <td>-0.761556</td>\n",
       "    </tr>\n",
       "    <tr>\n",
       "      <th>540</th>\n",
       "      <th>89</th>\n",
       "      <td>2.0</td>\n",
       "      <td>2.377631</td>\n",
       "    </tr>\n",
       "    <tr>\n",
       "      <th>461</th>\n",
       "      <th>194</th>\n",
       "      <td>2.0</td>\n",
       "      <td>2.414007</td>\n",
       "    </tr>\n",
       "    <tr>\n",
       "      <th>500</th>\n",
       "      <th>376</th>\n",
       "      <td>2.0</td>\n",
       "      <td>2.385400</td>\n",
       "    </tr>\n",
       "    <tr>\n",
       "      <th>2</th>\n",
       "      <th>248</th>\n",
       "      <td>2.0</td>\n",
       "      <td>2.363342</td>\n",
       "    </tr>\n",
       "    <tr>\n",
       "      <th>278</th>\n",
       "      <th>248</th>\n",
       "      <td>2.0</td>\n",
       "      <td>2.380549</td>\n",
       "    </tr>\n",
       "    <tr>\n",
       "      <th>...</th>\n",
       "      <th>...</th>\n",
       "      <td>...</td>\n",
       "      <td>...</td>\n",
       "    </tr>\n",
       "    <tr>\n",
       "      <th>155</th>\n",
       "      <th>113</th>\n",
       "      <td>2.0</td>\n",
       "      <td>2.068079</td>\n",
       "    </tr>\n",
       "    <tr>\n",
       "      <th>422</th>\n",
       "      <th>376</th>\n",
       "      <td>2.0</td>\n",
       "      <td>2.033984</td>\n",
       "    </tr>\n",
       "    <tr>\n",
       "      <th>533</th>\n",
       "      <th>106</th>\n",
       "      <td>2.0</td>\n",
       "      <td>1.943661</td>\n",
       "    </tr>\n",
       "    <tr>\n",
       "      <th>169</th>\n",
       "      <th>97</th>\n",
       "      <td>2.0</td>\n",
       "      <td>2.024949</td>\n",
       "    </tr>\n",
       "    <tr>\n",
       "      <th>237</th>\n",
       "      <th>356</th>\n",
       "      <td>2.0</td>\n",
       "      <td>1.939913</td>\n",
       "    </tr>\n",
       "    <tr>\n",
       "      <th>459</th>\n",
       "      <th>161</th>\n",
       "      <td>2.0</td>\n",
       "      <td>2.024938</td>\n",
       "    </tr>\n",
       "    <tr>\n",
       "      <th>212</th>\n",
       "      <th>244</th>\n",
       "      <td>2.0</td>\n",
       "      <td>2.064790</td>\n",
       "    </tr>\n",
       "    <tr>\n",
       "      <th>11</th>\n",
       "      <th>1</th>\n",
       "      <td>2.0</td>\n",
       "      <td>2.016919</td>\n",
       "    </tr>\n",
       "    <tr>\n",
       "      <th>532</th>\n",
       "      <th>345</th>\n",
       "      <td>2.0</td>\n",
       "      <td>2.011404</td>\n",
       "    </tr>\n",
       "    <tr>\n",
       "      <th>294</th>\n",
       "      <th>187</th>\n",
       "      <td>3.0</td>\n",
       "      <td>2.203049</td>\n",
       "    </tr>\n",
       "    <tr>\n",
       "      <th>502</th>\n",
       "      <th>369</th>\n",
       "      <td>3.0</td>\n",
       "      <td>2.367091</td>\n",
       "    </tr>\n",
       "    <tr>\n",
       "      <th>300</th>\n",
       "      <th>286</th>\n",
       "      <td>3.0</td>\n",
       "      <td>2.174920</td>\n",
       "    </tr>\n",
       "    <tr>\n",
       "      <th>444</th>\n",
       "      <th>85</th>\n",
       "      <td>3.0</td>\n",
       "      <td>2.160245</td>\n",
       "    </tr>\n",
       "    <tr>\n",
       "      <th>212</th>\n",
       "      <th>57</th>\n",
       "      <td>3.0</td>\n",
       "      <td>2.220270</td>\n",
       "    </tr>\n",
       "    <tr>\n",
       "      <th>204</th>\n",
       "      <th>234</th>\n",
       "      <td>4.0</td>\n",
       "      <td>2.192457</td>\n",
       "    </tr>\n",
       "    <tr>\n",
       "      <th>498</th>\n",
       "      <th>155</th>\n",
       "      <td>2.0</td>\n",
       "      <td>2.118515</td>\n",
       "    </tr>\n",
       "    <tr>\n",
       "      <th>1</th>\n",
       "      <th>81</th>\n",
       "      <td>3.0</td>\n",
       "      <td>2.073822</td>\n",
       "    </tr>\n",
       "    <tr>\n",
       "      <th>441</th>\n",
       "      <th>15</th>\n",
       "      <td>3.0</td>\n",
       "      <td>2.104535</td>\n",
       "    </tr>\n",
       "    <tr>\n",
       "      <th>361</th>\n",
       "      <th>203</th>\n",
       "      <td>3.0</td>\n",
       "      <td>2.094213</td>\n",
       "    </tr>\n",
       "    <tr>\n",
       "      <th>460</th>\n",
       "      <th>329</th>\n",
       "      <td>3.0</td>\n",
       "      <td>2.025415</td>\n",
       "    </tr>\n",
       "    <tr>\n",
       "      <th>283</th>\n",
       "      <th>173</th>\n",
       "      <td>3.0</td>\n",
       "      <td>2.060892</td>\n",
       "    </tr>\n",
       "    <tr>\n",
       "      <th>290</th>\n",
       "      <th>158</th>\n",
       "      <td>3.0</td>\n",
       "      <td>2.009289</td>\n",
       "    </tr>\n",
       "    <tr>\n",
       "      <th>41</th>\n",
       "      <th>271</th>\n",
       "      <td>3.0</td>\n",
       "      <td>2.184289</td>\n",
       "    </tr>\n",
       "    <tr>\n",
       "      <th>514</th>\n",
       "      <th>18</th>\n",
       "      <td>3.0</td>\n",
       "      <td>2.195129</td>\n",
       "    </tr>\n",
       "    <tr>\n",
       "      <th>551</th>\n",
       "      <th>209</th>\n",
       "      <td>3.0</td>\n",
       "      <td>2.161488</td>\n",
       "    </tr>\n",
       "    <tr>\n",
       "      <th>117</th>\n",
       "      <th>314</th>\n",
       "      <td>4.0</td>\n",
       "      <td>2.387259</td>\n",
       "    </tr>\n",
       "    <tr>\n",
       "      <th>165</th>\n",
       "      <th>22</th>\n",
       "      <td>1.0</td>\n",
       "      <td>0.741235</td>\n",
       "    </tr>\n",
       "    <tr>\n",
       "      <th>342</th>\n",
       "      <th>217</th>\n",
       "      <td>3.0</td>\n",
       "      <td>2.161490</td>\n",
       "    </tr>\n",
       "    <tr>\n",
       "      <th>117</th>\n",
       "      <th>265</th>\n",
       "      <td>3.0</td>\n",
       "      <td>2.185941</td>\n",
       "    </tr>\n",
       "    <tr>\n",
       "      <th>450</th>\n",
       "      <th>372</th>\n",
       "      <td>3.0</td>\n",
       "      <td>2.165884</td>\n",
       "    </tr>\n",
       "  </tbody>\n",
       "</table>\n",
       "<p>6537 rows × 2 columns</p>\n",
       "</div>"
      ],
      "text/plain": [
       "             actual  prediction\n",
       "id  fixture                    \n",
       "171 36          1.0    0.138193\n",
       "152 62          1.0    0.718657\n",
       "534 168         1.0    2.232332\n",
       "225 41          1.0    2.265958\n",
       "433 230         1.0    2.274250\n",
       "195 254         1.0    2.194555\n",
       "72  8           1.0    2.280887\n",
       "73  263         1.0    2.246091\n",
       "330 286         1.0    2.237457\n",
       "132 244         1.0    2.282689\n",
       "300 377         1.0    2.287406\n",
       "32  20          1.0    2.256065\n",
       "203 72          1.0    2.205590\n",
       "342 239         1.0    2.199691\n",
       "452 308         1.0    2.208004\n",
       "170 272         1.0    1.574483\n",
       "153 73          1.0    0.807437\n",
       "41  202         1.0    0.557974\n",
       "430 230         1.0    0.456710\n",
       "330 78          1.0    1.259811\n",
       "470 304         1.0    0.825957\n",
       "367 48          1.0   -0.705992\n",
       "136 294         1.0    1.888289\n",
       "333 327         1.0    1.319841\n",
       "72  313         1.0   -0.761556\n",
       "540 89          2.0    2.377631\n",
       "461 194         2.0    2.414007\n",
       "500 376         2.0    2.385400\n",
       "2   248         2.0    2.363342\n",
       "278 248         2.0    2.380549\n",
       "...             ...         ...\n",
       "155 113         2.0    2.068079\n",
       "422 376         2.0    2.033984\n",
       "533 106         2.0    1.943661\n",
       "169 97          2.0    2.024949\n",
       "237 356         2.0    1.939913\n",
       "459 161         2.0    2.024938\n",
       "212 244         2.0    2.064790\n",
       "11  1           2.0    2.016919\n",
       "532 345         2.0    2.011404\n",
       "294 187         3.0    2.203049\n",
       "502 369         3.0    2.367091\n",
       "300 286         3.0    2.174920\n",
       "444 85          3.0    2.160245\n",
       "212 57          3.0    2.220270\n",
       "204 234         4.0    2.192457\n",
       "498 155         2.0    2.118515\n",
       "1   81          3.0    2.073822\n",
       "441 15          3.0    2.104535\n",
       "361 203         3.0    2.094213\n",
       "460 329         3.0    2.025415\n",
       "283 173         3.0    2.060892\n",
       "290 158         3.0    2.009289\n",
       "41  271         3.0    2.184289\n",
       "514 18          3.0    2.195129\n",
       "551 209         3.0    2.161488\n",
       "117 314         4.0    2.387259\n",
       "165 22          1.0    0.741235\n",
       "342 217         3.0    2.161490\n",
       "117 265         3.0    2.185941\n",
       "450 372         3.0    2.165884\n",
       "\n",
       "[6537 rows x 2 columns]"
      ]
     },
     "execution_count": 120,
     "metadata": {},
     "output_type": "execute_result"
    }
   ],
   "source": [
    "comparison"
   ]
  },
  {
   "cell_type": "code",
   "execution_count": 121,
   "metadata": {
    "scrolled": false
   },
   "outputs": [
    {
     "data": {
      "text/plain": [
       "<matplotlib.axes._subplots.AxesSubplot at 0x24edbd1aa90>"
      ]
     },
     "execution_count": 121,
     "metadata": {},
     "output_type": "execute_result"
    },
    {
     "data": {
      "image/png": "[encoded data removed]",
      "text/plain": [
       "<Figure size 1440x432 with 1 Axes>"
      ]
     },
     "metadata": {
      "needs_background": "light"
     },
     "output_type": "display_data"
    }
   ],
   "source": [
    "comparison.plot(style=['.','-'])"
   ]
  },
  {
   "cell_type": "code",
   "execution_count": 122,
   "metadata": {},
   "outputs": [],
   "source": [
    "import numpy as np\n",
    "import math\n",
    "from sklearn.metrics import mean_squared_error, mean_absolute_error\n",
    "\n",
    "def mean_absolute_percentage_error(y_true, y_pred): \n",
    "    y_true, y_pred = np.array(y_true), np.array(y_pred)\n",
    "    return np.mean(np.abs((y_true - y_pred) / y_true)) * 100"
   ]
  },
  {
   "cell_type": "code",
   "execution_count": 123,
   "metadata": {},
   "outputs": [
    {
     "name": "stdout",
     "output_type": "stream",
     "text": [
      "\n",
      "RMSE: 47.89844692915446\n",
      "MAE: 20.703022823489544\n"
     ]
    },
    {
     "name": "stderr",
     "output_type": "stream",
     "text": [
      "D:\\Programming\\Anaconda\\envs\\tensorflow_env\\lib\\site-packages\\ipykernel_launcher.py:7: RuntimeWarning: divide by zero encountered in true_divide\n",
      "  import sys\n"
     ]
    }
   ],
   "source": [
    "new_df = comparison\n",
    "mse = mean_squared_error(new_df['actual'], new_df['prediction'])\n",
    "mape = mean_absolute_percentage_error(new_df['actual'], new_df['prediction'])\n",
    "mae = mean_absolute_error(new_df['actual'], new_df['prediction'])\n",
    "\n",
    "#mean \n",
    "\n",
    "print(f'\\nRMSE: {math.sqrt(mse)}\\nMAE: {mae}')  "
   ]
  },
  {
   "cell_type": "code",
   "execution_count": null,
   "metadata": {},
   "outputs": [],
   "source": []
  },
  {
   "cell_type": "code",
   "execution_count": 81,
   "metadata": {},
   "outputs": [],
   "source": [
    "# Saving the result\n",
    "comparison.to_csv(mypath + 'Result\\\\CNN_' + str(round((mae), 4)) + '.csv', index = True)"
   ]
  },
  {
   "cell_type": "code",
   "execution_count": 82,
   "metadata": {},
   "outputs": [],
   "source": [
    "# Creates a HDF5 file 'my_model.h5'\n",
    "model_RNN.save(mypath + 'Model\\\\CNN_' + str(round((mae), 4))  + '.h5')\n",
    "\n",
    "# Deletes the existing model\n",
    "# del model  \n"
   ]
  },
  {
   "cell_type": "markdown",
   "metadata": {},
   "source": [
    "# For Improvements:"
   ]
  },
  {
   "cell_type": "raw",
   "metadata": {},
   "source": [
    "2) Feature extraction - importance test.\n",
    "4) cluster based forecasting (spri,summ,fall,wint)"
   ]
  }
 ],
 "metadata": {
  "kernelspec": {
   "display_name": "Python 3",
   "language": "python",
   "name": "python3"
  },
  "language_info": {
   "codemirror_mode": {
    "name": "ipython",
    "version": 3
   },
   "file_extension": ".py",
   "mimetype": "text/x-python",
   "name": "python",
   "nbconvert_exporter": "python",
   "pygments_lexer": "ipython3",
   "version": "3.6.8"
  }
 },
 "nbformat": 4,
 "nbformat_minor": 2
}
