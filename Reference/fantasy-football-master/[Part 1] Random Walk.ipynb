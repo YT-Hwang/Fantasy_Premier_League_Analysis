{
 "cells": [
  {
   "cell_type": "markdown",
   "metadata": {},
   "source": [
    "# Optimize Season Points\n",
    " - Assume every player will perform and do exactly the same as last year\n",
    " - yup... very strong assumption\n",
    " - Cost of 11 players must be below £100\n",
    " - Only 1 GK\n",
    " - 3 to 5 DEF\n",
    " - 3 to 5 MID\n",
    " - 1 to 3 STR\n",
    " - Captain gets X2 points\n",
    " - Player with most points is captain throughout the whole year"
   ]
  },
  {
   "cell_type": "code",
   "execution_count": 1,
   "metadata": {
    "collapsed": true
   },
   "outputs": [],
   "source": [
    "import pandas as pd\n",
    "import numpy as np\n",
    "from scipy.optimize import minimize\n",
    "import matplotlib.pyplot as plt\n",
    "import matplotlib.style as style\n",
    "import seaborn as sns\n",
    "\n",
    "sns.set()\n",
    "style.use('fivethirtyeight')\n",
    "%matplotlib inline"
   ]
  },
  {
   "cell_type": "code",
   "execution_count": 2,
   "metadata": {
    "collapsed": true
   },
   "outputs": [],
   "source": [
    "data = pd.read_csv(\"data/clean-data.csv\")"
   ]
  },
  {
   "cell_type": "code",
   "execution_count": 3,
   "metadata": {
    "collapsed": true
   },
   "outputs": [],
   "source": [
    "N = data.shape[0]\n",
    "POINTS = np.array(data.Points)\n",
    "CALC_POINTS = np.array(data['Calc Points'])\n",
    "COST = np.array(data.Cost)\n",
    "POSITION = np.array(data.Position)"
   ]
  },
  {
   "cell_type": "code",
   "execution_count": 4,
   "metadata": {
    "collapsed": true
   },
   "outputs": [],
   "source": [
    "def random_walk(n):\n",
    "    return np.random.rand(11) * n\n",
    "\n",
    "def to_int(x):\n",
    "    return (x - 0.5).astype(int)\n",
    "\n",
    "def objective(x):\n",
    "    x_int = to_int(x)\n",
    "    points11 = POINTS[x_int]\n",
    "    return -(points11.sum() + points11.max())\n",
    "\n",
    "def constraint_cost(x):\n",
    "    # Cost is less than £100\n",
    "    # -(sum(cost) - 100) >= 0\n",
    "    x_int = to_int(x)\n",
    "    return -(COST[x_int].sum() - 100.0)\n",
    "\n",
    "def constraint_unique(x):\n",
    "    n1 = x.size\n",
    "    n2 = np.unique(to_int(x)).size\n",
    "    return n1 - n2\n",
    "\n",
    "def constraint_gk(x):\n",
    "    # Only 1 GK\n",
    "    # count('GK') - 1 = 0\n",
    "    x_int = to_int(x)\n",
    "    return (POSITION[x_int] == 'GK').sum() - 1\n",
    "    \n",
    "def constraint_def_3(x):\n",
    "    # 3to5 DEF\n",
    "    # count('DEF') - 3 >= 0 \n",
    "    x_int = to_int(x)\n",
    "    return (POSITION[x_int] == 'DEF').sum() - 3\n",
    "\n",
    "def constraint_def_5(x):\n",
    "    # 3to5 DEF\n",
    "    # -(count('DEF') - 5) >= 0 \n",
    "    x_int = to_int(x)\n",
    "    return -((POSITION[x_int] == 'DEF').sum() - 5)\n",
    "\n",
    "def constraint_mid_3(x):\n",
    "    # 3to5 MID\n",
    "    # count('MID') - 3 >= 0 \n",
    "    x_int = to_int(x)\n",
    "    return (POSITION[x_int] == 'MID').sum() - 3\n",
    "\n",
    "def constraint_mid_5(x):\n",
    "    # 3to5 MID\n",
    "    # -(count('MID') - 5) >= 0 \n",
    "    x_int = to_int(x)\n",
    "    return -((POSITION[x_int] == 'MID').sum() - 5)\n",
    "\n",
    "def constraint_str_1(x):\n",
    "    # 1to3 STR\n",
    "    # count('STR') - 1 >= 0 \n",
    "    x_int = to_int(x)\n",
    "    return (POSITION[x_int] == 'STR').sum() - 1\n",
    "\n",
    "def constraint_str_3(x):\n",
    "    # 1to3 STR\n",
    "    # -(count('STR') - 3) >= 0 \n",
    "    x_int = to_int(x)\n",
    "    return -((POSITION[x_int] == 'STR').sum() - 3)\n",
    "\n",
    "def constraint_all(x):\n",
    "    test = [constraint_cost(x) >= 0,\n",
    "            constraint_unique(x) == 0,\n",
    "            constraint_gk(x) == 0,\n",
    "            constraint_def_3(x) >= 0,\n",
    "            constraint_def_5(x) >= 0,\n",
    "            constraint_mid_3(x) >= 0,\n",
    "            constraint_mid_5(x) >= 0,\n",
    "            constraint_str_1(x) >= 0,\n",
    "            constraint_str_3(x) >= 0]\n",
    "    return(all(test))"
   ]
  },
  {
   "cell_type": "markdown",
   "metadata": {},
   "source": [
    "## Optimization Strategy 1\n",
    " - Randomly pick 11 players in the lineup\n",
    " - Repeat 10,000 times\n",
    " - Filter lineup with correct constraints\n",
    " - Pick lineup with max points"
   ]
  },
  {
   "cell_type": "code",
   "execution_count": 20,
   "metadata": {},
   "outputs": [],
   "source": [
    "np.random.seed(0)\n",
    "TRIALS = 10000\n",
    "lineup = []\n",
    "total_points = []\n",
    "constraint_test = []\n",
    "for i in range(TRIALS):\n",
    "    x = random_walk(N)\n",
    "    lineup.append(x)\n",
    "    total_points.append(-objective(x))\n",
    "    constraint_test.append(constraint_all(x))"
   ]
  },
  {
   "cell_type": "code",
   "execution_count": 21,
   "metadata": {
    "collapsed": true
   },
   "outputs": [],
   "source": [
    "trial_data = pd.DataFrame()\n",
    "trial_data['Lineup'] = lineup\n",
    "trial_data['Points'] = total_points\n",
    "trial_data['Constraints'] = constraint_test\n",
    "trial_data = (trial_data\n",
    "              .sort_values('Points', ascending=True)\n",
    "              .reset_index(drop=True))\n",
    "trial_data['Trials'] = range(TRIALS)"
   ]
  },
  {
   "cell_type": "code",
   "execution_count": 22,
   "metadata": {},
   "outputs": [
    {
     "data": {
      "image/png": "[encoded data removed]",
      "text/plain": [
       "<Figure size 432x288 with 1 Axes>"
      ]
     },
     "metadata": {},
     "output_type": "display_data"
    }
   ],
   "source": [
    "cmap = sns.cubehelix_palette(rot=-.2, as_cmap=True)\n",
    "ax = sns.scatterplot(x=\"Trials\", y=\"Points\",\n",
    "                     hue=\"Constraints\",\n",
    "                     hue_order=[True, False],\n",
    "                     data=trial_data)"
   ]
  },
  {
   "cell_type": "code",
   "execution_count": 23,
   "metadata": {
    "collapsed": true
   },
   "outputs": [],
   "source": [
    "max_index = (trial_data\n",
    "             .query('Constraints')\n",
    "             ['Points']\n",
    "             .idxmax())\n",
    "player_index = to_int(trial_data.Lineup[max_index])"
   ]
  },
  {
   "cell_type": "code",
   "execution_count": 24,
   "metadata": {
    "collapsed": true
   },
   "outputs": [],
   "source": [
    "FINAL_POINTS = trial_data.iloc[max_index, 1]\n",
    "PASS_CONSTRAINTS = trial_data.iloc[max_index, 2]\n",
    "FINAL_XI = (data\n",
    "            .iloc[player_index,:]\n",
    "            [['Player', 'Position', 'Cost', 'Points']]\n",
    "            .sort_values(\"Position\")\n",
    "            .reset_index(drop=True))\n",
    "FINAL_COST = FINAL_XI['Cost'].sum()"
   ]
  },
  {
   "cell_type": "code",
   "execution_count": 25,
   "metadata": {},
   "outputs": [
    {
     "name": "stdout",
     "output_type": "stream",
     "text": [
      "Spend £97.7 for expected total points 1831.0 and passed all constraints True\n"
     ]
    },
    {
     "data": {
      "text/html": [
       "<div>\n",
       "<style scoped>\n",
       "    .dataframe tbody tr th:only-of-type {\n",
       "        vertical-align: middle;\n",
       "    }\n",
       "\n",
       "    .dataframe tbody tr th {\n",
       "        vertical-align: top;\n",
       "    }\n",
       "\n",
       "    .dataframe thead th {\n",
       "        text-align: right;\n",
       "    }\n",
       "</style>\n",
       "<table border=\"1\" class=\"dataframe\">\n",
       "  <thead>\n",
       "    <tr style=\"text-align: right;\">\n",
       "      <th></th>\n",
       "      <th>Player</th>\n",
       "      <th>Position</th>\n",
       "      <th>Cost</th>\n",
       "      <th>Points</th>\n",
       "    </tr>\n",
       "  </thead>\n",
       "  <tbody>\n",
       "    <tr>\n",
       "      <th>0</th>\n",
       "      <td>LOVREN, D</td>\n",
       "      <td>DEF</td>\n",
       "      <td>8.7</td>\n",
       "      <td>151.0</td>\n",
       "    </tr>\n",
       "    <tr>\n",
       "      <th>1</th>\n",
       "      <td>BERTRAND, R</td>\n",
       "      <td>DEF</td>\n",
       "      <td>8.2</td>\n",
       "      <td>117.0</td>\n",
       "    </tr>\n",
       "    <tr>\n",
       "      <th>2</th>\n",
       "      <td>DANILO</td>\n",
       "      <td>DEF</td>\n",
       "      <td>8.4</td>\n",
       "      <td>126.0</td>\n",
       "    </tr>\n",
       "    <tr>\n",
       "      <th>3</th>\n",
       "      <td>SHAW, L</td>\n",
       "      <td>DEF</td>\n",
       "      <td>7.8</td>\n",
       "      <td>55.0</td>\n",
       "    </tr>\n",
       "    <tr>\n",
       "      <th>4</th>\n",
       "      <td>MORAES, E</td>\n",
       "      <td>GK</td>\n",
       "      <td>7.9</td>\n",
       "      <td>188.0</td>\n",
       "    </tr>\n",
       "    <tr>\n",
       "      <th>5</th>\n",
       "      <td>DAVIES, T</td>\n",
       "      <td>MID</td>\n",
       "      <td>7.6</td>\n",
       "      <td>72.0</td>\n",
       "    </tr>\n",
       "    <tr>\n",
       "      <th>6</th>\n",
       "      <td>BRADY, R</td>\n",
       "      <td>MID</td>\n",
       "      <td>7.3</td>\n",
       "      <td>51.0</td>\n",
       "    </tr>\n",
       "    <tr>\n",
       "      <th>7</th>\n",
       "      <td>PRITCHARD, A</td>\n",
       "      <td>MID</td>\n",
       "      <td>7.3</td>\n",
       "      <td>42.0</td>\n",
       "    </tr>\n",
       "    <tr>\n",
       "      <th>8</th>\n",
       "      <td>FIRMINO, R</td>\n",
       "      <td>STR</td>\n",
       "      <td>12.2</td>\n",
       "      <td>193.0</td>\n",
       "    </tr>\n",
       "    <tr>\n",
       "      <th>9</th>\n",
       "      <td>AUSTIN, C</td>\n",
       "      <td>STR</td>\n",
       "      <td>9.4</td>\n",
       "      <td>80.0</td>\n",
       "    </tr>\n",
       "    <tr>\n",
       "      <th>10</th>\n",
       "      <td>SALAH, M</td>\n",
       "      <td>STR</td>\n",
       "      <td>12.9</td>\n",
       "      <td>378.0</td>\n",
       "    </tr>\n",
       "  </tbody>\n",
       "</table>\n",
       "</div>"
      ],
      "text/plain": [
       "          Player Position  Cost  Points\n",
       "0      LOVREN, D      DEF   8.7   151.0\n",
       "1    BERTRAND, R      DEF   8.2   117.0\n",
       "2         DANILO      DEF   8.4   126.0\n",
       "3        SHAW, L      DEF   7.8    55.0\n",
       "4      MORAES, E       GK   7.9   188.0\n",
       "5      DAVIES, T      MID   7.6    72.0\n",
       "6       BRADY, R      MID   7.3    51.0\n",
       "7   PRITCHARD, A      MID   7.3    42.0\n",
       "8     FIRMINO, R      STR  12.2   193.0\n",
       "9      AUSTIN, C      STR   9.4    80.0\n",
       "10      SALAH, M      STR  12.9   378.0"
      ]
     },
     "execution_count": 25,
     "metadata": {},
     "output_type": "execute_result"
    }
   ],
   "source": [
    "print((\"Spend £{} for expected total points {} \"\n",
    "      + \"and passed all constraints {}\")\n",
    "      .format(FINAL_COST, FINAL_POINTS, PASS_CONSTRAINTS))\n",
    "FINAL_XI"
   ]
  },
  {
   "cell_type": "code",
   "execution_count": 10,
   "metadata": {
    "scrolled": false
   },
   "outputs": [
    {
     "name": "stdout",
     "output_type": "stream",
     "text": [
      "Spend £96.39999999999999 for expected total points 1936.0 and passed all constraints True\n"
     ]
    },
    {
     "data": {
      "text/html": [
       "<div>\n",
       "<style scoped>\n",
       "    .dataframe tbody tr th:only-of-type {\n",
       "        vertical-align: middle;\n",
       "    }\n",
       "\n",
       "    .dataframe tbody tr th {\n",
       "        vertical-align: top;\n",
       "    }\n",
       "\n",
       "    .dataframe thead th {\n",
       "        text-align: right;\n",
       "    }\n",
       "</style>\n",
       "<table border=\"1\" class=\"dataframe\">\n",
       "  <thead>\n",
       "    <tr style=\"text-align: right;\">\n",
       "      <th></th>\n",
       "      <th>Player</th>\n",
       "      <th>Position</th>\n",
       "      <th>Cost</th>\n",
       "      <th>Points</th>\n",
       "    </tr>\n",
       "  </thead>\n",
       "  <tbody>\n",
       "    <tr>\n",
       "      <th>0</th>\n",
       "      <td>OTAMENDI, N</td>\n",
       "      <td>DEF</td>\n",
       "      <td>10.2</td>\n",
       "      <td>244.0</td>\n",
       "    </tr>\n",
       "    <tr>\n",
       "      <th>1</th>\n",
       "      <td>BOLY, W</td>\n",
       "      <td>DEF</td>\n",
       "      <td>6.1</td>\n",
       "      <td>0.0</td>\n",
       "    </tr>\n",
       "    <tr>\n",
       "      <th>2</th>\n",
       "      <td>DAVIES, B</td>\n",
       "      <td>DEF</td>\n",
       "      <td>9.6</td>\n",
       "      <td>157.0</td>\n",
       "    </tr>\n",
       "    <tr>\n",
       "      <th>3</th>\n",
       "      <td>OTTO, J</td>\n",
       "      <td>DEF</td>\n",
       "      <td>6.2</td>\n",
       "      <td>0.0</td>\n",
       "    </tr>\n",
       "    <tr>\n",
       "      <th>4</th>\n",
       "      <td>DE GEA, D</td>\n",
       "      <td>GK</td>\n",
       "      <td>8.0</td>\n",
       "      <td>218.0</td>\n",
       "    </tr>\n",
       "    <tr>\n",
       "      <th>5</th>\n",
       "      <td>HUGHES, W</td>\n",
       "      <td>MID</td>\n",
       "      <td>7.5</td>\n",
       "      <td>68.0</td>\n",
       "    </tr>\n",
       "    <tr>\n",
       "      <th>6</th>\n",
       "      <td>NOBLE, M</td>\n",
       "      <td>MID</td>\n",
       "      <td>8.0</td>\n",
       "      <td>101.0</td>\n",
       "    </tr>\n",
       "    <tr>\n",
       "      <th>7</th>\n",
       "      <td>GROSS, P</td>\n",
       "      <td>MID</td>\n",
       "      <td>9.3</td>\n",
       "      <td>162.0</td>\n",
       "    </tr>\n",
       "    <tr>\n",
       "      <th>8</th>\n",
       "      <td>FABREGAS, C</td>\n",
       "      <td>MID</td>\n",
       "      <td>9.8</td>\n",
       "      <td>144.0</td>\n",
       "    </tr>\n",
       "    <tr>\n",
       "      <th>9</th>\n",
       "      <td>SALAH, M</td>\n",
       "      <td>STR</td>\n",
       "      <td>12.9</td>\n",
       "      <td>378.0</td>\n",
       "    </tr>\n",
       "    <tr>\n",
       "      <th>10</th>\n",
       "      <td>DEPOITRE, L</td>\n",
       "      <td>STR</td>\n",
       "      <td>8.8</td>\n",
       "      <td>86.0</td>\n",
       "    </tr>\n",
       "  </tbody>\n",
       "</table>\n",
       "</div>"
      ],
      "text/plain": [
       "         Player Position  Cost  Points\n",
       "0   OTAMENDI, N      DEF  10.2   244.0\n",
       "1       BOLY, W      DEF   6.1     0.0\n",
       "2     DAVIES, B      DEF   9.6   157.0\n",
       "3       OTTO, J      DEF   6.2     0.0\n",
       "4     DE GEA, D       GK   8.0   218.0\n",
       "5     HUGHES, W      MID   7.5    68.0\n",
       "6      NOBLE, M      MID   8.0   101.0\n",
       "7      GROSS, P      MID   9.3   162.0\n",
       "8   FABREGAS, C      MID   9.8   144.0\n",
       "9      SALAH, M      STR  12.9   378.0\n",
       "10  DEPOITRE, L      STR   8.8    86.0"
      ]
     },
     "execution_count": 10,
     "metadata": {},
     "output_type": "execute_result"
    }
   ],
   "source": [
    "# # Saved for 1M trials\n",
    "# print((\"Spend £{} for expected total points {} \"\n",
    "#       + \"and passed all constraints {}\")\n",
    "#       .format(FINAL_COST, FINAL_POINTS, PASS_CONSTRAINTS))\n",
    "# FINAL_XI"
   ]
  },
  {
   "cell_type": "markdown",
   "metadata": {},
   "source": [
    "## How good is this?\n",
    " - What are all the possibilities?\n",
    " - How many legitimate lineups did we come up with?"
   ]
  },
  {
   "cell_type": "code",
   "execution_count": 28,
   "metadata": {},
   "outputs": [
    {
     "name": "stdout",
     "output_type": "stream",
     "text": [
      "There are 800789882655737251012174233427 total combinations to pick a lineup\n"
     ]
    }
   ],
   "source": [
    "possibilities = N ** 11\n",
    "print(\"There are {} total combinations to pick a lineup\".format(possibilities))"
   ]
  },
  {
   "cell_type": "code",
   "execution_count": 13,
   "metadata": {
    "collapsed": true
   },
   "outputs": [],
   "source": [
    "ceil_points = np.ceil(trial_data.Points.max() / 100)\n",
    "bins = np.linspace(0, ceil_points * 100, int(ceil_points) + 1)\n",
    "trial_data['Bins'] = pd.cut(trial_data.Points, bins=bins)\n",
    "bins_constraints_counts = (trial_data\n",
    "                           .groupby(['Bins', 'Constraints'])\n",
    "                           .count()\n",
    "                           .iloc[:,0]\n",
    "                           .reset_index())\n",
    "bins_constraints_counts.columns = ['Bins', 'Constraints', 'Count']\n",
    "bins_constraints_counts['Count'] = bins_constraints_counts['Count'].fillna(0)"
   ]
  },
  {
   "cell_type": "code",
   "execution_count": 14,
   "metadata": {},
   "outputs": [
    {
     "data": {
      "text/plain": [
       "<matplotlib.axes._subplots.AxesSubplot at 0x1123ec5c0>"
      ]
     },
     "execution_count": 14,
     "metadata": {},
     "output_type": "execute_result"
    },
    {
     "data": {
      "image/png": "[encoded data removed]",
      "text/plain": [
       "<Figure size 432x288 with 1 Axes>"
      ]
     },
     "metadata": {},
     "output_type": "display_data"
    }
   ],
   "source": [
    "(bins_constraints_counts\n",
    " .pivot(\"Bins\", \"Constraints\", \"Count\")\n",
    " .plot(kind='bar'))"
   ]
  },
  {
   "cell_type": "code",
   "execution_count": 19,
   "metadata": {},
   "outputs": [
    {
     "data": {
      "text/html": [
       "<div>\n",
       "<style scoped>\n",
       "    .dataframe tbody tr th:only-of-type {\n",
       "        vertical-align: middle;\n",
       "    }\n",
       "\n",
       "    .dataframe tbody tr th {\n",
       "        vertical-align: top;\n",
       "    }\n",
       "\n",
       "    .dataframe thead th {\n",
       "        text-align: right;\n",
       "    }\n",
       "</style>\n",
       "<table border=\"1\" class=\"dataframe\">\n",
       "  <thead>\n",
       "    <tr style=\"text-align: right;\">\n",
       "      <th></th>\n",
       "      <th>Bins</th>\n",
       "      <th>Constraints</th>\n",
       "      <th>Count</th>\n",
       "    </tr>\n",
       "  </thead>\n",
       "  <tbody>\n",
       "    <tr>\n",
       "      <th>35</th>\n",
       "      <td>(1700.0, 1800.0]</td>\n",
       "      <td>True</td>\n",
       "      <td>92.0</td>\n",
       "    </tr>\n",
       "    <tr>\n",
       "      <th>37</th>\n",
       "      <td>(1800.0, 1900.0]</td>\n",
       "      <td>True</td>\n",
       "      <td>31.0</td>\n",
       "    </tr>\n",
       "    <tr>\n",
       "      <th>39</th>\n",
       "      <td>(1900.0, 2000.0]</td>\n",
       "      <td>True</td>\n",
       "      <td>3.0</td>\n",
       "    </tr>\n",
       "  </tbody>\n",
       "</table>\n",
       "</div>"
      ],
      "text/plain": [
       "                Bins  Constraints  Count\n",
       "35  (1700.0, 1800.0]         True   92.0\n",
       "37  (1800.0, 1900.0]         True   31.0\n",
       "39  (1900.0, 2000.0]         True    3.0"
      ]
     },
     "execution_count": 19,
     "metadata": {},
     "output_type": "execute_result"
    }
   ],
   "source": [
    "(bins_constraints_counts\n",
    " .tail(16)\n",
    " .query(\"Constraints\")\n",
    " .head(3))"
   ]
  },
  {
   "cell_type": "markdown",
   "metadata": {},
   "source": [
    "### After testing 1,000,000 lineups only 126 passed the constraints and had a score above 1700"
   ]
  },
  {
   "cell_type": "markdown",
   "metadata": {},
   "source": [
    "## Next Step\n",
    " - Build a lineup that will beat 1936 points"
   ]
  },
  {
   "cell_type": "code",
   "execution_count": 32,
   "metadata": {},
   "outputs": [],
   "source": [
    "TOTAL_LINEUPS = 523 ** 11\n",
    "TIME_FOR_1M = 1\n",
    "TOTAL_TIME_IN_MIN = TOTAL_LINEUPS / (10**6)\n",
    "MIN_IN_YEAR = 525600\n",
    "TOTAL_TIME_IN_YEAR = TOTAL_TIME_IN_MIN / MIN_IN_YEAR"
   ]
  },
  {
   "cell_type": "code",
   "execution_count": 33,
   "metadata": {},
   "outputs": [
    {
     "data": {
      "text/plain": [
       "1.5235728361030008e+18"
      ]
     },
     "execution_count": 33,
     "metadata": {},
     "output_type": "execute_result"
    }
   ],
   "source": [
    "TOTAL_TIME_IN_YEAR"
   ]
  },
  {
   "cell_type": "code",
   "execution_count": 34,
   "metadata": {},
   "outputs": [
    {
     "data": {
      "text/plain": [
       "523"
      ]
     },
     "execution_count": 34,
     "metadata": {},
     "output_type": "execute_result"
    }
   ],
   "source": [
    "N"
   ]
  },
  {
   "cell_type": "code",
   "execution_count": null,
   "metadata": {
    "collapsed": true
   },
   "outputs": [],
   "source": []
  }
 ],
 "metadata": {
  "kernelspec": {
   "display_name": "Python 3",
   "language": "python",
   "name": "python3"
  },
  "language_info": {
   "codemirror_mode": {
    "name": "ipython",
    "version": 3
   },
   "file_extension": ".py",
   "mimetype": "text/x-python",
   "name": "python",
   "nbconvert_exporter": "python",
   "pygments_lexer": "ipython3",
   "version": "3.6.3"
  }
 },
 "nbformat": 4,
 "nbformat_minor": 2
}
