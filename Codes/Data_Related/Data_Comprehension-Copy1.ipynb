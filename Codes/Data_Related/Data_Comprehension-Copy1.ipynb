{
 "cells": [
  {
   "cell_type": "markdown",
   "metadata": {},
   "source": [
    "# 1) Packages"
   ]
  },
  {
   "cell_type": "code",
   "execution_count": 1,
   "metadata": {},
   "outputs": [],
   "source": [
    "import numpy as np\n",
    "from numpy import array, hstack\n",
    "import pandas as pd\n",
    "import matplotlib.pylab as plt\n",
    "%matplotlib inline\n",
    "from matplotlib.pylab import rcParams\n",
    "import seaborn as sns\n",
    "\n",
    "\n",
    "from datetime import datetime, timedelta\n",
    "\n",
    "\n",
    "from IPython.core.interactiveshell import InteractiveShell\n",
    "InteractiveShell.ast_node_interactivity = \"all\"\n",
    "\n",
    "%matplotlib inline"
   ]
  },
  {
   "cell_type": "code",
   "execution_count": 2,
   "metadata": {},
   "outputs": [],
   "source": [
    "import pandas as pd\n",
    "import numpy as np\n",
    "import matplotlib.pylab as plt\n",
    "%matplotlib inline\n",
    "from matplotlib.pylab import rcParams\n",
    "from sklearn.utils import shuffle\n",
    "\n",
    "from sklearn import preprocessing\n",
    "\n",
    "rcParams['figure.figsize'] = 20, 6"
   ]
  },
  {
   "cell_type": "code",
   "execution_count": null,
   "metadata": {},
   "outputs": [],
   "source": [
    "!pip install tensorflow"
   ]
  },
  {
   "cell_type": "code",
   "execution_count": null,
   "metadata": {},
   "outputs": [],
   "source": [
    "!pip install keras"
   ]
  },
  {
   "cell_type": "code",
   "execution_count": 32,
   "metadata": {},
   "outputs": [
    {
     "name": "stderr",
     "output_type": "stream",
     "text": [
      "Using TensorFlow backend.\n"
     ]
    },
    {
     "ename": "ModuleNotFoundError",
     "evalue": "No module named 'tensorflow'",
     "output_type": "error",
     "traceback": [
      "\u001b[1;31m---------------------------------------------------------------------------\u001b[0m",
      "\u001b[1;31mModuleNotFoundError\u001b[0m                       Traceback (most recent call last)",
      "\u001b[1;32m<ipython-input-32-27ebe94a80b4>\u001b[0m in \u001b[0;36m<module>\u001b[1;34m\u001b[0m\n\u001b[1;32m----> 1\u001b[1;33m \u001b[1;32mfrom\u001b[0m \u001b[0mkeras\u001b[0m\u001b[1;33m.\u001b[0m\u001b[0mmodels\u001b[0m \u001b[1;32mimport\u001b[0m \u001b[0mload_model\u001b[0m\u001b[1;33m\u001b[0m\u001b[1;33m\u001b[0m\u001b[0m\n\u001b[0m\u001b[0;32m      2\u001b[0m \u001b[1;32mfrom\u001b[0m \u001b[0mkeras\u001b[0m\u001b[1;33m.\u001b[0m\u001b[0mmodels\u001b[0m \u001b[1;32mimport\u001b[0m \u001b[0mSequential\u001b[0m\u001b[1;33m,\u001b[0m \u001b[0mload_model\u001b[0m\u001b[1;33m\u001b[0m\u001b[1;33m\u001b[0m\u001b[0m\n\u001b[0;32m      3\u001b[0m \u001b[1;32mfrom\u001b[0m \u001b[0mkeras\u001b[0m\u001b[1;33m.\u001b[0m\u001b[0mlayers\u001b[0m \u001b[1;32mimport\u001b[0m \u001b[0mLSTM\u001b[0m\u001b[1;33m,\u001b[0m \u001b[0mDense\u001b[0m\u001b[1;33m,\u001b[0m \u001b[0mDropout\u001b[0m\u001b[1;33m,\u001b[0m \u001b[0mEmbedding\u001b[0m\u001b[1;33m,\u001b[0m \u001b[0mMasking\u001b[0m\u001b[1;33m,\u001b[0m \u001b[0mConv1D\u001b[0m\u001b[1;33m,\u001b[0m \u001b[0mMaxPooling1D\u001b[0m\u001b[1;33m,\u001b[0m \u001b[0mFlatten\u001b[0m\u001b[1;33m\u001b[0m\u001b[1;33m\u001b[0m\u001b[0m\n\u001b[0;32m      4\u001b[0m \u001b[1;32mfrom\u001b[0m \u001b[0mkeras\u001b[0m\u001b[1;33m.\u001b[0m\u001b[0moptimizers\u001b[0m \u001b[1;32mimport\u001b[0m \u001b[0mAdam\u001b[0m\u001b[1;33m\u001b[0m\u001b[1;33m\u001b[0m\u001b[0m\n\u001b[0;32m      5\u001b[0m \u001b[1;32mfrom\u001b[0m \u001b[0mkeras\u001b[0m\u001b[1;33m.\u001b[0m\u001b[0mutils\u001b[0m \u001b[1;32mimport\u001b[0m \u001b[0mSequence\u001b[0m\u001b[1;33m\u001b[0m\u001b[1;33m\u001b[0m\u001b[0m\n",
      "\u001b[1;32mD:\\Programming\\Anaconda\\envs\\fpl\\lib\\site-packages\\keras\\__init__.py\u001b[0m in \u001b[0;36m<module>\u001b[1;34m\u001b[0m\n\u001b[0;32m      1\u001b[0m \u001b[1;32mfrom\u001b[0m \u001b[0m__future__\u001b[0m \u001b[1;32mimport\u001b[0m \u001b[0mabsolute_import\u001b[0m\u001b[1;33m\u001b[0m\u001b[1;33m\u001b[0m\u001b[0m\n\u001b[0;32m      2\u001b[0m \u001b[1;33m\u001b[0m\u001b[0m\n\u001b[1;32m----> 3\u001b[1;33m \u001b[1;32mfrom\u001b[0m \u001b[1;33m.\u001b[0m \u001b[1;32mimport\u001b[0m \u001b[0mutils\u001b[0m\u001b[1;33m\u001b[0m\u001b[1;33m\u001b[0m\u001b[0m\n\u001b[0m\u001b[0;32m      4\u001b[0m \u001b[1;32mfrom\u001b[0m \u001b[1;33m.\u001b[0m \u001b[1;32mimport\u001b[0m \u001b[0mactivations\u001b[0m\u001b[1;33m\u001b[0m\u001b[1;33m\u001b[0m\u001b[0m\n\u001b[0;32m      5\u001b[0m \u001b[1;32mfrom\u001b[0m \u001b[1;33m.\u001b[0m \u001b[1;32mimport\u001b[0m \u001b[0mapplications\u001b[0m\u001b[1;33m\u001b[0m\u001b[1;33m\u001b[0m\u001b[0m\n",
      "\u001b[1;32mD:\\Programming\\Anaconda\\envs\\fpl\\lib\\site-packages\\keras\\utils\\__init__.py\u001b[0m in \u001b[0;36m<module>\u001b[1;34m\u001b[0m\n\u001b[0;32m      4\u001b[0m \u001b[1;32mfrom\u001b[0m \u001b[1;33m.\u001b[0m \u001b[1;32mimport\u001b[0m \u001b[0mdata_utils\u001b[0m\u001b[1;33m\u001b[0m\u001b[1;33m\u001b[0m\u001b[0m\n\u001b[0;32m      5\u001b[0m \u001b[1;32mfrom\u001b[0m \u001b[1;33m.\u001b[0m \u001b[1;32mimport\u001b[0m \u001b[0mio_utils\u001b[0m\u001b[1;33m\u001b[0m\u001b[1;33m\u001b[0m\u001b[0m\n\u001b[1;32m----> 6\u001b[1;33m \u001b[1;32mfrom\u001b[0m \u001b[1;33m.\u001b[0m \u001b[1;32mimport\u001b[0m \u001b[0mconv_utils\u001b[0m\u001b[1;33m\u001b[0m\u001b[1;33m\u001b[0m\u001b[0m\n\u001b[0m\u001b[0;32m      7\u001b[0m \u001b[1;32mfrom\u001b[0m \u001b[1;33m.\u001b[0m \u001b[1;32mimport\u001b[0m \u001b[0mlosses_utils\u001b[0m\u001b[1;33m\u001b[0m\u001b[1;33m\u001b[0m\u001b[0m\n\u001b[0;32m      8\u001b[0m \u001b[1;32mfrom\u001b[0m \u001b[1;33m.\u001b[0m \u001b[1;32mimport\u001b[0m \u001b[0mmetrics_utils\u001b[0m\u001b[1;33m\u001b[0m\u001b[1;33m\u001b[0m\u001b[0m\n",
      "\u001b[1;32mD:\\Programming\\Anaconda\\envs\\fpl\\lib\\site-packages\\keras\\utils\\conv_utils.py\u001b[0m in \u001b[0;36m<module>\u001b[1;34m\u001b[0m\n\u001b[0;32m      7\u001b[0m \u001b[1;32mfrom\u001b[0m \u001b[0msix\u001b[0m\u001b[1;33m.\u001b[0m\u001b[0mmoves\u001b[0m \u001b[1;32mimport\u001b[0m \u001b[0mrange\u001b[0m\u001b[1;33m\u001b[0m\u001b[1;33m\u001b[0m\u001b[0m\n\u001b[0;32m      8\u001b[0m \u001b[1;32mimport\u001b[0m \u001b[0mnumpy\u001b[0m \u001b[1;32mas\u001b[0m \u001b[0mnp\u001b[0m\u001b[1;33m\u001b[0m\u001b[1;33m\u001b[0m\u001b[0m\n\u001b[1;32m----> 9\u001b[1;33m \u001b[1;32mfrom\u001b[0m \u001b[1;33m.\u001b[0m\u001b[1;33m.\u001b[0m \u001b[1;32mimport\u001b[0m \u001b[0mbackend\u001b[0m \u001b[1;32mas\u001b[0m \u001b[0mK\u001b[0m\u001b[1;33m\u001b[0m\u001b[1;33m\u001b[0m\u001b[0m\n\u001b[0m\u001b[0;32m     10\u001b[0m \u001b[1;33m\u001b[0m\u001b[0m\n\u001b[0;32m     11\u001b[0m \u001b[1;33m\u001b[0m\u001b[0m\n",
      "\u001b[1;32mD:\\Programming\\Anaconda\\envs\\fpl\\lib\\site-packages\\keras\\backend\\__init__.py\u001b[0m in \u001b[0;36m<module>\u001b[1;34m\u001b[0m\n\u001b[1;32m----> 1\u001b[1;33m \u001b[1;32mfrom\u001b[0m \u001b[1;33m.\u001b[0m\u001b[0mload_backend\u001b[0m \u001b[1;32mimport\u001b[0m \u001b[0mepsilon\u001b[0m\u001b[1;33m\u001b[0m\u001b[1;33m\u001b[0m\u001b[0m\n\u001b[0m\u001b[0;32m      2\u001b[0m \u001b[1;32mfrom\u001b[0m \u001b[1;33m.\u001b[0m\u001b[0mload_backend\u001b[0m \u001b[1;32mimport\u001b[0m \u001b[0mset_epsilon\u001b[0m\u001b[1;33m\u001b[0m\u001b[1;33m\u001b[0m\u001b[0m\n\u001b[0;32m      3\u001b[0m \u001b[1;32mfrom\u001b[0m \u001b[1;33m.\u001b[0m\u001b[0mload_backend\u001b[0m \u001b[1;32mimport\u001b[0m \u001b[0mfloatx\u001b[0m\u001b[1;33m\u001b[0m\u001b[1;33m\u001b[0m\u001b[0m\n\u001b[0;32m      4\u001b[0m \u001b[1;32mfrom\u001b[0m \u001b[1;33m.\u001b[0m\u001b[0mload_backend\u001b[0m \u001b[1;32mimport\u001b[0m \u001b[0mset_floatx\u001b[0m\u001b[1;33m\u001b[0m\u001b[1;33m\u001b[0m\u001b[0m\n\u001b[0;32m      5\u001b[0m \u001b[1;32mfrom\u001b[0m \u001b[1;33m.\u001b[0m\u001b[0mload_backend\u001b[0m \u001b[1;32mimport\u001b[0m \u001b[0mcast_to_floatx\u001b[0m\u001b[1;33m\u001b[0m\u001b[1;33m\u001b[0m\u001b[0m\n",
      "\u001b[1;32mD:\\Programming\\Anaconda\\envs\\fpl\\lib\\site-packages\\keras\\backend\\load_backend.py\u001b[0m in \u001b[0;36m<module>\u001b[1;34m\u001b[0m\n\u001b[0;32m     88\u001b[0m \u001b[1;32melif\u001b[0m \u001b[0m_BACKEND\u001b[0m \u001b[1;33m==\u001b[0m \u001b[1;34m'tensorflow'\u001b[0m\u001b[1;33m:\u001b[0m\u001b[1;33m\u001b[0m\u001b[1;33m\u001b[0m\u001b[0m\n\u001b[0;32m     89\u001b[0m     \u001b[0msys\u001b[0m\u001b[1;33m.\u001b[0m\u001b[0mstderr\u001b[0m\u001b[1;33m.\u001b[0m\u001b[0mwrite\u001b[0m\u001b[1;33m(\u001b[0m\u001b[1;34m'Using TensorFlow backend.\\n'\u001b[0m\u001b[1;33m)\u001b[0m\u001b[1;33m\u001b[0m\u001b[1;33m\u001b[0m\u001b[0m\n\u001b[1;32m---> 90\u001b[1;33m     \u001b[1;32mfrom\u001b[0m \u001b[1;33m.\u001b[0m\u001b[0mtensorflow_backend\u001b[0m \u001b[1;32mimport\u001b[0m \u001b[1;33m*\u001b[0m\u001b[1;33m\u001b[0m\u001b[1;33m\u001b[0m\u001b[0m\n\u001b[0m\u001b[0;32m     91\u001b[0m \u001b[1;32melse\u001b[0m\u001b[1;33m:\u001b[0m\u001b[1;33m\u001b[0m\u001b[1;33m\u001b[0m\u001b[0m\n\u001b[0;32m     92\u001b[0m     \u001b[1;31m# Try and load external backend.\u001b[0m\u001b[1;33m\u001b[0m\u001b[1;33m\u001b[0m\u001b[1;33m\u001b[0m\u001b[0m\n",
      "\u001b[1;32mD:\\Programming\\Anaconda\\envs\\fpl\\lib\\site-packages\\keras\\backend\\tensorflow_backend.py\u001b[0m in \u001b[0;36m<module>\u001b[1;34m\u001b[0m\n\u001b[0;32m      3\u001b[0m \u001b[1;32mfrom\u001b[0m \u001b[0m__future__\u001b[0m \u001b[1;32mimport\u001b[0m \u001b[0mprint_function\u001b[0m\u001b[1;33m\u001b[0m\u001b[1;33m\u001b[0m\u001b[0m\n\u001b[0;32m      4\u001b[0m \u001b[1;33m\u001b[0m\u001b[0m\n\u001b[1;32m----> 5\u001b[1;33m \u001b[1;32mimport\u001b[0m \u001b[0mtensorflow\u001b[0m \u001b[1;32mas\u001b[0m \u001b[0mtf\u001b[0m\u001b[1;33m\u001b[0m\u001b[1;33m\u001b[0m\u001b[0m\n\u001b[0m\u001b[0;32m      6\u001b[0m \u001b[1;32mfrom\u001b[0m \u001b[0mtensorflow\u001b[0m\u001b[1;33m.\u001b[0m\u001b[0mpython\u001b[0m\u001b[1;33m.\u001b[0m\u001b[0meager\u001b[0m \u001b[1;32mimport\u001b[0m \u001b[0mcontext\u001b[0m\u001b[1;33m\u001b[0m\u001b[1;33m\u001b[0m\u001b[0m\n\u001b[0;32m      7\u001b[0m \u001b[1;32mfrom\u001b[0m \u001b[0mtensorflow\u001b[0m\u001b[1;33m.\u001b[0m\u001b[0mpython\u001b[0m\u001b[1;33m.\u001b[0m\u001b[0mframework\u001b[0m \u001b[1;32mimport\u001b[0m \u001b[0mdevice\u001b[0m \u001b[1;32mas\u001b[0m \u001b[0mtfdev\u001b[0m\u001b[1;33m\u001b[0m\u001b[1;33m\u001b[0m\u001b[0m\n",
      "\u001b[1;31mModuleNotFoundError\u001b[0m: No module named 'tensorflow'"
     ]
    }
   ],
   "source": [
    "from keras.models import load_model\n",
    "from keras.models import Sequential, load_model\n",
    "from keras.layers import LSTM, Dense, Dropout, Embedding, Masking, Conv1D, MaxPooling1D, Flatten\n",
    "from keras.optimizers import Adam\n",
    "from keras.utils import Sequence\n",
    "from keras.preprocessing.text import Tokenizer\n",
    "from keras.callbacks import EarlyStopping, ModelCheckpoint\n",
    "from keras.models import load_model\n",
    "\n",
    "import re\n"
   ]
  },
  {
   "cell_type": "markdown",
   "metadata": {},
   "source": [
    "# 2) Getting File Names in a Folder"
   ]
  },
  {
   "cell_type": "code",
   "execution_count": 2,
   "metadata": {},
   "outputs": [],
   "source": [
    "# Getting all the files in the directory.\n",
    "def existing_file_list(path):\n",
    "    ''' Extracting File Names '''\n",
    "\n",
    "    allFiles = glob.glob(path + \"/*.csv\")\n",
    "    new_list = []\n",
    "    for i in allFiles:\n",
    "        before = 'original\\\\'\n",
    "        after = '_minute'\n",
    "        ticker = i[i.find(before) + len(before) : i.find(after)]\n",
    "        new_list.append(ticker)    \n",
    "    #list_ticker = list(filter(None, text))  # drop all the empty elements and put them in a list\n",
    "        \n",
    "    return (new_list)\n"
   ]
  },
  {
   "cell_type": "code",
   "execution_count": 4,
   "metadata": {},
   "outputs": [],
   "source": [
    "datapath = 'D:\\\\OneDrive - Georgia State University\\\\Data Science\\\\Personal_Project\\\\FPL_Analysis\\\\Data\\\\'\n",
    "\n",
    "from os import listdir\n",
    "from os.path import isfile, join\n",
    "main_data_list = [f for f in listdir(datapath) if isfile(join(datapath, f))]"
   ]
  },
  {
   "cell_type": "code",
   "execution_count": 5,
   "metadata": {},
   "outputs": [
    {
     "data": {
      "text/plain": [
       "'D:\\\\OneDrive - Georgia State University\\\\Data Science\\\\Personal_Project\\\\FPL_Analysis\\\\Data\\\\'"
      ]
     },
     "execution_count": 5,
     "metadata": {},
     "output_type": "execute_result"
    }
   ],
   "source": [
    "datapath"
   ]
  },
  {
   "cell_type": "code",
   "execution_count": 6,
   "metadata": {},
   "outputs": [
    {
     "data": {
      "text/plain": [
       "['each_player_each_game.csv',\n",
       " 'elements2019.csv',\n",
       " 'elements2019.xlsx',\n",
       " 'element_stats2019.csv',\n",
       " 'element_stats2019.xlsx',\n",
       " 'element_types2019.csv',\n",
       " 'element_types2019.xlsx',\n",
       " 'fixtures2019.xlsx',\n",
       " 'game_settings2019.xlsx',\n",
       " 'history2019.xlsx',\n",
       " 'history_past2019.xlsx',\n",
       " 'phases2019.csv',\n",
       " 'phases2019.xlsx',\n",
       " 'teams2019.csv',\n",
       " 'teams2019.xlsx']"
      ]
     },
     "execution_count": 6,
     "metadata": {},
     "output_type": "execute_result"
    }
   ],
   "source": [
    "main_data_list"
   ]
  },
  {
   "cell_type": "markdown",
   "metadata": {},
   "source": [
    "# 3) Data Manipulating"
   ]
  },
  {
   "cell_type": "markdown",
   "metadata": {},
   "source": [
    "## 3.1) Import main_data"
   ]
  },
  {
   "cell_type": "code",
   "execution_count": 18,
   "metadata": {},
   "outputs": [],
   "source": [
    "#element_types = pd.read_csv(datapath + 'element_types.xlsx',index_col='id', engine = 'python')\n",
    "\n",
    "#main_data = pd.read_csv(datapath + 'each_player_each_game.csv', index_col=['id', 'fixture'], engine = 'python')\n",
    "main_data = pd.read_csv(datapath + 'each_player_each_game.csv', engine = 'python')\n",
    "\n",
    "#teams = pd.read_excel(datapath + 'teams.xlsx',index_col='id')\n"
   ]
  },
  {
   "cell_type": "code",
   "execution_count": 21,
   "metadata": {},
   "outputs": [
    {
     "data": {
      "text/html": [
       "<div>\n",
       "<style scoped>\n",
       "    .dataframe tbody tr th:only-of-type {\n",
       "        vertical-align: middle;\n",
       "    }\n",
       "\n",
       "    .dataframe tbody tr th {\n",
       "        vertical-align: top;\n",
       "    }\n",
       "\n",
       "    .dataframe thead th {\n",
       "        text-align: right;\n",
       "    }\n",
       "</style>\n",
       "<table border=\"1\" class=\"dataframe\">\n",
       "  <thead>\n",
       "    <tr style=\"text-align: right;\">\n",
       "      <th></th>\n",
       "      <th>element</th>\n",
       "      <th>fixture</th>\n",
       "      <th>opponent_team</th>\n",
       "      <th>total_points</th>\n",
       "      <th>was_home</th>\n",
       "      <th>kickoff_time</th>\n",
       "      <th>team_h_score</th>\n",
       "      <th>team_a_score</th>\n",
       "      <th>round</th>\n",
       "      <th>minutes</th>\n",
       "      <th>...</th>\n",
       "      <th>bps</th>\n",
       "      <th>influence</th>\n",
       "      <th>creativity</th>\n",
       "      <th>threat</th>\n",
       "      <th>ict_index</th>\n",
       "      <th>value</th>\n",
       "      <th>transfers_balance</th>\n",
       "      <th>selected</th>\n",
       "      <th>transfers_in</th>\n",
       "      <th>transfers_out</th>\n",
       "    </tr>\n",
       "  </thead>\n",
       "  <tbody>\n",
       "    <tr>\n",
       "      <th>0</th>\n",
       "      <td>1</td>\n",
       "      <td>10</td>\n",
       "      <td>13</td>\n",
       "      <td>0</td>\n",
       "      <td>False</td>\n",
       "      <td>2019-08-11T13:00:00Z</td>\n",
       "      <td>0</td>\n",
       "      <td>1</td>\n",
       "      <td>1</td>\n",
       "      <td>0</td>\n",
       "      <td>...</td>\n",
       "      <td>0</td>\n",
       "      <td>0.0</td>\n",
       "      <td>0.0</td>\n",
       "      <td>0.0</td>\n",
       "      <td>0.0</td>\n",
       "      <td>55</td>\n",
       "      <td>0</td>\n",
       "      <td>33117</td>\n",
       "      <td>0</td>\n",
       "      <td>0</td>\n",
       "    </tr>\n",
       "    <tr>\n",
       "      <th>1</th>\n",
       "      <td>1</td>\n",
       "      <td>11</td>\n",
       "      <td>5</td>\n",
       "      <td>0</td>\n",
       "      <td>True</td>\n",
       "      <td>2019-08-17T11:30:00Z</td>\n",
       "      <td>2</td>\n",
       "      <td>1</td>\n",
       "      <td>2</td>\n",
       "      <td>0</td>\n",
       "      <td>...</td>\n",
       "      <td>0</td>\n",
       "      <td>0.0</td>\n",
       "      <td>0.0</td>\n",
       "      <td>0.0</td>\n",
       "      <td>0.0</td>\n",
       "      <td>55</td>\n",
       "      <td>-5280</td>\n",
       "      <td>36709</td>\n",
       "      <td>2868</td>\n",
       "      <td>8148</td>\n",
       "    </tr>\n",
       "    <tr>\n",
       "      <th>2</th>\n",
       "      <td>1</td>\n",
       "      <td>24</td>\n",
       "      <td>10</td>\n",
       "      <td>0</td>\n",
       "      <td>False</td>\n",
       "      <td>2019-08-24T16:30:00Z</td>\n",
       "      <td>3</td>\n",
       "      <td>1</td>\n",
       "      <td>3</td>\n",
       "      <td>0</td>\n",
       "      <td>...</td>\n",
       "      <td>0</td>\n",
       "      <td>0.0</td>\n",
       "      <td>0.0</td>\n",
       "      <td>0.0</td>\n",
       "      <td>0.0</td>\n",
       "      <td>54</td>\n",
       "      <td>-6882</td>\n",
       "      <td>30975</td>\n",
       "      <td>534</td>\n",
       "      <td>7416</td>\n",
       "    </tr>\n",
       "    <tr>\n",
       "      <th>3</th>\n",
       "      <td>1</td>\n",
       "      <td>31</td>\n",
       "      <td>17</td>\n",
       "      <td>0</td>\n",
       "      <td>True</td>\n",
       "      <td>2019-09-01T15:30:00Z</td>\n",
       "      <td>2</td>\n",
       "      <td>2</td>\n",
       "      <td>4</td>\n",
       "      <td>0</td>\n",
       "      <td>...</td>\n",
       "      <td>0</td>\n",
       "      <td>0.0</td>\n",
       "      <td>0.0</td>\n",
       "      <td>0.0</td>\n",
       "      <td>0.0</td>\n",
       "      <td>54</td>\n",
       "      <td>-3872</td>\n",
       "      <td>28096</td>\n",
       "      <td>346</td>\n",
       "      <td>4218</td>\n",
       "    </tr>\n",
       "    <tr>\n",
       "      <th>4</th>\n",
       "      <td>1</td>\n",
       "      <td>49</td>\n",
       "      <td>18</td>\n",
       "      <td>0</td>\n",
       "      <td>False</td>\n",
       "      <td>2019-09-15T15:30:00Z</td>\n",
       "      <td>2</td>\n",
       "      <td>2</td>\n",
       "      <td>5</td>\n",
       "      <td>0</td>\n",
       "      <td>...</td>\n",
       "      <td>0</td>\n",
       "      <td>0.0</td>\n",
       "      <td>0.0</td>\n",
       "      <td>0.0</td>\n",
       "      <td>0.0</td>\n",
       "      <td>53</td>\n",
       "      <td>-2073</td>\n",
       "      <td>26902</td>\n",
       "      <td>581</td>\n",
       "      <td>2654</td>\n",
       "    </tr>\n",
       "  </tbody>\n",
       "</table>\n",
       "<p>5 rows × 31 columns</p>\n",
       "</div>"
      ],
      "text/plain": [
       "   element  fixture  opponent_team  total_points  was_home  \\\n",
       "0        1       10             13             0     False   \n",
       "1        1       11              5             0      True   \n",
       "2        1       24             10             0     False   \n",
       "3        1       31             17             0      True   \n",
       "4        1       49             18             0     False   \n",
       "\n",
       "           kickoff_time  team_h_score  team_a_score  round  minutes  ...  bps  \\\n",
       "0  2019-08-11T13:00:00Z             0             1      1        0  ...    0   \n",
       "1  2019-08-17T11:30:00Z             2             1      2        0  ...    0   \n",
       "2  2019-08-24T16:30:00Z             3             1      3        0  ...    0   \n",
       "3  2019-09-01T15:30:00Z             2             2      4        0  ...    0   \n",
       "4  2019-09-15T15:30:00Z             2             2      5        0  ...    0   \n",
       "\n",
       "   influence  creativity  threat  ict_index  value  transfers_balance  \\\n",
       "0        0.0         0.0     0.0        0.0     55                  0   \n",
       "1        0.0         0.0     0.0        0.0     55              -5280   \n",
       "2        0.0         0.0     0.0        0.0     54              -6882   \n",
       "3        0.0         0.0     0.0        0.0     54              -3872   \n",
       "4        0.0         0.0     0.0        0.0     53              -2073   \n",
       "\n",
       "   selected  transfers_in  transfers_out  \n",
       "0     33117             0              0  \n",
       "1     36709          2868           8148  \n",
       "2     30975           534           7416  \n",
       "3     28096           346           4218  \n",
       "4     26902           581           2654  \n",
       "\n",
       "[5 rows x 31 columns]"
      ]
     },
     "execution_count": 21,
     "metadata": {},
     "output_type": "execute_result"
    }
   ],
   "source": [
    "main_data.drop('Unnamed: 0', axis=1, inplace=True)\n",
    "main_data.head()"
   ]
  },
  {
   "cell_type": "raw",
   "metadata": {},
   "source": [
    "main_data.sort_index(inplace=True)\n",
    "#bootstrap.sort_index(inplace=True)\n",
    "#teams.sort_index(inplace=True)"
   ]
  },
  {
   "cell_type": "code",
   "execution_count": 22,
   "metadata": {},
   "outputs": [
    {
     "data": {
      "text/plain": [
       "(11624, 31)"
      ]
     },
     "execution_count": 22,
     "metadata": {},
     "output_type": "execute_result"
    }
   ],
   "source": [
    "main_data.head()\n",
    "main_data.tail()\n",
    "\n",
    "main_data.shape"
   ]
  },
  {
   "cell_type": "markdown",
   "metadata": {},
   "source": [
    "## 3.3) Create main_data for each group"
   ]
  },
  {
   "cell_type": "code",
   "execution_count": 11,
   "metadata": {},
   "outputs": [
    {
     "data": {
      "text/html": [
       "<div>\n",
       "<style scoped>\n",
       "    .dataframe tbody tr th:only-of-type {\n",
       "        vertical-align: middle;\n",
       "    }\n",
       "\n",
       "    .dataframe tbody tr th {\n",
       "        vertical-align: top;\n",
       "    }\n",
       "\n",
       "    .dataframe thead th {\n",
       "        text-align: right;\n",
       "    }\n",
       "</style>\n",
       "<table border=\"1\" class=\"dataframe\">\n",
       "  <thead>\n",
       "    <tr style=\"text-align: right;\">\n",
       "      <th></th>\n",
       "      <th>code</th>\n",
       "      <th>name</th>\n",
       "      <th>short_name</th>\n",
       "      <th>strength</th>\n",
       "      <th>strength_attack_away</th>\n",
       "      <th>strength_attack_home</th>\n",
       "      <th>strength_defence_away</th>\n",
       "      <th>strength_defence_home</th>\n",
       "      <th>strength_overall_away</th>\n",
       "      <th>strength_overall_home</th>\n",
       "    </tr>\n",
       "    <tr>\n",
       "      <th>id</th>\n",
       "      <th></th>\n",
       "      <th></th>\n",
       "      <th></th>\n",
       "      <th></th>\n",
       "      <th></th>\n",
       "      <th></th>\n",
       "      <th></th>\n",
       "      <th></th>\n",
       "      <th></th>\n",
       "      <th></th>\n",
       "    </tr>\n",
       "  </thead>\n",
       "  <tbody>\n",
       "    <tr>\n",
       "      <th>1</th>\n",
       "      <td>3</td>\n",
       "      <td>Arsenal</td>\n",
       "      <td>ARS</td>\n",
       "      <td>4</td>\n",
       "      <td>1260</td>\n",
       "      <td>1240</td>\n",
       "      <td>1320</td>\n",
       "      <td>1270</td>\n",
       "      <td>1310</td>\n",
       "      <td>1280</td>\n",
       "    </tr>\n",
       "    <tr>\n",
       "      <th>2</th>\n",
       "      <td>91</td>\n",
       "      <td>Bournemouth</td>\n",
       "      <td>BOU</td>\n",
       "      <td>3</td>\n",
       "      <td>1120</td>\n",
       "      <td>1090</td>\n",
       "      <td>1200</td>\n",
       "      <td>1150</td>\n",
       "      <td>1170</td>\n",
       "      <td>1130</td>\n",
       "    </tr>\n",
       "    <tr>\n",
       "      <th>3</th>\n",
       "      <td>36</td>\n",
       "      <td>Brighton</td>\n",
       "      <td>BHA</td>\n",
       "      <td>2</td>\n",
       "      <td>1080</td>\n",
       "      <td>1040</td>\n",
       "      <td>1120</td>\n",
       "      <td>1030</td>\n",
       "      <td>1100</td>\n",
       "      <td>1040</td>\n",
       "    </tr>\n",
       "    <tr>\n",
       "      <th>4</th>\n",
       "      <td>90</td>\n",
       "      <td>Burnley</td>\n",
       "      <td>BUR</td>\n",
       "      <td>3</td>\n",
       "      <td>1150</td>\n",
       "      <td>1040</td>\n",
       "      <td>1070</td>\n",
       "      <td>1040</td>\n",
       "      <td>1090</td>\n",
       "      <td>1080</td>\n",
       "    </tr>\n",
       "    <tr>\n",
       "      <th>5</th>\n",
       "      <td>97</td>\n",
       "      <td>Cardiff</td>\n",
       "      <td>CAR</td>\n",
       "      <td>2</td>\n",
       "      <td>1060</td>\n",
       "      <td>1020</td>\n",
       "      <td>1030</td>\n",
       "      <td>1010</td>\n",
       "      <td>1050</td>\n",
       "      <td>1020</td>\n",
       "    </tr>\n",
       "  </tbody>\n",
       "</table>\n",
       "</div>"
      ],
      "text/plain": [
       "    code         name short_name  strength  strength_attack_away  \\\n",
       "id                                                                 \n",
       "1      3      Arsenal        ARS         4                  1260   \n",
       "2     91  Bournemouth        BOU         3                  1120   \n",
       "3     36     Brighton        BHA         2                  1080   \n",
       "4     90      Burnley        BUR         3                  1150   \n",
       "5     97      Cardiff        CAR         2                  1060   \n",
       "\n",
       "    strength_attack_home  strength_defence_away  strength_defence_home  \\\n",
       "id                                                                       \n",
       "1                   1240                   1320                   1270   \n",
       "2                   1090                   1200                   1150   \n",
       "3                   1040                   1120                   1030   \n",
       "4                   1040                   1070                   1040   \n",
       "5                   1020                   1030                   1010   \n",
       "\n",
       "    strength_overall_away  strength_overall_home  \n",
       "id                                                \n",
       "1                    1310                   1280  \n",
       "2                    1170                   1130  \n",
       "3                    1100                   1040  \n",
       "4                    1090                   1080  \n",
       "5                    1050                   1020  "
      ]
     },
     "execution_count": 11,
     "metadata": {},
     "output_type": "execute_result"
    }
   ],
   "source": [
    "teams.head()"
   ]
  },
  {
   "cell_type": "code",
   "execution_count": 12,
   "metadata": {},
   "outputs": [
    {
     "data": {
      "text/plain": [
       "Index(['name', 'assists', 'attempted_passes', 'big_chances_created',\n",
       "       'big_chances_missed', 'bonus', 'bps', 'clean_sheets',\n",
       "       'clearances_blocks_interceptions', 'completed_passes', 'creativity',\n",
       "       'dribbles', 'errors_leading_to_goal', 'errors_leading_to_goal_attempt',\n",
       "       'fouls', 'goals_conceded', 'goals_scored', 'ict_index', 'influence',\n",
       "       'key_passes', 'minutes', 'offside', 'open_play_crosses',\n",
       "       'opponent_team', 'own_goals', 'penalties_conceded', 'penalties_missed',\n",
       "       'penalties_saved', 'recoveries', 'red_cards', 'round', 'saves',\n",
       "       'selected', 'tackled', 'tackles', 'target_missed', 'team_a_score',\n",
       "       'team_h_score', 'threat', 'total_points', 'transfers_balance',\n",
       "       'transfers_in', 'transfers_out', 'value', 'was_home', 'winning_goals',\n",
       "       'yellow_cards', 'team', 'position'],\n",
       "      dtype='object')"
      ]
     },
     "execution_count": 12,
     "metadata": {},
     "output_type": "execute_result"
    },
    {
     "data": {
      "text/plain": [
       "Index(['assists', 'bonus', 'bps', 'clean_sheets', 'creativity',\n",
       "       'dreamteam_count', 'element_type', 'ep_this', 'event_points',\n",
       "       'first_name', 'form', 'goals_conceded', 'goals_scored', 'ict_index',\n",
       "       'in_dreamteam', 'influence', 'minutes', 'now_cost', 'own_goals',\n",
       "       'penalties_missed', 'penalties_saved', 'photo', 'points_per_game',\n",
       "       'red_cards', 'saves', 'second_name', 'status', 'team', 'team_code',\n",
       "       'threat', 'total_points', 'value_form', 'value_season', 'web_name',\n",
       "       'yellow_cards'],\n",
       "      dtype='object')"
      ]
     },
     "execution_count": 12,
     "metadata": {},
     "output_type": "execute_result"
    },
    {
     "data": {
      "text/plain": [
       "Index(['code', 'name', 'short_name', 'strength', 'strength_attack_away',\n",
       "       'strength_attack_home', 'strength_defence_away',\n",
       "       'strength_defence_home', 'strength_overall_away',\n",
       "       'strength_overall_home'],\n",
       "      dtype='object')"
      ]
     },
     "execution_count": 12,
     "metadata": {},
     "output_type": "execute_result"
    }
   ],
   "source": [
    "main_data.columns\n",
    "bootstrap.columns\n",
    "teams.columns"
   ]
  },
  {
   "cell_type": "code",
   "execution_count": 13,
   "metadata": {},
   "outputs": [],
   "source": [
    "main_data['unique_id'] = np.arange(len(main_data))"
   ]
  },
  {
   "cell_type": "code",
   "execution_count": 14,
   "metadata": {},
   "outputs": [],
   "source": [
    "## Drop player with 0 points"
   ]
  },
  {
   "cell_type": "code",
   "execution_count": 15,
   "metadata": {},
   "outputs": [
    {
     "data": {
      "text/plain": [
       "2731"
      ]
     },
     "execution_count": 15,
     "metadata": {},
     "output_type": "execute_result"
    }
   ],
   "source": [
    "main_data[main_data['position'] == 1]['total_points'].sum()"
   ]
  },
  {
   "cell_type": "code",
   "execution_count": 16,
   "metadata": {},
   "outputs": [
    {
     "data": {
      "text/html": [
       "<div>\n",
       "<style scoped>\n",
       "    .dataframe tbody tr th:only-of-type {\n",
       "        vertical-align: middle;\n",
       "    }\n",
       "\n",
       "    .dataframe tbody tr th {\n",
       "        vertical-align: top;\n",
       "    }\n",
       "\n",
       "    .dataframe thead th {\n",
       "        text-align: right;\n",
       "    }\n",
       "</style>\n",
       "<table border=\"1\" class=\"dataframe\">\n",
       "  <thead>\n",
       "    <tr style=\"text-align: right;\">\n",
       "      <th></th>\n",
       "      <th></th>\n",
       "      <th>name</th>\n",
       "      <th>assists</th>\n",
       "      <th>attempted_passes</th>\n",
       "      <th>big_chances_created</th>\n",
       "      <th>big_chances_missed</th>\n",
       "      <th>bonus</th>\n",
       "      <th>bps</th>\n",
       "      <th>clean_sheets</th>\n",
       "      <th>clearances_blocks_interceptions</th>\n",
       "      <th>completed_passes</th>\n",
       "      <th>...</th>\n",
       "      <th>transfers_balance</th>\n",
       "      <th>transfers_in</th>\n",
       "      <th>transfers_out</th>\n",
       "      <th>value</th>\n",
       "      <th>was_home</th>\n",
       "      <th>winning_goals</th>\n",
       "      <th>yellow_cards</th>\n",
       "      <th>team</th>\n",
       "      <th>position</th>\n",
       "      <th>unique_id</th>\n",
       "    </tr>\n",
       "    <tr>\n",
       "      <th>id</th>\n",
       "      <th>fixture</th>\n",
       "      <th></th>\n",
       "      <th></th>\n",
       "      <th></th>\n",
       "      <th></th>\n",
       "      <th></th>\n",
       "      <th></th>\n",
       "      <th></th>\n",
       "      <th></th>\n",
       "      <th></th>\n",
       "      <th></th>\n",
       "      <th></th>\n",
       "      <th></th>\n",
       "      <th></th>\n",
       "      <th></th>\n",
       "      <th></th>\n",
       "      <th></th>\n",
       "      <th></th>\n",
       "      <th></th>\n",
       "      <th></th>\n",
       "      <th></th>\n",
       "      <th></th>\n",
       "    </tr>\n",
       "  </thead>\n",
       "  <tbody>\n",
       "    <tr>\n",
       "      <th rowspan=\"5\" valign=\"top\">1</th>\n",
       "      <th>1</th>\n",
       "      <td>Petr_Cech_1</td>\n",
       "      <td>0</td>\n",
       "      <td>42</td>\n",
       "      <td>0</td>\n",
       "      <td>0</td>\n",
       "      <td>0</td>\n",
       "      <td>24</td>\n",
       "      <td>0</td>\n",
       "      <td>2</td>\n",
       "      <td>31</td>\n",
       "      <td>...</td>\n",
       "      <td>0</td>\n",
       "      <td>0</td>\n",
       "      <td>0</td>\n",
       "      <td>50</td>\n",
       "      <td>True</td>\n",
       "      <td>0</td>\n",
       "      <td>0</td>\n",
       "      <td>1</td>\n",
       "      <td>1</td>\n",
       "      <td>0</td>\n",
       "    </tr>\n",
       "    <tr>\n",
       "      <th>14</th>\n",
       "      <td>Petr_Cech_1</td>\n",
       "      <td>0</td>\n",
       "      <td>35</td>\n",
       "      <td>0</td>\n",
       "      <td>0</td>\n",
       "      <td>0</td>\n",
       "      <td>26</td>\n",
       "      <td>0</td>\n",
       "      <td>1</td>\n",
       "      <td>25</td>\n",
       "      <td>...</td>\n",
       "      <td>188</td>\n",
       "      <td>6059</td>\n",
       "      <td>5871</td>\n",
       "      <td>50</td>\n",
       "      <td>False</td>\n",
       "      <td>0</td>\n",
       "      <td>0</td>\n",
       "      <td>1</td>\n",
       "      <td>1</td>\n",
       "      <td>1</td>\n",
       "    </tr>\n",
       "    <tr>\n",
       "      <th>21</th>\n",
       "      <td>Petr_Cech_1</td>\n",
       "      <td>0</td>\n",
       "      <td>24</td>\n",
       "      <td>0</td>\n",
       "      <td>0</td>\n",
       "      <td>0</td>\n",
       "      <td>17</td>\n",
       "      <td>0</td>\n",
       "      <td>0</td>\n",
       "      <td>20</td>\n",
       "      <td>...</td>\n",
       "      <td>8540</td>\n",
       "      <td>19550</td>\n",
       "      <td>11010</td>\n",
       "      <td>50</td>\n",
       "      <td>True</td>\n",
       "      <td>0</td>\n",
       "      <td>0</td>\n",
       "      <td>1</td>\n",
       "      <td>1</td>\n",
       "      <td>2</td>\n",
       "    </tr>\n",
       "    <tr>\n",
       "      <th>33</th>\n",
       "      <td>Petr_Cech_1</td>\n",
       "      <td>0</td>\n",
       "      <td>38</td>\n",
       "      <td>0</td>\n",
       "      <td>0</td>\n",
       "      <td>0</td>\n",
       "      <td>8</td>\n",
       "      <td>0</td>\n",
       "      <td>0</td>\n",
       "      <td>24</td>\n",
       "      <td>...</td>\n",
       "      <td>9582</td>\n",
       "      <td>19332</td>\n",
       "      <td>9750</td>\n",
       "      <td>50</td>\n",
       "      <td>False</td>\n",
       "      <td>0</td>\n",
       "      <td>0</td>\n",
       "      <td>1</td>\n",
       "      <td>1</td>\n",
       "      <td>3</td>\n",
       "    </tr>\n",
       "    <tr>\n",
       "      <th>46</th>\n",
       "      <td>Petr_Cech_1</td>\n",
       "      <td>0</td>\n",
       "      <td>33</td>\n",
       "      <td>0</td>\n",
       "      <td>0</td>\n",
       "      <td>0</td>\n",
       "      <td>13</td>\n",
       "      <td>0</td>\n",
       "      <td>2</td>\n",
       "      <td>23</td>\n",
       "      <td>...</td>\n",
       "      <td>-3297</td>\n",
       "      <td>8837</td>\n",
       "      <td>12134</td>\n",
       "      <td>50</td>\n",
       "      <td>False</td>\n",
       "      <td>0</td>\n",
       "      <td>0</td>\n",
       "      <td>1</td>\n",
       "      <td>1</td>\n",
       "      <td>4</td>\n",
       "    </tr>\n",
       "  </tbody>\n",
       "</table>\n",
       "<p>5 rows × 50 columns</p>\n",
       "</div>"
      ],
      "text/plain": [
       "                   name  assists  attempted_passes  big_chances_created  \\\n",
       "id fixture                                                                \n",
       "1  1        Petr_Cech_1        0                42                    0   \n",
       "   14       Petr_Cech_1        0                35                    0   \n",
       "   21       Petr_Cech_1        0                24                    0   \n",
       "   33       Petr_Cech_1        0                38                    0   \n",
       "   46       Petr_Cech_1        0                33                    0   \n",
       "\n",
       "            big_chances_missed  bonus  bps  clean_sheets  \\\n",
       "id fixture                                                 \n",
       "1  1                         0      0   24             0   \n",
       "   14                        0      0   26             0   \n",
       "   21                        0      0   17             0   \n",
       "   33                        0      0    8             0   \n",
       "   46                        0      0   13             0   \n",
       "\n",
       "            clearances_blocks_interceptions  completed_passes    ...      \\\n",
       "id fixture                                                       ...       \n",
       "1  1                                      2                31    ...       \n",
       "   14                                     1                25    ...       \n",
       "   21                                     0                20    ...       \n",
       "   33                                     0                24    ...       \n",
       "   46                                     2                23    ...       \n",
       "\n",
       "            transfers_balance  transfers_in  transfers_out  value  was_home  \\\n",
       "id fixture                                                                    \n",
       "1  1                        0             0              0     50      True   \n",
       "   14                     188          6059           5871     50     False   \n",
       "   21                    8540         19550          11010     50      True   \n",
       "   33                    9582         19332           9750     50     False   \n",
       "   46                   -3297          8837          12134     50     False   \n",
       "\n",
       "            winning_goals  yellow_cards  team  position  unique_id  \n",
       "id fixture                                                          \n",
       "1  1                    0             0     1         1          0  \n",
       "   14                   0             0     1         1          1  \n",
       "   21                   0             0     1         1          2  \n",
       "   33                   0             0     1         1          3  \n",
       "   46                   0             0     1         1          4  \n",
       "\n",
       "[5 rows x 50 columns]"
      ]
     },
     "execution_count": 16,
     "metadata": {},
     "output_type": "execute_result"
    }
   ],
   "source": [
    "main_data.head()"
   ]
  },
  {
   "cell_type": "code",
   "execution_count": 17,
   "metadata": {},
   "outputs": [],
   "source": [
    "by_team = main_data.groupby(['team']).sum()\n",
    "by_team.to_csv(datapath + 'by_team.csv')\n",
    "\n",
    "by_position = main_data.groupby(['position']).sum()\n",
    "by_position.to_csv(datapath + 'by_position.csv')\n",
    "\n",
    "by_player = main_data.groupby(main_data['name']).sum()\n",
    "by_player.to_csv(datapath + 'by_player.csv')"
   ]
  },
  {
   "cell_type": "code",
   "execution_count": 18,
   "metadata": {},
   "outputs": [],
   "source": [
    "by_player.sort_values('total_points',inplace=True, ascending=False)"
   ]
  },
  {
   "cell_type": "code",
   "execution_count": 19,
   "metadata": {
    "scrolled": true
   },
   "outputs": [
    {
     "name": "stdout",
     "output_type": "stream",
     "text": [
      "<class 'pandas.core.frame.DataFrame'>\n",
      "MultiIndex: 21790 entries, (1, 1) to (624, 375)\n",
      "Data columns (total 50 columns):\n",
      "name                               21790 non-null object\n",
      "assists                            21790 non-null int64\n",
      "attempted_passes                   21790 non-null int64\n",
      "big_chances_created                21790 non-null int64\n",
      "big_chances_missed                 21790 non-null int64\n",
      "bonus                              21790 non-null int64\n",
      "bps                                21790 non-null int64\n",
      "clean_sheets                       21790 non-null int64\n",
      "clearances_blocks_interceptions    21790 non-null int64\n",
      "completed_passes                   21790 non-null int64\n",
      "creativity                         21790 non-null float64\n",
      "dribbles                           21790 non-null int64\n",
      "errors_leading_to_goal             21790 non-null int64\n",
      "errors_leading_to_goal_attempt     21790 non-null int64\n",
      "fouls                              21790 non-null int64\n",
      "goals_conceded                     21790 non-null int64\n",
      "goals_scored                       21790 non-null int64\n",
      "ict_index                          21790 non-null float64\n",
      "influence                          21790 non-null float64\n",
      "key_passes                         21790 non-null int64\n",
      "minutes                            21790 non-null int64\n",
      "offside                            21790 non-null int64\n",
      "open_play_crosses                  21790 non-null int64\n",
      "opponent_team                      21790 non-null int64\n",
      "own_goals                          21790 non-null int64\n",
      "penalties_conceded                 21790 non-null int64\n",
      "penalties_missed                   21790 non-null int64\n",
      "penalties_saved                    21790 non-null int64\n",
      "recoveries                         21790 non-null int64\n",
      "red_cards                          21790 non-null int64\n",
      "round                              21790 non-null int64\n",
      "saves                              21790 non-null int64\n",
      "selected                           21790 non-null int64\n",
      "tackled                            21790 non-null int64\n",
      "tackles                            21790 non-null int64\n",
      "target_missed                      21790 non-null int64\n",
      "team_a_score                       21790 non-null int64\n",
      "team_h_score                       21790 non-null int64\n",
      "threat                             21790 non-null int64\n",
      "total_points                       21790 non-null int64\n",
      "transfers_balance                  21790 non-null int64\n",
      "transfers_in                       21790 non-null int64\n",
      "transfers_out                      21790 non-null int64\n",
      "value                              21790 non-null int64\n",
      "was_home                           21790 non-null bool\n",
      "winning_goals                      21790 non-null int64\n",
      "yellow_cards                       21790 non-null int64\n",
      "team                               21790 non-null int64\n",
      "position                           21790 non-null int64\n",
      "unique_id                          21790 non-null int32\n",
      "dtypes: bool(1), float64(3), int32(1), int64(44), object(1)\n",
      "memory usage: 8.2+ MB\n"
     ]
    }
   ],
   "source": [
    "main_data.info()"
   ]
  },
  {
   "cell_type": "markdown",
   "metadata": {},
   "source": [
    "- by team\n",
    "- by position\n",
    "- by "
   ]
  },
  {
   "cell_type": "markdown",
   "metadata": {},
   "source": [
    "- It seems like there are a lot of missing values"
   ]
  },
  {
   "cell_type": "markdown",
   "metadata": {},
   "source": [
    "## 3.4) Handling Missing Value"
   ]
  },
  {
   "cell_type": "code",
   "execution_count": 20,
   "metadata": {},
   "outputs": [
    {
     "data": {
      "text/plain": [
       "False"
      ]
     },
     "execution_count": 20,
     "metadata": {},
     "output_type": "execute_result"
    },
    {
     "data": {
      "text/plain": [
       "False"
      ]
     },
     "execution_count": 20,
     "metadata": {},
     "output_type": "execute_result"
    },
    {
     "data": {
      "text/plain": [
       "False"
      ]
     },
     "execution_count": 20,
     "metadata": {},
     "output_type": "execute_result"
    }
   ],
   "source": [
    "main_data.isnull().values.any()\n",
    "bootstrap.isnull().values.any()\n",
    "teams.isnull().values.any()"
   ]
  },
  {
   "cell_type": "code",
   "execution_count": 21,
   "metadata": {},
   "outputs": [
    {
     "data": {
      "text/plain": [
       "assists             0\n",
       "bonus               0\n",
       "bps                 0\n",
       "clean_sheets        0\n",
       "creativity          0\n",
       "dreamteam_count     0\n",
       "element_type        0\n",
       "ep_this             0\n",
       "event_points        0\n",
       "first_name          0\n",
       "form                0\n",
       "goals_conceded      0\n",
       "goals_scored        0\n",
       "ict_index           0\n",
       "in_dreamteam        0\n",
       "influence           0\n",
       "minutes             0\n",
       "now_cost            0\n",
       "own_goals           0\n",
       "penalties_missed    0\n",
       "penalties_saved     0\n",
       "photo               0\n",
       "points_per_game     0\n",
       "red_cards           0\n",
       "saves               0\n",
       "second_name         0\n",
       "status              0\n",
       "team                0\n",
       "team_code           0\n",
       "threat              0\n",
       "total_points        0\n",
       "value_form          0\n",
       "value_season        0\n",
       "web_name            0\n",
       "yellow_cards        0\n",
       "dtype: int64"
      ]
     },
     "execution_count": 21,
     "metadata": {},
     "output_type": "execute_result"
    }
   ],
   "source": [
    "bootstrap.isnull().sum()"
   ]
  },
  {
   "cell_type": "code",
   "execution_count": 22,
   "metadata": {},
   "outputs": [
    {
     "data": {
      "text/html": [
       "<div>\n",
       "<style scoped>\n",
       "    .dataframe tbody tr th:only-of-type {\n",
       "        vertical-align: middle;\n",
       "    }\n",
       "\n",
       "    .dataframe tbody tr th {\n",
       "        vertical-align: top;\n",
       "    }\n",
       "\n",
       "    .dataframe thead th {\n",
       "        text-align: right;\n",
       "    }\n",
       "</style>\n",
       "<table border=\"1\" class=\"dataframe\">\n",
       "  <thead>\n",
       "    <tr style=\"text-align: right;\">\n",
       "      <th></th>\n",
       "      <th></th>\n",
       "      <th>name</th>\n",
       "      <th>assists</th>\n",
       "      <th>attempted_passes</th>\n",
       "      <th>big_chances_created</th>\n",
       "      <th>big_chances_missed</th>\n",
       "      <th>bonus</th>\n",
       "      <th>bps</th>\n",
       "      <th>clean_sheets</th>\n",
       "      <th>clearances_blocks_interceptions</th>\n",
       "      <th>completed_passes</th>\n",
       "      <th>...</th>\n",
       "      <th>transfers_balance</th>\n",
       "      <th>transfers_in</th>\n",
       "      <th>transfers_out</th>\n",
       "      <th>value</th>\n",
       "      <th>was_home</th>\n",
       "      <th>winning_goals</th>\n",
       "      <th>yellow_cards</th>\n",
       "      <th>team</th>\n",
       "      <th>position</th>\n",
       "      <th>unique_id</th>\n",
       "    </tr>\n",
       "    <tr>\n",
       "      <th>id</th>\n",
       "      <th>fixture</th>\n",
       "      <th></th>\n",
       "      <th></th>\n",
       "      <th></th>\n",
       "      <th></th>\n",
       "      <th></th>\n",
       "      <th></th>\n",
       "      <th></th>\n",
       "      <th></th>\n",
       "      <th></th>\n",
       "      <th></th>\n",
       "      <th></th>\n",
       "      <th></th>\n",
       "      <th></th>\n",
       "      <th></th>\n",
       "      <th></th>\n",
       "      <th></th>\n",
       "      <th></th>\n",
       "      <th></th>\n",
       "      <th></th>\n",
       "      <th></th>\n",
       "      <th></th>\n",
       "    </tr>\n",
       "  </thead>\n",
       "  <tbody>\n",
       "  </tbody>\n",
       "</table>\n",
       "<p>0 rows × 50 columns</p>\n",
       "</div>"
      ],
      "text/plain": [
       "Empty DataFrame\n",
       "Columns: [name, assists, attempted_passes, big_chances_created, big_chances_missed, bonus, bps, clean_sheets, clearances_blocks_interceptions, completed_passes, creativity, dribbles, errors_leading_to_goal, errors_leading_to_goal_attempt, fouls, goals_conceded, goals_scored, ict_index, influence, key_passes, minutes, offside, open_play_crosses, opponent_team, own_goals, penalties_conceded, penalties_missed, penalties_saved, recoveries, red_cards, round, saves, selected, tackled, tackles, target_missed, team_a_score, team_h_score, threat, total_points, transfers_balance, transfers_in, transfers_out, value, was_home, winning_goals, yellow_cards, team, position, unique_id]\n",
       "Index: []\n",
       "\n",
       "[0 rows x 50 columns]"
      ]
     },
     "execution_count": 22,
     "metadata": {},
     "output_type": "execute_result"
    }
   ],
   "source": [
    "main_data[main_data['total_points'].isnull()]"
   ]
  },
  {
   "cell_type": "code",
   "execution_count": 23,
   "metadata": {},
   "outputs": [
    {
     "data": {
      "text/html": [
       "<div>\n",
       "<style scoped>\n",
       "    .dataframe tbody tr th:only-of-type {\n",
       "        vertical-align: middle;\n",
       "    }\n",
       "\n",
       "    .dataframe tbody tr th {\n",
       "        vertical-align: top;\n",
       "    }\n",
       "\n",
       "    .dataframe thead th {\n",
       "        text-align: right;\n",
       "    }\n",
       "</style>\n",
       "<table border=\"1\" class=\"dataframe\">\n",
       "  <thead>\n",
       "    <tr style=\"text-align: right;\">\n",
       "      <th></th>\n",
       "      <th></th>\n",
       "      <th>name</th>\n",
       "      <th>assists</th>\n",
       "      <th>attempted_passes</th>\n",
       "      <th>big_chances_created</th>\n",
       "      <th>big_chances_missed</th>\n",
       "      <th>bonus</th>\n",
       "      <th>bps</th>\n",
       "      <th>clean_sheets</th>\n",
       "      <th>clearances_blocks_interceptions</th>\n",
       "      <th>completed_passes</th>\n",
       "      <th>...</th>\n",
       "      <th>transfers_balance</th>\n",
       "      <th>transfers_in</th>\n",
       "      <th>transfers_out</th>\n",
       "      <th>value</th>\n",
       "      <th>was_home</th>\n",
       "      <th>winning_goals</th>\n",
       "      <th>yellow_cards</th>\n",
       "      <th>team</th>\n",
       "      <th>position</th>\n",
       "      <th>unique_id</th>\n",
       "    </tr>\n",
       "    <tr>\n",
       "      <th>id</th>\n",
       "      <th>fixture</th>\n",
       "      <th></th>\n",
       "      <th></th>\n",
       "      <th></th>\n",
       "      <th></th>\n",
       "      <th></th>\n",
       "      <th></th>\n",
       "      <th></th>\n",
       "      <th></th>\n",
       "      <th></th>\n",
       "      <th></th>\n",
       "      <th></th>\n",
       "      <th></th>\n",
       "      <th></th>\n",
       "      <th></th>\n",
       "      <th></th>\n",
       "      <th></th>\n",
       "      <th></th>\n",
       "      <th></th>\n",
       "      <th></th>\n",
       "      <th></th>\n",
       "      <th></th>\n",
       "    </tr>\n",
       "  </thead>\n",
       "  <tbody>\n",
       "  </tbody>\n",
       "</table>\n",
       "<p>0 rows × 50 columns</p>\n",
       "</div>"
      ],
      "text/plain": [
       "Empty DataFrame\n",
       "Columns: [name, assists, attempted_passes, big_chances_created, big_chances_missed, bonus, bps, clean_sheets, clearances_blocks_interceptions, completed_passes, creativity, dribbles, errors_leading_to_goal, errors_leading_to_goal_attempt, fouls, goals_conceded, goals_scored, ict_index, influence, key_passes, minutes, offside, open_play_crosses, opponent_team, own_goals, penalties_conceded, penalties_missed, penalties_saved, recoveries, red_cards, round, saves, selected, tackled, tackles, target_missed, team_a_score, team_h_score, threat, total_points, transfers_balance, transfers_in, transfers_out, value, was_home, winning_goals, yellow_cards, team, position, unique_id]\n",
       "Index: []\n",
       "\n",
       "[0 rows x 50 columns]"
      ]
     },
     "execution_count": 23,
     "metadata": {},
     "output_type": "execute_result"
    }
   ],
   "source": [
    "main_data[main_data.isnull().all(1)]"
   ]
  },
  {
   "cell_type": "code",
   "execution_count": 24,
   "metadata": {},
   "outputs": [
    {
     "data": {
      "text/html": [
       "<div>\n",
       "<style scoped>\n",
       "    .dataframe tbody tr th:only-of-type {\n",
       "        vertical-align: middle;\n",
       "    }\n",
       "\n",
       "    .dataframe tbody tr th {\n",
       "        vertical-align: top;\n",
       "    }\n",
       "\n",
       "    .dataframe thead th {\n",
       "        text-align: right;\n",
       "    }\n",
       "</style>\n",
       "<table border=\"1\" class=\"dataframe\">\n",
       "  <thead>\n",
       "    <tr style=\"text-align: right;\">\n",
       "      <th></th>\n",
       "      <th>assists</th>\n",
       "      <th>attempted_passes</th>\n",
       "      <th>big_chances_created</th>\n",
       "      <th>big_chances_missed</th>\n",
       "      <th>bonus</th>\n",
       "      <th>bps</th>\n",
       "      <th>clean_sheets</th>\n",
       "      <th>clearances_blocks_interceptions</th>\n",
       "      <th>completed_passes</th>\n",
       "      <th>creativity</th>\n",
       "      <th>...</th>\n",
       "      <th>total_points</th>\n",
       "      <th>transfers_balance</th>\n",
       "      <th>transfers_in</th>\n",
       "      <th>transfers_out</th>\n",
       "      <th>value</th>\n",
       "      <th>winning_goals</th>\n",
       "      <th>yellow_cards</th>\n",
       "      <th>team</th>\n",
       "      <th>position</th>\n",
       "      <th>unique_id</th>\n",
       "    </tr>\n",
       "  </thead>\n",
       "  <tbody>\n",
       "    <tr>\n",
       "      <th>count</th>\n",
       "      <td>21790.000000</td>\n",
       "      <td>21790.000000</td>\n",
       "      <td>21790.000000</td>\n",
       "      <td>21790.000000</td>\n",
       "      <td>21790.000000</td>\n",
       "      <td>21790.000000</td>\n",
       "      <td>21790.000000</td>\n",
       "      <td>21790.000000</td>\n",
       "      <td>21790.000000</td>\n",
       "      <td>21790.000000</td>\n",
       "      <td>...</td>\n",
       "      <td>21790.000000</td>\n",
       "      <td>2.179000e+04</td>\n",
       "      <td>21790.000000</td>\n",
       "      <td>2.179000e+04</td>\n",
       "      <td>21790.000000</td>\n",
       "      <td>21790.000000</td>\n",
       "      <td>21790.000000</td>\n",
       "      <td>21790.000000</td>\n",
       "      <td>21790.000000</td>\n",
       "      <td>21790.000000</td>\n",
       "    </tr>\n",
       "    <tr>\n",
       "      <th>mean</th>\n",
       "      <td>0.042818</td>\n",
       "      <td>15.996329</td>\n",
       "      <td>0.049702</td>\n",
       "      <td>0.039376</td>\n",
       "      <td>0.111152</td>\n",
       "      <td>6.329876</td>\n",
       "      <td>0.107572</td>\n",
       "      <td>1.292520</td>\n",
       "      <td>12.738550</td>\n",
       "      <td>5.132455</td>\n",
       "      <td>...</td>\n",
       "      <td>1.424094</td>\n",
       "      <td>5.866516e+02</td>\n",
       "      <td>9763.501882</td>\n",
       "      <td>9.176952e+03</td>\n",
       "      <td>51.416246</td>\n",
       "      <td>0.013584</td>\n",
       "      <td>0.056035</td>\n",
       "      <td>10.572556</td>\n",
       "      <td>2.583020</td>\n",
       "      <td>10894.500000</td>\n",
       "    </tr>\n",
       "    <tr>\n",
       "      <th>std</th>\n",
       "      <td>0.220465</td>\n",
       "      <td>22.867968</td>\n",
       "      <td>0.241537</td>\n",
       "      <td>0.215748</td>\n",
       "      <td>0.496756</td>\n",
       "      <td>9.932811</td>\n",
       "      <td>0.309847</td>\n",
       "      <td>2.585448</td>\n",
       "      <td>19.522709</td>\n",
       "      <td>11.102271</td>\n",
       "      <td>...</td>\n",
       "      <td>2.563758</td>\n",
       "      <td>4.268968e+04</td>\n",
       "      <td>35751.416540</td>\n",
       "      <td>3.158310e+04</td>\n",
       "      <td>12.536240</td>\n",
       "      <td>0.115760</td>\n",
       "      <td>0.229994</td>\n",
       "      <td>5.787709</td>\n",
       "      <td>0.861284</td>\n",
       "      <td>6290.375519</td>\n",
       "    </tr>\n",
       "    <tr>\n",
       "      <th>min</th>\n",
       "      <td>0.000000</td>\n",
       "      <td>0.000000</td>\n",
       "      <td>0.000000</td>\n",
       "      <td>0.000000</td>\n",
       "      <td>0.000000</td>\n",
       "      <td>-14.000000</td>\n",
       "      <td>0.000000</td>\n",
       "      <td>0.000000</td>\n",
       "      <td>0.000000</td>\n",
       "      <td>0.000000</td>\n",
       "      <td>...</td>\n",
       "      <td>-4.000000</td>\n",
       "      <td>-1.156152e+06</td>\n",
       "      <td>0.000000</td>\n",
       "      <td>0.000000e+00</td>\n",
       "      <td>38.000000</td>\n",
       "      <td>0.000000</td>\n",
       "      <td>0.000000</td>\n",
       "      <td>1.000000</td>\n",
       "      <td>1.000000</td>\n",
       "      <td>0.000000</td>\n",
       "    </tr>\n",
       "    <tr>\n",
       "      <th>25%</th>\n",
       "      <td>0.000000</td>\n",
       "      <td>0.000000</td>\n",
       "      <td>0.000000</td>\n",
       "      <td>0.000000</td>\n",
       "      <td>0.000000</td>\n",
       "      <td>0.000000</td>\n",
       "      <td>0.000000</td>\n",
       "      <td>0.000000</td>\n",
       "      <td>0.000000</td>\n",
       "      <td>0.000000</td>\n",
       "      <td>...</td>\n",
       "      <td>0.000000</td>\n",
       "      <td>-1.301000e+03</td>\n",
       "      <td>44.000000</td>\n",
       "      <td>1.400000e+02</td>\n",
       "      <td>44.000000</td>\n",
       "      <td>0.000000</td>\n",
       "      <td>0.000000</td>\n",
       "      <td>6.000000</td>\n",
       "      <td>2.000000</td>\n",
       "      <td>5447.250000</td>\n",
       "    </tr>\n",
       "    <tr>\n",
       "      <th>50%</th>\n",
       "      <td>0.000000</td>\n",
       "      <td>0.000000</td>\n",
       "      <td>0.000000</td>\n",
       "      <td>0.000000</td>\n",
       "      <td>0.000000</td>\n",
       "      <td>0.000000</td>\n",
       "      <td>0.000000</td>\n",
       "      <td>0.000000</td>\n",
       "      <td>0.000000</td>\n",
       "      <td>0.000000</td>\n",
       "      <td>...</td>\n",
       "      <td>0.000000</td>\n",
       "      <td>-8.500000e+01</td>\n",
       "      <td>319.000000</td>\n",
       "      <td>9.355000e+02</td>\n",
       "      <td>48.000000</td>\n",
       "      <td>0.000000</td>\n",
       "      <td>0.000000</td>\n",
       "      <td>10.000000</td>\n",
       "      <td>3.000000</td>\n",
       "      <td>10894.500000</td>\n",
       "    </tr>\n",
       "    <tr>\n",
       "      <th>75%</th>\n",
       "      <td>0.000000</td>\n",
       "      <td>28.000000</td>\n",
       "      <td>0.000000</td>\n",
       "      <td>0.000000</td>\n",
       "      <td>0.000000</td>\n",
       "      <td>11.000000</td>\n",
       "      <td>0.000000</td>\n",
       "      <td>1.000000</td>\n",
       "      <td>21.000000</td>\n",
       "      <td>3.500000</td>\n",
       "      <td>...</td>\n",
       "      <td>2.000000</td>\n",
       "      <td>3.300000e+01</td>\n",
       "      <td>3468.750000</td>\n",
       "      <td>6.130000e+03</td>\n",
       "      <td>55.000000</td>\n",
       "      <td>0.000000</td>\n",
       "      <td>0.000000</td>\n",
       "      <td>16.000000</td>\n",
       "      <td>3.000000</td>\n",
       "      <td>16341.750000</td>\n",
       "    </tr>\n",
       "    <tr>\n",
       "      <th>max</th>\n",
       "      <td>3.000000</td>\n",
       "      <td>180.000000</td>\n",
       "      <td>3.000000</td>\n",
       "      <td>4.000000</td>\n",
       "      <td>3.000000</td>\n",
       "      <td>92.000000</td>\n",
       "      <td>1.000000</td>\n",
       "      <td>22.000000</td>\n",
       "      <td>164.000000</td>\n",
       "      <td>134.800000</td>\n",
       "      <td>...</td>\n",
       "      <td>23.000000</td>\n",
       "      <td>8.283400e+05</td>\n",
       "      <td>843341.000000</td>\n",
       "      <td>1.174804e+06</td>\n",
       "      <td>136.000000</td>\n",
       "      <td>1.000000</td>\n",
       "      <td>1.000000</td>\n",
       "      <td>20.000000</td>\n",
       "      <td>4.000000</td>\n",
       "      <td>21789.000000</td>\n",
       "    </tr>\n",
       "  </tbody>\n",
       "</table>\n",
       "<p>8 rows × 48 columns</p>\n",
       "</div>"
      ],
      "text/plain": [
       "            assists  attempted_passes  big_chances_created  \\\n",
       "count  21790.000000      21790.000000         21790.000000   \n",
       "mean       0.042818         15.996329             0.049702   \n",
       "std        0.220465         22.867968             0.241537   \n",
       "min        0.000000          0.000000             0.000000   \n",
       "25%        0.000000          0.000000             0.000000   \n",
       "50%        0.000000          0.000000             0.000000   \n",
       "75%        0.000000         28.000000             0.000000   \n",
       "max        3.000000        180.000000             3.000000   \n",
       "\n",
       "       big_chances_missed         bonus           bps  clean_sheets  \\\n",
       "count        21790.000000  21790.000000  21790.000000  21790.000000   \n",
       "mean             0.039376      0.111152      6.329876      0.107572   \n",
       "std              0.215748      0.496756      9.932811      0.309847   \n",
       "min              0.000000      0.000000    -14.000000      0.000000   \n",
       "25%              0.000000      0.000000      0.000000      0.000000   \n",
       "50%              0.000000      0.000000      0.000000      0.000000   \n",
       "75%              0.000000      0.000000     11.000000      0.000000   \n",
       "max              4.000000      3.000000     92.000000      1.000000   \n",
       "\n",
       "       clearances_blocks_interceptions  completed_passes    creativity  \\\n",
       "count                     21790.000000      21790.000000  21790.000000   \n",
       "mean                          1.292520         12.738550      5.132455   \n",
       "std                           2.585448         19.522709     11.102271   \n",
       "min                           0.000000          0.000000      0.000000   \n",
       "25%                           0.000000          0.000000      0.000000   \n",
       "50%                           0.000000          0.000000      0.000000   \n",
       "75%                           1.000000         21.000000      3.500000   \n",
       "max                          22.000000        164.000000    134.800000   \n",
       "\n",
       "           ...       total_points  transfers_balance   transfers_in  \\\n",
       "count      ...       21790.000000       2.179000e+04   21790.000000   \n",
       "mean       ...           1.424094       5.866516e+02    9763.501882   \n",
       "std        ...           2.563758       4.268968e+04   35751.416540   \n",
       "min        ...          -4.000000      -1.156152e+06       0.000000   \n",
       "25%        ...           0.000000      -1.301000e+03      44.000000   \n",
       "50%        ...           0.000000      -8.500000e+01     319.000000   \n",
       "75%        ...           2.000000       3.300000e+01    3468.750000   \n",
       "max        ...          23.000000       8.283400e+05  843341.000000   \n",
       "\n",
       "       transfers_out         value  winning_goals  yellow_cards          team  \\\n",
       "count   2.179000e+04  21790.000000   21790.000000  21790.000000  21790.000000   \n",
       "mean    9.176952e+03     51.416246       0.013584      0.056035     10.572556   \n",
       "std     3.158310e+04     12.536240       0.115760      0.229994      5.787709   \n",
       "min     0.000000e+00     38.000000       0.000000      0.000000      1.000000   \n",
       "25%     1.400000e+02     44.000000       0.000000      0.000000      6.000000   \n",
       "50%     9.355000e+02     48.000000       0.000000      0.000000     10.000000   \n",
       "75%     6.130000e+03     55.000000       0.000000      0.000000     16.000000   \n",
       "max     1.174804e+06    136.000000       1.000000      1.000000     20.000000   \n",
       "\n",
       "           position     unique_id  \n",
       "count  21790.000000  21790.000000  \n",
       "mean       2.583020  10894.500000  \n",
       "std        0.861284   6290.375519  \n",
       "min        1.000000      0.000000  \n",
       "25%        2.000000   5447.250000  \n",
       "50%        3.000000  10894.500000  \n",
       "75%        3.000000  16341.750000  \n",
       "max        4.000000  21789.000000  \n",
       "\n",
       "[8 rows x 48 columns]"
      ]
     },
     "execution_count": 24,
     "metadata": {},
     "output_type": "execute_result"
    }
   ],
   "source": [
    "main_data.describe()"
   ]
  },
  {
   "cell_type": "code",
   "execution_count": 25,
   "metadata": {},
   "outputs": [],
   "source": [
    "main_data.to_csv(datapath + 'main_data.csv')"
   ]
  },
  {
   "cell_type": "markdown",
   "metadata": {},
   "source": [
    "# 4) Visualization"
   ]
  },
  {
   "cell_type": "markdown",
   "metadata": {},
   "source": [
    "## 4.1) Plot"
   ]
  },
  {
   "cell_type": "code",
   "execution_count": 35,
   "metadata": {},
   "outputs": [
    {
     "data": {
      "text/plain": [
       "name\n",
       "Mohamed_Salah_253       259\n",
       "Eden_Hazard_122         238\n",
       "Raheem_Sterling_270     234\n",
       "Sadio_Man?_251          231\n",
       "Andrew_Robertson_247    213\n",
       "Name: total_points, dtype: int64"
      ]
     },
     "execution_count": 35,
     "metadata": {},
     "output_type": "execute_result"
    }
   ],
   "source": [
    "by_player['total_points'].head()"
   ]
  },
  {
   "cell_type": "code",
   "execution_count": 41,
   "metadata": {},
   "outputs": [
    {
     "data": {
      "text/plain": [
       "<BarContainer object of 5 artists>"
      ]
     },
     "execution_count": 41,
     "metadata": {},
     "output_type": "execute_result"
    },
    {
     "data": {
      "text/plain": [
       "([<matplotlib.axis.XTick at 0x14336c08320>,\n",
       "  <matplotlib.axis.XTick at 0x14331c227f0>,\n",
       "  <matplotlib.axis.XTick at 0x14336e16fd0>,\n",
       "  <matplotlib.axis.XTick at 0x14336e2c3c8>,\n",
       "  <matplotlib.axis.XTick at 0x14336e2c898>],\n",
       " <a list of 5 Text xticklabel objects>)"
      ]
     },
     "execution_count": 41,
     "metadata": {},
     "output_type": "execute_result"
    },
    {
     "data": {
      "text/plain": [
       "Text(0, 0.5, 'Points')"
      ]
     },
     "execution_count": 41,
     "metadata": {},
     "output_type": "execute_result"
    },
    {
     "data": {
      "text/plain": [
       "Text(0.5, 1.0, 'Points Earned by Positions')"
      ]
     },
     "execution_count": 41,
     "metadata": {},
     "output_type": "execute_result"
    },
    {
     "data": {
      "image/png": "[encoded data removed]",
      "text/plain": [
       "<Figure size 1440x432 with 1 Axes>"
      ]
     },
     "metadata": {
      "needs_background": "light"
     },
     "output_type": "display_data"
    }
   ],
   "source": [
    "rcParams['figure.figsize'] = 20, 6\n",
    "\n",
    "#objects = ('GK', 'FW', 'MF', 'DF')\n",
    "objects = by_player.head().index\n",
    "\n",
    "y_pos = np.arange(len(objects))\n",
    "\n",
    "plt.bar(objects, by_player['total_points'].head(), align='center')\n",
    "\n",
    "plt.xticks(y_pos, objects)\n",
    "plt.ylabel('Points')\n",
    "plt.title('Points Earned by Positions')\n",
    "\n",
    "plt.show()"
   ]
  },
  {
   "cell_type": "markdown",
   "metadata": {},
   "source": [
    "## 4.2) Pairplot"
   ]
  },
  {
   "cell_type": "code",
   "execution_count": 73,
   "metadata": {},
   "outputs": [
    {
     "data": {
      "text/plain": [
       "id   fixture\n",
       "1    1           True\n",
       "     14         False\n",
       "     21          True\n",
       "     33         False\n",
       "     46         False\n",
       "     51          True\n",
       "     61          True\n",
       "     74         False\n",
       "     81          True\n",
       "     93         False\n",
       "     101         True\n",
       "     111         True\n",
       "     121        False\n",
       "     131         True\n",
       "     145        False\n",
       "     151         True\n",
       "     167        False\n",
       "     171         True\n",
       "     181        False\n",
       "     196        False\n",
       "     201         True\n",
       "     220        False\n",
       "     221         True\n",
       "     231         True\n",
       "     248        False\n",
       "     254        False\n",
       "     261         True\n",
       "     271         True\n",
       "     287        False\n",
       "     291         True\n",
       "                ...  \n",
       "611  369         True\n",
       "     380        False\n",
       "612  328         True\n",
       "     339         True\n",
       "     347        False\n",
       "     359         True\n",
       "     362        False\n",
       "     379         True\n",
       "613  342         True\n",
       "     358        False\n",
       "     362         True\n",
       "     373        False\n",
       "614  328         True\n",
       "     347        False\n",
       "     359         True\n",
       "     362        False\n",
       "     379         True\n",
       "615  352         True\n",
       "     365        False\n",
       "     372         True\n",
       "616  362         True\n",
       "     373        False\n",
       "617  371         True\n",
       "618  373         True\n",
       "619  373         True\n",
       "620  373        False\n",
       "621  374         True\n",
       "622  374        False\n",
       "623  374        False\n",
       "624  375        False\n",
       "Name: was_home, Length: 21790, dtype: bool"
      ]
     },
     "execution_count": 73,
     "metadata": {},
     "output_type": "execute_result"
    }
   ],
   "source": [
    "main_data['was_home']"
   ]
  },
  {
   "cell_type": "code",
   "execution_count": 76,
   "metadata": {},
   "outputs": [],
   "source": [
    "column_list = ['total_points', 'bps','ict_index', 'influence']\n",
    "\n",
    "\n",
    "column_list1 = ['assists', 'attempted_passes', 'big_chances_created',\n",
    "       'big_chances_missed', 'bonus', 'bps', 'clean_sheets',\n",
    "       'clearances_blocks_interceptions', 'completed_passes', 'creativity',\n",
    "       'dribbles', 'errors_leading_to_goal', 'errors_leading_to_goal_attempt',\n",
    "       'fouls', 'goals_conceded', 'goals_scored', 'ict_index', 'influence',\n",
    "       'key_passes', 'minutes', 'offside', 'open_play_crosses',\n",
    "       'opponent_team', 'own_goals', 'penalties_conceded', 'penalties_missed',\n",
    "       'penalties_saved', 'recoveries', 'red_cards', 'round', 'saves',\n",
    "       'selected', 'tackled', 'tackles', 'target_missed', 'team_a_score',\n",
    "       'team_h_score', 'threat', 'total_points', 'transfers_balance',\n",
    "       'transfers_in', 'transfers_out', 'value', 'was_home', 'winning_goals',\n",
    "       'yellow_cards', 'team', 'position', 'unique_id']\n",
    "column_list2 = []\n",
    "column_list3 = []"
   ]
  },
  {
   "cell_type": "code",
   "execution_count": 77,
   "metadata": {},
   "outputs": [
    {
     "data": {
      "image/png": "[encoded data removed]",
      "text/plain": [
       "<Figure size 720x720 with 20 Axes>"
      ]
     },
     "metadata": {},
     "output_type": "display_data"
    }
   ],
   "source": [
    "def pairplot(column_list):\n",
    "    \n",
    "    simple_main_data = main_data[column_list]\n",
    "\n",
    "    # Time vs Temperature vs Load pairplot\n",
    "    sns.set(style=\"ticks\", color_codes=True)\n",
    "\n",
    "    sns_plot = sns.pairplot(simple_main_data)\n",
    "    #sns_plot.savefig(main_data_dir + \"_pairplot.png\")\n",
    "\n",
    "  \n",
    "pairplot(column_list)"
   ]
  },
  {
   "cell_type": "markdown",
   "metadata": {},
   "source": [
    "# To-do"
   ]
  },
  {
   "cell_type": "markdown",
   "metadata": {},
   "source": [
    "- change time 0 to 24\n",
    "- compare graphs\n",
    "- one-variable\n",
    "- interaction term\n",
    "- box plot"
   ]
  }
 ],
 "metadata": {
  "kernelspec": {
   "display_name": "Python 3",
   "language": "python",
   "name": "python3"
  },
  "language_info": {
   "codemirror_mode": {
    "name": "ipython",
    "version": 3
   },
   "file_extension": ".py",
   "mimetype": "text/x-python",
   "name": "python",
   "nbconvert_exporter": "python",
   "pygments_lexer": "ipython3",
   "version": "3.7.5"
  }
 },
 "nbformat": 4,
 "nbformat_minor": 2
}
