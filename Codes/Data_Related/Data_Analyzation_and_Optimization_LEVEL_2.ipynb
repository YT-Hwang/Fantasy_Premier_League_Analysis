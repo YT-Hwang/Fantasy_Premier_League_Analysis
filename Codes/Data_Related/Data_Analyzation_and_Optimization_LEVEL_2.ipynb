{
 "cells": [
  {
   "cell_type": "markdown",
   "metadata": {},
   "source": [
    "# 1) Packages"
   ]
  },
  {
   "cell_type": "code",
   "execution_count": 1,
   "metadata": {},
   "outputs": [],
   "source": [
    "import numpy as np\n",
    "from numpy import array, hstack\n",
    "import pandas as pd\n",
    "import matplotlib.pylab as plt\n",
    "%matplotlib inline\n",
    "from matplotlib.pylab import rcParams\n",
    "import seaborn as sns\n",
    "\n",
    "\n",
    "from datetime import datetime, timedelta\n",
    "\n",
    "\n",
    "from IPython.core.interactiveshell import InteractiveShell\n",
    "InteractiveShell.ast_node_interactivity = \"all\"\n",
    "\n",
    "%matplotlib inline"
   ]
  },
  {
   "cell_type": "code",
   "execution_count": 2,
   "metadata": {},
   "outputs": [],
   "source": [
    "import pandas as pd\n",
    "import numpy as np\n",
    "import matplotlib.pylab as plt\n",
    "%matplotlib inline\n",
    "from matplotlib.pylab import rcParams\n",
    "from sklearn.utils import shuffle\n",
    "\n",
    "from sklearn import preprocessing\n",
    "\n",
    "rcParams['figure.figsize'] = 20, 6"
   ]
  },
  {
   "cell_type": "code",
   "execution_count": 3,
   "metadata": {},
   "outputs": [],
   "source": [
    "import pulp"
   ]
  },
  {
   "cell_type": "raw",
   "metadata": {},
   "source": [
    "!pip install tensorflow"
   ]
  },
  {
   "cell_type": "raw",
   "metadata": {},
   "source": [
    "!pip install keras"
   ]
  },
  {
   "cell_type": "raw",
   "metadata": {},
   "source": [
    "from keras.models import load_model\n",
    "from keras.models import Sequential, load_model\n",
    "from keras.layers import LSTM, Dense, Dropout, Embedding, Masking, Conv1D, MaxPooling1D, Flatten\n",
    "from keras.optimizers import Adam\n",
    "from keras.utils import Sequence\n",
    "from keras.preprocessing.text import Tokenizer\n",
    "from keras.callbacks import EarlyStopping, ModelCheckpoint\n",
    "from keras.models import load_model\n",
    "\n",
    "import re\n"
   ]
  },
  {
   "cell_type": "markdown",
   "metadata": {},
   "source": [
    "# 2) Getting File Names in a Folder"
   ]
  },
  {
   "cell_type": "code",
   "execution_count": 4,
   "metadata": {},
   "outputs": [],
   "source": [
    "# Getting all the files in the directory.\n",
    "def existing_file_list(path):\n",
    "    ''' Extracting File Names '''\n",
    "\n",
    "    allFiles = glob.glob(path + \"/*.csv\")\n",
    "    new_list = []\n",
    "    for i in allFiles:\n",
    "        before = 'original\\\\'\n",
    "        after = '_minute'\n",
    "        ticker = i[i.find(before) + len(before) : i.find(after)]\n",
    "        new_list.append(ticker)    \n",
    "    #list_ticker = list(filter(None, text))  # drop all the empty elements and put them in a list\n",
    "        \n",
    "    return (new_list)\n"
   ]
  },
  {
   "cell_type": "code",
   "execution_count": 5,
   "metadata": {},
   "outputs": [],
   "source": [
    "datapath = 'D:\\\\OneDrive - Georgia State University\\\\Data Science\\\\Personal_Project\\\\FPL_Analysis\\\\Data\\\\'\n",
    "\n",
    "from os import listdir\n",
    "from os.path import isfile, join\n",
    "main_data_list = [f for f in listdir(datapath) if isfile(join(datapath, f))]"
   ]
  },
  {
   "cell_type": "code",
   "execution_count": 6,
   "metadata": {},
   "outputs": [
    {
     "data": {
      "text/plain": [
       "'D:\\\\OneDrive - Georgia State University\\\\Data Science\\\\Personal_Project\\\\FPL_Analysis\\\\Data\\\\'"
      ]
     },
     "execution_count": 6,
     "metadata": {},
     "output_type": "execute_result"
    }
   ],
   "source": [
    "datapath"
   ]
  },
  {
   "cell_type": "code",
   "execution_count": 7,
   "metadata": {},
   "outputs": [
    {
     "data": {
      "text/plain": [
       "['elements_df.csv',\n",
       " 'element_types2019.csv',\n",
       " 'element_types_df.csv',\n",
       " 'fixture_df.csv',\n",
       " 'fixture_final_test.csv',\n",
       " 'history_df.csv',\n",
       " 'history_final_training.csv',\n",
       " 'teams2019.csv',\n",
       " 'teams_df.csv']"
      ]
     },
     "execution_count": 7,
     "metadata": {},
     "output_type": "execute_result"
    }
   ],
   "source": [
    "main_data_list"
   ]
  },
  {
   "cell_type": "markdown",
   "metadata": {},
   "source": [
    "# 3) Exploratory Data Analysis"
   ]
  },
  {
   "cell_type": "markdown",
   "metadata": {},
   "source": [
    "## 3.1) Import Data"
   ]
  },
  {
   "cell_type": "code",
   "execution_count": 8,
   "metadata": {},
   "outputs": [],
   "source": [
    "#element_types = pd.read_csv(datapath + 'element_types.xlsx',index_col='id', engine = 'python')\n",
    "\n",
    "#main_data = pd.read_csv(datapath + 'each_player_each_game.csv', index_col=['id', 'fixture'], engine = 'python')\n",
    "history = pd.read_csv(datapath + 'history_final_training.csv', index_col=0, engine = 'python')\n",
    "fixture = pd.read_csv(datapath + 'fixture_final_test.csv', index_col=0, engine = 'python')\n",
    "\n",
    "bootstrap = pd.read_csv(datapath + 'elements_df.csv', index_col=0, engine = 'python')\n",
    "element_type = pd.read_csv(datapath + 'element_types_df.csv', index_col=0, engine = 'python')\n",
    "teams = pd.read_csv(datapath + 'teams_df.csv', index_col=0, engine = 'python')"
   ]
  },
  {
   "cell_type": "code",
   "execution_count": 9,
   "metadata": {},
   "outputs": [
    {
     "data": {
      "text/html": [
       "<div>\n",
       "<style scoped>\n",
       "    .dataframe tbody tr th:only-of-type {\n",
       "        vertical-align: middle;\n",
       "    }\n",
       "\n",
       "    .dataframe tbody tr th {\n",
       "        vertical-align: top;\n",
       "    }\n",
       "\n",
       "    .dataframe thead th {\n",
       "        text-align: right;\n",
       "    }\n",
       "</style>\n",
       "<table border=\"1\" class=\"dataframe\">\n",
       "  <thead>\n",
       "    <tr style=\"text-align: right;\">\n",
       "      <th></th>\n",
       "      <th>player_id</th>\n",
       "      <th>team</th>\n",
       "      <th>opponent_team</th>\n",
       "      <th>home</th>\n",
       "      <th>round</th>\n",
       "      <th>total_points</th>\n",
       "    </tr>\n",
       "  </thead>\n",
       "  <tbody>\n",
       "    <tr>\n",
       "      <th>0</th>\n",
       "      <td>1</td>\n",
       "      <td>1</td>\n",
       "      <td>13.0</td>\n",
       "      <td>False</td>\n",
       "      <td>1.0</td>\n",
       "      <td>0.0</td>\n",
       "    </tr>\n",
       "    <tr>\n",
       "      <th>1</th>\n",
       "      <td>1</td>\n",
       "      <td>1</td>\n",
       "      <td>5.0</td>\n",
       "      <td>True</td>\n",
       "      <td>2.0</td>\n",
       "      <td>0.0</td>\n",
       "    </tr>\n",
       "    <tr>\n",
       "      <th>2</th>\n",
       "      <td>1</td>\n",
       "      <td>1</td>\n",
       "      <td>10.0</td>\n",
       "      <td>False</td>\n",
       "      <td>3.0</td>\n",
       "      <td>0.0</td>\n",
       "    </tr>\n",
       "    <tr>\n",
       "      <th>3</th>\n",
       "      <td>1</td>\n",
       "      <td>1</td>\n",
       "      <td>17.0</td>\n",
       "      <td>True</td>\n",
       "      <td>4.0</td>\n",
       "      <td>0.0</td>\n",
       "    </tr>\n",
       "    <tr>\n",
       "      <th>4</th>\n",
       "      <td>1</td>\n",
       "      <td>1</td>\n",
       "      <td>18.0</td>\n",
       "      <td>False</td>\n",
       "      <td>5.0</td>\n",
       "      <td>0.0</td>\n",
       "    </tr>\n",
       "  </tbody>\n",
       "</table>\n",
       "</div>"
      ],
      "text/plain": [
       "   player_id  team  opponent_team   home  round  total_points\n",
       "0          1     1           13.0  False    1.0           0.0\n",
       "1          1     1            5.0   True    2.0           0.0\n",
       "2          1     1           10.0  False    3.0           0.0\n",
       "3          1     1           17.0   True    4.0           0.0\n",
       "4          1     1           18.0  False    5.0           0.0"
      ]
     },
     "execution_count": 9,
     "metadata": {},
     "output_type": "execute_result"
    },
    {
     "data": {
      "text/html": [
       "<div>\n",
       "<style scoped>\n",
       "    .dataframe tbody tr th:only-of-type {\n",
       "        vertical-align: middle;\n",
       "    }\n",
       "\n",
       "    .dataframe tbody tr th {\n",
       "        vertical-align: top;\n",
       "    }\n",
       "\n",
       "    .dataframe thead th {\n",
       "        text-align: right;\n",
       "    }\n",
       "</style>\n",
       "<table border=\"1\" class=\"dataframe\">\n",
       "  <thead>\n",
       "    <tr style=\"text-align: right;\">\n",
       "      <th></th>\n",
       "      <th>player_id</th>\n",
       "      <th>team</th>\n",
       "      <th>difficulty</th>\n",
       "      <th>opponent_team</th>\n",
       "      <th>home</th>\n",
       "      <th>round</th>\n",
       "    </tr>\n",
       "  </thead>\n",
       "  <tbody>\n",
       "    <tr>\n",
       "      <th>0</th>\n",
       "      <td>1</td>\n",
       "      <td>1</td>\n",
       "      <td>3.0</td>\n",
       "      <td>5.0</td>\n",
       "      <td>False</td>\n",
       "      <td>25.0</td>\n",
       "    </tr>\n",
       "    <tr>\n",
       "      <th>1</th>\n",
       "      <td>2</td>\n",
       "      <td>1</td>\n",
       "      <td>3.0</td>\n",
       "      <td>5.0</td>\n",
       "      <td>False</td>\n",
       "      <td>25.0</td>\n",
       "    </tr>\n",
       "    <tr>\n",
       "      <th>2</th>\n",
       "      <td>3</td>\n",
       "      <td>1</td>\n",
       "      <td>3.0</td>\n",
       "      <td>5.0</td>\n",
       "      <td>False</td>\n",
       "      <td>25.0</td>\n",
       "    </tr>\n",
       "    <tr>\n",
       "      <th>3</th>\n",
       "      <td>4</td>\n",
       "      <td>1</td>\n",
       "      <td>3.0</td>\n",
       "      <td>5.0</td>\n",
       "      <td>False</td>\n",
       "      <td>25.0</td>\n",
       "    </tr>\n",
       "    <tr>\n",
       "      <th>4</th>\n",
       "      <td>5</td>\n",
       "      <td>1</td>\n",
       "      <td>3.0</td>\n",
       "      <td>5.0</td>\n",
       "      <td>False</td>\n",
       "      <td>25.0</td>\n",
       "    </tr>\n",
       "  </tbody>\n",
       "</table>\n",
       "</div>"
      ],
      "text/plain": [
       "   player_id  team  difficulty  opponent_team   home  round\n",
       "0          1     1         3.0            5.0  False   25.0\n",
       "1          2     1         3.0            5.0  False   25.0\n",
       "2          3     1         3.0            5.0  False   25.0\n",
       "3          4     1         3.0            5.0  False   25.0\n",
       "4          5     1         3.0            5.0  False   25.0"
      ]
     },
     "execution_count": 9,
     "metadata": {},
     "output_type": "execute_result"
    },
    {
     "data": {
      "text/html": [
       "<div>\n",
       "<style scoped>\n",
       "    .dataframe tbody tr th:only-of-type {\n",
       "        vertical-align: middle;\n",
       "    }\n",
       "\n",
       "    .dataframe tbody tr th {\n",
       "        vertical-align: top;\n",
       "    }\n",
       "\n",
       "    .dataframe thead th {\n",
       "        text-align: right;\n",
       "    }\n",
       "</style>\n",
       "<table border=\"1\" class=\"dataframe\">\n",
       "  <thead>\n",
       "    <tr style=\"text-align: right;\">\n",
       "      <th></th>\n",
       "      <th>chance_of_playing_next_round</th>\n",
       "      <th>chance_of_playing_this_round</th>\n",
       "      <th>code</th>\n",
       "      <th>cost_change_event</th>\n",
       "      <th>cost_change_event_fall</th>\n",
       "      <th>cost_change_start</th>\n",
       "      <th>cost_change_start_fall</th>\n",
       "      <th>dreamteam_count</th>\n",
       "      <th>element_type</th>\n",
       "      <th>ep_next</th>\n",
       "      <th>...</th>\n",
       "      <th>penalties_missed</th>\n",
       "      <th>yellow_cards</th>\n",
       "      <th>red_cards</th>\n",
       "      <th>saves</th>\n",
       "      <th>bonus</th>\n",
       "      <th>bps</th>\n",
       "      <th>influence</th>\n",
       "      <th>creativity</th>\n",
       "      <th>threat</th>\n",
       "      <th>ict_index</th>\n",
       "    </tr>\n",
       "  </thead>\n",
       "  <tbody>\n",
       "    <tr>\n",
       "      <th>0</th>\n",
       "      <td>100.0</td>\n",
       "      <td>100.0</td>\n",
       "      <td>69140</td>\n",
       "      <td>0</td>\n",
       "      <td>0</td>\n",
       "      <td>-4</td>\n",
       "      <td>4</td>\n",
       "      <td>0</td>\n",
       "      <td>2</td>\n",
       "      <td>2.0</td>\n",
       "      <td>...</td>\n",
       "      <td>0</td>\n",
       "      <td>0</td>\n",
       "      <td>0</td>\n",
       "      <td>0</td>\n",
       "      <td>1</td>\n",
       "      <td>77</td>\n",
       "      <td>111.6</td>\n",
       "      <td>12.9</td>\n",
       "      <td>75.0</td>\n",
       "      <td>20.0</td>\n",
       "    </tr>\n",
       "    <tr>\n",
       "      <th>1</th>\n",
       "      <td>100.0</td>\n",
       "      <td>100.0</td>\n",
       "      <td>98745</td>\n",
       "      <td>0</td>\n",
       "      <td>0</td>\n",
       "      <td>-1</td>\n",
       "      <td>1</td>\n",
       "      <td>0</td>\n",
       "      <td>2</td>\n",
       "      <td>1.8</td>\n",
       "      <td>...</td>\n",
       "      <td>0</td>\n",
       "      <td>2</td>\n",
       "      <td>0</td>\n",
       "      <td>0</td>\n",
       "      <td>1</td>\n",
       "      <td>54</td>\n",
       "      <td>83.4</td>\n",
       "      <td>24.8</td>\n",
       "      <td>24.0</td>\n",
       "      <td>13.3</td>\n",
       "    </tr>\n",
       "    <tr>\n",
       "      <th>2</th>\n",
       "      <td>0.0</td>\n",
       "      <td>0.0</td>\n",
       "      <td>111457</td>\n",
       "      <td>0</td>\n",
       "      <td>0</td>\n",
       "      <td>-3</td>\n",
       "      <td>3</td>\n",
       "      <td>0</td>\n",
       "      <td>2</td>\n",
       "      <td>0.0</td>\n",
       "      <td>...</td>\n",
       "      <td>0</td>\n",
       "      <td>3</td>\n",
       "      <td>0</td>\n",
       "      <td>0</td>\n",
       "      <td>1</td>\n",
       "      <td>219</td>\n",
       "      <td>190.0</td>\n",
       "      <td>156.3</td>\n",
       "      <td>67.0</td>\n",
       "      <td>41.2</td>\n",
       "    </tr>\n",
       "    <tr>\n",
       "      <th>3</th>\n",
       "      <td>100.0</td>\n",
       "      <td>100.0</td>\n",
       "      <td>154043</td>\n",
       "      <td>0</td>\n",
       "      <td>0</td>\n",
       "      <td>-4</td>\n",
       "      <td>4</td>\n",
       "      <td>1</td>\n",
       "      <td>2</td>\n",
       "      <td>2.2</td>\n",
       "      <td>...</td>\n",
       "      <td>0</td>\n",
       "      <td>3</td>\n",
       "      <td>1</td>\n",
       "      <td>0</td>\n",
       "      <td>3</td>\n",
       "      <td>216</td>\n",
       "      <td>261.8</td>\n",
       "      <td>155.4</td>\n",
       "      <td>37.0</td>\n",
       "      <td>44.9</td>\n",
       "    </tr>\n",
       "    <tr>\n",
       "      <th>4</th>\n",
       "      <td>75.0</td>\n",
       "      <td>75.0</td>\n",
       "      <td>39476</td>\n",
       "      <td>0</td>\n",
       "      <td>0</td>\n",
       "      <td>-1</td>\n",
       "      <td>1</td>\n",
       "      <td>1</td>\n",
       "      <td>2</td>\n",
       "      <td>2.8</td>\n",
       "      <td>...</td>\n",
       "      <td>0</td>\n",
       "      <td>5</td>\n",
       "      <td>0</td>\n",
       "      <td>0</td>\n",
       "      <td>5</td>\n",
       "      <td>286</td>\n",
       "      <td>431.6</td>\n",
       "      <td>31.8</td>\n",
       "      <td>106.0</td>\n",
       "      <td>57.1</td>\n",
       "    </tr>\n",
       "  </tbody>\n",
       "</table>\n",
       "<p>5 rows × 53 columns</p>\n",
       "</div>"
      ],
      "text/plain": [
       "   chance_of_playing_next_round  chance_of_playing_this_round    code  \\\n",
       "0                         100.0                         100.0   69140   \n",
       "1                         100.0                         100.0   98745   \n",
       "2                           0.0                           0.0  111457   \n",
       "3                         100.0                         100.0  154043   \n",
       "4                          75.0                          75.0   39476   \n",
       "\n",
       "   cost_change_event  cost_change_event_fall  cost_change_start  \\\n",
       "0                  0                       0                 -4   \n",
       "1                  0                       0                 -1   \n",
       "2                  0                       0                 -3   \n",
       "3                  0                       0                 -4   \n",
       "4                  0                       0                 -1   \n",
       "\n",
       "   cost_change_start_fall  dreamteam_count  element_type  ep_next  ...  \\\n",
       "0                       4                0             2      2.0  ...   \n",
       "1                       1                0             2      1.8  ...   \n",
       "2                       3                0             2      0.0  ...   \n",
       "3                       4                1             2      2.2  ...   \n",
       "4                       1                1             2      2.8  ...   \n",
       "\n",
       "   penalties_missed  yellow_cards red_cards  saves  bonus  bps influence  \\\n",
       "0                 0             0         0      0      1   77     111.6   \n",
       "1                 0             2         0      0      1   54      83.4   \n",
       "2                 0             3         0      0      1  219     190.0   \n",
       "3                 0             3         1      0      3  216     261.8   \n",
       "4                 0             5         0      0      5  286     431.6   \n",
       "\n",
       "  creativity  threat ict_index  \n",
       "0       12.9    75.0      20.0  \n",
       "1       24.8    24.0      13.3  \n",
       "2      156.3    67.0      41.2  \n",
       "3      155.4    37.0      44.9  \n",
       "4       31.8   106.0      57.1  \n",
       "\n",
       "[5 rows x 53 columns]"
      ]
     },
     "execution_count": 9,
     "metadata": {},
     "output_type": "execute_result"
    },
    {
     "data": {
      "text/html": [
       "<div>\n",
       "<style scoped>\n",
       "    .dataframe tbody tr th:only-of-type {\n",
       "        vertical-align: middle;\n",
       "    }\n",
       "\n",
       "    .dataframe tbody tr th {\n",
       "        vertical-align: top;\n",
       "    }\n",
       "\n",
       "    .dataframe thead th {\n",
       "        text-align: right;\n",
       "    }\n",
       "</style>\n",
       "<table border=\"1\" class=\"dataframe\">\n",
       "  <thead>\n",
       "    <tr style=\"text-align: right;\">\n",
       "      <th></th>\n",
       "      <th>id</th>\n",
       "      <th>plural_name</th>\n",
       "      <th>plural_name_short</th>\n",
       "      <th>singular_name</th>\n",
       "      <th>singular_name_short</th>\n",
       "      <th>squad_select</th>\n",
       "      <th>squad_min_play</th>\n",
       "      <th>squad_max_play</th>\n",
       "      <th>ui_shirt_specific</th>\n",
       "      <th>sub_positions_locked</th>\n",
       "    </tr>\n",
       "  </thead>\n",
       "  <tbody>\n",
       "    <tr>\n",
       "      <th>0</th>\n",
       "      <td>1</td>\n",
       "      <td>Goalkeepers</td>\n",
       "      <td>GKP</td>\n",
       "      <td>Goalkeeper</td>\n",
       "      <td>GKP</td>\n",
       "      <td>2</td>\n",
       "      <td>1</td>\n",
       "      <td>1</td>\n",
       "      <td>True</td>\n",
       "      <td>[12]</td>\n",
       "    </tr>\n",
       "    <tr>\n",
       "      <th>1</th>\n",
       "      <td>2</td>\n",
       "      <td>Defenders</td>\n",
       "      <td>DEF</td>\n",
       "      <td>Defender</td>\n",
       "      <td>DEF</td>\n",
       "      <td>5</td>\n",
       "      <td>3</td>\n",
       "      <td>5</td>\n",
       "      <td>False</td>\n",
       "      <td>[]</td>\n",
       "    </tr>\n",
       "    <tr>\n",
       "      <th>2</th>\n",
       "      <td>3</td>\n",
       "      <td>Midfielders</td>\n",
       "      <td>MID</td>\n",
       "      <td>Midfielder</td>\n",
       "      <td>MID</td>\n",
       "      <td>5</td>\n",
       "      <td>2</td>\n",
       "      <td>5</td>\n",
       "      <td>False</td>\n",
       "      <td>[]</td>\n",
       "    </tr>\n",
       "    <tr>\n",
       "      <th>3</th>\n",
       "      <td>4</td>\n",
       "      <td>Forwards</td>\n",
       "      <td>FWD</td>\n",
       "      <td>Forward</td>\n",
       "      <td>FWD</td>\n",
       "      <td>3</td>\n",
       "      <td>1</td>\n",
       "      <td>3</td>\n",
       "      <td>False</td>\n",
       "      <td>[]</td>\n",
       "    </tr>\n",
       "  </tbody>\n",
       "</table>\n",
       "</div>"
      ],
      "text/plain": [
       "   id  plural_name plural_name_short singular_name singular_name_short  \\\n",
       "0   1  Goalkeepers               GKP    Goalkeeper                 GKP   \n",
       "1   2    Defenders               DEF      Defender                 DEF   \n",
       "2   3  Midfielders               MID    Midfielder                 MID   \n",
       "3   4     Forwards               FWD       Forward                 FWD   \n",
       "\n",
       "   squad_select  squad_min_play  squad_max_play  ui_shirt_specific  \\\n",
       "0             2               1               1               True   \n",
       "1             5               3               5              False   \n",
       "2             5               2               5              False   \n",
       "3             3               1               3              False   \n",
       "\n",
       "  sub_positions_locked  \n",
       "0                 [12]  \n",
       "1                   []  \n",
       "2                   []  \n",
       "3                   []  "
      ]
     },
     "execution_count": 9,
     "metadata": {},
     "output_type": "execute_result"
    },
    {
     "data": {
      "text/html": [
       "<div>\n",
       "<style scoped>\n",
       "    .dataframe tbody tr th:only-of-type {\n",
       "        vertical-align: middle;\n",
       "    }\n",
       "\n",
       "    .dataframe tbody tr th {\n",
       "        vertical-align: top;\n",
       "    }\n",
       "\n",
       "    .dataframe thead th {\n",
       "        text-align: right;\n",
       "    }\n",
       "</style>\n",
       "<table border=\"1\" class=\"dataframe\">\n",
       "  <thead>\n",
       "    <tr style=\"text-align: right;\">\n",
       "      <th></th>\n",
       "      <th>code</th>\n",
       "      <th>draw</th>\n",
       "      <th>form</th>\n",
       "      <th>id</th>\n",
       "      <th>loss</th>\n",
       "      <th>name</th>\n",
       "      <th>played</th>\n",
       "      <th>points</th>\n",
       "      <th>position</th>\n",
       "      <th>short_name</th>\n",
       "      <th>strength</th>\n",
       "      <th>team_division</th>\n",
       "      <th>unavailable</th>\n",
       "      <th>win</th>\n",
       "      <th>strength_overall_home</th>\n",
       "      <th>strength_overall_away</th>\n",
       "      <th>strength_attack_home</th>\n",
       "      <th>strength_attack_away</th>\n",
       "      <th>strength_defence_home</th>\n",
       "      <th>strength_defence_away</th>\n",
       "    </tr>\n",
       "  </thead>\n",
       "  <tbody>\n",
       "    <tr>\n",
       "      <th>0</th>\n",
       "      <td>3</td>\n",
       "      <td>0</td>\n",
       "      <td>NaN</td>\n",
       "      <td>1</td>\n",
       "      <td>0</td>\n",
       "      <td>Arsenal</td>\n",
       "      <td>0</td>\n",
       "      <td>0</td>\n",
       "      <td>0</td>\n",
       "      <td>ARS</td>\n",
       "      <td>4</td>\n",
       "      <td>NaN</td>\n",
       "      <td>False</td>\n",
       "      <td>0</td>\n",
       "      <td>1230</td>\n",
       "      <td>1270</td>\n",
       "      <td>1150</td>\n",
       "      <td>1190</td>\n",
       "      <td>1280</td>\n",
       "      <td>1330</td>\n",
       "    </tr>\n",
       "    <tr>\n",
       "      <th>1</th>\n",
       "      <td>7</td>\n",
       "      <td>0</td>\n",
       "      <td>NaN</td>\n",
       "      <td>2</td>\n",
       "      <td>0</td>\n",
       "      <td>Aston Villa</td>\n",
       "      <td>0</td>\n",
       "      <td>0</td>\n",
       "      <td>0</td>\n",
       "      <td>AVL</td>\n",
       "      <td>2</td>\n",
       "      <td>NaN</td>\n",
       "      <td>False</td>\n",
       "      <td>0</td>\n",
       "      <td>1040</td>\n",
       "      <td>1080</td>\n",
       "      <td>1030</td>\n",
       "      <td>1060</td>\n",
       "      <td>1030</td>\n",
       "      <td>1050</td>\n",
       "    </tr>\n",
       "    <tr>\n",
       "      <th>2</th>\n",
       "      <td>91</td>\n",
       "      <td>0</td>\n",
       "      <td>NaN</td>\n",
       "      <td>3</td>\n",
       "      <td>0</td>\n",
       "      <td>Bournemouth</td>\n",
       "      <td>0</td>\n",
       "      <td>0</td>\n",
       "      <td>0</td>\n",
       "      <td>BOU</td>\n",
       "      <td>3</td>\n",
       "      <td>NaN</td>\n",
       "      <td>False</td>\n",
       "      <td>0</td>\n",
       "      <td>1090</td>\n",
       "      <td>1120</td>\n",
       "      <td>1030</td>\n",
       "      <td>1070</td>\n",
       "      <td>1110</td>\n",
       "      <td>1180</td>\n",
       "    </tr>\n",
       "    <tr>\n",
       "      <th>3</th>\n",
       "      <td>36</td>\n",
       "      <td>0</td>\n",
       "      <td>NaN</td>\n",
       "      <td>4</td>\n",
       "      <td>0</td>\n",
       "      <td>Brighton</td>\n",
       "      <td>0</td>\n",
       "      <td>0</td>\n",
       "      <td>0</td>\n",
       "      <td>BHA</td>\n",
       "      <td>3</td>\n",
       "      <td>NaN</td>\n",
       "      <td>False</td>\n",
       "      <td>0</td>\n",
       "      <td>1050</td>\n",
       "      <td>1120</td>\n",
       "      <td>1040</td>\n",
       "      <td>1160</td>\n",
       "      <td>1030</td>\n",
       "      <td>1130</td>\n",
       "    </tr>\n",
       "    <tr>\n",
       "      <th>4</th>\n",
       "      <td>90</td>\n",
       "      <td>0</td>\n",
       "      <td>NaN</td>\n",
       "      <td>5</td>\n",
       "      <td>0</td>\n",
       "      <td>Burnley</td>\n",
       "      <td>0</td>\n",
       "      <td>0</td>\n",
       "      <td>0</td>\n",
       "      <td>BUR</td>\n",
       "      <td>3</td>\n",
       "      <td>NaN</td>\n",
       "      <td>False</td>\n",
       "      <td>0</td>\n",
       "      <td>1050</td>\n",
       "      <td>1110</td>\n",
       "      <td>1060</td>\n",
       "      <td>1130</td>\n",
       "      <td>1050</td>\n",
       "      <td>1050</td>\n",
       "    </tr>\n",
       "  </tbody>\n",
       "</table>\n",
       "</div>"
      ],
      "text/plain": [
       "   code  draw  form  id  loss         name  played  points  position  \\\n",
       "0     3     0   NaN   1     0      Arsenal       0       0         0   \n",
       "1     7     0   NaN   2     0  Aston Villa       0       0         0   \n",
       "2    91     0   NaN   3     0  Bournemouth       0       0         0   \n",
       "3    36     0   NaN   4     0     Brighton       0       0         0   \n",
       "4    90     0   NaN   5     0      Burnley       0       0         0   \n",
       "\n",
       "  short_name  strength  team_division  unavailable  win  \\\n",
       "0        ARS         4            NaN        False    0   \n",
       "1        AVL         2            NaN        False    0   \n",
       "2        BOU         3            NaN        False    0   \n",
       "3        BHA         3            NaN        False    0   \n",
       "4        BUR         3            NaN        False    0   \n",
       "\n",
       "   strength_overall_home  strength_overall_away  strength_attack_home  \\\n",
       "0                   1230                   1270                  1150   \n",
       "1                   1040                   1080                  1030   \n",
       "2                   1090                   1120                  1030   \n",
       "3                   1050                   1120                  1040   \n",
       "4                   1050                   1110                  1060   \n",
       "\n",
       "   strength_attack_away  strength_defence_home  strength_defence_away  \n",
       "0                  1190                   1280                   1330  \n",
       "1                  1060                   1030                   1050  \n",
       "2                  1070                   1110                   1180  \n",
       "3                  1160                   1030                   1130  \n",
       "4                  1130                   1050                   1050  "
      ]
     },
     "execution_count": 9,
     "metadata": {},
     "output_type": "execute_result"
    }
   ],
   "source": [
    "history.head()\n",
    "fixture.head()\n",
    "\n",
    "bootstrap.head()\n",
    "element_type.head()\n",
    "teams.head()"
   ]
  },
  {
   "cell_type": "code",
   "execution_count": 10,
   "metadata": {},
   "outputs": [
    {
     "data": {
      "text/html": [
       "<div>\n",
       "<style scoped>\n",
       "    .dataframe tbody tr th:only-of-type {\n",
       "        vertical-align: middle;\n",
       "    }\n",
       "\n",
       "    .dataframe tbody tr th {\n",
       "        vertical-align: top;\n",
       "    }\n",
       "\n",
       "    .dataframe thead th {\n",
       "        text-align: right;\n",
       "    }\n",
       "</style>\n",
       "<table border=\"1\" class=\"dataframe\">\n",
       "  <thead>\n",
       "    <tr style=\"text-align: right;\">\n",
       "      <th></th>\n",
       "      <th>id</th>\n",
       "      <th>plural_name</th>\n",
       "      <th>plural_name_short</th>\n",
       "      <th>singular_name</th>\n",
       "      <th>singular_name_short</th>\n",
       "      <th>squad_select</th>\n",
       "      <th>squad_min_play</th>\n",
       "      <th>squad_max_play</th>\n",
       "      <th>ui_shirt_specific</th>\n",
       "      <th>sub_positions_locked</th>\n",
       "    </tr>\n",
       "  </thead>\n",
       "  <tbody>\n",
       "    <tr>\n",
       "      <th>0</th>\n",
       "      <td>1</td>\n",
       "      <td>Goalkeepers</td>\n",
       "      <td>GKP</td>\n",
       "      <td>Goalkeeper</td>\n",
       "      <td>GKP</td>\n",
       "      <td>2</td>\n",
       "      <td>1</td>\n",
       "      <td>1</td>\n",
       "      <td>True</td>\n",
       "      <td>[12]</td>\n",
       "    </tr>\n",
       "    <tr>\n",
       "      <th>1</th>\n",
       "      <td>2</td>\n",
       "      <td>Defenders</td>\n",
       "      <td>DEF</td>\n",
       "      <td>Defender</td>\n",
       "      <td>DEF</td>\n",
       "      <td>5</td>\n",
       "      <td>3</td>\n",
       "      <td>5</td>\n",
       "      <td>False</td>\n",
       "      <td>[]</td>\n",
       "    </tr>\n",
       "    <tr>\n",
       "      <th>2</th>\n",
       "      <td>3</td>\n",
       "      <td>Midfielders</td>\n",
       "      <td>MID</td>\n",
       "      <td>Midfielder</td>\n",
       "      <td>MID</td>\n",
       "      <td>5</td>\n",
       "      <td>2</td>\n",
       "      <td>5</td>\n",
       "      <td>False</td>\n",
       "      <td>[]</td>\n",
       "    </tr>\n",
       "    <tr>\n",
       "      <th>3</th>\n",
       "      <td>4</td>\n",
       "      <td>Forwards</td>\n",
       "      <td>FWD</td>\n",
       "      <td>Forward</td>\n",
       "      <td>FWD</td>\n",
       "      <td>3</td>\n",
       "      <td>1</td>\n",
       "      <td>3</td>\n",
       "      <td>False</td>\n",
       "      <td>[]</td>\n",
       "    </tr>\n",
       "  </tbody>\n",
       "</table>\n",
       "</div>"
      ],
      "text/plain": [
       "   id  plural_name plural_name_short singular_name singular_name_short  \\\n",
       "0   1  Goalkeepers               GKP    Goalkeeper                 GKP   \n",
       "1   2    Defenders               DEF      Defender                 DEF   \n",
       "2   3  Midfielders               MID    Midfielder                 MID   \n",
       "3   4     Forwards               FWD       Forward                 FWD   \n",
       "\n",
       "   squad_select  squad_min_play  squad_max_play  ui_shirt_specific  \\\n",
       "0             2               1               1               True   \n",
       "1             5               3               5              False   \n",
       "2             5               2               5              False   \n",
       "3             3               1               3              False   \n",
       "\n",
       "  sub_positions_locked  \n",
       "0                 [12]  \n",
       "1                   []  \n",
       "2                   []  \n",
       "3                   []  "
      ]
     },
     "execution_count": 10,
     "metadata": {},
     "output_type": "execute_result"
    }
   ],
   "source": [
    "element_type"
   ]
  },
  {
   "cell_type": "code",
   "execution_count": 11,
   "metadata": {},
   "outputs": [
    {
     "data": {
      "text/plain": [
       "Index(['chance_of_playing_next_round', 'chance_of_playing_this_round', 'code',\n",
       "       'cost_change_event', 'cost_change_event_fall', 'cost_change_start',\n",
       "       'cost_change_start_fall', 'dreamteam_count', 'element_type', 'ep_next',\n",
       "       'ep_this', 'event_points', 'first_name', 'form', 'id', 'in_dreamteam',\n",
       "       'news', 'news_added', 'now_cost', 'photo', 'points_per_game',\n",
       "       'second_name', 'selected_by_percent', 'special', 'squad_number',\n",
       "       'status', 'team', 'team_code', 'total_points', 'transfers_in',\n",
       "       'transfers_in_event', 'transfers_out', 'transfers_out_event',\n",
       "       'value_form', 'value_season', 'web_name', 'minutes', 'goals_scored',\n",
       "       'assists', 'clean_sheets', 'goals_conceded', 'own_goals',\n",
       "       'penalties_saved', 'penalties_missed', 'yellow_cards', 'red_cards',\n",
       "       'saves', 'bonus', 'bps', 'influence', 'creativity', 'threat',\n",
       "       'ict_index'],\n",
       "      dtype='object')"
      ]
     },
     "execution_count": 11,
     "metadata": {},
     "output_type": "execute_result"
    }
   ],
   "source": [
    "bootstrap.columns"
   ]
  },
  {
   "cell_type": "code",
   "execution_count": 20,
   "metadata": {},
   "outputs": [],
   "source": [
    "df = bootstrap[['id','first_name','second_name','web_name', 'team', 'team_code', 'form','value_form', 'element_type', 'chance_of_playing_next_round', 'chance_of_playing_this_round',  'ep_next',\n",
    "       'ep_this', 'event_points', 'in_dreamteam', 'dreamteam_count', 'now_cost','points_per_game', 'selected_by_percent', \n",
    "             'total_points', 'transfers_in', 'transfers_in_event', 'transfers_out', 'transfers_out_event']]"
   ]
  },
  {
   "cell_type": "markdown",
   "metadata": {},
   "source": [
    "# Optimizing the team"
   ]
  },
  {
   "cell_type": "code",
   "execution_count": 21,
   "metadata": {},
   "outputs": [],
   "source": [
    "from pulp import *"
   ]
  },
  {
   "cell_type": "code",
   "execution_count": 22,
   "metadata": {},
   "outputs": [],
   "source": [
    "def select_team(expected_scores, prices, positions, clubs, difficulties, chance_of_playing_next_round, total_budget=100, sub_factor=0.2, difficulty=2, chance_next = 75):\n",
    "    num_players = len(expected_scores)\n",
    "    model = pulp.LpProblem(\"Constrained value maximization\", pulp.LpMaximize)\n",
    "    \n",
    "    decisions = [\n",
    "        pulp.LpVariable(\"x{}\".format(i), lowBound=0, upBound=1, cat='Integer')\n",
    "        for i in range(num_players)\n",
    "    ]\n",
    "    captain_decisions = [\n",
    "        pulp.LpVariable(\"y{}\".format(i), lowBound=0, upBound=1, cat='Integer')\n",
    "        for i in range(num_players)\n",
    "    ]\n",
    "    sub_decisions = [\n",
    "        pulp.LpVariable(\"z{}\".format(i), lowBound=0, upBound=1, cat='Integer')\n",
    "        for i in range(num_players)\n",
    "    ]\n",
    "\n",
    "\n",
    "    # objective function:\n",
    "    model += sum((captain_decisions[i] + decisions[i] + (sub_decisions[i]*sub_factor)) * expected_scores[i]\n",
    "                 for i in range(num_players)), \"Objective\"\n",
    "\n",
    "    # cost constraint\n",
    "    model += sum((decisions[i] + sub_decisions[i]) * prices[i] for i in range(num_players)) <= total_budget  # total cost\n",
    "\n",
    "    # position constraints and difficulty contraints and chance_of_playing_next_round \n",
    "    # 1 starting goalkeeper\n",
    "    model += sum(decisions[i] for i in range(num_players) if positions[i] == 1 and difficulties[i] <= difficulty and chance_of_playing_next_round[i] > chance_next) == 1\n",
    "    # 2 total goalkeepers\n",
    "    model += sum(decisions[i] + sub_decisions[i] for i in range(num_players) if positions[i] == 1) == 2\n",
    "\n",
    "    # 3-5 starting defenders\n",
    "    model += sum(decisions[i] for i in range(num_players) if positions[i] == 2 and difficulties[i] <= difficulty and chance_of_playing_next_round[i] > chance_next) >= 3\n",
    "    model += sum(decisions[i] for i in range(num_players) if positions[i] == 2 and difficulties[i] <= difficulty and chance_of_playing_next_round[i] > chance_next) <= 5\n",
    "    # 5 total defenders\n",
    "    model += sum(decisions[i] + sub_decisions[i] for i in range(num_players) if positions[i] == 2) == 5\n",
    "\n",
    "    # 3-5 starting midfielders\n",
    "    model += sum(decisions[i] for i in range(num_players) if positions[i] == 3 and difficulties[i] <= difficulty and chance_of_playing_next_round[i] > chance_next) >= 3\n",
    "    model += sum(decisions[i] for i in range(num_players) if positions[i] == 3 and difficulties[i] <= difficulty and chance_of_playing_next_round[i] > chance_next) <= 5\n",
    "    # 5 total midfielders\n",
    "    model += sum(decisions[i] + sub_decisions[i] for i in range(num_players) if positions[i] == 3) == 5\n",
    "\n",
    "    # 1-3 starting attackers\n",
    "    model += sum(decisions[i] for i in range(num_players) if positions[i] == 4 and difficulties[i] <= difficulty and chance_of_playing_next_round[i] > chance_next) >= 1\n",
    "    model += sum(decisions[i] for i in range(num_players) if positions[i] == 4 and difficulties[i] <= difficulty and chance_of_playing_next_round[i] > chance_next) <= 3\n",
    "    # 3 total attackers\n",
    "    model += sum(decisions[i] + sub_decisions[i] for i in range(num_players) if positions[i] == 4) == 3\n",
    "\n",
    "    # club constraint\n",
    "    for club_id in np.unique(clubs):\n",
    "        model += sum(decisions[i] + sub_decisions[i] for i in range(num_players) if clubs[i] == club_id) <= 3  # max 3 players\n",
    "\n",
    "    model += sum(decisions) == 11  # total team size\n",
    "    model += sum(captain_decisions) == 1  # 1 captain\n",
    "    \n",
    "    for i in range(num_players):  \n",
    "        model += (decisions[i] - captain_decisions[i]) >= 0  # captain must also be on team\n",
    "        model += (decisions[i] + sub_decisions[i]) <= 1  # subs must not be on team\n",
    "\n",
    "    \n",
    "    \n",
    "    model.solve()\n",
    "    status = model.solve()\n",
    "    print(f'This problem is {LpStatus[status]}')\n",
    "\n",
    "    print(\"Total expected score = {}\".format(model.objective.value()))\n",
    "\n",
    "    return decisions, captain_decisions, sub_decisions\n"
   ]
  },
  {
   "cell_type": "code",
   "execution_count": 28,
   "metadata": {},
   "outputs": [
    {
     "name": "stderr",
     "output_type": "stream",
     "text": [
      "D:\\Programming\\Anaconda\\envs\\fpl\\lib\\site-packages\\ipykernel_launcher.py:3: SettingWithCopyWarning: \n",
      "A value is trying to be set on a copy of a slice from a DataFrame.\n",
      "Try using .loc[row_indexer,col_indexer] = value instead\n",
      "\n",
      "See the caveats in the documentation: http://pandas.pydata.org/pandas-docs/stable/user_guide/indexing.html#returning-a-view-versus-a-copy\n",
      "  This is separate from the ipykernel package so we can avoid doing imports until\n",
      "D:\\Programming\\Anaconda\\envs\\fpl\\lib\\site-packages\\ipykernel_launcher.py:4: SettingWithCopyWarning: \n",
      "A value is trying to be set on a copy of a slice from a DataFrame.\n",
      "Try using .loc[row_indexer,col_indexer] = value instead\n",
      "\n",
      "See the caveats in the documentation: http://pandas.pydata.org/pandas-docs/stable/user_guide/indexing.html#returning-a-view-versus-a-copy\n",
      "  after removing the cwd from sys.path.\n"
     ]
    }
   ],
   "source": [
    "# mapping id with actual names\n",
    "\n",
    "df['team_name'] = df['team'].map(teams.set_index('id')['name'])\n",
    "df['positions'] = df['element_type'].map(element_type.set_index('id')['plural_name_short'])"
   ]
  },
  {
   "cell_type": "code",
   "execution_count": 30,
   "metadata": {},
   "outputs": [
    {
     "name": "stdout",
     "output_type": "stream",
     "text": [
      "This problem is Optimal\n",
      "Total expected score = 76.98\n"
     ]
    }
   ],
   "source": [
    "expected_scores = df['ep_next'] # total points from the last season\n",
    "prices = df['now_cost']/10\n",
    "positions = df['element_type']\n",
    "clubs = df['team_code']\n",
    "difficulties = fixture['difficulty']\n",
    "chance_of_playing_next_round = df['chance_of_playing_next_round']\n",
    "\n",
    "# so we can read the result\n",
    "names = df['web_name']\n",
    "position = df['positions']\n",
    "team = df['team_name']\n",
    "\n",
    "decisions, captain_decisions, sub_decisions = select_team(expected_scores, prices, positions, clubs, difficulties, chance_of_playing_next_round, total_budget=99.1, sub_factor=0.2, chance_next = 75)"
   ]
  },
  {
   "cell_type": "code",
   "execution_count": 33,
   "metadata": {},
   "outputs": [
    {
     "name": "stdout",
     "output_type": "stream",
     "text": [
      "335\n"
     ]
    }
   ],
   "source": [
    "for x in range(0, 10000000):\n",
    "    if 3 * (x-1) > 1000:\n",
    "        print(x)\n",
    "        break\n",
    "    else:\n",
    "        pass"
   ]
  },
  {
   "cell_type": "code",
   "execution_count": 31,
   "metadata": {},
   "outputs": [
    {
     "data": {
      "text/markdown": [
       "**Mooy** Points = 4.5, Price = 4.8, Team = Brighton, Position = MID"
      ],
      "text/plain": [
       "<IPython.core.display.Markdown object>"
      ]
     },
     "metadata": {},
     "output_type": "display_data"
    },
    {
     "data": {
      "text/markdown": [
       "**Digne** Points = 4.5, Price = 5.8, Team = Everton, Position = DEF"
      ],
      "text/plain": [
       "<IPython.core.display.Markdown object>"
      ]
     },
     "metadata": {},
     "output_type": "display_data"
    },
    {
     "data": {
      "text/markdown": [
       "**Sidib챕** Points = 4.2, Price = 5.4, Team = Everton, Position = DEF"
      ],
      "text/plain": [
       "<IPython.core.display.Markdown object>"
      ]
     },
     "metadata": {},
     "output_type": "display_data"
    },
    {
     "data": {
      "text/markdown": [
       "**Alexander-Arnold** Points = 9.9, Price = 7.6, Team = Liverpool, Position = DEF"
      ],
      "text/plain": [
       "<IPython.core.display.Markdown object>"
      ]
     },
     "metadata": {},
     "output_type": "display_data"
    },
    {
     "data": {
      "text/markdown": [
       "**van Dijk** Points = 7.5, Price = 6.5, Team = Liverpool, Position = DEF"
      ],
      "text/plain": [
       "<IPython.core.display.Markdown object>"
      ]
     },
     "metadata": {},
     "output_type": "display_data"
    },
    {
     "data": {
      "text/markdown": [
       "**Ag체ero** Points = 8.2, Price = 12.0, Team = Man City, Position = FWD"
      ],
      "text/plain": [
       "<IPython.core.display.Markdown object>"
      ]
     },
     "metadata": {},
     "output_type": "display_data"
    },
    {
     "data": {
      "text/markdown": [
       "**Fleck** Points = 4.3, Price = 5.0, Team = Sheffield Utd, Position = MID"
      ],
      "text/plain": [
       "<IPython.core.display.Markdown object>"
      ]
     },
     "metadata": {},
     "output_type": "display_data"
    },
    {
     "data": {
      "text/markdown": [
       "**Henderson** Points = 4.2, Price = 5.0, Team = Sheffield Utd, Position = GKP"
      ],
      "text/plain": [
       "<IPython.core.display.Markdown object>"
      ]
     },
     "metadata": {},
     "output_type": "display_data"
    },
    {
     "data": {
      "text/markdown": [
       "**Cathcart** Points = 3.8, Price = 4.4, Team = Watford, Position = DEF"
      ],
      "text/plain": [
       "<IPython.core.display.Markdown object>"
      ]
     },
     "metadata": {},
     "output_type": "display_data"
    },
    {
     "data": {
      "text/markdown": [
       "**Deeney** Points = 5.2, Price = 6.2, Team = Watford, Position = FWD"
      ],
      "text/plain": [
       "<IPython.core.display.Markdown object>"
      ]
     },
     "metadata": {},
     "output_type": "display_data"
    },
    {
     "data": {
      "text/markdown": [
       "**Doucour챕** Points = 5.3, Price = 5.7, Team = Watford, Position = MID"
      ],
      "text/plain": [
       "<IPython.core.display.Markdown object>"
      ]
     },
     "metadata": {},
     "output_type": "display_data"
    },
    {
     "data": {
      "text/markdown": [
       "**sub: P챕rez** Points = 7.2, Price = 6.1, Team = Leicester, Position = MID"
      ],
      "text/plain": [
       "<IPython.core.display.Markdown object>"
      ]
     },
     "metadata": {},
     "output_type": "display_data"
    },
    {
     "data": {
      "text/markdown": [
       "**sub: Alisson** Points = 7.5, Price = 6.1, Team = Liverpool, Position = GKP"
      ],
      "text/plain": [
       "<IPython.core.display.Markdown object>"
      ]
     },
     "metadata": {},
     "output_type": "display_data"
    },
    {
     "data": {
      "text/markdown": [
       "**sub: De Bruyne** Points = 7.0, Price = 10.6, Team = Man City, Position = MID"
      ],
      "text/plain": [
       "<IPython.core.display.Markdown object>"
      ]
     },
     "metadata": {},
     "output_type": "display_data"
    },
    {
     "data": {
      "text/markdown": [
       "**sub: Jim챕nez** Points = 5.7, Price = 7.5, Team = Wolves, Position = FWD"
      ],
      "text/plain": [
       "<IPython.core.display.Markdown object>"
      ]
     },
     "metadata": {},
     "output_type": "display_data"
    },
    {
     "data": {
      "text/markdown": [
       "**CAPTAIN: Alexander-Arnold** Points = 9.9, Price = 7.6, Team = Liverpool, Position = DEF"
      ],
      "text/plain": [
       "<IPython.core.display.Markdown object>"
      ]
     },
     "metadata": {},
     "output_type": "display_data"
    }
   ],
   "source": [
    "from IPython.display import display, Markdown, Latex\n",
    "\n",
    "\n",
    "for i in range(df.shape[0]):\n",
    "    if value(decisions[i]) == 1:\n",
    "        display(Markdown(\"**{}** Points = {}, Price = {}, Team = {}, Position = {}\".format(names[i], expected_scores[i], prices[i], team[i], position[i])))\n",
    "        \n",
    "for i in range(df.shape[0]):\n",
    "    if value(sub_decisions[i]) == 1:\n",
    "        (display(Markdown(\"**sub: {}** Points = {}, Price = {}, Team = {}, Position = {}\".format(names[i], expected_scores[i], prices[i], team[i], position[i]))))\n",
    "        \n",
    "for i in range(df.shape[0]):\n",
    "    if value(captain_decisions[i]) == 1:\n",
    "        (display(Markdown(\"**CAPTAIN: {}** Points = {}, Price = {}, Team = {}, Position = {}\".format(names[i], expected_scores[i], prices[i], team[i], position[i]))))  "
   ]
  },
  {
   "cell_type": "code",
   "execution_count": null,
   "metadata": {},
   "outputs": [],
   "source": []
  },
  {
   "cell_type": "code",
   "execution_count": 16,
   "metadata": {},
   "outputs": [
    {
     "ename": "AttributeError",
     "evalue": "'list' object has no attribute 'value'",
     "output_type": "error",
     "traceback": [
      "\u001b[1;31m---------------------------------------------------------------------------\u001b[0m",
      "\u001b[1;31mAttributeError\u001b[0m                            Traceback (most recent call last)",
      "\u001b[1;32m<ipython-input-16-1ef8d4acdf9f>\u001b[0m in \u001b[0;36m<module>\u001b[1;34m\u001b[0m\n\u001b[1;32m----> 1\u001b[1;33m \u001b[0mvalue\u001b[0m\u001b[1;33m(\u001b[0m\u001b[0mdecisions\u001b[0m\u001b[1;33m)\u001b[0m\u001b[1;33m,\u001b[0m \u001b[0mvalue\u001b[0m\u001b[1;33m(\u001b[0m\u001b[0msub_decisions\u001b[0m\u001b[1;33m)\u001b[0m\u001b[1;33m,\u001b[0m \u001b[0mvalue\u001b[0m\u001b[1;33m(\u001b[0m\u001b[0mcaptain_decisions\u001b[0m\u001b[1;33m)\u001b[0m\u001b[1;33m,\u001b[0m \u001b[0mvalue\u001b[0m\u001b[1;33m(\u001b[0m\u001b[0mmodel\u001b[0m\u001b[1;33m.\u001b[0m\u001b[0mobjective\u001b[0m\u001b[1;33m)\u001b[0m\u001b[1;33m\u001b[0m\u001b[1;33m\u001b[0m\u001b[0m\n\u001b[0m",
      "\u001b[1;32mD:\\Programming\\Anaconda\\envs\\fpl\\lib\\site-packages\\pulp\\pulp.py\u001b[0m in \u001b[0;36mvalue\u001b[1;34m(x)\u001b[0m\n\u001b[0;32m   2072\u001b[0m     \u001b[1;34m\"\"\"Returns the value of the variable/expression x, or x if it is a number\"\"\"\u001b[0m\u001b[1;33m\u001b[0m\u001b[1;33m\u001b[0m\u001b[0m\n\u001b[0;32m   2073\u001b[0m     \u001b[1;32mif\u001b[0m \u001b[0misNumber\u001b[0m\u001b[1;33m(\u001b[0m\u001b[0mx\u001b[0m\u001b[1;33m)\u001b[0m\u001b[1;33m:\u001b[0m \u001b[1;32mreturn\u001b[0m \u001b[0mx\u001b[0m\u001b[1;33m\u001b[0m\u001b[1;33m\u001b[0m\u001b[0m\n\u001b[1;32m-> 2074\u001b[1;33m     \u001b[1;32melse\u001b[0m\u001b[1;33m:\u001b[0m \u001b[1;32mreturn\u001b[0m \u001b[0mx\u001b[0m\u001b[1;33m.\u001b[0m\u001b[0mvalue\u001b[0m\u001b[1;33m(\u001b[0m\u001b[1;33m)\u001b[0m\u001b[1;33m\u001b[0m\u001b[1;33m\u001b[0m\u001b[0m\n\u001b[0m\u001b[0;32m   2075\u001b[0m \u001b[1;33m\u001b[0m\u001b[0m\n\u001b[0;32m   2076\u001b[0m \u001b[1;32mdef\u001b[0m \u001b[0mvalueOrDefault\u001b[0m\u001b[1;33m(\u001b[0m\u001b[0mx\u001b[0m\u001b[1;33m)\u001b[0m\u001b[1;33m:\u001b[0m\u001b[1;33m\u001b[0m\u001b[1;33m\u001b[0m\u001b[0m\n",
      "\u001b[1;31mAttributeError\u001b[0m: 'list' object has no attribute 'value'"
     ]
    }
   ],
   "source": [
    "value(decisions), value(sub_decisions), value(captain_decisions), value(model.objective)"
   ]
  },
  {
   "cell_type": "markdown",
   "metadata": {},
   "source": [
    "- change time 0 to 24\n",
    "- compare graphs\n",
    "- one-variable\n",
    "- interaction term\n",
    "- box plot"
   ]
  },
  {
   "cell_type": "markdown",
   "metadata": {},
   "source": [
    "# To-do"
   ]
  },
  {
   "cell_type": "code",
   "execution_count": null,
   "metadata": {},
   "outputs": [],
   "source": []
  },
  {
   "cell_type": "code",
   "execution_count": 46,
   "metadata": {},
   "outputs": [
    {
     "ename": "KeyError",
     "evalue": "\"['difficulty'] not in index\"",
     "output_type": "error",
     "traceback": [
      "\u001b[1;31m---------------------------------------------------------------------------\u001b[0m",
      "\u001b[1;31mKeyError\u001b[0m                                  Traceback (most recent call last)",
      "\u001b[1;32m<ipython-input-46-63a66557c227>\u001b[0m in \u001b[0;36m<module>\u001b[1;34m\u001b[0m\n\u001b[0;32m     10\u001b[0m \u001b[1;33m\u001b[0m\u001b[0m\n\u001b[0;32m     11\u001b[0m \u001b[1;33m\u001b[0m\u001b[0m\n\u001b[1;32m---> 12\u001b[1;33m \u001b[0mpairplot\u001b[0m\u001b[1;33m(\u001b[0m\u001b[0mcolumn_list\u001b[0m\u001b[1;33m)\u001b[0m\u001b[1;33m\u001b[0m\u001b[1;33m\u001b[0m\u001b[0m\n\u001b[0m",
      "\u001b[1;32m<ipython-input-46-63a66557c227>\u001b[0m in \u001b[0;36mpairplot\u001b[1;34m(column_list)\u001b[0m\n\u001b[0;32m      1\u001b[0m \u001b[1;32mdef\u001b[0m \u001b[0mpairplot\u001b[0m\u001b[1;33m(\u001b[0m\u001b[0mcolumn_list\u001b[0m\u001b[1;33m)\u001b[0m\u001b[1;33m:\u001b[0m\u001b[1;33m\u001b[0m\u001b[1;33m\u001b[0m\u001b[0m\n\u001b[0;32m      2\u001b[0m \u001b[1;33m\u001b[0m\u001b[0m\n\u001b[1;32m----> 3\u001b[1;33m     \u001b[0msimple_main_data\u001b[0m \u001b[1;33m=\u001b[0m \u001b[0mdf\u001b[0m\u001b[1;33m[\u001b[0m\u001b[0mcolumn_list\u001b[0m\u001b[1;33m]\u001b[0m\u001b[1;33m\u001b[0m\u001b[1;33m\u001b[0m\u001b[0m\n\u001b[0m\u001b[0;32m      4\u001b[0m \u001b[1;33m\u001b[0m\u001b[0m\n\u001b[0;32m      5\u001b[0m     \u001b[1;31m# Time vs Temperature vs Load pairplot\u001b[0m\u001b[1;33m\u001b[0m\u001b[1;33m\u001b[0m\u001b[1;33m\u001b[0m\u001b[0m\n",
      "\u001b[1;32mD:\\Programming\\Anaconda\\envs\\fpl\\lib\\site-packages\\pandas\\core\\frame.py\u001b[0m in \u001b[0;36m__getitem__\u001b[1;34m(self, key)\u001b[0m\n\u001b[0;32m   2999\u001b[0m             \u001b[1;32mif\u001b[0m \u001b[0mis_iterator\u001b[0m\u001b[1;33m(\u001b[0m\u001b[0mkey\u001b[0m\u001b[1;33m)\u001b[0m\u001b[1;33m:\u001b[0m\u001b[1;33m\u001b[0m\u001b[1;33m\u001b[0m\u001b[0m\n\u001b[0;32m   3000\u001b[0m                 \u001b[0mkey\u001b[0m \u001b[1;33m=\u001b[0m \u001b[0mlist\u001b[0m\u001b[1;33m(\u001b[0m\u001b[0mkey\u001b[0m\u001b[1;33m)\u001b[0m\u001b[1;33m\u001b[0m\u001b[1;33m\u001b[0m\u001b[0m\n\u001b[1;32m-> 3001\u001b[1;33m             \u001b[0mindexer\u001b[0m \u001b[1;33m=\u001b[0m \u001b[0mself\u001b[0m\u001b[1;33m.\u001b[0m\u001b[0mloc\u001b[0m\u001b[1;33m.\u001b[0m\u001b[0m_convert_to_indexer\u001b[0m\u001b[1;33m(\u001b[0m\u001b[0mkey\u001b[0m\u001b[1;33m,\u001b[0m \u001b[0maxis\u001b[0m\u001b[1;33m=\u001b[0m\u001b[1;36m1\u001b[0m\u001b[1;33m,\u001b[0m \u001b[0mraise_missing\u001b[0m\u001b[1;33m=\u001b[0m\u001b[1;32mTrue\u001b[0m\u001b[1;33m)\u001b[0m\u001b[1;33m\u001b[0m\u001b[1;33m\u001b[0m\u001b[0m\n\u001b[0m\u001b[0;32m   3002\u001b[0m \u001b[1;33m\u001b[0m\u001b[0m\n\u001b[0;32m   3003\u001b[0m         \u001b[1;31m# take() does not accept boolean indexers\u001b[0m\u001b[1;33m\u001b[0m\u001b[1;33m\u001b[0m\u001b[1;33m\u001b[0m\u001b[0m\n",
      "\u001b[1;32mD:\\Programming\\Anaconda\\envs\\fpl\\lib\\site-packages\\pandas\\core\\indexing.py\u001b[0m in \u001b[0;36m_convert_to_indexer\u001b[1;34m(self, obj, axis, is_setter, raise_missing)\u001b[0m\n\u001b[0;32m   1283\u001b[0m                 \u001b[1;31m# When setting, missing keys are not allowed, even with .loc:\u001b[0m\u001b[1;33m\u001b[0m\u001b[1;33m\u001b[0m\u001b[1;33m\u001b[0m\u001b[0m\n\u001b[0;32m   1284\u001b[0m                 \u001b[0mkwargs\u001b[0m \u001b[1;33m=\u001b[0m \u001b[1;33m{\u001b[0m\u001b[1;34m\"raise_missing\"\u001b[0m\u001b[1;33m:\u001b[0m \u001b[1;32mTrue\u001b[0m \u001b[1;32mif\u001b[0m \u001b[0mis_setter\u001b[0m \u001b[1;32melse\u001b[0m \u001b[0mraise_missing\u001b[0m\u001b[1;33m}\u001b[0m\u001b[1;33m\u001b[0m\u001b[1;33m\u001b[0m\u001b[0m\n\u001b[1;32m-> 1285\u001b[1;33m                 \u001b[1;32mreturn\u001b[0m \u001b[0mself\u001b[0m\u001b[1;33m.\u001b[0m\u001b[0m_get_listlike_indexer\u001b[0m\u001b[1;33m(\u001b[0m\u001b[0mobj\u001b[0m\u001b[1;33m,\u001b[0m \u001b[0maxis\u001b[0m\u001b[1;33m,\u001b[0m \u001b[1;33m**\u001b[0m\u001b[0mkwargs\u001b[0m\u001b[1;33m)\u001b[0m\u001b[1;33m[\u001b[0m\u001b[1;36m1\u001b[0m\u001b[1;33m]\u001b[0m\u001b[1;33m\u001b[0m\u001b[1;33m\u001b[0m\u001b[0m\n\u001b[0m\u001b[0;32m   1286\u001b[0m         \u001b[1;32melse\u001b[0m\u001b[1;33m:\u001b[0m\u001b[1;33m\u001b[0m\u001b[1;33m\u001b[0m\u001b[0m\n\u001b[0;32m   1287\u001b[0m             \u001b[1;32mtry\u001b[0m\u001b[1;33m:\u001b[0m\u001b[1;33m\u001b[0m\u001b[1;33m\u001b[0m\u001b[0m\n",
      "\u001b[1;32mD:\\Programming\\Anaconda\\envs\\fpl\\lib\\site-packages\\pandas\\core\\indexing.py\u001b[0m in \u001b[0;36m_get_listlike_indexer\u001b[1;34m(self, key, axis, raise_missing)\u001b[0m\n\u001b[0;32m   1090\u001b[0m \u001b[1;33m\u001b[0m\u001b[0m\n\u001b[0;32m   1091\u001b[0m         self._validate_read_indexer(\n\u001b[1;32m-> 1092\u001b[1;33m             \u001b[0mkeyarr\u001b[0m\u001b[1;33m,\u001b[0m \u001b[0mindexer\u001b[0m\u001b[1;33m,\u001b[0m \u001b[0mo\u001b[0m\u001b[1;33m.\u001b[0m\u001b[0m_get_axis_number\u001b[0m\u001b[1;33m(\u001b[0m\u001b[0maxis\u001b[0m\u001b[1;33m)\u001b[0m\u001b[1;33m,\u001b[0m \u001b[0mraise_missing\u001b[0m\u001b[1;33m=\u001b[0m\u001b[0mraise_missing\u001b[0m\u001b[1;33m\u001b[0m\u001b[1;33m\u001b[0m\u001b[0m\n\u001b[0m\u001b[0;32m   1093\u001b[0m         )\n\u001b[0;32m   1094\u001b[0m         \u001b[1;32mreturn\u001b[0m \u001b[0mkeyarr\u001b[0m\u001b[1;33m,\u001b[0m \u001b[0mindexer\u001b[0m\u001b[1;33m\u001b[0m\u001b[1;33m\u001b[0m\u001b[0m\n",
      "\u001b[1;32mD:\\Programming\\Anaconda\\envs\\fpl\\lib\\site-packages\\pandas\\core\\indexing.py\u001b[0m in \u001b[0;36m_validate_read_indexer\u001b[1;34m(self, key, indexer, axis, raise_missing)\u001b[0m\n\u001b[0;32m   1183\u001b[0m             \u001b[1;32mif\u001b[0m \u001b[1;32mnot\u001b[0m \u001b[1;33m(\u001b[0m\u001b[0mself\u001b[0m\u001b[1;33m.\u001b[0m\u001b[0mname\u001b[0m \u001b[1;33m==\u001b[0m \u001b[1;34m\"loc\"\u001b[0m \u001b[1;32mand\u001b[0m \u001b[1;32mnot\u001b[0m \u001b[0mraise_missing\u001b[0m\u001b[1;33m)\u001b[0m\u001b[1;33m:\u001b[0m\u001b[1;33m\u001b[0m\u001b[1;33m\u001b[0m\u001b[0m\n\u001b[0;32m   1184\u001b[0m                 \u001b[0mnot_found\u001b[0m \u001b[1;33m=\u001b[0m \u001b[0mlist\u001b[0m\u001b[1;33m(\u001b[0m\u001b[0mset\u001b[0m\u001b[1;33m(\u001b[0m\u001b[0mkey\u001b[0m\u001b[1;33m)\u001b[0m \u001b[1;33m-\u001b[0m \u001b[0mset\u001b[0m\u001b[1;33m(\u001b[0m\u001b[0max\u001b[0m\u001b[1;33m)\u001b[0m\u001b[1;33m)\u001b[0m\u001b[1;33m\u001b[0m\u001b[1;33m\u001b[0m\u001b[0m\n\u001b[1;32m-> 1185\u001b[1;33m                 \u001b[1;32mraise\u001b[0m \u001b[0mKeyError\u001b[0m\u001b[1;33m(\u001b[0m\u001b[1;34m\"{} not in index\"\u001b[0m\u001b[1;33m.\u001b[0m\u001b[0mformat\u001b[0m\u001b[1;33m(\u001b[0m\u001b[0mnot_found\u001b[0m\u001b[1;33m)\u001b[0m\u001b[1;33m)\u001b[0m\u001b[1;33m\u001b[0m\u001b[1;33m\u001b[0m\u001b[0m\n\u001b[0m\u001b[0;32m   1186\u001b[0m \u001b[1;33m\u001b[0m\u001b[0m\n\u001b[0;32m   1187\u001b[0m             \u001b[1;31m# we skip the warning on Categorical/Interval\u001b[0m\u001b[1;33m\u001b[0m\u001b[1;33m\u001b[0m\u001b[1;33m\u001b[0m\u001b[0m\n",
      "\u001b[1;31mKeyError\u001b[0m: \"['difficulty'] not in index\""
     ]
    }
   ],
   "source": [
    "def pairplot(column_list):\n",
    "    \n",
    "    simple_main_data = df[column_list]\n",
    "\n",
    "    # Time vs Temperature vs Load pairplot\n",
    "    sns.set(style=\"ticks\", color_codes=True)\n",
    "\n",
    "    sns_plot = sns.pairplot(simple_main_data)\n",
    "    #sns_plot.savefig(main_data_dir + \"_pairplot.png\")\n",
    "\n",
    "  \n",
    "pairplot(column_list)"
   ]
  },
  {
   "cell_type": "markdown",
   "metadata": {},
   "source": [
    "## 4.2) Pairplot"
   ]
  },
  {
   "cell_type": "code",
   "execution_count": 41,
   "metadata": {},
   "outputs": [
    {
     "data": {
      "text/plain": [
       "<BarContainer object of 5 artists>"
      ]
     },
     "execution_count": 41,
     "metadata": {},
     "output_type": "execute_result"
    },
    {
     "data": {
      "text/plain": [
       "([<matplotlib.axis.XTick at 0x14336c08320>,\n",
       "  <matplotlib.axis.XTick at 0x14331c227f0>,\n",
       "  <matplotlib.axis.XTick at 0x14336e16fd0>,\n",
       "  <matplotlib.axis.XTick at 0x14336e2c3c8>,\n",
       "  <matplotlib.axis.XTick at 0x14336e2c898>],\n",
       " <a list of 5 Text xticklabel objects>)"
      ]
     },
     "execution_count": 41,
     "metadata": {},
     "output_type": "execute_result"
    },
    {
     "data": {
      "text/plain": [
       "Text(0, 0.5, 'Points')"
      ]
     },
     "execution_count": 41,
     "metadata": {},
     "output_type": "execute_result"
    },
    {
     "data": {
      "text/plain": [
       "Text(0.5, 1.0, 'Points Earned by Positions')"
      ]
     },
     "execution_count": 41,
     "metadata": {},
     "output_type": "execute_result"
    },
    {
     "data": {
      "image/png": "[encoded data removed]",
      "text/plain": [
       "<Figure size 1440x432 with 1 Axes>"
      ]
     },
     "metadata": {
      "needs_background": "light"
     },
     "output_type": "display_data"
    }
   ],
   "source": [
    "rcParams['figure.figsize'] = 20, 6\n",
    "\n",
    "#objects = ('GK', 'FW', 'MF', 'DF')\n",
    "objects = by_player.head().index\n",
    "\n",
    "y_pos = np.arange(len(objects))\n",
    "\n",
    "plt.bar(objects, by_player['total_points'].head(), align='center')\n",
    "\n",
    "plt.xticks(y_pos, objects)\n",
    "plt.ylabel('Points')\n",
    "plt.title('Points Earned by Positions')\n",
    "\n",
    "plt.show()"
   ]
  },
  {
   "cell_type": "code",
   "execution_count": 35,
   "metadata": {},
   "outputs": [
    {
     "data": {
      "text/plain": [
       "name\n",
       "Mohamed_Salah_253       259\n",
       "Eden_Hazard_122         238\n",
       "Raheem_Sterling_270     234\n",
       "Sadio_Man?_251          231\n",
       "Andrew_Robertson_247    213\n",
       "Name: total_points, dtype: int64"
      ]
     },
     "execution_count": 35,
     "metadata": {},
     "output_type": "execute_result"
    }
   ],
   "source": [
    "by_player['total_points'].head()"
   ]
  },
  {
   "cell_type": "markdown",
   "metadata": {},
   "source": [
    "## 4.1) Plot"
   ]
  },
  {
   "cell_type": "code",
   "execution_count": 16,
   "metadata": {},
   "outputs": [
    {
     "ename": "AttributeError",
     "evalue": "'list' object has no attribute 'value'",
     "output_type": "error",
     "traceback": [
      "\u001b[1;31m---------------------------------------------------------------------------\u001b[0m",
      "\u001b[1;31mAttributeError\u001b[0m                            Traceback (most recent call last)",
      "\u001b[1;32m<ipython-input-16-1ef8d4acdf9f>\u001b[0m in \u001b[0;36m<module>\u001b[1;34m\u001b[0m\n\u001b[1;32m----> 1\u001b[1;33m \u001b[0mvalue\u001b[0m\u001b[1;33m(\u001b[0m\u001b[0mdecisions\u001b[0m\u001b[1;33m)\u001b[0m\u001b[1;33m,\u001b[0m \u001b[0mvalue\u001b[0m\u001b[1;33m(\u001b[0m\u001b[0msub_decisions\u001b[0m\u001b[1;33m)\u001b[0m\u001b[1;33m,\u001b[0m \u001b[0mvalue\u001b[0m\u001b[1;33m(\u001b[0m\u001b[0mcaptain_decisions\u001b[0m\u001b[1;33m)\u001b[0m\u001b[1;33m,\u001b[0m \u001b[0mvalue\u001b[0m\u001b[1;33m(\u001b[0m\u001b[0mmodel\u001b[0m\u001b[1;33m.\u001b[0m\u001b[0mobjective\u001b[0m\u001b[1;33m)\u001b[0m\u001b[1;33m\u001b[0m\u001b[1;33m\u001b[0m\u001b[0m\n\u001b[0m",
      "\u001b[1;32mD:\\Programming\\Anaconda\\envs\\fpl\\lib\\site-packages\\pulp\\pulp.py\u001b[0m in \u001b[0;36mvalue\u001b[1;34m(x)\u001b[0m\n\u001b[0;32m   2072\u001b[0m     \u001b[1;34m\"\"\"Returns the value of the variable/expression x, or x if it is a number\"\"\"\u001b[0m\u001b[1;33m\u001b[0m\u001b[1;33m\u001b[0m\u001b[0m\n\u001b[0;32m   2073\u001b[0m     \u001b[1;32mif\u001b[0m \u001b[0misNumber\u001b[0m\u001b[1;33m(\u001b[0m\u001b[0mx\u001b[0m\u001b[1;33m)\u001b[0m\u001b[1;33m:\u001b[0m \u001b[1;32mreturn\u001b[0m \u001b[0mx\u001b[0m\u001b[1;33m\u001b[0m\u001b[1;33m\u001b[0m\u001b[0m\n\u001b[1;32m-> 2074\u001b[1;33m     \u001b[1;32melse\u001b[0m\u001b[1;33m:\u001b[0m \u001b[1;32mreturn\u001b[0m \u001b[0mx\u001b[0m\u001b[1;33m.\u001b[0m\u001b[0mvalue\u001b[0m\u001b[1;33m(\u001b[0m\u001b[1;33m)\u001b[0m\u001b[1;33m\u001b[0m\u001b[1;33m\u001b[0m\u001b[0m\n\u001b[0m\u001b[0;32m   2075\u001b[0m \u001b[1;33m\u001b[0m\u001b[0m\n\u001b[0;32m   2076\u001b[0m \u001b[1;32mdef\u001b[0m \u001b[0mvalueOrDefault\u001b[0m\u001b[1;33m(\u001b[0m\u001b[0mx\u001b[0m\u001b[1;33m)\u001b[0m\u001b[1;33m:\u001b[0m\u001b[1;33m\u001b[0m\u001b[1;33m\u001b[0m\u001b[0m\n",
      "\u001b[1;31mAttributeError\u001b[0m: 'list' object has no attribute 'value'"
     ]
    }
   ],
   "source": [
    "value(decisions), value(sub_decisions), value(captain_decisions), value(model.objective)"
   ]
  }
 ],
 "metadata": {
  "kernelspec": {
   "display_name": "Python 3",
   "language": "python",
   "name": "python3"
  },
  "language_info": {
   "codemirror_mode": {
    "name": "ipython",
    "version": 3
   },
   "file_extension": ".py",
   "mimetype": "text/x-python",
   "name": "python",
   "nbconvert_exporter": "python",
   "pygments_lexer": "ipython3",
   "version": "3.6.10"
  }
 },
 "nbformat": 4,
 "nbformat_minor": 2
}
