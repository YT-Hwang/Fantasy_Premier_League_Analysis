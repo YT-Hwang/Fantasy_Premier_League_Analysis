{
 "cells": [
  {
   "cell_type": "markdown",
   "metadata": {},
   "source": [
    "# Optimize Season Points\n",
    " - Assume every player will perform and do exactly the same as last year\n",
    " - yup... very strong assumption\n",
    " - Cost of 11 players must be below £100\n",
    " - Only 1 GK\n",
    " - 3 to 5 DEF\n",
    " - 3 to 5 MID\n",
    " - 1 to 3 STR\n",
    " - Captain gets X2 points\n",
    " - Player with most points is captain throughout the whole year"
   ]
  },
  {
   "cell_type": "code",
   "execution_count": 1,
   "metadata": {},
   "outputs": [],
   "source": [
    "import pandas as pd\n",
    "import numpy as np\n",
    "from scipy.optimize import minimize\n",
    "import matplotlib.pyplot as plt\n",
    "import seaborn as sns\n",
    "sns.set()\n",
    "\n",
    "%matplotlib inline"
   ]
  },
  {
   "cell_type": "code",
   "execution_count": 2,
   "metadata": {
    "collapsed": true
   },
   "outputs": [],
   "source": [
    "data = pd.read_csv(\"data/clean-data.csv\")"
   ]
  },
  {
   "cell_type": "code",
   "execution_count": 3,
   "metadata": {},
   "outputs": [],
   "source": [
    "N = data.shape[0]\n",
    "POINTS = np.array(data.Points)\n",
    "CALC_POINTS = np.array(data['Calc Points'])\n",
    "COST = np.array(data.Cost)\n",
    "POSITION = np.array(data.Position)"
   ]
  },
  {
   "cell_type": "code",
   "execution_count": 4,
   "metadata": {},
   "outputs": [],
   "source": [
    "def random_walk(n):\n",
    "    return np.random.rand(11) * n\n",
    "\n",
    "def to_int(x):\n",
    "    return (x - 0.5).astype(int)\n",
    "\n",
    "def objective(x):\n",
    "    x_int = to_int(x)\n",
    "    points11 = POINTS[x_int]\n",
    "    return -(points11.sum() + points11.max())\n",
    "\n",
    "def objective_calc(x):\n",
    "    x_int = to_int(x)\n",
    "    points11 = CALC_POINTS[x_int]\n",
    "    return -(points11.sum() + points11.max())\n",
    "\n",
    "def constraint_cost(x):\n",
    "    # Cost is less than £100\n",
    "    # -(sum(cost) - 100) >= 0\n",
    "    x_int = to_int(x)\n",
    "    return -(COST[x_int].sum() - 100.0)\n",
    "\n",
    "def constraint_gk(x):\n",
    "    # Only 1 GK\n",
    "    # count('GK') - 1 = 0\n",
    "    x_int = to_int(x)\n",
    "    return (POSITION[x_int] == 'GK').sum() - 1\n",
    "    \n",
    "def constraint_def_3(x):\n",
    "    # 3to5 DEF\n",
    "    # count('DEF') - 3 >= 0 \n",
    "    x_int = to_int(x)\n",
    "    return (POSITION[x_int] == 'DEF').sum() - 3\n",
    "\n",
    "def constraint_def_5(x):\n",
    "    # 3to5 DEF\n",
    "    # -(count('DEF') - 5) >= 0 \n",
    "    x_int = to_int(x)\n",
    "    return -((POSITION[x_int] == 'DEF').sum() - 5)\n",
    "\n",
    "def constraint_mid_3(x):\n",
    "    # 3to5 MID\n",
    "    # count('MID') - 3 >= 0 \n",
    "    x_int = to_int(x)\n",
    "    return (POSITION[x_int] == 'MID').sum() - 3\n",
    "\n",
    "def constraint_mid_5(x):\n",
    "    # 3to5 MID\n",
    "    # -(count('MID') - 5) >= 0 \n",
    "    x_int = to_int(x)\n",
    "    return -((POSITION[x_int] == 'MID').sum() - 5)\n",
    "\n",
    "def constraint_str_1(x):\n",
    "    # 1to3 STR\n",
    "    # count('STR') - 1 >= 0 \n",
    "    x_int = to_int(x)\n",
    "    return (POSITION[x_int] == 'STR').sum() - 1\n",
    "\n",
    "def constraint_str_3(x):\n",
    "    # 1to3 STR\n",
    "    # -(count('STR') - 3) >= 0 \n",
    "    x_int = to_int(x)\n",
    "    return -((POSITION[x_int] == 'STR').sum() - 3)\n",
    "\n",
    "def constraint_all(x):\n",
    "    test = [constraint_cost(x) >= 0,\n",
    "            constraint_gk(x) == 0,\n",
    "            constraint_def_3(x) >= 0,\n",
    "            constraint_def_5(x) >= 0,\n",
    "            constraint_mid_3(x) >= 0,\n",
    "            constraint_mid_5(x) >= 0,\n",
    "            constraint_str_1(x) >= 0,\n",
    "            constraint_str_3(x) >= 0]\n",
    "    return(all(test))"
   ]
  },
  {
   "cell_type": "code",
   "execution_count": 16,
   "metadata": {},
   "outputs": [],
   "source": [
    "np.random.seed(0)\n",
    "lineup = []\n",
    "total_points = []\n",
    "constraint_test = []\n",
    "for i in range(10000):\n",
    "    x = random_walk(N)\n",
    "    lineup.append(x)\n",
    "    total_points.append(-objective(x))\n",
    "    constraint_test.append(constraint_all(x))"
   ]
  },
  {
   "cell_type": "code",
   "execution_count": 19,
   "metadata": {
    "collapsed": true
   },
   "outputs": [],
   "source": [
    "random_data = pd.DataFrame()\n",
    "random_data['Points'] = total_points\n",
    "random_data['Constraints'] = constraint_test\n",
    "random_data = random_data.sort_values('Points', ascending=True)\n",
    "random_data['Trials'] = range(10000)"
   ]
  },
  {
   "cell_type": "code",
   "execution_count": 20,
   "metadata": {},
   "outputs": [
    {
     "data": {
      "image/png": "[encoded data removed]",
      "text/plain": [
       "<Figure size 432x288 with 1 Axes>"
      ]
     },
     "metadata": {},
     "output_type": "display_data"
    }
   ],
   "source": [
    "cmap = sns.cubehelix_palette(rot=-.2, as_cmap=True)\n",
    "ax = sns.scatterplot(x=\"Trials\", y=\"Points\",\n",
    "                     hue=\"Constraints\",\n",
    "                     sizes=(500, 800),\n",
    "                     data=random_data)"
   ]
  },
  {
   "cell_type": "code",
   "execution_count": 21,
   "metadata": {},
   "outputs": [],
   "source": [
    "sns.scatterplot??"
   ]
  },
  {
   "cell_type": "code",
   "execution_count": 14,
   "metadata": {},
   "outputs": [],
   "source": [
    "x = []\n",
    "x.append([1,2,3])"
   ]
  },
  {
   "cell_type": "code",
   "execution_count": 15,
   "metadata": {},
   "outputs": [
    {
     "data": {
      "text/plain": [
       "[[1, 2, 3]]"
      ]
     },
     "execution_count": 15,
     "metadata": {},
     "output_type": "execute_result"
    }
   ],
   "source": [
    "x"
   ]
  },
  {
   "cell_type": "code",
   "execution_count": null,
   "metadata": {},
   "outputs": [],
   "source": [
    "import numpy as np\n",
    "from scipy.optimize import minimize\n",
    "\n",
    "def objective(x):\n",
    "    return x[0]*x[3]*(x[0]+x[1]+x[2])+x[2]\n",
    "\n",
    "def constraint1(x):\n",
    "    return x[0]*x[1]*x[2]*x[3]-25.0\n",
    "\n",
    "def constraint2(x):\n",
    "    sum_eq = 40.0\n",
    "    for i in range(4):\n",
    "        sum_eq = sum_eq - x[i]**2\n",
    "    return sum_eq\n",
    "\n",
    "# initial guesses\n",
    "n = 4\n",
    "x0 = np.zeros(n)\n",
    "x0[0] = 1.0\n",
    "x0[1] = 5.0\n",
    "x0[2] = 5.0\n",
    "x0[3] = 1.0\n",
    "\n",
    "# show initial objective\n",
    "print('Initial SSE Objective: ' + str(objective(x0)))\n",
    "\n",
    "# optimize\n",
    "b = (1.0,5.0)\n",
    "bnds = (b, b, b, b)\n",
    "con1 = {'type': 'ineq', 'fun': constraint1} \n",
    "con2 = {'type': 'eq', 'fun': constraint2}\n",
    "cons = ([con1,con2])\n",
    "solution = minimize(objective,x0,method='SLSQP',\\\n",
    "                    bounds=bnds,constraints=cons)\n",
    "x = solution.x\n",
    "\n",
    "# show final objective\n",
    "print('Final SSE Objective: ' + str(objective(x)))\n",
    "\n",
    "# print solution\n",
    "print('Solution')\n",
    "print('x1 = ' + str(x[0]))\n",
    "print('x2 = ' + str(x[1]))\n",
    "print('x3 = ' + str(x[2]))\n",
    "print('x4 = ' + str(x[3]))"
   ]
  },
  {
   "cell_type": "code",
   "execution_count": null,
   "metadata": {
    "collapsed": true
   },
   "outputs": [],
   "source": []
  }
 ],
 "metadata": {
  "kernelspec": {
   "display_name": "Python 3",
   "language": "python",
   "name": "python3"
  },
  "language_info": {
   "codemirror_mode": {
    "name": "ipython",
    "version": 3
   },
   "file_extension": ".py",
   "mimetype": "text/x-python",
   "name": "python",
   "nbconvert_exporter": "python",
   "pygments_lexer": "ipython3",
   "version": "3.6.3"
  }
 },
 "nbformat": 4,
 "nbformat_minor": 2
}
