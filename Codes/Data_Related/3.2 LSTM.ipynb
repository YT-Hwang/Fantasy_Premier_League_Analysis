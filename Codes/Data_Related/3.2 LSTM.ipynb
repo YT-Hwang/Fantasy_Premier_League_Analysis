{
 "cells": [
  {
   "cell_type": "markdown",
   "metadata": {},
   "source": [
    "reference:\n",
    "    \n",
    "https://machinelearningmastery.com/how-to-develop-convolutional-neural-network-models-for-time-series-forecasting/"
   ]
  },
  {
   "cell_type": "markdown",
   "metadata": {},
   "source": [
    "# 0. Importing Packages"
   ]
  },
  {
   "cell_type": "code",
   "execution_count": 1,
   "metadata": {},
   "outputs": [],
   "source": [
    "import numpy as np\n",
    "from numpy import array, hstack\n",
    "import pandas as pd\n",
    "import matplotlib.pylab as plt\n",
    "%matplotlib inline\n",
    "from matplotlib.pylab import rcParams\n",
    "import seaborn as sns\n",
    "\n",
    "\n",
    "from datetime import datetime, timedelta\n",
    "\n",
    "\n",
    "from IPython.core.interactiveshell import InteractiveShell\n",
    "InteractiveShell.ast_node_interactivity = \"all\"\n",
    "\n",
    "%matplotlib inline"
   ]
  },
  {
   "cell_type": "code",
   "execution_count": 2,
   "metadata": {
    "scrolled": true
   },
   "outputs": [],
   "source": [
    "import pandas as pd\n",
    "import numpy as np\n",
    "import matplotlib.pylab as plt\n",
    "%matplotlib inline\n",
    "from matplotlib.pylab import rcParams\n",
    "from sklearn.utils import shuffle\n",
    "\n",
    "from sklearn import preprocessing\n",
    "\n",
    "rcParams['figure.figsize'] = 20, 6"
   ]
  },
  {
   "cell_type": "code",
   "execution_count": 3,
   "metadata": {},
   "outputs": [
    {
     "name": "stderr",
     "output_type": "stream",
     "text": [
      "Using TensorFlow backend.\n"
     ]
    }
   ],
   "source": [
    "from keras.models import load_model\n",
    "from keras.models import Sequential, load_model\n",
    "from keras.layers import LSTM, Dense, Dropout, Embedding, Masking, Conv1D, MaxPooling1D, Flatten\n",
    "from keras.optimizers import Adam\n",
    "from keras.utils import Sequence\n",
    "from keras.preprocessing.text import Tokenizer\n",
    "from keras.callbacks import EarlyStopping, ModelCheckpoint\n",
    "from keras.models import load_model\n",
    "\n",
    "import re\n"
   ]
  },
  {
   "cell_type": "markdown",
   "metadata": {},
   "source": [
    "# 1. Loading Data"
   ]
  },
  {
   "cell_type": "code",
   "execution_count": 4,
   "metadata": {},
   "outputs": [],
   "source": [
    "# Getting all the files in the directory.\n",
    "def existing_file_list(path):\n",
    "    ''' Extracting File Names '''\n",
    "\n",
    "    allFiles = glob.glob(path + \"/*.csv\")\n",
    "    new_list = []\n",
    "    for i in allFiles:\n",
    "        before = 'original\\\\'\n",
    "        after = '_minute'\n",
    "        ticker = i[i.find(before) + len(before) : i.find(after)]\n",
    "        new_list.append(ticker)    \n",
    "    #list_ticker = list(filter(None, text))  # drop all the empty elements and put them in a list\n",
    "        \n",
    "    return (new_list)\n"
   ]
  },
  {
   "cell_type": "code",
   "execution_count": 5,
   "metadata": {},
   "outputs": [],
   "source": [
    "mypath = 'D:\\\\OneDrive - Georgia State University\\\\Data Science\\\\AKDSPW\\\\Solar Farm Forecasting\\\\'\n",
    "datapath = mypath + 'Data\\\\'\n",
    "\n",
    "from os import listdir\n",
    "from os.path import isfile, join\n",
    "data_list = [f for f in listdir(datapath) if isfile(join(datapath, f))]"
   ]
  },
  {
   "cell_type": "code",
   "execution_count": 6,
   "metadata": {},
   "outputs": [
    {
     "data": {
      "text/plain": [
       "'D:\\\\OneDrive - Georgia State University\\\\Data Science\\\\AKDSPW\\\\Solar Farm Forecasting\\\\Data\\\\'"
      ]
     },
     "execution_count": 6,
     "metadata": {},
     "output_type": "execute_result"
    }
   ],
   "source": [
    "datapath"
   ]
  },
  {
   "cell_type": "code",
   "execution_count": 7,
   "metadata": {},
   "outputs": [
    {
     "data": {
      "text/plain": [
       "['15min_dropNA_onlylag.csv',\n",
       " '15min_linearNA_onlylag.csv',\n",
       " 'SOLARFARM1_15MIN_201001_201804.csv']"
      ]
     },
     "execution_count": 7,
     "metadata": {},
     "output_type": "execute_result"
    }
   ],
   "source": [
    "data_list"
   ]
  },
  {
   "cell_type": "code",
   "execution_count": 8,
   "metadata": {},
   "outputs": [],
   "source": [
    "# Import the data with DateTime index\n",
    "dateparse = lambda dates: pd.datetime.strptime(dates, '%Y-%m-%d %H:%M:%S')\n",
    "\n",
    "data = pd.read_csv(datapath + data_list[1], parse_dates=['dattim'],index_col='dattim', date_parser=dateparse, engine='python')"
   ]
  },
  {
   "cell_type": "code",
   "execution_count": 9,
   "metadata": {},
   "outputs": [
    {
     "data": {
      "text/plain": [
       "Index(['avepow_t-1', 'avepow_t-2', 'avepow_t-3', 'avepow_t-4', 'avepow_t-5',\n",
       "       'avepow_t-6', 'avepow_t-7', 'avepow_t-8', 'avepow_t-9', 'avepow_t-10',\n",
       "       'avepow_t-11', 'avepow_t-12', 'avepow_t-13', 'avepow'],\n",
       "      dtype='object')"
      ]
     },
     "execution_count": 9,
     "metadata": {},
     "output_type": "execute_result"
    }
   ],
   "source": [
    "# move 'avepow' to the very end for split_squences function\n",
    "\n",
    "data = data[['avepow_t-1', 'avepow_t-2', 'avepow_t-3', 'avepow_t-4',\n",
    "       'avepow_t-5', 'avepow_t-6', 'avepow_t-7', 'avepow_t-8', 'avepow_t-9',\n",
    "       'avepow_t-10', 'avepow_t-11', 'avepow_t-12', 'avepow_t-13', 'avepow']]\n",
    "\n",
    "data.columns"
   ]
  },
  {
   "cell_type": "code",
   "execution_count": 10,
   "metadata": {
    "scrolled": true
   },
   "outputs": [
    {
     "data": {
      "text/html": [
       "<div>\n",
       "<style scoped>\n",
       "    .dataframe tbody tr th:only-of-type {\n",
       "        vertical-align: middle;\n",
       "    }\n",
       "\n",
       "    .dataframe tbody tr th {\n",
       "        vertical-align: top;\n",
       "    }\n",
       "\n",
       "    .dataframe thead th {\n",
       "        text-align: right;\n",
       "    }\n",
       "</style>\n",
       "<table border=\"1\" class=\"dataframe\">\n",
       "  <thead>\n",
       "    <tr style=\"text-align: right;\">\n",
       "      <th></th>\n",
       "      <th>avepow_t-1</th>\n",
       "      <th>avepow_t-2</th>\n",
       "      <th>avepow_t-3</th>\n",
       "      <th>avepow_t-4</th>\n",
       "      <th>avepow_t-5</th>\n",
       "      <th>avepow_t-6</th>\n",
       "      <th>avepow_t-7</th>\n",
       "      <th>avepow_t-8</th>\n",
       "      <th>avepow_t-9</th>\n",
       "      <th>avepow_t-10</th>\n",
       "      <th>avepow_t-11</th>\n",
       "      <th>avepow_t-12</th>\n",
       "      <th>avepow_t-13</th>\n",
       "      <th>avepow</th>\n",
       "    </tr>\n",
       "    <tr>\n",
       "      <th>dattim</th>\n",
       "      <th></th>\n",
       "      <th></th>\n",
       "      <th></th>\n",
       "      <th></th>\n",
       "      <th></th>\n",
       "      <th></th>\n",
       "      <th></th>\n",
       "      <th></th>\n",
       "      <th></th>\n",
       "      <th></th>\n",
       "      <th></th>\n",
       "      <th></th>\n",
       "      <th></th>\n",
       "      <th></th>\n",
       "    </tr>\n",
       "  </thead>\n",
       "  <tbody>\n",
       "    <tr>\n",
       "      <th>2010-01-01 03:30:00</th>\n",
       "      <td>0.0</td>\n",
       "      <td>0.0</td>\n",
       "      <td>0.0</td>\n",
       "      <td>0.0</td>\n",
       "      <td>0.0</td>\n",
       "      <td>0.0</td>\n",
       "      <td>0.0</td>\n",
       "      <td>0.0</td>\n",
       "      <td>0.0</td>\n",
       "      <td>0.0</td>\n",
       "      <td>0.0</td>\n",
       "      <td>0.0</td>\n",
       "      <td>0.0</td>\n",
       "      <td>0.0</td>\n",
       "    </tr>\n",
       "    <tr>\n",
       "      <th>2010-01-01 03:45:00</th>\n",
       "      <td>0.0</td>\n",
       "      <td>0.0</td>\n",
       "      <td>0.0</td>\n",
       "      <td>0.0</td>\n",
       "      <td>0.0</td>\n",
       "      <td>0.0</td>\n",
       "      <td>0.0</td>\n",
       "      <td>0.0</td>\n",
       "      <td>0.0</td>\n",
       "      <td>0.0</td>\n",
       "      <td>0.0</td>\n",
       "      <td>0.0</td>\n",
       "      <td>0.0</td>\n",
       "      <td>0.0</td>\n",
       "    </tr>\n",
       "    <tr>\n",
       "      <th>2010-01-01 04:00:00</th>\n",
       "      <td>0.0</td>\n",
       "      <td>0.0</td>\n",
       "      <td>0.0</td>\n",
       "      <td>0.0</td>\n",
       "      <td>0.0</td>\n",
       "      <td>0.0</td>\n",
       "      <td>0.0</td>\n",
       "      <td>0.0</td>\n",
       "      <td>0.0</td>\n",
       "      <td>0.0</td>\n",
       "      <td>0.0</td>\n",
       "      <td>0.0</td>\n",
       "      <td>0.0</td>\n",
       "      <td>0.0</td>\n",
       "    </tr>\n",
       "    <tr>\n",
       "      <th>2010-01-01 04:15:00</th>\n",
       "      <td>0.0</td>\n",
       "      <td>0.0</td>\n",
       "      <td>0.0</td>\n",
       "      <td>0.0</td>\n",
       "      <td>0.0</td>\n",
       "      <td>0.0</td>\n",
       "      <td>0.0</td>\n",
       "      <td>0.0</td>\n",
       "      <td>0.0</td>\n",
       "      <td>0.0</td>\n",
       "      <td>0.0</td>\n",
       "      <td>0.0</td>\n",
       "      <td>0.0</td>\n",
       "      <td>0.0</td>\n",
       "    </tr>\n",
       "    <tr>\n",
       "      <th>2010-01-01 04:30:00</th>\n",
       "      <td>0.0</td>\n",
       "      <td>0.0</td>\n",
       "      <td>0.0</td>\n",
       "      <td>0.0</td>\n",
       "      <td>0.0</td>\n",
       "      <td>0.0</td>\n",
       "      <td>0.0</td>\n",
       "      <td>0.0</td>\n",
       "      <td>0.0</td>\n",
       "      <td>0.0</td>\n",
       "      <td>0.0</td>\n",
       "      <td>0.0</td>\n",
       "      <td>0.0</td>\n",
       "      <td>0.0</td>\n",
       "    </tr>\n",
       "  </tbody>\n",
       "</table>\n",
       "</div>"
      ],
      "text/plain": [
       "                     avepow_t-1  avepow_t-2  avepow_t-3  avepow_t-4  \\\n",
       "dattim                                                                \n",
       "2010-01-01 03:30:00         0.0         0.0         0.0         0.0   \n",
       "2010-01-01 03:45:00         0.0         0.0         0.0         0.0   \n",
       "2010-01-01 04:00:00         0.0         0.0         0.0         0.0   \n",
       "2010-01-01 04:15:00         0.0         0.0         0.0         0.0   \n",
       "2010-01-01 04:30:00         0.0         0.0         0.0         0.0   \n",
       "\n",
       "                     avepow_t-5  avepow_t-6  avepow_t-7  avepow_t-8  \\\n",
       "dattim                                                                \n",
       "2010-01-01 03:30:00         0.0         0.0         0.0         0.0   \n",
       "2010-01-01 03:45:00         0.0         0.0         0.0         0.0   \n",
       "2010-01-01 04:00:00         0.0         0.0         0.0         0.0   \n",
       "2010-01-01 04:15:00         0.0         0.0         0.0         0.0   \n",
       "2010-01-01 04:30:00         0.0         0.0         0.0         0.0   \n",
       "\n",
       "                     avepow_t-9  avepow_t-10  avepow_t-11  avepow_t-12  \\\n",
       "dattim                                                                   \n",
       "2010-01-01 03:30:00         0.0          0.0          0.0          0.0   \n",
       "2010-01-01 03:45:00         0.0          0.0          0.0          0.0   \n",
       "2010-01-01 04:00:00         0.0          0.0          0.0          0.0   \n",
       "2010-01-01 04:15:00         0.0          0.0          0.0          0.0   \n",
       "2010-01-01 04:30:00         0.0          0.0          0.0          0.0   \n",
       "\n",
       "                     avepow_t-13  avepow  \n",
       "dattim                                    \n",
       "2010-01-01 03:30:00          0.0     0.0  \n",
       "2010-01-01 03:45:00          0.0     0.0  \n",
       "2010-01-01 04:00:00          0.0     0.0  \n",
       "2010-01-01 04:15:00          0.0     0.0  \n",
       "2010-01-01 04:30:00          0.0     0.0  "
      ]
     },
     "execution_count": 10,
     "metadata": {},
     "output_type": "execute_result"
    },
    {
     "data": {
      "text/html": [
       "<div>\n",
       "<style scoped>\n",
       "    .dataframe tbody tr th:only-of-type {\n",
       "        vertical-align: middle;\n",
       "    }\n",
       "\n",
       "    .dataframe tbody tr th {\n",
       "        vertical-align: top;\n",
       "    }\n",
       "\n",
       "    .dataframe thead th {\n",
       "        text-align: right;\n",
       "    }\n",
       "</style>\n",
       "<table border=\"1\" class=\"dataframe\">\n",
       "  <thead>\n",
       "    <tr style=\"text-align: right;\">\n",
       "      <th></th>\n",
       "      <th>avepow_t-1</th>\n",
       "      <th>avepow_t-2</th>\n",
       "      <th>avepow_t-3</th>\n",
       "      <th>avepow_t-4</th>\n",
       "      <th>avepow_t-5</th>\n",
       "      <th>avepow_t-6</th>\n",
       "      <th>avepow_t-7</th>\n",
       "      <th>avepow_t-8</th>\n",
       "      <th>avepow_t-9</th>\n",
       "      <th>avepow_t-10</th>\n",
       "      <th>avepow_t-11</th>\n",
       "      <th>avepow_t-12</th>\n",
       "      <th>avepow_t-13</th>\n",
       "      <th>avepow</th>\n",
       "    </tr>\n",
       "    <tr>\n",
       "      <th>dattim</th>\n",
       "      <th></th>\n",
       "      <th></th>\n",
       "      <th></th>\n",
       "      <th></th>\n",
       "      <th></th>\n",
       "      <th></th>\n",
       "      <th></th>\n",
       "      <th></th>\n",
       "      <th></th>\n",
       "      <th></th>\n",
       "      <th></th>\n",
       "      <th></th>\n",
       "      <th></th>\n",
       "      <th></th>\n",
       "    </tr>\n",
       "  </thead>\n",
       "  <tbody>\n",
       "    <tr>\n",
       "      <th>2018-04-30 23:00:00</th>\n",
       "      <td>0.0</td>\n",
       "      <td>0.0</td>\n",
       "      <td>0.0</td>\n",
       "      <td>0.0</td>\n",
       "      <td>0.0</td>\n",
       "      <td>0.0</td>\n",
       "      <td>0.0</td>\n",
       "      <td>0.0</td>\n",
       "      <td>0.0</td>\n",
       "      <td>0.0</td>\n",
       "      <td>0.0</td>\n",
       "      <td>0.0</td>\n",
       "      <td>0.0</td>\n",
       "      <td>0.0</td>\n",
       "    </tr>\n",
       "    <tr>\n",
       "      <th>2018-04-30 23:15:00</th>\n",
       "      <td>0.0</td>\n",
       "      <td>0.0</td>\n",
       "      <td>0.0</td>\n",
       "      <td>0.0</td>\n",
       "      <td>0.0</td>\n",
       "      <td>0.0</td>\n",
       "      <td>0.0</td>\n",
       "      <td>0.0</td>\n",
       "      <td>0.0</td>\n",
       "      <td>0.0</td>\n",
       "      <td>0.0</td>\n",
       "      <td>0.0</td>\n",
       "      <td>0.0</td>\n",
       "      <td>0.0</td>\n",
       "    </tr>\n",
       "    <tr>\n",
       "      <th>2018-04-30 23:30:00</th>\n",
       "      <td>0.0</td>\n",
       "      <td>0.0</td>\n",
       "      <td>0.0</td>\n",
       "      <td>0.0</td>\n",
       "      <td>0.0</td>\n",
       "      <td>0.0</td>\n",
       "      <td>0.0</td>\n",
       "      <td>0.0</td>\n",
       "      <td>0.0</td>\n",
       "      <td>0.0</td>\n",
       "      <td>0.0</td>\n",
       "      <td>0.0</td>\n",
       "      <td>0.0</td>\n",
       "      <td>0.0</td>\n",
       "    </tr>\n",
       "    <tr>\n",
       "      <th>2018-04-30 23:45:00</th>\n",
       "      <td>0.0</td>\n",
       "      <td>0.0</td>\n",
       "      <td>0.0</td>\n",
       "      <td>0.0</td>\n",
       "      <td>0.0</td>\n",
       "      <td>0.0</td>\n",
       "      <td>0.0</td>\n",
       "      <td>0.0</td>\n",
       "      <td>0.0</td>\n",
       "      <td>0.0</td>\n",
       "      <td>0.0</td>\n",
       "      <td>0.0</td>\n",
       "      <td>0.0</td>\n",
       "      <td>0.0</td>\n",
       "    </tr>\n",
       "    <tr>\n",
       "      <th>2018-05-01 00:00:00</th>\n",
       "      <td>0.0</td>\n",
       "      <td>0.0</td>\n",
       "      <td>0.0</td>\n",
       "      <td>0.0</td>\n",
       "      <td>0.0</td>\n",
       "      <td>0.0</td>\n",
       "      <td>0.0</td>\n",
       "      <td>0.0</td>\n",
       "      <td>0.0</td>\n",
       "      <td>0.0</td>\n",
       "      <td>0.0</td>\n",
       "      <td>0.0</td>\n",
       "      <td>0.0</td>\n",
       "      <td>0.0</td>\n",
       "    </tr>\n",
       "  </tbody>\n",
       "</table>\n",
       "</div>"
      ],
      "text/plain": [
       "                     avepow_t-1  avepow_t-2  avepow_t-3  avepow_t-4  \\\n",
       "dattim                                                                \n",
       "2018-04-30 23:00:00         0.0         0.0         0.0         0.0   \n",
       "2018-04-30 23:15:00         0.0         0.0         0.0         0.0   \n",
       "2018-04-30 23:30:00         0.0         0.0         0.0         0.0   \n",
       "2018-04-30 23:45:00         0.0         0.0         0.0         0.0   \n",
       "2018-05-01 00:00:00         0.0         0.0         0.0         0.0   \n",
       "\n",
       "                     avepow_t-5  avepow_t-6  avepow_t-7  avepow_t-8  \\\n",
       "dattim                                                                \n",
       "2018-04-30 23:00:00         0.0         0.0         0.0         0.0   \n",
       "2018-04-30 23:15:00         0.0         0.0         0.0         0.0   \n",
       "2018-04-30 23:30:00         0.0         0.0         0.0         0.0   \n",
       "2018-04-30 23:45:00         0.0         0.0         0.0         0.0   \n",
       "2018-05-01 00:00:00         0.0         0.0         0.0         0.0   \n",
       "\n",
       "                     avepow_t-9  avepow_t-10  avepow_t-11  avepow_t-12  \\\n",
       "dattim                                                                   \n",
       "2018-04-30 23:00:00         0.0          0.0          0.0          0.0   \n",
       "2018-04-30 23:15:00         0.0          0.0          0.0          0.0   \n",
       "2018-04-30 23:30:00         0.0          0.0          0.0          0.0   \n",
       "2018-04-30 23:45:00         0.0          0.0          0.0          0.0   \n",
       "2018-05-01 00:00:00         0.0          0.0          0.0          0.0   \n",
       "\n",
       "                     avepow_t-13  avepow  \n",
       "dattim                                    \n",
       "2018-04-30 23:00:00          0.0     0.0  \n",
       "2018-04-30 23:15:00          0.0     0.0  \n",
       "2018-04-30 23:30:00          0.0     0.0  \n",
       "2018-04-30 23:45:00          0.0     0.0  \n",
       "2018-05-01 00:00:00          0.0     0.0  "
      ]
     },
     "execution_count": 10,
     "metadata": {},
     "output_type": "execute_result"
    },
    {
     "data": {
      "text/plain": [
       "avepow_t-1     float64\n",
       "avepow_t-2     float64\n",
       "avepow_t-3     float64\n",
       "avepow_t-4     float64\n",
       "avepow_t-5     float64\n",
       "avepow_t-6     float64\n",
       "avepow_t-7     float64\n",
       "avepow_t-8     float64\n",
       "avepow_t-9     float64\n",
       "avepow_t-10    float64\n",
       "avepow_t-11    float64\n",
       "avepow_t-12    float64\n",
       "avepow_t-13    float64\n",
       "avepow         float64\n",
       "dtype: object"
      ]
     },
     "execution_count": 10,
     "metadata": {},
     "output_type": "execute_result"
    }
   ],
   "source": [
    "data.head()\n",
    "data.tail()\n",
    "\n",
    "\n",
    "data.dtypes"
   ]
  },
  {
   "cell_type": "markdown",
   "metadata": {},
   "source": [
    "Let’s understand the arguments one by one:\n",
    "\n",
    "- parse_dates: This specifies the column which contains the date-time information. As we say above, the column name is ‘Month’.\n",
    " \n",
    "- index_col: A key idea behind using Pandas for TS data is that the index has to be the variable depicting date-time information. So this argument tells pandas to use the ‘Month’ column as index.\n",
    " \n",
    "- date_parser: This specifies a function which converts an input string into datetime variable. Be default Pandas reads data in format ‘YYYY-MM-DD HH:MM:SS’. If the data is not in this format, the format has to be manually defined. Something similar to the dataparse function defined here can be used for this purpose."
   ]
  },
  {
   "cell_type": "markdown",
   "metadata": {},
   "source": [
    "# 2. Preprocessing"
   ]
  },
  {
   "cell_type": "markdown",
   "metadata": {},
   "source": [
    "In this section, I will prepare the dataset for feeding into LSTM network. Basically, I will do 4 things.\n",
    "\n",
    "1. Transform data to stationary\n",
    "2. Transform data to supervised learning\n",
    "3. Split the data into train and test\n",
    "4. Scale the data to (-1,1)"
   ]
  },
  {
   "cell_type": "markdown",
   "metadata": {},
   "source": [
    "# 3) Splitting Data"
   ]
  },
  {
   "cell_type": "markdown",
   "metadata": {},
   "source": [
    "## 3-1) Prepare Features and Labels  "
   ]
  },
  {
   "cell_type": "code",
   "execution_count": 11,
   "metadata": {},
   "outputs": [],
   "source": [
    "def create_train_test(data):\n",
    "    '''Create training and validation features and labels'''\n",
    "    \n",
    "    train, test = data['2017':'2017'], data['2018':'2018']\n",
    "    \n",
    "    return train, test"
   ]
  },
  {
   "cell_type": "code",
   "execution_count": 12,
   "metadata": {},
   "outputs": [],
   "source": [
    "def normalization(data):\n",
    "    '''normalizing the data'''\n",
    "    \n",
    "    scaler = preprocessing.MinMaxScaler()\n",
    "    if len(data.columns) == 1:\n",
    "        data = data.values.reshape(-1, 1)\n",
    "    else:\n",
    "        pass\n",
    "    \n",
    "    scaled = scaler.fit_transform(data)\n",
    "    #scaled = pd.DataFrame(scaled, columns=data.columns, index = data.index)\n",
    "    \n",
    "    return scaled, scaler"
   ]
  },
  {
   "cell_type": "code",
   "execution_count": 13,
   "metadata": {},
   "outputs": [],
   "source": [
    "train, test = create_train_test(data)\n",
    "normalized_train, scaler = normalization(train)\n",
    "normalized_test, scaler = normalization(test)\n"
   ]
  },
  {
   "cell_type": "markdown",
   "metadata": {},
   "source": [
    "## 3-2) Reshape features"
   ]
  },
  {
   "cell_type": "code",
   "execution_count": 14,
   "metadata": {},
   "outputs": [],
   "source": [
    "# multivariate data preparation\n",
    "\n",
    "# split a multivariate sequence into samples\n",
    "def split_sequences(sequences, n_steps):\n",
    "    X, y = list(), list()\n",
    "    for i in range(len(sequences)):\n",
    "        # find the end of this pattern\n",
    "        end_ix = i + n_steps\n",
    "        \n",
    "        # check if we are beyond the dataset\n",
    "        if end_ix > len(sequences):\n",
    "            break\n",
    "        # gather input and output parts of the pattern\n",
    "        seq_x, seq_y = sequences[i:end_ix, :-1], sequences[end_ix-1, -1]\n",
    "        X.append(seq_x)\n",
    "        y.append(seq_y)\n",
    "        \n",
    "    \n",
    "    return array(X), array(y)"
   ]
  },
  {
   "cell_type": "code",
   "execution_count": 15,
   "metadata": {},
   "outputs": [],
   "source": [
    "# choose a number of time steps\n",
    "n_steps = 13\n",
    "\n",
    "# convert into input/output\n",
    "x_train_reshaped, y_train = split_sequences(normalized_train, n_steps)\n",
    "x_test_reshaped, y_test = split_sequences(normalized_test, n_steps)\n",
    "\n"
   ]
  },
  {
   "cell_type": "code",
   "execution_count": 16,
   "metadata": {
    "scrolled": false
   },
   "outputs": [
    {
     "name": "stdout",
     "output_type": "stream",
     "text": [
      "shape of x_train_reshaped: (35028, 13, 13), \n",
      "shape of y_train: (35028,), \n",
      "\n",
      "shape of x_test_reshaped: (11509, 13, 13), \n",
      "shape of y_test: (11509,)\n"
     ]
    }
   ],
   "source": [
    "print (f\"shape of x_train_reshaped: {x_train_reshaped.shape}, \\nshape of y_train: {y_train.shape}, \\n\\nshape of x_test_reshaped: {x_test_reshaped.shape}, \\nshape of y_test: {y_test.shape}\")"
   ]
  },
  {
   "cell_type": "markdown",
   "metadata": {},
   "source": [
    "# 4) Build and Train a Model"
   ]
  },
  {
   "cell_type": "code",
   "execution_count": 17,
   "metadata": {},
   "outputs": [
    {
     "name": "stdout",
     "output_type": "stream",
     "text": [
      "shape of number of timesteps: 13 \n",
      "number of features: 13 \n",
      "number of outputs: 1\n"
     ]
    }
   ],
   "source": [
    "n_timesteps, n_features, n_outputs = x_train_reshaped.shape[1], x_train_reshaped.shape[2], 1\n",
    "\n",
    "print (f\"shape of number of timesteps: {n_timesteps} \\nnumber of features: {n_features} \\nnumber of outputs: {n_outputs}\")"
   ]
  },
  {
   "cell_type": "markdown",
   "metadata": {},
   "source": [
    "## 4-1) First Model"
   ]
  },
  {
   "cell_type": "code",
   "execution_count": 18,
   "metadata": {
    "scrolled": true
   },
   "outputs": [
    {
     "data": {
      "text/plain": [
       "\"# Returns a compiled model identical to the previous one\\nmodel = load_model('E:\\\\Data Science\\\\Personal_Project\\\\RNN - Solar Farm\\\\model\\\\LSTM_Model.h5')\""
      ]
     },
     "execution_count": 18,
     "metadata": {},
     "output_type": "execute_result"
    }
   ],
   "source": [
    "'''# Returns a compiled model identical to the previous one\n",
    "model = load_model('E:\\Data Science\\Personal_Project\\RNN - Solar Farm\\model\\LSTM_Model.h5')'''"
   ]
  },
  {
   "cell_type": "code",
   "execution_count": 49,
   "metadata": {},
   "outputs": [],
   "source": [
    "# define model\n",
    "\n",
    "model_LSTM = Sequential()\n",
    "model_LSTM.add(LSTM(286, activation='sigmoid', input_shape = (n_timesteps, n_features)))\n",
    "#model_LSTM.add(Dropout(0.1))\n",
    "model_LSTM.add(Dense(100, activation='sigmoid'))\n",
    "#model_LSTM.add(Dropout(0.1))\n",
    "model_LSTM.add(Dense(50, activation='sigmoid'))\n",
    "model_LSTM.add(Dense(n_outputs))\n",
    "\n",
    "model_LSTM.compile(loss='mean_squared_error', optimizer='adam',  metrics=['accuracy'])\n",
    "\n"
   ]
  },
  {
   "cell_type": "code",
   "execution_count": 50,
   "metadata": {
    "scrolled": true
   },
   "outputs": [
    {
     "name": "stdout",
     "output_type": "stream",
     "text": [
      "_________________________________________________________________\n",
      "Layer (type)                 Output Shape              Param #   \n",
      "=================================================================\n",
      "lstm_3 (LSTM)                (None, 286)               343200    \n",
      "_________________________________________________________________\n",
      "dense_7 (Dense)              (None, 100)               28700     \n",
      "_________________________________________________________________\n",
      "dense_8 (Dense)              (None, 50)                5050      \n",
      "_________________________________________________________________\n",
      "dense_9 (Dense)              (None, 1)                 51        \n",
      "=================================================================\n",
      "Total params: 377,001\n",
      "Trainable params: 377,001\n",
      "Non-trainable params: 0\n",
      "_________________________________________________________________\n"
     ]
    }
   ],
   "source": [
    "model_LSTM.summary()"
   ]
  },
  {
   "cell_type": "code",
   "execution_count": 51,
   "metadata": {},
   "outputs": [],
   "source": [
    "epochs = 700\n",
    "batch_size = 128\n",
    "verbose = 1\n",
    "# Set callback functions to early stop training and save the best model so far\n",
    "callbacks = [EarlyStopping(monitor='val_loss', patience=2)]"
   ]
  },
  {
   "cell_type": "code",
   "execution_count": 52,
   "metadata": {
    "scrolled": true
   },
   "outputs": [
    {
     "name": "stdout",
     "output_type": "stream",
     "text": [
      "Train on 28022 samples, validate on 7006 samples\n",
      "Epoch 1/700\n",
      "28022/28022 [==============================] - 15s 520us/step - loss: 0.0374 - acc: 0.4666 - val_loss: 0.0065 - val_acc: 0.5622\n",
      "Epoch 2/700\n",
      "28022/28022 [==============================] - 13s 471us/step - loss: 0.0096 - acc: 0.4687 - val_loss: 0.0037 - val_acc: 0.5622\n",
      "Epoch 3/700\n",
      "28022/28022 [==============================] - 13s 454us/step - loss: 0.0079 - acc: 0.4687 - val_loss: 0.0029 - val_acc: 0.5622\n",
      "Epoch 4/700\n",
      "28022/28022 [==============================] - 12s 438us/step - loss: 0.0067 - acc: 0.4687 - val_loss: 0.0034 - val_acc: 0.5622\n",
      "Epoch 5/700\n",
      "28022/28022 [==============================] - 13s 464us/step - loss: 0.0065 - acc: 0.4687 - val_loss: 0.0021 - val_acc: 0.5622\n",
      "Epoch 6/700\n",
      "28022/28022 [==============================] - 15s 539us/step - loss: 0.0061 - acc: 0.4687 - val_loss: 0.0030 - val_acc: 0.5622\n",
      "Epoch 7/700\n",
      "28022/28022 [==============================] - 16s 568us/step - loss: 0.0062 - acc: 0.4687 - val_loss: 0.0019 - val_acc: 0.5622\n",
      "Epoch 8/700\n",
      "28022/28022 [==============================] - 18s 656us/step - loss: 0.0061 - acc: 0.4687 - val_loss: 0.0019 - val_acc: 0.5622\n",
      "Epoch 9/700\n",
      "28022/28022 [==============================] - 18s 628us/step - loss: 0.0061 - acc: 0.4687 - val_loss: 0.0025 - val_acc: 0.5622\n",
      "Epoch 10/700\n",
      "28022/28022 [==============================] - 21s 756us/step - loss: 0.0059 - acc: 0.4687 - val_loss: 0.0019 - val_acc: 0.5622\n",
      "Epoch 11/700\n",
      "28022/28022 [==============================] - 18s 648us/step - loss: 0.0059 - acc: 0.4687 - val_loss: 0.0027 - val_acc: 0.5622\n",
      "Epoch 12/700\n",
      "28022/28022 [==============================] - 18s 650us/step - loss: 0.0057 - acc: 0.4687 - val_loss: 0.0029 - val_acc: 0.5622\n"
     ]
    }
   ],
   "source": [
    "# fit network\n",
    "history = model_LSTM.fit(x_train_reshaped, y_train, epochs=epochs, batch_size=batch_size, verbose=verbose, validation_split = 0.2, callbacks=callbacks)"
   ]
  },
  {
   "cell_type": "code",
   "execution_count": 53,
   "metadata": {
    "scrolled": true
   },
   "outputs": [
    {
     "data": {
      "text/plain": [
       "[<matplotlib.lines.Line2D at 0x20daffa5d68>]"
      ]
     },
     "execution_count": 53,
     "metadata": {},
     "output_type": "execute_result"
    },
    {
     "data": {
      "text/plain": [
       "[<matplotlib.lines.Line2D at 0x20daf4f8c18>]"
      ]
     },
     "execution_count": 53,
     "metadata": {},
     "output_type": "execute_result"
    },
    {
     "data": {
      "text/plain": [
       "Text(0.5, 1.0, 'model accuracy')"
      ]
     },
     "execution_count": 53,
     "metadata": {},
     "output_type": "execute_result"
    },
    {
     "data": {
      "text/plain": [
       "Text(0, 0.5, 'accuracy')"
      ]
     },
     "execution_count": 53,
     "metadata": {},
     "output_type": "execute_result"
    },
    {
     "data": {
      "text/plain": [
       "Text(0.5, 0, 'epoch')"
      ]
     },
     "execution_count": 53,
     "metadata": {},
     "output_type": "execute_result"
    },
    {
     "data": {
      "text/plain": [
       "<matplotlib.legend.Legend at 0x20daff96860>"
      ]
     },
     "execution_count": 53,
     "metadata": {},
     "output_type": "execute_result"
    },
    {
     "data": {
      "image/png": "[encoded data removed]",
      "text/plain": [
       "<Figure size 1440x432 with 1 Axes>"
      ]
     },
     "metadata": {
      "needs_background": "light"
     },
     "output_type": "display_data"
    },
    {
     "data": {
      "text/plain": [
       "[<matplotlib.lines.Line2D at 0x20db000c0b8>]"
      ]
     },
     "execution_count": 53,
     "metadata": {},
     "output_type": "execute_result"
    },
    {
     "data": {
      "text/plain": [
       "[<matplotlib.lines.Line2D at 0x20db000c550>]"
      ]
     },
     "execution_count": 53,
     "metadata": {},
     "output_type": "execute_result"
    },
    {
     "data": {
      "text/plain": [
       "Text(0.5, 1.0, 'model loss')"
      ]
     },
     "execution_count": 53,
     "metadata": {},
     "output_type": "execute_result"
    },
    {
     "data": {
      "text/plain": [
       "Text(0, 0.5, 'loss')"
      ]
     },
     "execution_count": 53,
     "metadata": {},
     "output_type": "execute_result"
    },
    {
     "data": {
      "text/plain": [
       "Text(0.5, 0, 'epoch')"
      ]
     },
     "execution_count": 53,
     "metadata": {},
     "output_type": "execute_result"
    },
    {
     "data": {
      "text/plain": [
       "<matplotlib.legend.Legend at 0x20dafff5b70>"
      ]
     },
     "execution_count": 53,
     "metadata": {},
     "output_type": "execute_result"
    },
    {
     "data": {
      "image/png": "[encoded data removed]",
      "text/plain": [
       "<Figure size 1440x432 with 1 Axes>"
      ]
     },
     "metadata": {
      "needs_background": "light"
     },
     "output_type": "display_data"
    }
   ],
   "source": [
    "# summarize history for accuracy\n",
    "plt.plot(history.history['acc'])\n",
    "plt.plot(history.history['val_acc'])\n",
    "plt.title('model accuracy')\n",
    "plt.ylabel('accuracy')\n",
    "plt.xlabel('epoch')\n",
    "plt.legend(['train', 'val'], loc='upper left')\n",
    "plt.show()\n",
    "# summarize history for loss\n",
    "plt.plot(history.history['loss'])\n",
    "plt.plot(history.history['val_loss'])\n",
    "plt.title('model loss')\n",
    "plt.ylabel('loss')\n",
    "plt.xlabel('epoch')\n",
    "plt.legend(['train', 'val'], loc='upper left')\n",
    "plt.show()"
   ]
  },
  {
   "cell_type": "code",
   "execution_count": 54,
   "metadata": {},
   "outputs": [
    {
     "data": {
      "text/plain": [
       "\"# Returns a compiled model identical to the previous one\\nmodel = load_model('E:\\\\Data Science\\\\Personal_Project\\\\RNN - Solar Farm\\\\model\\\\LSTM_Model.h5')\\n\\ny_predict = model.predict(x_test_reshaped, verbose)\""
      ]
     },
     "execution_count": 54,
     "metadata": {},
     "output_type": "execute_result"
    }
   ],
   "source": [
    "'''# Returns a compiled model identical to the previous one\n",
    "model = load_model('E:\\Data Science\\Personal_Project\\RNN - Solar Farm\\model\\LSTM_Model.h5')\n",
    "\n",
    "y_predict = model.predict(x_test_reshaped, verbose)'''"
   ]
  },
  {
   "cell_type": "code",
   "execution_count": 55,
   "metadata": {},
   "outputs": [
    {
     "data": {
      "text/plain": [
       "[0.03740443765849086,\n",
       " 0.009635975685888712,\n",
       " 0.007896558617256105,\n",
       " 0.006715701401686206,\n",
       " 0.006450448220102637,\n",
       " 0.00611798822798431,\n",
       " 0.006203852161373187,\n",
       " 0.006054614665788767,\n",
       " 0.0061028621749222986,\n",
       " 0.005892124068258919,\n",
       " 0.005907570175199331,\n",
       " 0.0057039656636469534]"
      ]
     },
     "execution_count": 55,
     "metadata": {},
     "output_type": "execute_result"
    }
   ],
   "source": [
    "history.history['loss']"
   ]
  },
  {
   "cell_type": "raw",
   "metadata": {},
   "source": [
    "from keras.models import load_model\n",
    "model_LSTM = load_model('D:\\\\OneDrive - Georgia State University\\\\Data Science\\\\AKDSPW\\\\Load_Energy_Consumption\\\\Result\\\\281.h5')\n"
   ]
  },
  {
   "cell_type": "code",
   "execution_count": 56,
   "metadata": {},
   "outputs": [],
   "source": [
    "y_predict = model_LSTM.predict(x_test_reshaped, verbose)\n",
    "y_predict = y_predict.reshape(y_predict.shape[0],)"
   ]
  },
  {
   "cell_type": "code",
   "execution_count": 57,
   "metadata": {},
   "outputs": [],
   "source": [
    "comparison = pd.DataFrame(data=np.column_stack((y_test,y_predict)),columns=['actual','prediction'])\n",
    "comparison = comparison.set_index(test.index[n_steps-1:])"
   ]
  },
  {
   "cell_type": "code",
   "execution_count": 58,
   "metadata": {},
   "outputs": [],
   "source": [
    "denormalizing_data = data.copy()\n",
    "denormalizing_data.drop(columns = ['avepow'], inplace = True)\n",
    "denormalizing_data['prediction'] = comparison['prediction']\n",
    "denormalizing_data.dropna(axis=0,inplace=True)\n",
    "denormalized_prediction = pd.DataFrame(scaler.inverse_transform(denormalizing_data), index=test.index[n_steps-1:], columns=denormalizing_data.columns)['prediction']\n",
    "\n",
    "denormalizing_actual = data.copy()\n",
    "denormalizing_actual.drop(columns = ['avepow'], inplace = True)\n",
    "denormalizing_actual['actual'] = comparison['actual']\n",
    "denormalizing_actual.dropna(axis=0,inplace=True)\n",
    "denormalized_actual = pd.DataFrame(scaler.inverse_transform(denormalizing_actual), index=test.index[n_steps-1:], columns=denormalizing_actual.columns)['actual']\n",
    "\n",
    "comparison = pd.concat([denormalized_actual, denormalized_prediction], axis=1)"
   ]
  },
  {
   "cell_type": "code",
   "execution_count": 59,
   "metadata": {},
   "outputs": [
    {
     "data": {
      "text/html": [
       "<div>\n",
       "<style scoped>\n",
       "    .dataframe tbody tr th:only-of-type {\n",
       "        vertical-align: middle;\n",
       "    }\n",
       "\n",
       "    .dataframe tbody tr th {\n",
       "        vertical-align: top;\n",
       "    }\n",
       "\n",
       "    .dataframe thead th {\n",
       "        text-align: right;\n",
       "    }\n",
       "</style>\n",
       "<table border=\"1\" class=\"dataframe\">\n",
       "  <thead>\n",
       "    <tr style=\"text-align: right;\">\n",
       "      <th></th>\n",
       "      <th>actual</th>\n",
       "      <th>prediction</th>\n",
       "    </tr>\n",
       "    <tr>\n",
       "      <th>dattim</th>\n",
       "      <th></th>\n",
       "      <th></th>\n",
       "    </tr>\n",
       "  </thead>\n",
       "  <tbody>\n",
       "    <tr>\n",
       "      <th>2018-01-01 03:00:00</th>\n",
       "      <td>0.00</td>\n",
       "      <td>-29.722570</td>\n",
       "    </tr>\n",
       "    <tr>\n",
       "      <th>2018-01-01 03:15:00</th>\n",
       "      <td>0.00</td>\n",
       "      <td>-29.722570</td>\n",
       "    </tr>\n",
       "    <tr>\n",
       "      <th>2018-01-01 03:30:00</th>\n",
       "      <td>0.00</td>\n",
       "      <td>-29.722570</td>\n",
       "    </tr>\n",
       "    <tr>\n",
       "      <th>2018-01-01 03:45:00</th>\n",
       "      <td>0.00</td>\n",
       "      <td>-29.722570</td>\n",
       "    </tr>\n",
       "    <tr>\n",
       "      <th>2018-01-01 04:00:00</th>\n",
       "      <td>0.00</td>\n",
       "      <td>-29.722570</td>\n",
       "    </tr>\n",
       "    <tr>\n",
       "      <th>2018-01-01 04:15:00</th>\n",
       "      <td>0.00</td>\n",
       "      <td>-29.722570</td>\n",
       "    </tr>\n",
       "    <tr>\n",
       "      <th>2018-01-01 04:30:00</th>\n",
       "      <td>0.00</td>\n",
       "      <td>-29.722570</td>\n",
       "    </tr>\n",
       "    <tr>\n",
       "      <th>2018-01-01 04:45:00</th>\n",
       "      <td>0.00</td>\n",
       "      <td>-29.722570</td>\n",
       "    </tr>\n",
       "    <tr>\n",
       "      <th>2018-01-01 05:00:00</th>\n",
       "      <td>0.00</td>\n",
       "      <td>-29.722570</td>\n",
       "    </tr>\n",
       "    <tr>\n",
       "      <th>2018-01-01 05:15:00</th>\n",
       "      <td>0.00</td>\n",
       "      <td>-29.722570</td>\n",
       "    </tr>\n",
       "    <tr>\n",
       "      <th>2018-01-01 05:30:00</th>\n",
       "      <td>0.00</td>\n",
       "      <td>-29.722570</td>\n",
       "    </tr>\n",
       "    <tr>\n",
       "      <th>2018-01-01 05:45:00</th>\n",
       "      <td>0.00</td>\n",
       "      <td>-29.722570</td>\n",
       "    </tr>\n",
       "    <tr>\n",
       "      <th>2018-01-01 06:00:00</th>\n",
       "      <td>0.00</td>\n",
       "      <td>-29.722570</td>\n",
       "    </tr>\n",
       "    <tr>\n",
       "      <th>2018-01-01 06:15:00</th>\n",
       "      <td>0.00</td>\n",
       "      <td>-29.722570</td>\n",
       "    </tr>\n",
       "    <tr>\n",
       "      <th>2018-01-01 06:30:00</th>\n",
       "      <td>0.00</td>\n",
       "      <td>-29.722570</td>\n",
       "    </tr>\n",
       "    <tr>\n",
       "      <th>2018-01-01 06:45:00</th>\n",
       "      <td>0.00</td>\n",
       "      <td>-29.722570</td>\n",
       "    </tr>\n",
       "    <tr>\n",
       "      <th>2018-01-01 07:00:00</th>\n",
       "      <td>0.00</td>\n",
       "      <td>-29.722570</td>\n",
       "    </tr>\n",
       "    <tr>\n",
       "      <th>2018-01-01 07:15:00</th>\n",
       "      <td>0.00</td>\n",
       "      <td>-29.722570</td>\n",
       "    </tr>\n",
       "    <tr>\n",
       "      <th>2018-01-01 07:30:00</th>\n",
       "      <td>0.95</td>\n",
       "      <td>-29.722570</td>\n",
       "    </tr>\n",
       "    <tr>\n",
       "      <th>2018-01-01 07:45:00</th>\n",
       "      <td>0.38</td>\n",
       "      <td>-28.708286</td>\n",
       "    </tr>\n",
       "    <tr>\n",
       "      <th>2018-01-01 08:00:00</th>\n",
       "      <td>9.20</td>\n",
       "      <td>-29.061847</td>\n",
       "    </tr>\n",
       "    <tr>\n",
       "      <th>2018-01-01 08:15:00</th>\n",
       "      <td>16.25</td>\n",
       "      <td>-19.680925</td>\n",
       "    </tr>\n",
       "    <tr>\n",
       "      <th>2018-01-01 08:30:00</th>\n",
       "      <td>53.15</td>\n",
       "      <td>-9.872352</td>\n",
       "    </tr>\n",
       "    <tr>\n",
       "      <th>2018-01-01 08:45:00</th>\n",
       "      <td>110.66</td>\n",
       "      <td>32.565764</td>\n",
       "    </tr>\n",
       "    <tr>\n",
       "      <th>2018-01-01 09:00:00</th>\n",
       "      <td>121.69</td>\n",
       "      <td>104.832972</td>\n",
       "    </tr>\n",
       "    <tr>\n",
       "      <th>2018-01-01 09:15:00</th>\n",
       "      <td>140.29</td>\n",
       "      <td>136.028419</td>\n",
       "    </tr>\n",
       "    <tr>\n",
       "      <th>2018-01-01 09:30:00</th>\n",
       "      <td>184.51</td>\n",
       "      <td>160.502834</td>\n",
       "    </tr>\n",
       "    <tr>\n",
       "      <th>2018-01-01 09:45:00</th>\n",
       "      <td>199.11</td>\n",
       "      <td>201.303382</td>\n",
       "    </tr>\n",
       "    <tr>\n",
       "      <th>2018-01-01 10:00:00</th>\n",
       "      <td>222.38</td>\n",
       "      <td>215.966473</td>\n",
       "    </tr>\n",
       "    <tr>\n",
       "      <th>2018-01-01 10:15:00</th>\n",
       "      <td>191.37</td>\n",
       "      <td>230.555763</td>\n",
       "    </tr>\n",
       "    <tr>\n",
       "      <th>...</th>\n",
       "      <td>...</td>\n",
       "      <td>...</td>\n",
       "    </tr>\n",
       "    <tr>\n",
       "      <th>2018-04-30 16:45:00</th>\n",
       "      <td>706.87</td>\n",
       "      <td>668.300898</td>\n",
       "    </tr>\n",
       "    <tr>\n",
       "      <th>2018-04-30 17:00:00</th>\n",
       "      <td>676.14</td>\n",
       "      <td>645.865294</td>\n",
       "    </tr>\n",
       "    <tr>\n",
       "      <th>2018-04-30 17:15:00</th>\n",
       "      <td>632.92</td>\n",
       "      <td>619.682577</td>\n",
       "    </tr>\n",
       "    <tr>\n",
       "      <th>2018-04-30 17:30:00</th>\n",
       "      <td>587.46</td>\n",
       "      <td>583.295152</td>\n",
       "    </tr>\n",
       "    <tr>\n",
       "      <th>2018-04-30 17:45:00</th>\n",
       "      <td>508.42</td>\n",
       "      <td>542.198651</td>\n",
       "    </tr>\n",
       "    <tr>\n",
       "      <th>2018-04-30 18:00:00</th>\n",
       "      <td>371.59</td>\n",
       "      <td>473.841780</td>\n",
       "    </tr>\n",
       "    <tr>\n",
       "      <th>2018-04-30 18:15:00</th>\n",
       "      <td>232.74</td>\n",
       "      <td>349.703557</td>\n",
       "    </tr>\n",
       "    <tr>\n",
       "      <th>2018-04-30 18:30:00</th>\n",
       "      <td>119.76</td>\n",
       "      <td>208.767804</td>\n",
       "    </tr>\n",
       "    <tr>\n",
       "      <th>2018-04-30 18:45:00</th>\n",
       "      <td>32.79</td>\n",
       "      <td>67.453333</td>\n",
       "    </tr>\n",
       "    <tr>\n",
       "      <th>2018-04-30 19:00:00</th>\n",
       "      <td>3.46</td>\n",
       "      <td>-21.116865</td>\n",
       "    </tr>\n",
       "    <tr>\n",
       "      <th>2018-04-30 19:15:00</th>\n",
       "      <td>1.29</td>\n",
       "      <td>-44.252449</td>\n",
       "    </tr>\n",
       "    <tr>\n",
       "      <th>2018-04-30 19:30:00</th>\n",
       "      <td>0.00</td>\n",
       "      <td>-43.160384</td>\n",
       "    </tr>\n",
       "    <tr>\n",
       "      <th>2018-04-30 19:45:00</th>\n",
       "      <td>0.00</td>\n",
       "      <td>-42.670050</td>\n",
       "    </tr>\n",
       "    <tr>\n",
       "      <th>2018-04-30 20:00:00</th>\n",
       "      <td>0.00</td>\n",
       "      <td>-41.345453</td>\n",
       "    </tr>\n",
       "    <tr>\n",
       "      <th>2018-04-30 20:15:00</th>\n",
       "      <td>0.00</td>\n",
       "      <td>-38.695166</td>\n",
       "    </tr>\n",
       "    <tr>\n",
       "      <th>2018-04-30 20:30:00</th>\n",
       "      <td>0.00</td>\n",
       "      <td>-37.147380</td>\n",
       "    </tr>\n",
       "    <tr>\n",
       "      <th>2018-04-30 20:45:00</th>\n",
       "      <td>0.00</td>\n",
       "      <td>-38.664463</td>\n",
       "    </tr>\n",
       "    <tr>\n",
       "      <th>2018-04-30 21:00:00</th>\n",
       "      <td>0.00</td>\n",
       "      <td>-39.804578</td>\n",
       "    </tr>\n",
       "    <tr>\n",
       "      <th>2018-04-30 21:15:00</th>\n",
       "      <td>0.00</td>\n",
       "      <td>-41.060071</td>\n",
       "    </tr>\n",
       "    <tr>\n",
       "      <th>2018-04-30 21:30:00</th>\n",
       "      <td>0.00</td>\n",
       "      <td>-44.387893</td>\n",
       "    </tr>\n",
       "    <tr>\n",
       "      <th>2018-04-30 21:45:00</th>\n",
       "      <td>0.00</td>\n",
       "      <td>-47.416779</td>\n",
       "    </tr>\n",
       "    <tr>\n",
       "      <th>2018-04-30 22:00:00</th>\n",
       "      <td>0.00</td>\n",
       "      <td>-46.847559</td>\n",
       "    </tr>\n",
       "    <tr>\n",
       "      <th>2018-04-30 22:15:00</th>\n",
       "      <td>0.00</td>\n",
       "      <td>-43.156254</td>\n",
       "    </tr>\n",
       "    <tr>\n",
       "      <th>2018-04-30 22:30:00</th>\n",
       "      <td>0.00</td>\n",
       "      <td>-38.425878</td>\n",
       "    </tr>\n",
       "    <tr>\n",
       "      <th>2018-04-30 22:45:00</th>\n",
       "      <td>0.00</td>\n",
       "      <td>-35.213787</td>\n",
       "    </tr>\n",
       "    <tr>\n",
       "      <th>2018-04-30 23:00:00</th>\n",
       "      <td>0.00</td>\n",
       "      <td>-33.403703</td>\n",
       "    </tr>\n",
       "    <tr>\n",
       "      <th>2018-04-30 23:15:00</th>\n",
       "      <td>0.00</td>\n",
       "      <td>-32.171913</td>\n",
       "    </tr>\n",
       "    <tr>\n",
       "      <th>2018-04-30 23:30:00</th>\n",
       "      <td>0.00</td>\n",
       "      <td>-31.296725</td>\n",
       "    </tr>\n",
       "    <tr>\n",
       "      <th>2018-04-30 23:45:00</th>\n",
       "      <td>0.00</td>\n",
       "      <td>-30.672638</td>\n",
       "    </tr>\n",
       "    <tr>\n",
       "      <th>2018-05-01 00:00:00</th>\n",
       "      <td>0.00</td>\n",
       "      <td>-30.247100</td>\n",
       "    </tr>\n",
       "  </tbody>\n",
       "</table>\n",
       "<p>11509 rows × 2 columns</p>\n",
       "</div>"
      ],
      "text/plain": [
       "                     actual  prediction\n",
       "dattim                                 \n",
       "2018-01-01 03:00:00    0.00  -29.722570\n",
       "2018-01-01 03:15:00    0.00  -29.722570\n",
       "2018-01-01 03:30:00    0.00  -29.722570\n",
       "2018-01-01 03:45:00    0.00  -29.722570\n",
       "2018-01-01 04:00:00    0.00  -29.722570\n",
       "2018-01-01 04:15:00    0.00  -29.722570\n",
       "2018-01-01 04:30:00    0.00  -29.722570\n",
       "2018-01-01 04:45:00    0.00  -29.722570\n",
       "2018-01-01 05:00:00    0.00  -29.722570\n",
       "2018-01-01 05:15:00    0.00  -29.722570\n",
       "2018-01-01 05:30:00    0.00  -29.722570\n",
       "2018-01-01 05:45:00    0.00  -29.722570\n",
       "2018-01-01 06:00:00    0.00  -29.722570\n",
       "2018-01-01 06:15:00    0.00  -29.722570\n",
       "2018-01-01 06:30:00    0.00  -29.722570\n",
       "2018-01-01 06:45:00    0.00  -29.722570\n",
       "2018-01-01 07:00:00    0.00  -29.722570\n",
       "2018-01-01 07:15:00    0.00  -29.722570\n",
       "2018-01-01 07:30:00    0.95  -29.722570\n",
       "2018-01-01 07:45:00    0.38  -28.708286\n",
       "2018-01-01 08:00:00    9.20  -29.061847\n",
       "2018-01-01 08:15:00   16.25  -19.680925\n",
       "2018-01-01 08:30:00   53.15   -9.872352\n",
       "2018-01-01 08:45:00  110.66   32.565764\n",
       "2018-01-01 09:00:00  121.69  104.832972\n",
       "2018-01-01 09:15:00  140.29  136.028419\n",
       "2018-01-01 09:30:00  184.51  160.502834\n",
       "2018-01-01 09:45:00  199.11  201.303382\n",
       "2018-01-01 10:00:00  222.38  215.966473\n",
       "2018-01-01 10:15:00  191.37  230.555763\n",
       "...                     ...         ...\n",
       "2018-04-30 16:45:00  706.87  668.300898\n",
       "2018-04-30 17:00:00  676.14  645.865294\n",
       "2018-04-30 17:15:00  632.92  619.682577\n",
       "2018-04-30 17:30:00  587.46  583.295152\n",
       "2018-04-30 17:45:00  508.42  542.198651\n",
       "2018-04-30 18:00:00  371.59  473.841780\n",
       "2018-04-30 18:15:00  232.74  349.703557\n",
       "2018-04-30 18:30:00  119.76  208.767804\n",
       "2018-04-30 18:45:00   32.79   67.453333\n",
       "2018-04-30 19:00:00    3.46  -21.116865\n",
       "2018-04-30 19:15:00    1.29  -44.252449\n",
       "2018-04-30 19:30:00    0.00  -43.160384\n",
       "2018-04-30 19:45:00    0.00  -42.670050\n",
       "2018-04-30 20:00:00    0.00  -41.345453\n",
       "2018-04-30 20:15:00    0.00  -38.695166\n",
       "2018-04-30 20:30:00    0.00  -37.147380\n",
       "2018-04-30 20:45:00    0.00  -38.664463\n",
       "2018-04-30 21:00:00    0.00  -39.804578\n",
       "2018-04-30 21:15:00    0.00  -41.060071\n",
       "2018-04-30 21:30:00    0.00  -44.387893\n",
       "2018-04-30 21:45:00    0.00  -47.416779\n",
       "2018-04-30 22:00:00    0.00  -46.847559\n",
       "2018-04-30 22:15:00    0.00  -43.156254\n",
       "2018-04-30 22:30:00    0.00  -38.425878\n",
       "2018-04-30 22:45:00    0.00  -35.213787\n",
       "2018-04-30 23:00:00    0.00  -33.403703\n",
       "2018-04-30 23:15:00    0.00  -32.171913\n",
       "2018-04-30 23:30:00    0.00  -31.296725\n",
       "2018-04-30 23:45:00    0.00  -30.672638\n",
       "2018-05-01 00:00:00    0.00  -30.247100\n",
       "\n",
       "[11509 rows x 2 columns]"
      ]
     },
     "execution_count": 59,
     "metadata": {},
     "output_type": "execute_result"
    }
   ],
   "source": [
    "comparison"
   ]
  },
  {
   "cell_type": "code",
   "execution_count": 60,
   "metadata": {
    "scrolled": false
   },
   "outputs": [
    {
     "data": {
      "text/plain": [
       "<matplotlib.axes._subplots.AxesSubplot at 0x20daf4ba898>"
      ]
     },
     "execution_count": 60,
     "metadata": {},
     "output_type": "execute_result"
    },
    {
     "data": {
      "image/png": "[encoded data removed]",
      "text/plain": [
       "<Figure size 1440x432 with 1 Axes>"
      ]
     },
     "metadata": {
      "needs_background": "light"
     },
     "output_type": "display_data"
    }
   ],
   "source": [
    "comparison.plot(style=['.','-'])"
   ]
  },
  {
   "cell_type": "code",
   "execution_count": 61,
   "metadata": {},
   "outputs": [],
   "source": [
    "import numpy as np\n",
    "import math\n",
    "from sklearn.metrics import mean_squared_error, mean_absolute_error\n",
    "\n",
    "def mean_absolute_percentage_error(y_true, y_pred): \n",
    "    y_true, y_pred = np.array(y_true), np.array(y_pred)\n",
    "    return np.mean(np.abs((y_true - y_pred) / y_true)) * 100"
   ]
  },
  {
   "cell_type": "code",
   "execution_count": 62,
   "metadata": {},
   "outputs": [
    {
     "name": "stdout",
     "output_type": "stream",
     "text": [
      "\n",
      "RMSE: 57.757017290633215\n",
      "MAE: 41.859712571211546\n"
     ]
    },
    {
     "name": "stderr",
     "output_type": "stream",
     "text": [
      "D:\\Programming\\Anaconda\\envs\\tensorflow_env\\lib\\site-packages\\ipykernel_launcher.py:7: RuntimeWarning: divide by zero encountered in true_divide\n",
      "  import sys\n"
     ]
    }
   ],
   "source": [
    "new_df = comparison\n",
    "mse = mean_squared_error(new_df['actual'], new_df['prediction'])\n",
    "mape = mean_absolute_percentage_error(new_df['actual'], new_df['prediction'])\n",
    "mae = mean_absolute_error(new_df['actual'], new_df['prediction'])\n",
    "\n",
    "#mean \n",
    "\n",
    "print(f'\\nRMSE: {math.sqrt(mse)}\\nMAE: {mae}')  "
   ]
  },
  {
   "cell_type": "code",
   "execution_count": null,
   "metadata": {},
   "outputs": [],
   "source": []
  },
  {
   "cell_type": "code",
   "execution_count": 81,
   "metadata": {},
   "outputs": [],
   "source": [
    "# Saving the result\n",
    "comparison.to_csv(mypath + 'Result\\\\CNN_' + str(round((mae), 4)) + '.csv', index = True)"
   ]
  },
  {
   "cell_type": "code",
   "execution_count": 82,
   "metadata": {},
   "outputs": [],
   "source": [
    "# Creates a HDF5 file 'my_model.h5'\n",
    "model_LSTM.save(mypath + 'Model\\\\CNN_' + str(round((mae), 4))  + '.h5')\n",
    "\n",
    "# Deletes the existing model\n",
    "# del model  \n"
   ]
  },
  {
   "cell_type": "markdown",
   "metadata": {},
   "source": [
    "# For Improvements:"
   ]
  },
  {
   "cell_type": "raw",
   "metadata": {},
   "source": [
    "2) Feature extraction - importance test.\n",
    "4) cluster based forecasting (spri,summ,fall,wint)"
   ]
  }
 ],
 "metadata": {
  "kernelspec": {
   "display_name": "Python 3",
   "language": "python",
   "name": "python3"
  },
  "language_info": {
   "codemirror_mode": {
    "name": "ipython",
    "version": 3
   },
   "file_extension": ".py",
   "mimetype": "text/x-python",
   "name": "python",
   "nbconvert_exporter": "python",
   "pygments_lexer": "ipython3",
   "version": "3.6.8"
  }
 },
 "nbformat": 4,
 "nbformat_minor": 2
}
