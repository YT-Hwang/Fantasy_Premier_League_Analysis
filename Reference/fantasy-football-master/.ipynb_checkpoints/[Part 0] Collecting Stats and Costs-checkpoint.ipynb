{
 "cells": [
  {
   "cell_type": "code",
   "execution_count": 1,
   "metadata": {
    "collapsed": true
   },
   "outputs": [],
   "source": [
    "import numpy as np\n",
    "import pandas as pd\n",
    "import matplotlib.pyplot as plt\n",
    "\n",
    "%matplotlib inline"
   ]
  },
  {
   "cell_type": "code",
   "execution_count": 2,
   "metadata": {},
   "outputs": [],
   "source": [
    "point = pd.read_csv(\"data/fantasy-scoring.csv\")\n",
    "gk_stats = pd.read_excel(\"data/skysports-stats.xlsx\", sheet_name=\"GK\")\n",
    "def_stats = pd.read_excel(\"data/skysports-stats.xlsx\", sheet_name=\"DEF\")\n",
    "mid_stats = pd.read_excel(\"data/skysports-stats.xlsx\", sheet_name=\"MID\")\n",
    "str_stats = pd.read_excel(\"data/skysports-stats.xlsx\", sheet_name=\"STR\")\n",
    "cost = pd.read_excel(\"data/skysports-stats.xlsx\", sheet_name=\"COST\")"
   ]
  },
  {
   "cell_type": "code",
   "execution_count": 13,
   "metadata": {},
   "outputs": [
    {
     "data": {
      "text/plain": [
       "15      60 completed passes (All)\n",
       "16        3 shots on target (All)\n",
       "17        Substitution Appearance\n",
       "18    2+ Goal Conceded (GK & DEF)\n",
       "19                    Yellow Card\n",
       "20                       Own Goal\n",
       "21                   Penalty Miss\n",
       "22                       Red Card\n",
       "Name: PLAYER SCORING, dtype: object"
      ]
     },
     "execution_count": 13,
     "metadata": {},
     "output_type": "execute_result"
    }
   ],
   "source": [
    "point['PLAYER SCORING'][15:25]"
   ]
  },
  {
   "cell_type": "code",
   "execution_count": 5,
   "metadata": {},
   "outputs": [
    {
     "data": {
      "text/plain": [
       "Index(['Player', 'App', 'Sub', 'Gls', 'Ass', 'MotM', '%', 'Yel', 'Red',\n",
       "       'Pass 1', 'Pass 2', 'Tack 1', 'Tack 2', 'Shot 1', 'Shot 2', 'Save 1',\n",
       "       'Save 2', 'Cl Sh', 'Gl Con'],\n",
       "      dtype='object')"
      ]
     },
     "execution_count": 5,
     "metadata": {},
     "output_type": "execute_result"
    }
   ],
   "source": [
    "gk_stats.columns"
   ]
  },
  {
   "cell_type": "code",
   "execution_count": null,
   "metadata": {
    "collapsed": true
   },
   "outputs": [],
   "source": [
    "['Gls', 'Cl Sh', 'Gls', 'Gls', 'Cl Sh', \n",
    " 'NA', 'MotM', 'Ass', 'Save 2', 'Tack 2',\n",
    " 'Pass 2', 'Shot 2', 'App', 'Save 1', 'Tack 1',\n",
    " 'Pass 1', 'Shot 1', 'Sub', 'Gl Con', 'Yel',\n",
    " 'NA', 'NA', 'Red'\n",
    " ]"
   ]
  },
  {
   "cell_type": "code",
   "execution_count": null,
   "metadata": {
    "collapsed": true
   },
   "outputs": [],
   "source": [
    "[['GK','DEF'], ['GK'], ['MID'], ['STR'], ['DEF'],\n",
    " ['GK'],['ALL'], ['ALL'], ['GK'], ['ALL'],\n",
    " ['ALL'], ['ALL'], ['ALL'], ['GK'], ['ALL'],\n",
    " ['ALL'], ['ALL'], ['ALL'], ['GK', 'DEF'], ['ALL'],\n",
    " ['ALL'], ['ALL'], ['ALL']\n",
    "]"
   ]
  },
  {
   "cell_type": "code",
   "execution_count": null,
   "metadata": {},
   "outputs": [],
   "source": [
    "gk_stats.columns"
   ]
  },
  {
   "cell_type": "code",
   "execution_count": null,
   "metadata": {},
   "outputs": [],
   "source": [
    "def_stats.columns"
   ]
  },
  {
   "cell_type": "code",
   "execution_count": null,
   "metadata": {},
   "outputs": [],
   "source": [
    "def_stats['Gls'].value_counts()"
   ]
  },
  {
   "cell_type": "code",
   "execution_count": null,
   "metadata": {},
   "outputs": [],
   "source": [
    "cost"
   ]
  },
  {
   "cell_type": "code",
   "execution_count": null,
   "metadata": {
    "collapsed": true
   },
   "outputs": [],
   "source": []
  },
  {
   "cell_type": "code",
   "execution_count": null,
   "metadata": {},
   "outputs": [],
   "source": [
    "!pip3 install xlrd"
   ]
  },
  {
   "cell_type": "code",
   "execution_count": null,
   "metadata": {},
   "outputs": [],
   "source": [
    "!pip3 install --upgrade pip"
   ]
  },
  {
   "cell_type": "code",
   "execution_count": null,
   "metadata": {
    "collapsed": true
   },
   "outputs": [],
   "source": []
  }
 ],
 "metadata": {
  "kernelspec": {
   "display_name": "Python 3",
   "language": "python",
   "name": "python3"
  },
  "language_info": {
   "codemirror_mode": {
    "name": "ipython",
    "version": 3
   },
   "file_extension": ".py",
   "mimetype": "text/x-python",
   "name": "python",
   "nbconvert_exporter": "python",
   "pygments_lexer": "ipython3",
   "version": "3.6.3"
  }
 },
 "nbformat": 4,
 "nbformat_minor": 2
}
