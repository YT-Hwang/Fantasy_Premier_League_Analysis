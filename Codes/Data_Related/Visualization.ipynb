{
 "cells": [
  {
   "cell_type": "markdown",
   "metadata": {},
   "source": [
    "# 1) Getting File Names in a Folder"
   ]
  },
  {
   "cell_type": "code",
   "execution_count": null,
   "metadata": {},
   "outputs": [],
   "source": [
    "def existing_file_list(path):\n",
    "    ''' Extracting File Names '''\n",
    "\n",
    "    allFiles = glob.glob(path + \"/*.csv\")\n",
    "    new_list = []\n",
    "    for i in allFiles:\n",
    "        before = 'original\\\\'\n",
    "        after = '_minute'\n",
    "        ticker = i[i.find(before) + len(before) : i.find(after)]\n",
    "        new_list.append(ticker)    \n",
    "    #list_ticker = list(filter(None, text))  # drop all the empty elements and put them in a list\n",
    "        \n",
    "    return (new_list)\n"
   ]
  },
  {
   "cell_type": "code",
   "execution_count": null,
   "metadata": {},
   "outputs": [],
   "source": [
    "mypath = 'D:\\\\OneDrive - Georgia State University\\\\Data Science\\\\AKDSPW\\\\Solar Farm Forecasting\\\\Data\\\\'\n",
    "\n",
    "from os import listdir\n",
    "from os.path import isfile, join\n",
    "data_list = [f for f in listdir(mypath) if isfile(join(mypath, f))]"
   ]
  },
  {
   "cell_type": "code",
   "execution_count": null,
   "metadata": {},
   "outputs": [],
   "source": [
    "# DateTime\n",
    "dateparse = lambda dates: pd.datetime.strptime(dates, '%d%b%y:%H:%M')\n",
    "data2 = pd.read_csv(mypath + data_list[8], parse_dates=['dattim'], date_parser=dateparse, engine='python')"
   ]
  },
  {
   "cell_type": "code",
   "execution_count": null,
   "metadata": {},
   "outputs": [],
   "source": [
    "data_list"
   ]
  },
  {
   "cell_type": "markdown",
   "metadata": {},
   "source": [
    "## 4.1) Single Variable Plot"
   ]
  },
  {
   "cell_type": "code",
   "execution_count": null,
   "metadata": {},
   "outputs": [],
   "source": [
    "rcParams['figure.figsize'] = 20, 6\n",
    "\n",
    "avepow_missing.plot(style=['-'])\n",
    "#data['2015'][['avepow']].plot(style=['.'])\n"
   ]
  },
  {
   "cell_type": "markdown",
   "metadata": {},
   "source": [
    "## 4.2) Comparison Plot"
   ]
  },
  {
   "cell_type": "code",
   "execution_count": null,
   "metadata": {},
   "outputs": [],
   "source": [
    "from matplotlib import pyplot"
   ]
  },
  {
   "cell_type": "code",
   "execution_count": null,
   "metadata": {},
   "outputs": [],
   "source": [
    "def comparing_month_graph(data, month):\n",
    "    data2 = data.reset_index()\n",
    "    for year in data2['dattim'].dt.year.unique():\n",
    "        rcParams['figure.figsize'] = 20, 6\n",
    "        #pyplot.figure(1)\n",
    "\n",
    "        monthly_data = data[str(year)+' - '+str(month)]\n",
    "\n",
    "        ax = pyplot.subplot()\n",
    "        ax.set_title('Monthly Comparison '+' - ' + str(month))\n",
    "\n",
    "        pyplot.plot(monthly_data['avepow'], label = year)\n",
    "\n",
    "    ax.legend(loc='best')\n",
    "    pyplot.show()\n",
    "    \n"
   ]
  },
  {
   "cell_type": "code",
   "execution_count": null,
   "metadata": {},
   "outputs": [],
   "source": [
    "comparing_month_graph(data, 4)"
   ]
  },
  {
   "cell_type": "markdown",
   "metadata": {},
   "source": [
    "## 4.3) Violin Plot"
   ]
  },
  {
   "cell_type": "code",
   "execution_count": null,
   "metadata": {},
   "outputs": [],
   "source": [
    "def violinplot(data):\n",
    "    data2 = data.reset_index()\n",
    "    data2['year'] = data2['dattim'].dt.year\n",
    "\n",
    "    sns.violinplot(x='year', y='avepow', data=data2);\n",
    "    plt.title('Violinplot of average power');\n",
    "    #ax.legend(loc='best')"
   ]
  },
  {
   "cell_type": "code",
   "execution_count": null,
   "metadata": {},
   "outputs": [],
   "source": [
    "violinplot(data)"
   ]
  },
  {
   "cell_type": "markdown",
   "metadata": {},
   "source": [
    "## 4.4) Lag Plot"
   ]
  },
  {
   "cell_type": "code",
   "execution_count": null,
   "metadata": {},
   "outputs": [],
   "source": [
    "from pandas import Series\n",
    "from matplotlib import pyplot\n",
    "from pandas.tools.plotting import lag_plot"
   ]
  },
  {
   "cell_type": "code",
   "execution_count": null,
   "metadata": {},
   "outputs": [],
   "source": [
    "rcParams['figure.figsize'] = 20, 6\n",
    "\n",
    "lag_plot(data['avepow'])\n",
    "pyplot.show()"
   ]
  },
  {
   "cell_type": "code",
   "execution_count": null,
   "metadata": {},
   "outputs": [],
   "source": [
    "from pandas.plotting import scatter_matrix\n",
    "from pandas import concat\n",
    "rcParams['figure.figsize'] = 20, 6\n",
    "\n",
    "\n",
    "series = data['avepow']\n",
    "values = pd.DataFrame(series.values)\n",
    "lags = 7\n",
    "columns = [values]\n",
    "\n",
    "for i in range(1,(lags + 1)):\n",
    "    columns.append(values.shift(i))\n",
    "    \n",
    "dataframe = concat(columns, axis=1)\n",
    "columns = ['t+1']\n",
    "\n",
    "for i in range(1,(lags + 1)):\n",
    "    columns.append('t-' + str(i))\n",
    "    \n",
    "dataframe.columns = columns\n",
    "pyplot.figure(1)\n",
    "\n",
    "for i in range(1,(lags + 1)):\n",
    "    ax = pyplot.subplot(240 + i)\n",
    "    ax.set_title('t+1 vs t-' + str(i))\n",
    "    pyplot.scatter(x=dataframe['t+1'].values, y=dataframe['t-'+str(i)].values)\n",
    "    \n",
    "pyplot.show()"
   ]
  },
  {
   "cell_type": "markdown",
   "metadata": {},
   "source": [
    "## 4.5) Pairplot"
   ]
  },
  {
   "cell_type": "code",
   "execution_count": null,
   "metadata": {},
   "outputs": [],
   "source": [
    "data.columns"
   ]
  },
  {
   "cell_type": "code",
   "execution_count": null,
   "metadata": {},
   "outputs": [],
   "source": [
    "start_date = '2010'\n",
    "end_date = '2013'\n",
    "column_list1 = ['avepow', 'avegloirr', 'avewinspe', 'intene']\n",
    "column_list2 = ['avepow', 'year', 'month', 'date', 'day', 'hour', 'minute']"
   ]
  },
  {
   "cell_type": "code",
   "execution_count": null,
   "metadata": {},
   "outputs": [],
   "source": [
    "def pairplot(start_date, end_date, column_list):\n",
    "    partial_data = data[start_date : end_date]\n",
    "    simple_data = partial_data[column_list]\n",
    "\n",
    "    sns.set(style=\"ticks\", color_codes=True)\n",
    "\n",
    "    sns.pairplot(simple_data)\n",
    "    #sns_plot.savefig(data_dir + \"_pairplot.png\")\n",
    "    \n",
    "\n",
    "    \n",
    "pairplot(start_date, end_date, column_list1)"
   ]
  },
  {
   "cell_type": "markdown",
   "metadata": {},
   "source": [
    "## 4.6) 3D Scatter Plot"
   ]
  },
  {
   "cell_type": "code",
   "execution_count": null,
   "metadata": {},
   "outputs": [],
   "source": [
    "from mpl_toolkits import mplot3d"
   ]
  },
  {
   "cell_type": "code",
   "execution_count": null,
   "metadata": {},
   "outputs": [],
   "source": [
    "rcParams['figure.figsize'] = 20, 20\n",
    "\n",
    "fig = plt.figure()\n",
    "ax = plt.axes(projection='3d')\n",
    "\n",
    "z = data['2013-02']['avepow']\n",
    "x = data['2013-02']['avewinspe']\n",
    "y = data['2013-02']['avetem']\n",
    "\n",
    "# Data for a three-dimensional line\n",
    "zline = z\n",
    "xline = x\n",
    "yline = y\n",
    "ax.plot3D(xline, yline, zline, 'white')\n",
    "\n",
    "# Data for three-dimensional scattered points\n",
    "zdata = z\n",
    "xdata = x\n",
    "ydata = y\n",
    "\n",
    "ax.set_zlabel('avepow')\n",
    "ax.set_xlabel('avewinspe')\n",
    "ax.set_ylabel('avetem')\n",
    "\n",
    "ax.scatter3D(xdata, ydata, zdata)\n",
    "\n",
    "# rotate the axes and update\n",
    "# ax.view_init(240, angle)\n",
    "# plt.draw()\n"
   ]
  },
  {
   "cell_type": "code",
   "execution_count": null,
   "metadata": {},
   "outputs": [],
   "source": []
  },
  {
   "cell_type": "code",
   "execution_count": null,
   "metadata": {},
   "outputs": [],
   "source": []
  },
  {
   "cell_type": "code",
   "execution_count": null,
   "metadata": {},
   "outputs": [],
   "source": []
  }
 ],
 "metadata": {
  "kernelspec": {
   "display_name": "Python 3",
   "language": "python",
   "name": "python3"
  },
  "language_info": {
   "codemirror_mode": {
    "name": "ipython",
    "version": 3
   },
   "file_extension": ".py",
   "mimetype": "text/x-python",
   "name": "python",
   "nbconvert_exporter": "python",
   "pygments_lexer": "ipython3",
   "version": "3.6.8"
  }
 },
 "nbformat": 4,
 "nbformat_minor": 2
}
